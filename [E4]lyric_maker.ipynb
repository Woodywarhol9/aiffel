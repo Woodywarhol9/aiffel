{
 "cells": [
  {
   "cell_type": "markdown",
   "id": "directed-aruba",
   "metadata": {},
   "source": [
    "# 인공지능 작사가 만들기"
   ]
  },
  {
   "cell_type": "markdown",
   "id": "first-silly",
   "metadata": {},
   "source": [
    "[1. 데이터 처리](#1.-데이터-처리)"
   ]
  },
  {
   "cell_type": "markdown",
   "id": "continuous-buyer",
   "metadata": {},
   "source": [
    "[2. 모델 설계](#2.-모델-설계)"
   ]
  },
  {
   "cell_type": "markdown",
   "id": "peripheral-highland",
   "metadata": {},
   "source": [
    "[3. 모델 훈련하기](#3.-모델-훈련하기)"
   ]
  },
  {
   "cell_type": "markdown",
   "id": "controlling-distance",
   "metadata": {},
   "source": [
    "[4. 가사 만들기](#4.-가사-만들기)"
   ]
  },
  {
   "cell_type": "markdown",
   "id": "classical-analysis",
   "metadata": {},
   "source": [
    "## 1. 데이터 처리"
   ]
  },
  {
   "cell_type": "markdown",
   "id": "collect-jacksonville",
   "metadata": {},
   "source": [
    "[가사 데이터 읽어오기](https://www.kaggle.com/paultimothymooney/poetry) 출처 : kaggle"
   ]
  },
  {
   "cell_type": "code",
   "execution_count": 1,
   "id": "suffering-psychology",
   "metadata": {},
   "outputs": [
    {
     "name": "stdout",
     "output_type": "stream",
     "text": [
      "데이터 크기: 187088\n",
      "Examples:\n",
      " ['At first I was afraid', 'I was petrified', 'I kept thinking I could never live without you']\n"
     ]
    }
   ],
   "source": [
    "import glob\n",
    "import os\n",
    "\n",
    "txt_file_path = os.getenv('HOME')+'/aiffel/lyricist/data/lyrics/*'\n",
    "\n",
    "txt_list = glob.glob(txt_file_path)\n",
    "\n",
    "raw_corpus = []\n",
    "\n",
    "# 여러개의 txt 파일을 모두 읽어서 raw_corpus 에 담습니다.\n",
    "for txt_file in txt_list:\n",
    "    with open(txt_file, \"r\") as f:\n",
    "        raw = f.read().splitlines()\n",
    "        raw_corpus.extend(raw)\n",
    "\n",
    "print(\"데이터 크기:\", len(raw_corpus))\n",
    "print(\"Examples:\\n\", raw_corpus[:3])"
   ]
  },
  {
   "cell_type": "markdown",
   "id": "swedish-lounge",
   "metadata": {},
   "source": [
    "데이터 전처리 : 이때 노래 가사 특성 상 토큰의 개수가 15개가 넘는 경우는 제외해 준다."
   ]
  },
  {
   "cell_type": "code",
   "execution_count": 2,
   "id": "posted-friendly",
   "metadata": {},
   "outputs": [
    {
     "name": "stdout",
     "output_type": "stream",
     "text": [
      "\n"
     ]
    }
   ],
   "source": [
    "import re\n",
    "# 입력된 문장을\n",
    "#     1. 소문자로 바꾸고, 양쪽 공백을 지웁니다\n",
    "#     2. 특수문자 양쪽에 공백을 넣고\n",
    "#     3. 여러개의 공백은 하나의 공백으로 바꿉니다\n",
    "#     4. a-zA-Z?.!,¿가 아닌 모든 문자를 하나의 공백으로 바꿉니다\n",
    "#     5. 다시 양쪽 공백을 지웁니다\n",
    "#     6. 문장 시작에는 <start>, 끝에는 <end>를 추가합니다\n",
    "# 이 순서로 처리해주면 문제가 되는 상황을 방지할 수 있겠네요!\n",
    "def preprocess_sentence(sentence):\n",
    "    sentence = sentence.lower().strip() # 1\n",
    "    sentence = re.sub(r\"([?.!,¿])\", r\" \\1 \", sentence) # 2  \n",
    "    sentence = re.sub(r'[\" \"]+', \" \", sentence) # 3\n",
    "    sentence = re.sub(r\"[^a-zA-Z?.!,¿]+\", \" \", sentence) # 4\n",
    "    sentence = sentence.strip() # 5\n",
    "    sentence = '<start> ' + sentence + ' <end>' # 6\n",
    "    if len(sentence.split()) > 15 : #token 개수 제한\n",
    "        sentence = \"\"\n",
    "        \n",
    "    return sentence\n",
    "\n",
    "# 이 문장이 어떻게 필터링되는지 확인해 보세요.\n",
    "print(preprocess_sentence(\"This @_is ;;;sample   asdsad   dsfsdf  dfgfd fdg   fgdfg  fgd fdgf dfgfd dfgdfg dfgfdg gdfgfd sentence.\"))"
   ]
  },
  {
   "cell_type": "markdown",
   "id": "sunset-monaco",
   "metadata": {},
   "source": [
    "전처리 실행"
   ]
  },
  {
   "cell_type": "code",
   "execution_count": 3,
   "id": "hispanic-election",
   "metadata": {},
   "outputs": [
    {
     "name": "stdout",
     "output_type": "stream",
     "text": [
      "정제된 문장 수 :  156013\n"
     ]
    },
    {
     "data": {
      "text/plain": [
       "['<start> at first i was afraid <end>',\n",
       " '<start> i was petrified <end>',\n",
       " '<start> i kept thinking i could never live without you <end>',\n",
       " '<start> by my side but then i spent so many nights <end>',\n",
       " '<start> just thinking how you ve done me wrong <end>',\n",
       " '<start> i grew strong <end>',\n",
       " '<start> i learned how to get along and so you re back <end>',\n",
       " '<start> from outer space <end>',\n",
       " '<start> i just walked in to find you <end>',\n",
       " '<start> i would have made you leave your key <end>']"
      ]
     },
     "execution_count": 3,
     "metadata": {},
     "output_type": "execute_result"
    }
   ],
   "source": [
    "# 여기에 정제된 문장을 모을겁니다\n",
    "corpus = []\n",
    "\n",
    "for sentence in raw_corpus:\n",
    "    # 우리가 원하지 않는 문장은 건너뜁니다\n",
    "    if len(sentence) == 0: continue #공백 무시\n",
    "    if sentence[-1] == \":\": continue # : 무시\n",
    "    \n",
    "    # 정제를 하고 담아주세요\n",
    "    preprocessed_sentence = preprocess_sentence(sentence)\n",
    "    if len(preprocessed_sentence) == 0: continue #token 개수 제한\n",
    "    corpus.append(preprocessed_sentence)\n",
    "        \n",
    "# 정제된 결과를 10개만 확인해보죠\n",
    "print(\"정제된 문장 수 : \",len(corpus))\n",
    "corpus[:10]"
   ]
  },
  {
   "cell_type": "markdown",
   "id": "warming-donor",
   "metadata": {},
   "source": [
    "토큰화 진행"
   ]
  },
  {
   "cell_type": "code",
   "execution_count": 4,
   "id": "honey-retailer",
   "metadata": {},
   "outputs": [
    {
     "name": "stdout",
     "output_type": "stream",
     "text": [
      "[[   2   70  248 ...    0    0    0]\n",
      " [   2    4   53 ...    0    0    0]\n",
      " [   2    4 1077 ...    0    0    0]\n",
      " ...\n",
      " [   2    8    4 ...    0    0    0]\n",
      " [   2   44   17 ...    0    0    0]\n",
      " [   2    6  172 ...    0    0    0]] <keras_preprocessing.text.Tokenizer object at 0x7fbf87cb0f90>\n"
     ]
    }
   ],
   "source": [
    "import tensorflow as tf\n",
    "# 토큰화 할 때 텐서플로우의 Tokenizer와 pad_sequences를 사용합니다\n",
    "# 더 잘 알기 위해 아래 문서들을 참고하면 좋습니다\n",
    "# https://www.tensorflow.org/api_docs/python/tf/keras/preprocessing/text/Tokenizer\n",
    "# https://www.tensorflow.org/api_docs/python/tf/keras/preprocessing/sequence/pad_sequences\n",
    "def tokenize(corpus):\n",
    "    # 7000단어를 기억할 수 있는 tokenizer를 만들겁니다\n",
    "    # 우리는 이미 문장을 정제했으니 filters가 필요없어요\n",
    "    # 7000단어에 포함되지 못한 단어는 '<unk>'로 바꿀거에요\n",
    "    tokenizer = tf.keras.preprocessing.text.Tokenizer(\n",
    "        num_words=12000, \n",
    "        filters=' ',\n",
    "        oov_token=\"<unk>\"\n",
    "    )\n",
    "    # corpus를 이용해 tokenizer 내부의 단어장을 완성합니다\n",
    "    tokenizer.fit_on_texts(corpus)\n",
    "    # 준비한 tokenizer를 이용해 corpus를 Tensor로 변환합니다\n",
    "    tensor = tokenizer.texts_to_sequences(corpus)   \n",
    "    # 입력 데이터의 시퀀스 길이를 일정하게 맞춰줍니다\n",
    "    # 만약 시퀀스가 짧다면 문장 뒤에 패딩을 붙여 길이를 맞춰줍니다.\n",
    "    # 문장 앞에 패딩을 붙여 길이를 맞추고 싶다면 padding='pre'를 사용합니다\n",
    "    tensor = tf.keras.preprocessing.sequence.pad_sequences(tensor, padding='post')  \n",
    "    \n",
    "    print(tensor,tokenizer)\n",
    "    return tensor, tokenizer\n",
    "\n",
    "tensor, tokenizer = tokenize(corpus)"
   ]
  },
  {
   "cell_type": "markdown",
   "id": "young-toddler",
   "metadata": {},
   "source": [
    "tensor 확인"
   ]
  },
  {
   "cell_type": "code",
   "execution_count": 5,
   "id": "armed-mills",
   "metadata": {},
   "outputs": [
    {
     "name": "stdout",
     "output_type": "stream",
     "text": [
      "[[   2   70  248    4   53  708    3    0    0    0]\n",
      " [   2    4   53 6263    3    0    0    0    0    0]\n",
      " [   2    4 1077  531    4  104   80  192  257    7]]\n"
     ]
    }
   ],
   "source": [
    "print(tensor[:3, :10]) #2로 시작 ? 2가 <start>이기 때문에"
   ]
  },
  {
   "cell_type": "markdown",
   "id": "frequent-thumbnail",
   "metadata": {},
   "source": [
    "voca 확인"
   ]
  },
  {
   "cell_type": "code",
   "execution_count": 6,
   "id": "respiratory-mixer",
   "metadata": {},
   "outputs": [
    {
     "name": "stdout",
     "output_type": "stream",
     "text": [
      "1 : <unk>\n",
      "2 : <start>\n",
      "3 : <end>\n",
      "4 : i\n",
      "5 : ,\n",
      "6 : the\n",
      "7 : you\n",
      "8 : and\n",
      "9 : a\n",
      "10 : to\n"
     ]
    }
   ],
   "source": [
    "for idx in tokenizer.index_word:\n",
    "    print(idx, \":\", tokenizer.index_word[idx])\n",
    "\n",
    "    if idx >= 10: break"
   ]
  },
  {
   "cell_type": "markdown",
   "id": "extraordinary-nerve",
   "metadata": {},
   "source": [
    "소스 문장과 타겟 문장 생성"
   ]
  },
  {
   "cell_type": "code",
   "execution_count": 7,
   "id": "multiple-consumption",
   "metadata": {},
   "outputs": [
    {
     "name": "stdout",
     "output_type": "stream",
     "text": [
      "[  2  70 248   4  53 708   3   0   0   0   0   0   0   0]\n",
      "[ 70 248   4  53 708   3   0   0   0   0   0   0   0   0]\n"
     ]
    }
   ],
   "source": [
    "# tensor에서 마지막 토큰을 잘라내서 소스 문장을 생성합니다\n",
    "# 마지막 토큰은 <end>가 아니라 <pad>일 가능성이 높습니다.\n",
    "src_input = tensor[:, :-1]  \n",
    "\n",
    "# tensor에서 <start>를 잘라내서 타겟 문장을 생성합니다.\n",
    "tgt_input = tensor[:, 1:]    \n",
    "\n",
    "print(src_input[0])\n",
    "print(tgt_input[0]) #target이기 때문에 2 <start> 제거"
   ]
  },
  {
   "cell_type": "markdown",
   "id": "controlled-theater",
   "metadata": {},
   "source": [
    "train/test split (80/20)"
   ]
  },
  {
   "cell_type": "code",
   "execution_count": 8,
   "id": "active-tours",
   "metadata": {},
   "outputs": [],
   "source": [
    "from sklearn.model_selection import train_test_split\n",
    "\n",
    "enc_train, enc_val, dec_train, dec_val = train_test_split(src_input, tgt_input, test_size = 0.2, random_state = 42)"
   ]
  },
  {
   "cell_type": "code",
   "execution_count": 9,
   "id": "valuable-massachusetts",
   "metadata": {},
   "outputs": [
    {
     "name": "stdout",
     "output_type": "stream",
     "text": [
      "Source Train: (124810, 14)\n",
      "Target Train: (124810, 14)\n"
     ]
    }
   ],
   "source": [
    "print(\"Source Train:\", enc_train.shape)\n",
    "print(\"Target Train:\", dec_train.shape)"
   ]
  },
  {
   "cell_type": "markdown",
   "id": "lovely-pride",
   "metadata": {},
   "source": [
    "#### tf.data.Dataset 생성"
   ]
  },
  {
   "cell_type": "code",
   "execution_count": 10,
   "id": "minimal-behavior",
   "metadata": {},
   "outputs": [],
   "source": [
    "def tensor_to_dataset(src_input,tgt_input):\n",
    "    \n",
    "    BUFFER_SIZE = len(src_input)\n",
    "    BATCH_SIZE = 256\n",
    "    steps_per_epoch = len(src_input) // BATCH_SIZE\n",
    "\n",
    "     # tokenizer가 구축한 단어사전 내 7000개와, 여기 포함되지 않은 0:<pad>를 포함하여 7001개\n",
    "    VOCAB_SIZE = tokenizer.num_words + 1   \n",
    "\n",
    "    # 준비한 데이터 소스로부터 데이터셋을 만듭니다\n",
    "    # 데이터셋에 대해서는 아래 문서를 참고하세요\n",
    "    # 자세히 알아둘수록 도움이 많이 되는 중요한 문서입니다\n",
    "    # https://www.tensorflow.org/api_docs/python/tf/data/Dataset\n",
    "    dataset = tf.data.Dataset.from_tensor_slices((src_input, tgt_input))\n",
    "    dataset = dataset.shuffle(BUFFER_SIZE)\n",
    "    dataset = dataset.batch(BATCH_SIZE, drop_remainder=True)\n",
    "    return dataset\n",
    "\n",
    "train_dataset = tensor_to_dataset(enc_train, dec_train)\n",
    "valid_dataset = tensor_to_dataset(enc_val, dec_val)"
   ]
  },
  {
   "cell_type": "markdown",
   "id": "neutral-pantyhose",
   "metadata": {},
   "source": [
    "## 2. 모델 설계하기"
   ]
  },
  {
   "cell_type": "markdown",
   "id": "perfect-orange",
   "metadata": {},
   "source": [
    "embedding_size = 256   \n",
    "hidden_size = 2048"
   ]
  },
  {
   "cell_type": "code",
   "execution_count": 11,
   "id": "fossil-reporter",
   "metadata": {},
   "outputs": [],
   "source": [
    "class TextGenerator(tf.keras.Model):\n",
    "    def __init__(self, vocab_size, embedding_size, hidden_size): #생성자 :  Layer 정의\n",
    "        super().__init__()\n",
    "        \n",
    "        self.embedding = tf.keras.layers.Embedding(vocab_size, embedding_size) \n",
    "        self.rnn_1 = tf.keras.layers.LSTM(hidden_size, return_sequences=True)\n",
    "        self.rnn_2 = tf.keras.layers.LSTM(hidden_size, return_sequences=True) \n",
    "        self.linear = tf.keras.layers.Dense(vocab_size)\n",
    "        \n",
    "    def call(self, x): #호출 함수\n",
    "        out = self.embedding(x)\n",
    "        out = self.rnn_1(out)\n",
    "        out = self.rnn_2(out)\n",
    "        out = self.linear(out)\n",
    "        \n",
    "        return out\n",
    "    \n",
    "embedding_size = 256\n",
    "hidden_size = 2048\n",
    "model = TextGenerator(tokenizer.num_words + 1, embedding_size , hidden_size)"
   ]
  },
  {
   "cell_type": "markdown",
   "id": "toxic-enhancement",
   "metadata": {},
   "source": [
    "model.summary 보기 위해서 임의 입력"
   ]
  },
  {
   "cell_type": "code",
   "execution_count": 12,
   "id": "international-studio",
   "metadata": {},
   "outputs": [
    {
     "data": {
      "text/plain": [
       "<tf.Tensor: shape=(256, 14, 12001), dtype=float32, numpy=\n",
       "array([[[ 7.26482685e-05, -2.67819396e-05, -6.48622881e-05, ...,\n",
       "         -2.12748288e-04, -7.71218474e-05,  5.34010105e-05],\n",
       "        [ 5.58129977e-05,  3.95447023e-05, -9.06040150e-05, ...,\n",
       "         -4.81458730e-04, -1.85940633e-04,  2.40119582e-04],\n",
       "        [ 7.59100512e-05, -1.12036250e-04, -2.85922724e-04, ...,\n",
       "         -7.76646251e-04, -3.37376900e-04,  2.96595681e-04],\n",
       "        ...,\n",
       "        [-1.14621362e-03,  1.07770192e-03, -1.59156625e-04, ...,\n",
       "          8.02196038e-04, -1.13827817e-03,  6.21677609e-04],\n",
       "        [-1.16299489e-03,  1.47716980e-03, -1.20107667e-04, ...,\n",
       "          1.13130396e-03, -1.00180379e-03,  7.06903462e-04],\n",
       "        [-1.19458663e-03,  1.89305609e-03, -8.60659129e-05, ...,\n",
       "          1.44421379e-03, -8.38510634e-04,  7.87063793e-04]],\n",
       "\n",
       "       [[ 7.26482685e-05, -2.67819396e-05, -6.48622881e-05, ...,\n",
       "         -2.12748288e-04, -7.71218474e-05,  5.34010105e-05],\n",
       "        [ 8.80110310e-05,  1.34142974e-04, -7.99270492e-05, ...,\n",
       "          2.34141880e-05,  8.07880133e-05,  1.54072841e-05],\n",
       "        [-1.02011523e-04,  3.91258363e-04,  7.17764124e-05, ...,\n",
       "          1.47260071e-04,  7.62901936e-06,  1.64669240e-04],\n",
       "        ...,\n",
       "        [-1.26657181e-03,  2.39461684e-03,  2.21808063e-04, ...,\n",
       "          2.15625623e-03,  2.11970037e-04,  6.27093134e-04],\n",
       "        [-1.45215786e-03,  2.73187505e-03,  2.07215038e-04, ...,\n",
       "          2.32853089e-03,  3.45080567e-04,  7.33381545e-04],\n",
       "        [-1.63359544e-03,  3.03638726e-03,  1.86475299e-04, ...,\n",
       "          2.45166221e-03,  4.93396714e-04,  8.45265109e-04]],\n",
       "\n",
       "       [[ 7.26482685e-05, -2.67819396e-05, -6.48622881e-05, ...,\n",
       "         -2.12748288e-04, -7.71218474e-05,  5.34010105e-05],\n",
       "        [ 8.05344971e-05,  1.84418823e-04, -9.35081625e-05, ...,\n",
       "         -3.48231057e-04, -1.99563801e-04, -1.42951889e-04],\n",
       "        [ 3.72851500e-05,  2.07693694e-04, -1.25779654e-04, ...,\n",
       "         -3.87333072e-04, -4.39436408e-04, -9.54431307e-05],\n",
       "        ...,\n",
       "        [-5.47164527e-04,  5.04282571e-06, -1.05791965e-04, ...,\n",
       "          4.15911083e-04,  4.44092293e-04,  5.70883392e-04],\n",
       "        [-6.82757585e-04,  4.56856185e-04,  4.99693442e-06, ...,\n",
       "          8.42577429e-04,  3.06991744e-04,  6.45329303e-04],\n",
       "        [-8.25436553e-04,  9.53093579e-04,  9.66246080e-05, ...,\n",
       "          1.25284132e-03,  2.16039887e-04,  7.13266723e-04]],\n",
       "\n",
       "       ...,\n",
       "\n",
       "       [[ 7.26482685e-05, -2.67819396e-05, -6.48622881e-05, ...,\n",
       "         -2.12748288e-04, -7.71218474e-05,  5.34010105e-05],\n",
       "        [-3.88232729e-05, -3.43878673e-05, -1.28944026e-04, ...,\n",
       "         -1.37549709e-04, -1.41030352e-04,  9.75788134e-05],\n",
       "        [ 1.80817005e-04, -5.46204028e-05, -1.48063235e-04, ...,\n",
       "         -2.14212807e-04,  7.54316061e-05,  3.80168640e-04],\n",
       "        ...,\n",
       "        [-1.31119171e-03,  1.58477051e-04,  9.99716809e-04, ...,\n",
       "          6.11900876e-04,  1.25311280e-03,  2.09494960e-04],\n",
       "        [-1.37398089e-03,  3.50340910e-04,  9.41905717e-04, ...,\n",
       "          8.56271072e-04,  1.27738318e-03,  1.82993346e-04],\n",
       "        [-1.41458411e-03,  6.64314488e-04,  8.61155277e-04, ...,\n",
       "          1.12928904e-03,  1.28370000e-03,  1.95680404e-04]],\n",
       "\n",
       "       [[ 7.26482685e-05, -2.67819396e-05, -6.48622881e-05, ...,\n",
       "         -2.12748288e-04, -7.71218474e-05,  5.34010105e-05],\n",
       "        [ 5.17885055e-05, -1.18521551e-04, -1.26955609e-04, ...,\n",
       "         -2.99968786e-04, -2.77531595e-04,  2.56897387e-04],\n",
       "        [ 2.27405384e-04,  2.07731591e-05, -1.82263684e-04, ...,\n",
       "         -2.78160209e-04, -3.69151443e-04,  2.88970943e-04],\n",
       "        ...,\n",
       "        [-8.32354242e-04,  2.25034659e-03,  3.66584660e-04, ...,\n",
       "          1.78750942e-03,  1.61490563e-04,  1.02686847e-03],\n",
       "        [-1.01541425e-03,  2.62758275e-03,  3.84365208e-04, ...,\n",
       "          2.01216852e-03,  2.98375700e-04,  1.07294391e-03],\n",
       "        [-1.20462256e-03,  2.96952762e-03,  3.82519444e-04, ...,\n",
       "          2.18619779e-03,  4.51601198e-04,  1.12236536e-03]],\n",
       "\n",
       "       [[ 7.26482685e-05, -2.67819396e-05, -6.48622881e-05, ...,\n",
       "         -2.12748288e-04, -7.71218474e-05,  5.34010105e-05],\n",
       "        [-1.29552518e-05,  9.97257484e-06, -6.71338858e-05, ...,\n",
       "         -2.90352385e-04, -2.02836367e-04,  1.05125582e-04],\n",
       "        [-2.04811877e-04,  1.91610830e-04, -1.63794582e-04, ...,\n",
       "         -4.63197270e-04, -5.17714303e-04,  2.63526570e-04],\n",
       "        ...,\n",
       "        [ 3.70561065e-06,  1.29180285e-03, -1.17039192e-03, ...,\n",
       "          2.85077767e-05,  4.87074576e-04,  2.09113432e-06],\n",
       "        [-4.17878146e-05,  1.07853184e-03, -1.12928031e-03, ...,\n",
       "          1.22115860e-04,  6.66393491e-04,  5.69353097e-06],\n",
       "        [-9.49544046e-05,  1.08248927e-03, -9.49025678e-04, ...,\n",
       "          3.86652478e-04,  6.62653998e-04,  1.49719970e-04]]],\n",
       "      dtype=float32)>"
      ]
     },
     "execution_count": 12,
     "metadata": {},
     "output_type": "execute_result"
    }
   ],
   "source": [
    "# 데이터셋에서 데이터 한 배치만 불러오는 방법입니다.\n",
    "# 지금은 동작 원리에 너무 빠져들지 마세요~\n",
    "for src_sample, tgt_sample in train_dataset.take(1): break\n",
    "\n",
    "# 한 배치만 불러온 데이터를 모델에 넣어봅니다\n",
    "model(src_sample) #256 X 14 X 12001 : batch size , LSTM sequence 길이 , voca 수"
   ]
  },
  {
   "cell_type": "code",
   "execution_count": 13,
   "id": "automated-daisy",
   "metadata": {},
   "outputs": [
    {
     "name": "stdout",
     "output_type": "stream",
     "text": [
      "Model: \"text_generator\"\n",
      "_________________________________________________________________\n",
      "Layer (type)                 Output Shape              Param #   \n",
      "=================================================================\n",
      "embedding (Embedding)        multiple                  3072256   \n",
      "_________________________________________________________________\n",
      "lstm (LSTM)                  multiple                  18882560  \n",
      "_________________________________________________________________\n",
      "lstm_1 (LSTM)                multiple                  33562624  \n",
      "_________________________________________________________________\n",
      "dense (Dense)                multiple                  24590049  \n",
      "=================================================================\n",
      "Total params: 80,107,489\n",
      "Trainable params: 80,107,489\n",
      "Non-trainable params: 0\n",
      "_________________________________________________________________\n"
     ]
    }
   ],
   "source": [
    "model.summary()"
   ]
  },
  {
   "cell_type": "markdown",
   "id": "anticipated-bryan",
   "metadata": {},
   "source": [
    "## 3. 모델 훈련하기"
   ]
  },
  {
   "cell_type": "markdown",
   "id": "negative-lawsuit",
   "metadata": {},
   "source": [
    "8 epoch 이후로 val_loss가 점점 증가해 과대 적합이 발생했음을 알 수 있다."
   ]
  },
  {
   "cell_type": "code",
   "execution_count": 14,
   "id": "stone-revision",
   "metadata": {
    "scrolled": true
   },
   "outputs": [
    {
     "name": "stdout",
     "output_type": "stream",
     "text": [
      "Epoch 1/10\n",
      "487/487 [==============================] - 447s 912ms/step - loss: 3.8752 - val_loss: 2.9796\n",
      "Epoch 2/10\n",
      "487/487 [==============================] - 444s 912ms/step - loss: 2.8732 - val_loss: 2.7116\n",
      "Epoch 3/10\n",
      "487/487 [==============================] - 445s 913ms/step - loss: 2.5485 - val_loss: 2.5244\n",
      "Epoch 4/10\n",
      "487/487 [==============================] - 446s 915ms/step - loss: 2.2280 - val_loss: 2.3824\n",
      "Epoch 5/10\n",
      "487/487 [==============================] - 445s 913ms/step - loss: 1.9319 - val_loss: 2.2791\n",
      "Epoch 6/10\n",
      "487/487 [==============================] - 442s 908ms/step - loss: 1.6690 - val_loss: 2.2050\n",
      "Epoch 7/10\n",
      "487/487 [==============================] - 443s 909ms/step - loss: 1.4419 - val_loss: 2.1630\n",
      "Epoch 8/10\n",
      "487/487 [==============================] - 444s 912ms/step - loss: 1.2680 - val_loss: 2.1458\n",
      "Epoch 9/10\n",
      "487/487 [==============================] - 442s 909ms/step - loss: 1.1394 - val_loss: 2.1487\n",
      "Epoch 10/10\n",
      "487/487 [==============================] - 445s 915ms/step - loss: 1.0573 - val_loss: 2.1680\n"
     ]
    }
   ],
   "source": [
    "# optimizer와 loss등은 차차 배웁니다\n",
    "# 혹시 미리 알고 싶다면 아래 문서를 참고하세요\n",
    "# https://www.tensorflow.org/api_docs/python/tf/keras/optimizers\n",
    "# https://www.tensorflow.org/api_docs/python/tf/keras/losses\n",
    "# 양이 상당히 많은 편이니 지금 보는 것은 추천하지 않습니다\n",
    "optimizer = tf.keras.optimizers.Adam()\n",
    "loss = tf.keras.losses.SparseCategoricalCrossentropy(\n",
    "    from_logits=True,\n",
    "    reduction='none'\n",
    ")\n",
    "\n",
    "model.compile(loss=loss, optimizer=optimizer)\n",
    "hist = model.fit(train_dataset,epochs=10,validation_data=valid_dataset) #10epoch"
   ]
  },
  {
   "cell_type": "markdown",
   "id": "whole-collaboration",
   "metadata": {},
   "source": [
    "#### 갑자기 마크다운으로 바뀌어서 loss 그래프가 사라져서 따로 첨부합니다."
   ]
  },
  {
   "cell_type": "code",
   "execution_count": null,
   "id": "becoming-tender",
   "metadata": {},
   "outputs": [],
   "source": [
    "%matplotlib inline\n",
    "import matplotlib.pyplot as plt\n",
    "\n",
    "fig, loss_ax = plt.subplots()\n",
    "\n",
    "\n",
    "loss_ax.plot(hist.history['loss'],'y',label='train loss')\n",
    "loss_ax.plot(hist.history['val_loss'],'r',label='val loss')\n",
    "\n",
    "loss_ax.set_xlabel('epoch')\n",
    "loss_ax.set_ylabel('loss')\n",
    "\n",
    "loss_ax.legend(loc='upper left')\n",
    "plt.show()"
   ]
  },
  {
   "attachments": {
    "image.png": {
     "image/png": "[encoded data removed]"
    }
   },
   "cell_type": "markdown",
   "id": "alternative-feeding",
   "metadata": {},
   "source": [
    "![image.png](attachment:image.png)"
   ]
  },
  {
   "cell_type": "markdown",
   "id": "earlier-nudist",
   "metadata": {},
   "source": [
    "## 4. 가사 만들기"
   ]
  },
  {
   "cell_type": "code",
   "execution_count": 16,
   "id": "civil-pasta",
   "metadata": {},
   "outputs": [],
   "source": [
    "def generate_text(model, tokenizer, init_sentence=\"<start>\", max_len=20):\n",
    "    # 테스트를 위해서 입력받은 init_sentence도 텐서로 변환합니다\n",
    "    test_input = tokenizer.texts_to_sequences([init_sentence])\n",
    "    test_tensor = tf.convert_to_tensor(test_input, dtype=tf.int64)\n",
    "    end_token = tokenizer.word_index[\"<end>\"]\n",
    "\n",
    "    # 단어 하나씩 예측해 문장을 만듭니다\n",
    "    #    1. 입력받은 문장의 텐서를 입력합니다\n",
    "    #    2. 예측된 값 중 가장 높은 확률인 word index를 뽑아냅니다\n",
    "    #    3. 2에서 예측된 word index를 문장 뒤에 붙입니다\n",
    "    #    4. 모델이 <end>를 예측했거나, max_len에 도달했다면 문장 생성을 마칩니다\n",
    "    while True:\n",
    "        # 1\n",
    "        predict = model(test_tensor) \n",
    "        # 2\n",
    "        predict_word = tf.argmax(tf.nn.softmax(predict, axis=-1), axis=-1)[:, -1] \n",
    "        # 3 \n",
    "        test_tensor = tf.concat([test_tensor, tf.expand_dims(predict_word, axis=0)], axis=-1)\n",
    "        # 4\n",
    "        if predict_word.numpy()[0] == end_token: break\n",
    "        if test_tensor.shape[1] >= max_len: break\n",
    "\n",
    "    generated = \"\"\n",
    "    # tokenizer를 이용해 word index를 단어로 하나씩 변환합니다 \n",
    "    for word_index in test_tensor[0].numpy():\n",
    "        generated += tokenizer.index_word[word_index] + \" \"\n",
    "\n",
    "    return generated"
   ]
  },
  {
   "cell_type": "markdown",
   "id": "expensive-heavy",
   "metadata": {},
   "source": [
    "## 생성된 가사"
   ]
  },
  {
   "cell_type": "code",
   "execution_count": 35,
   "id": "affected-inspector",
   "metadata": {},
   "outputs": [
    {
     "data": {
      "text/plain": [
       "'<start> card to me <end> '"
      ]
     },
     "execution_count": 35,
     "metadata": {},
     "output_type": "execute_result"
    }
   ],
   "source": [
    "generate_text(model, tokenizer, init_sentence=\"<start> card\", max_len=20)"
   ]
  },
  {
   "cell_type": "code",
   "execution_count": 38,
   "id": "neural-culture",
   "metadata": {},
   "outputs": [
    {
     "data": {
      "text/plain": [
       "'<start> he is he is cmon whats his name <end> '"
      ]
     },
     "execution_count": 38,
     "metadata": {},
     "output_type": "execute_result"
    }
   ],
   "source": [
    "generate_text(model, tokenizer, init_sentence=\"<start> he is\", max_len=20)"
   ]
  },
  {
   "cell_type": "code",
   "execution_count": 39,
   "id": "dietary-swaziland",
   "metadata": {},
   "outputs": [
    {
     "data": {
      "text/plain": [
       "'<start> love is a temple <end> '"
      ]
     },
     "execution_count": 39,
     "metadata": {},
     "output_type": "execute_result"
    }
   ],
   "source": [
    "generate_text(model, tokenizer, init_sentence=\"<start> love\", max_len=20)"
   ]
  },
  {
   "cell_type": "code",
   "execution_count": 41,
   "id": "together-milton",
   "metadata": {},
   "outputs": [
    {
     "data": {
      "text/plain": [
       "'<start> lord , show me the way <end> '"
      ]
     },
     "execution_count": 41,
     "metadata": {},
     "output_type": "execute_result"
    }
   ],
   "source": [
    "generate_text(model, tokenizer, init_sentence=\"<start> lord\", max_len=20)"
   ]
  },
  {
   "cell_type": "code",
   "execution_count": 50,
   "id": "polar-contamination",
   "metadata": {},
   "outputs": [
    {
     "data": {
      "text/plain": [
       "'<start> why do we scream at each other <end> '"
      ]
     },
     "execution_count": 50,
     "metadata": {},
     "output_type": "execute_result"
    }
   ],
   "source": [
    "generate_text(model, tokenizer, init_sentence=\"<start> why\", max_len=20)"
   ]
  },
  {
   "cell_type": "code",
   "execution_count": 55,
   "id": "national-feeding",
   "metadata": {},
   "outputs": [
    {
     "data": {
      "text/plain": [
       "'<start> sometimes i hear death knockin at my front do <end> '"
      ]
     },
     "execution_count": 55,
     "metadata": {},
     "output_type": "execute_result"
    }
   ],
   "source": [
    "generate_text(model, tokenizer, init_sentence=\"<start> sometimes\", max_len=20)"
   ]
  },
  {
   "cell_type": "code",
   "execution_count": 56,
   "id": "complete-owner",
   "metadata": {},
   "outputs": [
    {
     "data": {
      "text/plain": [
       "'<start> whenever you hear the sound don t be alarmed <end> '"
      ]
     },
     "execution_count": 56,
     "metadata": {},
     "output_type": "execute_result"
    }
   ],
   "source": [
    "generate_text(model, tokenizer, init_sentence=\"<start> whenever\", max_len=20)"
   ]
  },
  {
   "cell_type": "code",
   "execution_count": 60,
   "id": "gothic-hearing",
   "metadata": {},
   "outputs": [
    {
     "data": {
      "text/plain": [
       "'<start> whatever happens , don t you let go of my hand <end> '"
      ]
     },
     "execution_count": 60,
     "metadata": {},
     "output_type": "execute_result"
    }
   ],
   "source": [
    "generate_text(model, tokenizer, init_sentence=\"<start> whatever\", max_len=20)"
   ]
  },
  {
   "cell_type": "code",
   "execution_count": 63,
   "id": "acquired-brunswick",
   "metadata": {},
   "outputs": [
    {
     "data": {
      "text/plain": [
       "'<start> gotta get a leadway <end> '"
      ]
     },
     "execution_count": 63,
     "metadata": {},
     "output_type": "execute_result"
    }
   ],
   "source": [
    "generate_text(model, tokenizer, init_sentence=\"<start> gotta\", max_len=20)"
   ]
  },
  {
   "cell_type": "code",
   "execution_count": 69,
   "id": "excited-flood",
   "metadata": {
    "scrolled": true
   },
   "outputs": [
    {
     "data": {
      "text/plain": [
       "'<start> i love you , i love you , i love you <end> '"
      ]
     },
     "execution_count": 69,
     "metadata": {},
     "output_type": "execute_result"
    }
   ],
   "source": [
    "generate_text(model, tokenizer, init_sentence=\"<start> i love\", max_len=20)"
   ]
  },
  {
   "cell_type": "markdown",
   "id": "governing-resistance",
   "metadata": {},
   "source": [
    "___"
   ]
  },
  {
   "cell_type": "markdown",
   "id": "preliminary-ottawa",
   "metadata": {},
   "source": [
    "## 정리"
   ]
  },
  {
   "cell_type": "markdown",
   "id": "convinced-grenada",
   "metadata": {},
   "source": [
    "- lyric 데이터를 통해 LSTM을 훈련시켜서 임의의 단어를 입력 받아 단어를 생성하는 모델을 만들었다. "
   ]
  },
  {
   "cell_type": "markdown",
   "id": "broad-plane",
   "metadata": {},
   "source": [
    "이때 전처리 시 가사 특성 상 토큰이 15개가 넘어가는 문장은 데이터에서 제외했다."
   ]
  },
  {
   "cell_type": "markdown",
   "id": "welcome-little",
   "metadata": {},
   "source": [
    "- LSTM을 통해 모델을 구성했으며 학습 시 8 epoch 이상 부터 valid loss가 증가하는 것으로 보아 **overfitting**이 발생했다."
   ]
  },
  {
   "cell_type": "markdown",
   "id": "sensitive-antibody",
   "metadata": {},
   "source": [
    "___"
   ]
  },
  {
   "cell_type": "markdown",
   "id": "broadband-norway",
   "metadata": {},
   "source": [
    "overfitting을 해결하기 위해 regularization 기법 중 dropout을 사용했다. "
   ]
  },
  {
   "cell_type": "markdown",
   "id": "leading-collapse",
   "metadata": {},
   "source": [
    "dropout은 LSTM 특성 상 별도의 dropout layer를 구성하는 것이 아닌 tf.keras.layers.LSTM(dropout = 0.4, recurrent_dropout = 0.4)를 통해 진행했다."
   ]
  },
  {
   "cell_type": "markdown",
   "id": "nervous-above",
   "metadata": {},
   "source": [
    "참고 링크 https://wjddyd66.github.io/keras/Keras(4-2)/"
   ]
  },
  {
   "cell_type": "markdown",
   "id": "confidential-roads",
   "metadata": {},
   "source": [
    "또한 dropout rate의 경우 일반적인 딥러닝 네트워크와 다르게 0.4로 설정했다.    \n",
    "'An Exploration of Dropout with RNNs for Natural Language Inference' 라는 논문의 실험 결과를 참고했다."
   ]
  },
  {
   "cell_type": "markdown",
   "id": "emotional-video",
   "metadata": {},
   "source": [
    "#### 새로 구성한 네트워크의 loss 그래프는 다음과 같았다."
   ]
  },
  {
   "attachments": {},
   "cell_type": "markdown",
   "id": "interracial-reducing",
   "metadata": {},
   "source": [
    "![image](https://user-images.githubusercontent.com/86637320/127311027-f85a99db-416c-411d-8183-2c48560e57f2.png)"
   ]
  },
  {
   "cell_type": "markdown",
   "id": "professional-cabin",
   "metadata": {},
   "source": [
    "##### 빨강 : val_loss , 노랑 : loss"
   ]
  },
  {
   "cell_type": "markdown",
   "id": "honest-rubber",
   "metadata": {},
   "source": [
    "이 경우 epoch 10이 될 때까지 val_loss와 loss가 꾸준히 감소하는 것이 확인돼 overfitting이 발생하지 않았다. 과제 제한 사항(10 epoch 이내)상 epoch를 더 늘리진 않았다."
   ]
  }
 ],
 "metadata": {
  "kernelspec": {
   "display_name": "Python 3",
   "language": "python",
   "name": "python3"
  },
  "language_info": {
   "codemirror_mode": {
    "name": "ipython",
    "version": 3
   },
   "file_extension": ".py",
   "mimetype": "text/x-python",
   "name": "python",
   "nbconvert_exporter": "python",
   "pygments_lexer": "ipython3",
   "version": "3.7.9"
  }
 },
 "nbformat": 4,
 "nbformat_minor": 5
}
