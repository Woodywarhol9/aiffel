{
 "cells": [
  {
   "cell_type": "markdown",
   "id": "appointed-emission",
   "metadata": {},
   "source": [
    "# Movielens 영화 추천"
   ]
  },
  {
   "cell_type": "markdown",
   "id": "liquid-martin",
   "metadata": {},
   "source": [
    "Movielens?"
   ]
  },
  {
   "cell_type": "markdown",
   "id": "grave-reputation",
   "metadata": {},
   "source": [
    "가정1 : 별점을 **시청 횟수**로 해석해서 고려   \n",
    "가정2 : 유저가 **3점 미만**으로 준 데이터는 **선호하지 않는다**고 가정"
   ]
  },
  {
   "cell_type": "code",
   "execution_count": 1,
   "id": "roman-citizen",
   "metadata": {},
   "outputs": [],
   "source": [
    "import pandas as pd\n",
    "import os\n",
    "import numpy as np\n",
    "import random\n",
    "import seaborn as sns\n",
    "from scipy.sparse import csr_matrix\n",
    "from implicit.als import AlternatingLeastSquares"
   ]
  },
  {
   "cell_type": "markdown",
   "id": "continuous-distributor",
   "metadata": {},
   "source": [
    "## 1. 데이터 준비와 전처리"
   ]
  },
  {
   "cell_type": "markdown",
   "id": "dramatic-liquid",
   "metadata": {},
   "source": [
    "데이터 불러오기 "
   ]
  },
  {
   "cell_type": "markdown",
   "id": "enhanced-height",
   "metadata": {},
   "source": [
    "(1) **ratings.dat**"
   ]
  },
  {
   "cell_type": "code",
   "execution_count": 2,
   "id": "vulnerable-tiffany",
   "metadata": {
    "scrolled": true
   },
   "outputs": [
    {
     "data": {
      "text/html": [
       "<div>\n",
       "<style scoped>\n",
       "    .dataframe tbody tr th:only-of-type {\n",
       "        vertical-align: middle;\n",
       "    }\n",
       "\n",
       "    .dataframe tbody tr th {\n",
       "        vertical-align: top;\n",
       "    }\n",
       "\n",
       "    .dataframe thead th {\n",
       "        text-align: right;\n",
       "    }\n",
       "</style>\n",
       "<table border=\"1\" class=\"dataframe\">\n",
       "  <thead>\n",
       "    <tr style=\"text-align: right;\">\n",
       "      <th></th>\n",
       "      <th>user_id</th>\n",
       "      <th>movie_id</th>\n",
       "      <th>rating</th>\n",
       "      <th>timestamp</th>\n",
       "    </tr>\n",
       "  </thead>\n",
       "  <tbody>\n",
       "    <tr>\n",
       "      <th>0</th>\n",
       "      <td>1</td>\n",
       "      <td>1193</td>\n",
       "      <td>5</td>\n",
       "      <td>978300760</td>\n",
       "    </tr>\n",
       "    <tr>\n",
       "      <th>1</th>\n",
       "      <td>1</td>\n",
       "      <td>661</td>\n",
       "      <td>3</td>\n",
       "      <td>978302109</td>\n",
       "    </tr>\n",
       "    <tr>\n",
       "      <th>2</th>\n",
       "      <td>1</td>\n",
       "      <td>914</td>\n",
       "      <td>3</td>\n",
       "      <td>978301968</td>\n",
       "    </tr>\n",
       "    <tr>\n",
       "      <th>3</th>\n",
       "      <td>1</td>\n",
       "      <td>3408</td>\n",
       "      <td>4</td>\n",
       "      <td>978300275</td>\n",
       "    </tr>\n",
       "    <tr>\n",
       "      <th>4</th>\n",
       "      <td>1</td>\n",
       "      <td>2355</td>\n",
       "      <td>5</td>\n",
       "      <td>978824291</td>\n",
       "    </tr>\n",
       "    <tr>\n",
       "      <th>...</th>\n",
       "      <td>...</td>\n",
       "      <td>...</td>\n",
       "      <td>...</td>\n",
       "      <td>...</td>\n",
       "    </tr>\n",
       "    <tr>\n",
       "      <th>1000204</th>\n",
       "      <td>6040</td>\n",
       "      <td>1091</td>\n",
       "      <td>1</td>\n",
       "      <td>956716541</td>\n",
       "    </tr>\n",
       "    <tr>\n",
       "      <th>1000205</th>\n",
       "      <td>6040</td>\n",
       "      <td>1094</td>\n",
       "      <td>5</td>\n",
       "      <td>956704887</td>\n",
       "    </tr>\n",
       "    <tr>\n",
       "      <th>1000206</th>\n",
       "      <td>6040</td>\n",
       "      <td>562</td>\n",
       "      <td>5</td>\n",
       "      <td>956704746</td>\n",
       "    </tr>\n",
       "    <tr>\n",
       "      <th>1000207</th>\n",
       "      <td>6040</td>\n",
       "      <td>1096</td>\n",
       "      <td>4</td>\n",
       "      <td>956715648</td>\n",
       "    </tr>\n",
       "    <tr>\n",
       "      <th>1000208</th>\n",
       "      <td>6040</td>\n",
       "      <td>1097</td>\n",
       "      <td>4</td>\n",
       "      <td>956715569</td>\n",
       "    </tr>\n",
       "  </tbody>\n",
       "</table>\n",
       "<p>1000209 rows × 4 columns</p>\n",
       "</div>"
      ],
      "text/plain": [
       "         user_id  movie_id  rating  timestamp\n",
       "0              1      1193       5  978300760\n",
       "1              1       661       3  978302109\n",
       "2              1       914       3  978301968\n",
       "3              1      3408       4  978300275\n",
       "4              1      2355       5  978824291\n",
       "...          ...       ...     ...        ...\n",
       "1000204     6040      1091       1  956716541\n",
       "1000205     6040      1094       5  956704887\n",
       "1000206     6040       562       5  956704746\n",
       "1000207     6040      1096       4  956715648\n",
       "1000208     6040      1097       4  956715569\n",
       "\n",
       "[1000209 rows x 4 columns]"
      ]
     },
     "execution_count": 2,
     "metadata": {},
     "output_type": "execute_result"
    }
   ],
   "source": [
    "rating_file_path=os.getenv('HOME') + '/aiffel/recommendata_iu/data/ml-1m/ratings.dat'\n",
    "ratings_cols = ['user_id', 'movie_id', 'rating', 'timestamp']\n",
    "ratings = pd.read_csv(rating_file_path, sep='::', names=ratings_cols, engine='python', encoding = \"ISO-8859-1\")\n",
    "orginal_data_size = len(ratings)\n",
    "ratings"
   ]
  },
  {
   "cell_type": "markdown",
   "id": "acknowledged-falls",
   "metadata": {},
   "source": [
    "결측치 확인"
   ]
  },
  {
   "cell_type": "code",
   "execution_count": 3,
   "id": "extensive-marine",
   "metadata": {
    "scrolled": true
   },
   "outputs": [
    {
     "data": {
      "text/plain": [
       "user_id      0\n",
       "movie_id     0\n",
       "rating       0\n",
       "timestamp    0\n",
       "dtype: int64"
      ]
     },
     "execution_count": 3,
     "metadata": {},
     "output_type": "execute_result"
    }
   ],
   "source": [
    "ratings.isnull().sum()"
   ]
  },
  {
   "cell_type": "markdown",
   "id": "featured-officer",
   "metadata": {},
   "source": [
    "임의의 유저 선택 후 데이터 확인하기"
   ]
  },
  {
   "cell_type": "code",
   "execution_count": 4,
   "id": "swedish-michigan",
   "metadata": {
    "scrolled": true
   },
   "outputs": [
    {
     "data": {
      "text/html": [
       "<div>\n",
       "<style scoped>\n",
       "    .dataframe tbody tr th:only-of-type {\n",
       "        vertical-align: middle;\n",
       "    }\n",
       "\n",
       "    .dataframe tbody tr th {\n",
       "        vertical-align: top;\n",
       "    }\n",
       "\n",
       "    .dataframe thead th {\n",
       "        text-align: right;\n",
       "    }\n",
       "</style>\n",
       "<table border=\"1\" class=\"dataframe\">\n",
       "  <thead>\n",
       "    <tr style=\"text-align: right;\">\n",
       "      <th></th>\n",
       "      <th>user_id</th>\n",
       "      <th>movie_id</th>\n",
       "      <th>rating</th>\n",
       "      <th>timestamp</th>\n",
       "    </tr>\n",
       "  </thead>\n",
       "  <tbody>\n",
       "    <tr>\n",
       "      <th>0</th>\n",
       "      <td>1</td>\n",
       "      <td>1193</td>\n",
       "      <td>5</td>\n",
       "      <td>978300760</td>\n",
       "    </tr>\n",
       "    <tr>\n",
       "      <th>1</th>\n",
       "      <td>1</td>\n",
       "      <td>661</td>\n",
       "      <td>3</td>\n",
       "      <td>978302109</td>\n",
       "    </tr>\n",
       "    <tr>\n",
       "      <th>2</th>\n",
       "      <td>1</td>\n",
       "      <td>914</td>\n",
       "      <td>3</td>\n",
       "      <td>978301968</td>\n",
       "    </tr>\n",
       "    <tr>\n",
       "      <th>3</th>\n",
       "      <td>1</td>\n",
       "      <td>3408</td>\n",
       "      <td>4</td>\n",
       "      <td>978300275</td>\n",
       "    </tr>\n",
       "    <tr>\n",
       "      <th>4</th>\n",
       "      <td>1</td>\n",
       "      <td>2355</td>\n",
       "      <td>5</td>\n",
       "      <td>978824291</td>\n",
       "    </tr>\n",
       "    <tr>\n",
       "      <th>5</th>\n",
       "      <td>1</td>\n",
       "      <td>1197</td>\n",
       "      <td>3</td>\n",
       "      <td>978302268</td>\n",
       "    </tr>\n",
       "    <tr>\n",
       "      <th>6</th>\n",
       "      <td>1</td>\n",
       "      <td>1287</td>\n",
       "      <td>5</td>\n",
       "      <td>978302039</td>\n",
       "    </tr>\n",
       "    <tr>\n",
       "      <th>7</th>\n",
       "      <td>1</td>\n",
       "      <td>2804</td>\n",
       "      <td>5</td>\n",
       "      <td>978300719</td>\n",
       "    </tr>\n",
       "    <tr>\n",
       "      <th>8</th>\n",
       "      <td>1</td>\n",
       "      <td>594</td>\n",
       "      <td>4</td>\n",
       "      <td>978302268</td>\n",
       "    </tr>\n",
       "    <tr>\n",
       "      <th>9</th>\n",
       "      <td>1</td>\n",
       "      <td>919</td>\n",
       "      <td>4</td>\n",
       "      <td>978301368</td>\n",
       "    </tr>\n",
       "    <tr>\n",
       "      <th>10</th>\n",
       "      <td>1</td>\n",
       "      <td>595</td>\n",
       "      <td>5</td>\n",
       "      <td>978824268</td>\n",
       "    </tr>\n",
       "    <tr>\n",
       "      <th>11</th>\n",
       "      <td>1</td>\n",
       "      <td>938</td>\n",
       "      <td>4</td>\n",
       "      <td>978301752</td>\n",
       "    </tr>\n",
       "    <tr>\n",
       "      <th>12</th>\n",
       "      <td>1</td>\n",
       "      <td>2398</td>\n",
       "      <td>4</td>\n",
       "      <td>978302281</td>\n",
       "    </tr>\n",
       "    <tr>\n",
       "      <th>13</th>\n",
       "      <td>1</td>\n",
       "      <td>2918</td>\n",
       "      <td>4</td>\n",
       "      <td>978302124</td>\n",
       "    </tr>\n",
       "    <tr>\n",
       "      <th>14</th>\n",
       "      <td>1</td>\n",
       "      <td>1035</td>\n",
       "      <td>5</td>\n",
       "      <td>978301753</td>\n",
       "    </tr>\n",
       "    <tr>\n",
       "      <th>15</th>\n",
       "      <td>1</td>\n",
       "      <td>2791</td>\n",
       "      <td>4</td>\n",
       "      <td>978302188</td>\n",
       "    </tr>\n",
       "    <tr>\n",
       "      <th>16</th>\n",
       "      <td>1</td>\n",
       "      <td>2687</td>\n",
       "      <td>3</td>\n",
       "      <td>978824268</td>\n",
       "    </tr>\n",
       "    <tr>\n",
       "      <th>17</th>\n",
       "      <td>1</td>\n",
       "      <td>2018</td>\n",
       "      <td>4</td>\n",
       "      <td>978301777</td>\n",
       "    </tr>\n",
       "    <tr>\n",
       "      <th>18</th>\n",
       "      <td>1</td>\n",
       "      <td>3105</td>\n",
       "      <td>5</td>\n",
       "      <td>978301713</td>\n",
       "    </tr>\n",
       "    <tr>\n",
       "      <th>19</th>\n",
       "      <td>1</td>\n",
       "      <td>2797</td>\n",
       "      <td>4</td>\n",
       "      <td>978302039</td>\n",
       "    </tr>\n",
       "    <tr>\n",
       "      <th>20</th>\n",
       "      <td>1</td>\n",
       "      <td>2321</td>\n",
       "      <td>3</td>\n",
       "      <td>978302205</td>\n",
       "    </tr>\n",
       "    <tr>\n",
       "      <th>21</th>\n",
       "      <td>1</td>\n",
       "      <td>720</td>\n",
       "      <td>3</td>\n",
       "      <td>978300760</td>\n",
       "    </tr>\n",
       "    <tr>\n",
       "      <th>22</th>\n",
       "      <td>1</td>\n",
       "      <td>1270</td>\n",
       "      <td>5</td>\n",
       "      <td>978300055</td>\n",
       "    </tr>\n",
       "    <tr>\n",
       "      <th>23</th>\n",
       "      <td>1</td>\n",
       "      <td>527</td>\n",
       "      <td>5</td>\n",
       "      <td>978824195</td>\n",
       "    </tr>\n",
       "    <tr>\n",
       "      <th>24</th>\n",
       "      <td>1</td>\n",
       "      <td>2340</td>\n",
       "      <td>3</td>\n",
       "      <td>978300103</td>\n",
       "    </tr>\n",
       "    <tr>\n",
       "      <th>25</th>\n",
       "      <td>1</td>\n",
       "      <td>48</td>\n",
       "      <td>5</td>\n",
       "      <td>978824351</td>\n",
       "    </tr>\n",
       "    <tr>\n",
       "      <th>26</th>\n",
       "      <td>1</td>\n",
       "      <td>1097</td>\n",
       "      <td>4</td>\n",
       "      <td>978301953</td>\n",
       "    </tr>\n",
       "    <tr>\n",
       "      <th>27</th>\n",
       "      <td>1</td>\n",
       "      <td>1721</td>\n",
       "      <td>4</td>\n",
       "      <td>978300055</td>\n",
       "    </tr>\n",
       "    <tr>\n",
       "      <th>28</th>\n",
       "      <td>1</td>\n",
       "      <td>1545</td>\n",
       "      <td>4</td>\n",
       "      <td>978824139</td>\n",
       "    </tr>\n",
       "    <tr>\n",
       "      <th>29</th>\n",
       "      <td>1</td>\n",
       "      <td>745</td>\n",
       "      <td>3</td>\n",
       "      <td>978824268</td>\n",
       "    </tr>\n",
       "    <tr>\n",
       "      <th>30</th>\n",
       "      <td>1</td>\n",
       "      <td>2294</td>\n",
       "      <td>4</td>\n",
       "      <td>978824291</td>\n",
       "    </tr>\n",
       "    <tr>\n",
       "      <th>31</th>\n",
       "      <td>1</td>\n",
       "      <td>3186</td>\n",
       "      <td>4</td>\n",
       "      <td>978300019</td>\n",
       "    </tr>\n",
       "    <tr>\n",
       "      <th>32</th>\n",
       "      <td>1</td>\n",
       "      <td>1566</td>\n",
       "      <td>4</td>\n",
       "      <td>978824330</td>\n",
       "    </tr>\n",
       "    <tr>\n",
       "      <th>33</th>\n",
       "      <td>1</td>\n",
       "      <td>588</td>\n",
       "      <td>4</td>\n",
       "      <td>978824268</td>\n",
       "    </tr>\n",
       "    <tr>\n",
       "      <th>34</th>\n",
       "      <td>1</td>\n",
       "      <td>1907</td>\n",
       "      <td>4</td>\n",
       "      <td>978824330</td>\n",
       "    </tr>\n",
       "    <tr>\n",
       "      <th>35</th>\n",
       "      <td>1</td>\n",
       "      <td>783</td>\n",
       "      <td>4</td>\n",
       "      <td>978824291</td>\n",
       "    </tr>\n",
       "    <tr>\n",
       "      <th>36</th>\n",
       "      <td>1</td>\n",
       "      <td>1836</td>\n",
       "      <td>5</td>\n",
       "      <td>978300172</td>\n",
       "    </tr>\n",
       "    <tr>\n",
       "      <th>37</th>\n",
       "      <td>1</td>\n",
       "      <td>1022</td>\n",
       "      <td>5</td>\n",
       "      <td>978300055</td>\n",
       "    </tr>\n",
       "    <tr>\n",
       "      <th>38</th>\n",
       "      <td>1</td>\n",
       "      <td>2762</td>\n",
       "      <td>4</td>\n",
       "      <td>978302091</td>\n",
       "    </tr>\n",
       "    <tr>\n",
       "      <th>39</th>\n",
       "      <td>1</td>\n",
       "      <td>150</td>\n",
       "      <td>5</td>\n",
       "      <td>978301777</td>\n",
       "    </tr>\n",
       "    <tr>\n",
       "      <th>40</th>\n",
       "      <td>1</td>\n",
       "      <td>1</td>\n",
       "      <td>5</td>\n",
       "      <td>978824268</td>\n",
       "    </tr>\n",
       "    <tr>\n",
       "      <th>41</th>\n",
       "      <td>1</td>\n",
       "      <td>1961</td>\n",
       "      <td>5</td>\n",
       "      <td>978301590</td>\n",
       "    </tr>\n",
       "    <tr>\n",
       "      <th>42</th>\n",
       "      <td>1</td>\n",
       "      <td>1962</td>\n",
       "      <td>4</td>\n",
       "      <td>978301753</td>\n",
       "    </tr>\n",
       "    <tr>\n",
       "      <th>43</th>\n",
       "      <td>1</td>\n",
       "      <td>2692</td>\n",
       "      <td>4</td>\n",
       "      <td>978301570</td>\n",
       "    </tr>\n",
       "    <tr>\n",
       "      <th>44</th>\n",
       "      <td>1</td>\n",
       "      <td>260</td>\n",
       "      <td>4</td>\n",
       "      <td>978300760</td>\n",
       "    </tr>\n",
       "    <tr>\n",
       "      <th>45</th>\n",
       "      <td>1</td>\n",
       "      <td>1028</td>\n",
       "      <td>5</td>\n",
       "      <td>978301777</td>\n",
       "    </tr>\n",
       "    <tr>\n",
       "      <th>46</th>\n",
       "      <td>1</td>\n",
       "      <td>1029</td>\n",
       "      <td>5</td>\n",
       "      <td>978302205</td>\n",
       "    </tr>\n",
       "    <tr>\n",
       "      <th>47</th>\n",
       "      <td>1</td>\n",
       "      <td>1207</td>\n",
       "      <td>4</td>\n",
       "      <td>978300719</td>\n",
       "    </tr>\n",
       "    <tr>\n",
       "      <th>48</th>\n",
       "      <td>1</td>\n",
       "      <td>2028</td>\n",
       "      <td>5</td>\n",
       "      <td>978301619</td>\n",
       "    </tr>\n",
       "    <tr>\n",
       "      <th>49</th>\n",
       "      <td>1</td>\n",
       "      <td>531</td>\n",
       "      <td>4</td>\n",
       "      <td>978302149</td>\n",
       "    </tr>\n",
       "    <tr>\n",
       "      <th>50</th>\n",
       "      <td>1</td>\n",
       "      <td>3114</td>\n",
       "      <td>4</td>\n",
       "      <td>978302174</td>\n",
       "    </tr>\n",
       "    <tr>\n",
       "      <th>51</th>\n",
       "      <td>1</td>\n",
       "      <td>608</td>\n",
       "      <td>4</td>\n",
       "      <td>978301398</td>\n",
       "    </tr>\n",
       "    <tr>\n",
       "      <th>52</th>\n",
       "      <td>1</td>\n",
       "      <td>1246</td>\n",
       "      <td>4</td>\n",
       "      <td>978302091</td>\n",
       "    </tr>\n",
       "  </tbody>\n",
       "</table>\n",
       "</div>"
      ],
      "text/plain": [
       "    user_id  movie_id  rating  timestamp\n",
       "0         1      1193       5  978300760\n",
       "1         1       661       3  978302109\n",
       "2         1       914       3  978301968\n",
       "3         1      3408       4  978300275\n",
       "4         1      2355       5  978824291\n",
       "5         1      1197       3  978302268\n",
       "6         1      1287       5  978302039\n",
       "7         1      2804       5  978300719\n",
       "8         1       594       4  978302268\n",
       "9         1       919       4  978301368\n",
       "10        1       595       5  978824268\n",
       "11        1       938       4  978301752\n",
       "12        1      2398       4  978302281\n",
       "13        1      2918       4  978302124\n",
       "14        1      1035       5  978301753\n",
       "15        1      2791       4  978302188\n",
       "16        1      2687       3  978824268\n",
       "17        1      2018       4  978301777\n",
       "18        1      3105       5  978301713\n",
       "19        1      2797       4  978302039\n",
       "20        1      2321       3  978302205\n",
       "21        1       720       3  978300760\n",
       "22        1      1270       5  978300055\n",
       "23        1       527       5  978824195\n",
       "24        1      2340       3  978300103\n",
       "25        1        48       5  978824351\n",
       "26        1      1097       4  978301953\n",
       "27        1      1721       4  978300055\n",
       "28        1      1545       4  978824139\n",
       "29        1       745       3  978824268\n",
       "30        1      2294       4  978824291\n",
       "31        1      3186       4  978300019\n",
       "32        1      1566       4  978824330\n",
       "33        1       588       4  978824268\n",
       "34        1      1907       4  978824330\n",
       "35        1       783       4  978824291\n",
       "36        1      1836       5  978300172\n",
       "37        1      1022       5  978300055\n",
       "38        1      2762       4  978302091\n",
       "39        1       150       5  978301777\n",
       "40        1         1       5  978824268\n",
       "41        1      1961       5  978301590\n",
       "42        1      1962       4  978301753\n",
       "43        1      2692       4  978301570\n",
       "44        1       260       4  978300760\n",
       "45        1      1028       5  978301777\n",
       "46        1      1029       5  978302205\n",
       "47        1      1207       4  978300719\n",
       "48        1      2028       5  978301619\n",
       "49        1       531       4  978302149\n",
       "50        1      3114       4  978302174\n",
       "51        1       608       4  978301398\n",
       "52        1      1246       4  978302091"
      ]
     },
     "execution_count": 4,
     "metadata": {},
     "output_type": "execute_result"
    }
   ],
   "source": [
    "condition = (ratings['user_id']==ratings.loc[0,'user_id'])\n",
    "ratings.loc[condition]"
   ]
  },
  {
   "cell_type": "markdown",
   "id": "premier-going",
   "metadata": {},
   "source": [
    "가정에 따라 **3점 이상**의 데이터만 남긴다."
   ]
  },
  {
   "cell_type": "code",
   "execution_count": 5,
   "id": "killing-courage",
   "metadata": {},
   "outputs": [
    {
     "name": "stdout",
     "output_type": "stream",
     "text": [
      "orginal_data_size: 1000209, filtered_data_size: 836478\n",
      "Ratio of Remaining Data is 83.63%\n"
     ]
    }
   ],
   "source": [
    "# 3점 이상만 남깁니다.\n",
    "ratings = ratings[ratings['rating']>=3]\n",
    "filtered_data_size = len(ratings)\n",
    "\n",
    "print(f'orginal_data_size: {orginal_data_size}, filtered_data_size: {filtered_data_size}')\n",
    "print(f'Ratio of Remaining Data is {filtered_data_size / orginal_data_size:.2%}')"
   ]
  },
  {
   "cell_type": "markdown",
   "id": "administrative-bloom",
   "metadata": {},
   "source": [
    "**ratings.dat** 살펴보기"
   ]
  },
  {
   "cell_type": "markdown",
   "id": "moved-chinese",
   "metadata": {},
   "source": [
    "고유의 영화, 아이디 수"
   ]
  },
  {
   "cell_type": "code",
   "execution_count": 6,
   "id": "respective-particular",
   "metadata": {},
   "outputs": [
    {
     "data": {
      "text/plain": [
       "3628"
      ]
     },
     "execution_count": 6,
     "metadata": {},
     "output_type": "execute_result"
    }
   ],
   "source": [
    "ratings['movie_id'].nunique()"
   ]
  },
  {
   "cell_type": "code",
   "execution_count": 7,
   "id": "industrial-cursor",
   "metadata": {},
   "outputs": [
    {
     "data": {
      "text/plain": [
       "6039"
      ]
     },
     "execution_count": 7,
     "metadata": {},
     "output_type": "execute_result"
    }
   ],
   "source": [
    "ratings['user_id'].nunique()"
   ]
  },
  {
   "cell_type": "markdown",
   "id": "accompanied-condition",
   "metadata": {},
   "source": [
    "가정에 따라 rating을 **count**로 생각한다."
   ]
  },
  {
   "cell_type": "code",
   "execution_count": 8,
   "id": "alternate-sussex",
   "metadata": {},
   "outputs": [
    {
     "name": "stderr",
     "output_type": "stream",
     "text": [
      "/opt/conda/lib/python3.7/site-packages/pandas/core/frame.py:4446: SettingWithCopyWarning: \n",
      "A value is trying to be set on a copy of a slice from a DataFrame\n",
      "\n",
      "See the caveats in the documentation: https://pandas.pydata.org/pandas-docs/stable/user_guide/indexing.html#returning-a-view-versus-a-copy\n",
      "  errors=errors,\n"
     ]
    }
   ],
   "source": [
    "# rating 컬럼의 이름을 count로 바꿉니다.\n",
    "ratings.rename(columns={'rating':'count'}, inplace=True)"
   ]
  },
  {
   "cell_type": "code",
   "execution_count": 9,
   "id": "retired-southwest",
   "metadata": {
    "scrolled": true
   },
   "outputs": [
    {
     "data": {
      "text/plain": [
       "0          5\n",
       "1          3\n",
       "2          3\n",
       "3          4\n",
       "4          5\n",
       "          ..\n",
       "1000203    3\n",
       "1000205    5\n",
       "1000206    5\n",
       "1000207    4\n",
       "1000208    4\n",
       "Name: count, Length: 836478, dtype: int64"
      ]
     },
     "execution_count": 9,
     "metadata": {},
     "output_type": "execute_result"
    }
   ],
   "source": [
    "ratings['count']"
   ]
  },
  {
   "cell_type": "markdown",
   "id": "premium-harassment",
   "metadata": {},
   "source": [
    "#### timestamp?"
   ]
  },
  {
   "cell_type": "markdown",
   "id": "earned-belarus",
   "metadata": {},
   "source": [
    "user가 item에 대해서 평가한 시간"
   ]
  },
  {
   "cell_type": "code",
   "execution_count": 10,
   "id": "reasonable-equipment",
   "metadata": {},
   "outputs": [
    {
     "data": {
      "text/plain": [
       "Timestamp('2000-12-31 22:12:40')"
      ]
     },
     "execution_count": 10,
     "metadata": {},
     "output_type": "execute_result"
    }
   ],
   "source": [
    "pd.to_datetime(ratings['timestamp'][0], unit='s')"
   ]
  },
  {
   "cell_type": "code",
   "execution_count": 11,
   "id": "reduced-booth",
   "metadata": {},
   "outputs": [
    {
     "data": {
      "text/plain": [
       "Timestamp('2000-12-27 00:46:02')"
      ]
     },
     "execution_count": 11,
     "metadata": {},
     "output_type": "execute_result"
    }
   ],
   "source": [
    "pd.to_datetime(ratings['timestamp'][10000], unit='s')"
   ]
  },
  {
   "cell_type": "code",
   "execution_count": 12,
   "id": "southern-processor",
   "metadata": {},
   "outputs": [
    {
     "data": {
      "text/plain": [
       "Timestamp('2003-02-28 17:49:50')"
      ]
     },
     "execution_count": 12,
     "metadata": {},
     "output_type": "execute_result"
    }
   ],
   "source": [
    "pd.to_datetime(1046454590, unit='s')"
   ]
  },
  {
   "cell_type": "markdown",
   "id": "velvet-nylon",
   "metadata": {},
   "source": [
    "#### 956703932 ~ 1046454590 사이의 timestamp를 랜덤으로 선택하자."
   ]
  },
  {
   "cell_type": "code",
   "execution_count": 13,
   "id": "essential-ending",
   "metadata": {
    "scrolled": true
   },
   "outputs": [
    {
     "data": {
      "text/plain": [
       "825603     1046454590\n",
       "825731     1046454548\n",
       "825724     1046454548\n",
       "825438     1046454443\n",
       "825526     1046454320\n",
       "              ...    \n",
       "1000192     956703977\n",
       "1000007     956703977\n",
       "999873      956703954\n",
       "1000153     956703954\n",
       "1000138     956703932\n",
       "Name: timestamp, Length: 836478, dtype: int64"
      ]
     },
     "execution_count": 13,
     "metadata": {},
     "output_type": "execute_result"
    }
   ],
   "source": [
    "ratings['timestamp'].sort_values(ascending=False)"
   ]
  },
  {
   "cell_type": "markdown",
   "id": "signal-breakfast",
   "metadata": {},
   "source": [
    "___"
   ]
  },
  {
   "cell_type": "markdown",
   "id": "significant-sugar",
   "metadata": {},
   "source": [
    "(2) **movies.dat**"
   ]
  },
  {
   "cell_type": "code",
   "execution_count": 14,
   "id": "changed-eight",
   "metadata": {},
   "outputs": [
    {
     "data": {
      "text/html": [
       "<div>\n",
       "<style scoped>\n",
       "    .dataframe tbody tr th:only-of-type {\n",
       "        vertical-align: middle;\n",
       "    }\n",
       "\n",
       "    .dataframe tbody tr th {\n",
       "        vertical-align: top;\n",
       "    }\n",
       "\n",
       "    .dataframe thead th {\n",
       "        text-align: right;\n",
       "    }\n",
       "</style>\n",
       "<table border=\"1\" class=\"dataframe\">\n",
       "  <thead>\n",
       "    <tr style=\"text-align: right;\">\n",
       "      <th></th>\n",
       "      <th>movie_id</th>\n",
       "      <th>title</th>\n",
       "      <th>genre</th>\n",
       "    </tr>\n",
       "  </thead>\n",
       "  <tbody>\n",
       "    <tr>\n",
       "      <th>0</th>\n",
       "      <td>1</td>\n",
       "      <td>Toy Story (1995)</td>\n",
       "      <td>Animation|Children's|Comedy</td>\n",
       "    </tr>\n",
       "    <tr>\n",
       "      <th>1</th>\n",
       "      <td>2</td>\n",
       "      <td>Jumanji (1995)</td>\n",
       "      <td>Adventure|Children's|Fantasy</td>\n",
       "    </tr>\n",
       "    <tr>\n",
       "      <th>2</th>\n",
       "      <td>3</td>\n",
       "      <td>Grumpier Old Men (1995)</td>\n",
       "      <td>Comedy|Romance</td>\n",
       "    </tr>\n",
       "    <tr>\n",
       "      <th>3</th>\n",
       "      <td>4</td>\n",
       "      <td>Waiting to Exhale (1995)</td>\n",
       "      <td>Comedy|Drama</td>\n",
       "    </tr>\n",
       "    <tr>\n",
       "      <th>4</th>\n",
       "      <td>5</td>\n",
       "      <td>Father of the Bride Part II (1995)</td>\n",
       "      <td>Comedy</td>\n",
       "    </tr>\n",
       "  </tbody>\n",
       "</table>\n",
       "</div>"
      ],
      "text/plain": [
       "   movie_id                               title                         genre\n",
       "0         1                    Toy Story (1995)   Animation|Children's|Comedy\n",
       "1         2                      Jumanji (1995)  Adventure|Children's|Fantasy\n",
       "2         3             Grumpier Old Men (1995)                Comedy|Romance\n",
       "3         4            Waiting to Exhale (1995)                  Comedy|Drama\n",
       "4         5  Father of the Bride Part II (1995)                        Comedy"
      ]
     },
     "execution_count": 14,
     "metadata": {},
     "output_type": "execute_result"
    }
   ],
   "source": [
    "# 영화 제목을 보기 위해 메타 데이터를 읽어옵니다.\n",
    "movie_file_path=os.getenv('HOME') + '/aiffel/recommendata_iu/data/ml-1m/movies.dat'\n",
    "cols = ['movie_id', 'title', 'genre'] \n",
    "movies = pd.read_csv(movie_file_path, sep='::', names=cols, engine='python', encoding='ISO-8859-1')\n",
    "movies.head()"
   ]
  },
  {
   "cell_type": "markdown",
   "id": "normal-width",
   "metadata": {},
   "source": [
    "장르 종류"
   ]
  },
  {
   "cell_type": "code",
   "execution_count": 15,
   "id": "conceptual-fence",
   "metadata": {},
   "outputs": [
    {
     "data": {
      "text/plain": [
       "{'Action',\n",
       " 'Action|Adventure',\n",
       " 'Action|Adventure|Animation',\n",
       " \"Action|Adventure|Animation|Children's|Fantasy\",\n",
       " 'Action|Adventure|Animation|Horror|Sci-Fi',\n",
       " \"Action|Adventure|Children's\",\n",
       " \"Action|Adventure|Children's|Comedy\",\n",
       " \"Action|Adventure|Children's|Fantasy\",\n",
       " \"Action|Adventure|Children's|Sci-Fi\",\n",
       " 'Action|Adventure|Comedy',\n",
       " 'Action|Adventure|Comedy|Crime',\n",
       " 'Action|Adventure|Comedy|Horror',\n",
       " 'Action|Adventure|Comedy|Horror|Sci-Fi',\n",
       " 'Action|Adventure|Comedy|Romance',\n",
       " 'Action|Adventure|Comedy|Sci-Fi',\n",
       " 'Action|Adventure|Comedy|War',\n",
       " 'Action|Adventure|Crime',\n",
       " 'Action|Adventure|Crime|Drama',\n",
       " 'Action|Adventure|Crime|Thriller',\n",
       " 'Action|Adventure|Drama',\n",
       " 'Action|Adventure|Drama|Romance',\n",
       " 'Action|Adventure|Drama|Sci-Fi|War',\n",
       " 'Action|Adventure|Drama|Thriller',\n",
       " 'Action|Adventure|Fantasy',\n",
       " 'Action|Adventure|Fantasy|Sci-Fi',\n",
       " 'Action|Adventure|Horror',\n",
       " 'Action|Adventure|Horror|Thriller',\n",
       " 'Action|Adventure|Mystery',\n",
       " 'Action|Adventure|Mystery|Sci-Fi',\n",
       " 'Action|Adventure|Romance',\n",
       " 'Action|Adventure|Romance|Sci-Fi|War',\n",
       " 'Action|Adventure|Romance|Thriller',\n",
       " 'Action|Adventure|Romance|War',\n",
       " 'Action|Adventure|Sci-Fi',\n",
       " 'Action|Adventure|Sci-Fi|Thriller',\n",
       " 'Action|Adventure|Sci-Fi|Thriller|War',\n",
       " 'Action|Adventure|Sci-Fi|War',\n",
       " 'Action|Adventure|Thriller',\n",
       " 'Action|Adventure|War',\n",
       " 'Action|Adventure|Western',\n",
       " \"Action|Animation|Children's|Sci-Fi|Thriller|War\",\n",
       " \"Action|Children's\",\n",
       " \"Action|Children's|Fantasy\",\n",
       " 'Action|Comedy',\n",
       " 'Action|Comedy|Crime',\n",
       " 'Action|Comedy|Crime|Drama',\n",
       " 'Action|Comedy|Crime|Horror|Thriller',\n",
       " 'Action|Comedy|Drama',\n",
       " 'Action|Comedy|Fantasy',\n",
       " 'Action|Comedy|Musical',\n",
       " 'Action|Comedy|Musical|Sci-Fi',\n",
       " 'Action|Comedy|Romance|Thriller',\n",
       " 'Action|Comedy|Sci-Fi|Thriller',\n",
       " 'Action|Comedy|Sci-Fi|War',\n",
       " 'Action|Comedy|War',\n",
       " 'Action|Comedy|Western',\n",
       " 'Action|Crime',\n",
       " 'Action|Crime|Drama',\n",
       " 'Action|Crime|Drama|Thriller',\n",
       " 'Action|Crime|Mystery',\n",
       " 'Action|Crime|Mystery|Thriller',\n",
       " 'Action|Crime|Romance',\n",
       " 'Action|Crime|Sci-Fi',\n",
       " 'Action|Crime|Thriller',\n",
       " 'Action|Drama',\n",
       " 'Action|Drama|Fantasy|Romance',\n",
       " 'Action|Drama|Mystery',\n",
       " 'Action|Drama|Mystery|Romance|Thriller',\n",
       " 'Action|Drama|Romance',\n",
       " 'Action|Drama|Romance|Thriller',\n",
       " 'Action|Drama|Sci-Fi|Thriller',\n",
       " 'Action|Drama|Thriller',\n",
       " 'Action|Drama|Thriller|War',\n",
       " 'Action|Drama|War',\n",
       " 'Action|Drama|Western',\n",
       " 'Action|Horror',\n",
       " 'Action|Horror|Sci-Fi',\n",
       " 'Action|Horror|Sci-Fi|Thriller',\n",
       " 'Action|Horror|Thriller',\n",
       " 'Action|Mystery|Romance|Thriller',\n",
       " 'Action|Mystery|Sci-Fi|Thriller',\n",
       " 'Action|Mystery|Thriller',\n",
       " 'Action|Romance',\n",
       " 'Action|Romance|Sci-Fi',\n",
       " 'Action|Romance|Thriller',\n",
       " 'Action|Romance|War',\n",
       " 'Action|Sci-Fi',\n",
       " 'Action|Sci-Fi|Thriller',\n",
       " 'Action|Sci-Fi|Thriller|War',\n",
       " 'Action|Sci-Fi|Thriller|Western',\n",
       " 'Action|Sci-Fi|War',\n",
       " 'Action|Sci-Fi|Western',\n",
       " 'Action|Thriller',\n",
       " 'Action|Thriller|War',\n",
       " 'Action|War',\n",
       " 'Action|Western',\n",
       " 'Adventure',\n",
       " \"Adventure|Animation|Children's\",\n",
       " \"Adventure|Animation|Children's|Comedy|Fantasy\",\n",
       " \"Adventure|Animation|Children's|Comedy|Musical\",\n",
       " \"Adventure|Animation|Children's|Fantasy\",\n",
       " \"Adventure|Animation|Children's|Musical\",\n",
       " \"Adventure|Animation|Children's|Sci-Fi\",\n",
       " 'Adventure|Animation|Film-Noir',\n",
       " 'Adventure|Animation|Sci-Fi',\n",
       " 'Adventure|Animation|Sci-Fi|Thriller',\n",
       " \"Adventure|Children's\",\n",
       " \"Adventure|Children's|Comedy\",\n",
       " \"Adventure|Children's|Comedy|Fantasy\",\n",
       " \"Adventure|Children's|Comedy|Fantasy|Romance\",\n",
       " \"Adventure|Children's|Comedy|Fantasy|Sci-Fi\",\n",
       " \"Adventure|Children's|Comedy|Musical\",\n",
       " \"Adventure|Children's|Drama\",\n",
       " \"Adventure|Children's|Drama|Musical\",\n",
       " \"Adventure|Children's|Drama|Romance\",\n",
       " \"Adventure|Children's|Fantasy\",\n",
       " \"Adventure|Children's|Fantasy|Sci-Fi\",\n",
       " \"Adventure|Children's|Musical\",\n",
       " \"Adventure|Children's|Romance\",\n",
       " \"Adventure|Children's|Sci-Fi\",\n",
       " 'Adventure|Comedy',\n",
       " 'Adventure|Comedy|Drama',\n",
       " 'Adventure|Comedy|Musical',\n",
       " 'Adventure|Comedy|Romance',\n",
       " 'Adventure|Comedy|Sci-Fi',\n",
       " 'Adventure|Crime|Sci-Fi|Thriller',\n",
       " 'Adventure|Drama',\n",
       " 'Adventure|Drama|Romance',\n",
       " 'Adventure|Drama|Romance|Sci-Fi',\n",
       " 'Adventure|Drama|Thriller',\n",
       " 'Adventure|Drama|Western',\n",
       " 'Adventure|Fantasy',\n",
       " 'Adventure|Fantasy|Romance',\n",
       " 'Adventure|Fantasy|Sci-Fi',\n",
       " 'Adventure|Musical',\n",
       " 'Adventure|Musical|Romance',\n",
       " 'Adventure|Romance',\n",
       " 'Adventure|Romance|Sci-Fi',\n",
       " 'Adventure|Sci-Fi',\n",
       " 'Adventure|Sci-Fi|Thriller',\n",
       " 'Adventure|Thriller',\n",
       " 'Adventure|War',\n",
       " 'Adventure|Western',\n",
       " 'Animation',\n",
       " \"Animation|Children's\",\n",
       " \"Animation|Children's|Comedy\",\n",
       " \"Animation|Children's|Comedy|Musical\",\n",
       " \"Animation|Children's|Comedy|Musical|Romance\",\n",
       " \"Animation|Children's|Comedy|Romance\",\n",
       " \"Animation|Children's|Drama|Fantasy\",\n",
       " \"Animation|Children's|Fantasy|Musical\",\n",
       " \"Animation|Children's|Fantasy|War\",\n",
       " \"Animation|Children's|Musical\",\n",
       " \"Animation|Children's|Musical|Romance\",\n",
       " 'Animation|Comedy',\n",
       " 'Animation|Comedy|Thriller',\n",
       " 'Animation|Musical',\n",
       " 'Animation|Mystery',\n",
       " 'Animation|Sci-Fi',\n",
       " \"Children's\",\n",
       " \"Children's|Comedy\",\n",
       " \"Children's|Comedy|Drama\",\n",
       " \"Children's|Comedy|Fantasy\",\n",
       " \"Children's|Comedy|Musical\",\n",
       " \"Children's|Comedy|Mystery\",\n",
       " \"Children's|Comedy|Sci-Fi\",\n",
       " \"Children's|Comedy|Western\",\n",
       " \"Children's|Drama\",\n",
       " \"Children's|Drama|Fantasy\",\n",
       " \"Children's|Drama|Fantasy|Sci-Fi\",\n",
       " \"Children's|Fantasy\",\n",
       " \"Children's|Fantasy|Musical\",\n",
       " \"Children's|Fantasy|Sci-Fi\",\n",
       " \"Children's|Horror\",\n",
       " \"Children's|Musical\",\n",
       " \"Children's|Sci-Fi\",\n",
       " 'Comedy',\n",
       " 'Comedy|Crime',\n",
       " 'Comedy|Crime|Drama',\n",
       " 'Comedy|Crime|Drama|Mystery',\n",
       " 'Comedy|Crime|Fantasy',\n",
       " 'Comedy|Crime|Horror',\n",
       " 'Comedy|Crime|Mystery|Thriller',\n",
       " 'Comedy|Crime|Thriller',\n",
       " 'Comedy|Documentary',\n",
       " 'Comedy|Drama',\n",
       " 'Comedy|Drama|Musical',\n",
       " 'Comedy|Drama|Romance',\n",
       " 'Comedy|Drama|Sci-Fi',\n",
       " 'Comedy|Drama|Thriller',\n",
       " 'Comedy|Drama|War',\n",
       " 'Comedy|Drama|Western',\n",
       " 'Comedy|Fantasy',\n",
       " 'Comedy|Fantasy|Romance',\n",
       " 'Comedy|Fantasy|Romance|Sci-Fi',\n",
       " 'Comedy|Film-Noir|Thriller',\n",
       " 'Comedy|Horror',\n",
       " 'Comedy|Horror|Musical',\n",
       " 'Comedy|Horror|Musical|Sci-Fi',\n",
       " 'Comedy|Horror|Sci-Fi',\n",
       " 'Comedy|Horror|Thriller',\n",
       " 'Comedy|Musical',\n",
       " 'Comedy|Musical|Romance',\n",
       " 'Comedy|Mystery',\n",
       " 'Comedy|Mystery|Romance',\n",
       " 'Comedy|Mystery|Romance|Thriller',\n",
       " 'Comedy|Mystery|Thriller',\n",
       " 'Comedy|Romance',\n",
       " 'Comedy|Romance|Sci-Fi',\n",
       " 'Comedy|Romance|Thriller',\n",
       " 'Comedy|Romance|War',\n",
       " 'Comedy|Sci-Fi',\n",
       " 'Comedy|Sci-Fi|Western',\n",
       " 'Comedy|Thriller',\n",
       " 'Comedy|War',\n",
       " 'Comedy|Western',\n",
       " 'Crime',\n",
       " 'Crime|Drama',\n",
       " 'Crime|Drama|Film-Noir',\n",
       " 'Crime|Drama|Film-Noir|Thriller',\n",
       " 'Crime|Drama|Mystery',\n",
       " 'Crime|Drama|Mystery|Thriller',\n",
       " 'Crime|Drama|Romance',\n",
       " 'Crime|Drama|Romance|Thriller',\n",
       " 'Crime|Drama|Sci-Fi',\n",
       " 'Crime|Drama|Thriller',\n",
       " 'Crime|Film-Noir',\n",
       " 'Crime|Film-Noir|Mystery',\n",
       " 'Crime|Film-Noir|Mystery|Thriller',\n",
       " 'Crime|Film-Noir|Thriller',\n",
       " 'Crime|Horror',\n",
       " 'Crime|Horror|Mystery|Thriller',\n",
       " 'Crime|Horror|Thriller',\n",
       " 'Crime|Mystery',\n",
       " 'Crime|Thriller',\n",
       " 'Documentary',\n",
       " 'Documentary|Drama',\n",
       " 'Documentary|Musical',\n",
       " 'Documentary|War',\n",
       " 'Drama',\n",
       " 'Drama|Fantasy',\n",
       " 'Drama|Fantasy|Romance|Thriller',\n",
       " 'Drama|Film-Noir',\n",
       " 'Drama|Film-Noir|Thriller',\n",
       " 'Drama|Horror',\n",
       " 'Drama|Horror|Thriller',\n",
       " 'Drama|Musical',\n",
       " 'Drama|Musical|War',\n",
       " 'Drama|Mystery',\n",
       " 'Drama|Mystery|Romance',\n",
       " 'Drama|Mystery|Sci-Fi|Thriller',\n",
       " 'Drama|Mystery|Thriller',\n",
       " 'Drama|Romance',\n",
       " 'Drama|Romance|Sci-Fi',\n",
       " 'Drama|Romance|Thriller',\n",
       " 'Drama|Romance|War',\n",
       " 'Drama|Romance|War|Western',\n",
       " 'Drama|Romance|Western',\n",
       " 'Drama|Sci-Fi',\n",
       " 'Drama|Sci-Fi|Thriller',\n",
       " 'Drama|Thriller',\n",
       " 'Drama|Thriller|War',\n",
       " 'Drama|War',\n",
       " 'Drama|Western',\n",
       " 'Fantasy',\n",
       " 'Fantasy|Sci-Fi',\n",
       " 'Film-Noir',\n",
       " 'Film-Noir|Horror',\n",
       " 'Film-Noir|Mystery',\n",
       " 'Film-Noir|Mystery|Thriller',\n",
       " 'Film-Noir|Romance|Thriller',\n",
       " 'Film-Noir|Sci-Fi',\n",
       " 'Film-Noir|Sci-Fi|Thriller',\n",
       " 'Film-Noir|Thriller',\n",
       " 'Horror',\n",
       " 'Horror|Mystery',\n",
       " 'Horror|Mystery|Thriller',\n",
       " 'Horror|Romance',\n",
       " 'Horror|Sci-Fi',\n",
       " 'Horror|Sci-Fi|Thriller',\n",
       " 'Horror|Thriller',\n",
       " 'Musical',\n",
       " 'Musical|Romance',\n",
       " 'Musical|Romance|War',\n",
       " 'Musical|War',\n",
       " 'Mystery',\n",
       " 'Mystery|Romance|Thriller',\n",
       " 'Mystery|Sci-Fi',\n",
       " 'Mystery|Sci-Fi|Thriller',\n",
       " 'Mystery|Thriller',\n",
       " 'Romance',\n",
       " 'Romance|Thriller',\n",
       " 'Romance|War',\n",
       " 'Romance|Western',\n",
       " 'Sci-Fi',\n",
       " 'Sci-Fi|Thriller',\n",
       " 'Sci-Fi|Thriller|War',\n",
       " 'Sci-Fi|War',\n",
       " 'Thriller',\n",
       " 'War',\n",
       " 'Western'}"
      ]
     },
     "execution_count": 15,
     "metadata": {},
     "output_type": "execute_result"
    }
   ],
   "source": [
    "set(movies['genre'])"
   ]
  },
  {
   "cell_type": "markdown",
   "id": "motivated-clerk",
   "metadata": {},
   "source": [
    "데이터 접근이 쉽게 'title','genre'를 **소문자**로 변경"
   ]
  },
  {
   "cell_type": "code",
   "execution_count": 16,
   "id": "global-heaven",
   "metadata": {
    "scrolled": true
   },
   "outputs": [
    {
     "data": {
      "text/html": [
       "<div>\n",
       "<style scoped>\n",
       "    .dataframe tbody tr th:only-of-type {\n",
       "        vertical-align: middle;\n",
       "    }\n",
       "\n",
       "    .dataframe tbody tr th {\n",
       "        vertical-align: top;\n",
       "    }\n",
       "\n",
       "    .dataframe thead th {\n",
       "        text-align: right;\n",
       "    }\n",
       "</style>\n",
       "<table border=\"1\" class=\"dataframe\">\n",
       "  <thead>\n",
       "    <tr style=\"text-align: right;\">\n",
       "      <th></th>\n",
       "      <th>movie_id</th>\n",
       "      <th>title</th>\n",
       "      <th>genre</th>\n",
       "    </tr>\n",
       "  </thead>\n",
       "  <tbody>\n",
       "    <tr>\n",
       "      <th>0</th>\n",
       "      <td>1</td>\n",
       "      <td>toy story (1995)</td>\n",
       "      <td>animation|children's|comedy</td>\n",
       "    </tr>\n",
       "    <tr>\n",
       "      <th>1</th>\n",
       "      <td>2</td>\n",
       "      <td>jumanji (1995)</td>\n",
       "      <td>adventure|children's|fantasy</td>\n",
       "    </tr>\n",
       "    <tr>\n",
       "      <th>2</th>\n",
       "      <td>3</td>\n",
       "      <td>grumpier old men (1995)</td>\n",
       "      <td>comedy|romance</td>\n",
       "    </tr>\n",
       "    <tr>\n",
       "      <th>3</th>\n",
       "      <td>4</td>\n",
       "      <td>waiting to exhale (1995)</td>\n",
       "      <td>comedy|drama</td>\n",
       "    </tr>\n",
       "    <tr>\n",
       "      <th>4</th>\n",
       "      <td>5</td>\n",
       "      <td>father of the bride part ii (1995)</td>\n",
       "      <td>comedy</td>\n",
       "    </tr>\n",
       "    <tr>\n",
       "      <th>...</th>\n",
       "      <td>...</td>\n",
       "      <td>...</td>\n",
       "      <td>...</td>\n",
       "    </tr>\n",
       "    <tr>\n",
       "      <th>3878</th>\n",
       "      <td>3948</td>\n",
       "      <td>meet the parents (2000)</td>\n",
       "      <td>comedy</td>\n",
       "    </tr>\n",
       "    <tr>\n",
       "      <th>3879</th>\n",
       "      <td>3949</td>\n",
       "      <td>requiem for a dream (2000)</td>\n",
       "      <td>drama</td>\n",
       "    </tr>\n",
       "    <tr>\n",
       "      <th>3880</th>\n",
       "      <td>3950</td>\n",
       "      <td>tigerland (2000)</td>\n",
       "      <td>drama</td>\n",
       "    </tr>\n",
       "    <tr>\n",
       "      <th>3881</th>\n",
       "      <td>3951</td>\n",
       "      <td>two family house (2000)</td>\n",
       "      <td>drama</td>\n",
       "    </tr>\n",
       "    <tr>\n",
       "      <th>3882</th>\n",
       "      <td>3952</td>\n",
       "      <td>contender, the (2000)</td>\n",
       "      <td>drama|thriller</td>\n",
       "    </tr>\n",
       "  </tbody>\n",
       "</table>\n",
       "<p>3883 rows × 3 columns</p>\n",
       "</div>"
      ],
      "text/plain": [
       "      movie_id                               title  \\\n",
       "0            1                    toy story (1995)   \n",
       "1            2                      jumanji (1995)   \n",
       "2            3             grumpier old men (1995)   \n",
       "3            4            waiting to exhale (1995)   \n",
       "4            5  father of the bride part ii (1995)   \n",
       "...        ...                                 ...   \n",
       "3878      3948             meet the parents (2000)   \n",
       "3879      3949          requiem for a dream (2000)   \n",
       "3880      3950                    tigerland (2000)   \n",
       "3881      3951             two family house (2000)   \n",
       "3882      3952               contender, the (2000)   \n",
       "\n",
       "                             genre  \n",
       "0      animation|children's|comedy  \n",
       "1     adventure|children's|fantasy  \n",
       "2                   comedy|romance  \n",
       "3                     comedy|drama  \n",
       "4                           comedy  \n",
       "...                            ...  \n",
       "3878                        comedy  \n",
       "3879                         drama  \n",
       "3880                         drama  \n",
       "3881                         drama  \n",
       "3882                drama|thriller  \n",
       "\n",
       "[3883 rows x 3 columns]"
      ]
     },
     "execution_count": 16,
     "metadata": {},
     "output_type": "execute_result"
    }
   ],
   "source": [
    "movies['title'] = movies['title'].str.lower()\n",
    "movies['genre'] = movies['genre'].str.lower()\n",
    "movies"
   ]
  },
  {
   "cell_type": "markdown",
   "id": "noted-channels",
   "metadata": {},
   "source": [
    "movie 검색해보기"
   ]
  },
  {
   "cell_type": "markdown",
   "id": "coated-participant",
   "metadata": {},
   "source": [
    "연도까지 입력해야 해서 불편"
   ]
  },
  {
   "cell_type": "code",
   "execution_count": 17,
   "id": "healthy-roberts",
   "metadata": {
    "scrolled": true
   },
   "outputs": [
    {
     "data": {
      "text/html": [
       "<div>\n",
       "<style scoped>\n",
       "    .dataframe tbody tr th:only-of-type {\n",
       "        vertical-align: middle;\n",
       "    }\n",
       "\n",
       "    .dataframe tbody tr th {\n",
       "        vertical-align: top;\n",
       "    }\n",
       "\n",
       "    .dataframe thead th {\n",
       "        text-align: right;\n",
       "    }\n",
       "</style>\n",
       "<table border=\"1\" class=\"dataframe\">\n",
       "  <thead>\n",
       "    <tr style=\"text-align: right;\">\n",
       "      <th></th>\n",
       "      <th>movie_id</th>\n",
       "      <th>title</th>\n",
       "      <th>genre</th>\n",
       "    </tr>\n",
       "  </thead>\n",
       "  <tbody>\n",
       "    <tr>\n",
       "      <th>3045</th>\n",
       "      <td>3114</td>\n",
       "      <td>toy story 2 (1999)</td>\n",
       "      <td>animation|children's|comedy</td>\n",
       "    </tr>\n",
       "  </tbody>\n",
       "</table>\n",
       "</div>"
      ],
      "text/plain": [
       "      movie_id               title                        genre\n",
       "3045      3114  toy story 2 (1999)  animation|children's|comedy"
      ]
     },
     "execution_count": 17,
     "metadata": {},
     "output_type": "execute_result"
    }
   ],
   "source": [
    "movies.loc[movies['title'] == 'toy story 2 (1999)']"
   ]
  },
  {
   "cell_type": "code",
   "execution_count": 18,
   "id": "prerequisite-trunk",
   "metadata": {
    "scrolled": true
   },
   "outputs": [
    {
     "data": {
      "text/html": [
       "<div>\n",
       "<style scoped>\n",
       "    .dataframe tbody tr th:only-of-type {\n",
       "        vertical-align: middle;\n",
       "    }\n",
       "\n",
       "    .dataframe tbody tr th {\n",
       "        vertical-align: top;\n",
       "    }\n",
       "\n",
       "    .dataframe thead th {\n",
       "        text-align: right;\n",
       "    }\n",
       "</style>\n",
       "<table border=\"1\" class=\"dataframe\">\n",
       "  <thead>\n",
       "    <tr style=\"text-align: right;\">\n",
       "      <th></th>\n",
       "      <th>movie_id</th>\n",
       "      <th>title</th>\n",
       "      <th>genre</th>\n",
       "    </tr>\n",
       "  </thead>\n",
       "  <tbody>\n",
       "    <tr>\n",
       "      <th>0</th>\n",
       "      <td>1</td>\n",
       "      <td>toy story (1995)</td>\n",
       "      <td>animation|children's|comedy</td>\n",
       "    </tr>\n",
       "    <tr>\n",
       "      <th>3045</th>\n",
       "      <td>3114</td>\n",
       "      <td>toy story 2 (1999)</td>\n",
       "      <td>animation|children's|comedy</td>\n",
       "    </tr>\n",
       "  </tbody>\n",
       "</table>\n",
       "</div>"
      ],
      "text/plain": [
       "      movie_id               title                        genre\n",
       "0            1    toy story (1995)  animation|children's|comedy\n",
       "3045      3114  toy story 2 (1999)  animation|children's|comedy"
      ]
     },
     "execution_count": 18,
     "metadata": {},
     "output_type": "execute_result"
    }
   ],
   "source": [
    "movies.loc[movies['title'].str.contains('toy story')]"
   ]
  },
  {
   "cell_type": "markdown",
   "id": "sporting-hanging",
   "metadata": {},
   "source": [
    "#### 내가 좋아하는 영화 검색"
   ]
  },
  {
   "cell_type": "markdown",
   "id": "amino-adult",
   "metadata": {},
   "source": [
    "count도 임의로 설정한다."
   ]
  },
  {
   "cell_type": "markdown",
   "id": "valid-advance",
   "metadata": {},
   "source": [
    "1. Seven(1995) - id : 47, count = 5"
   ]
  },
  {
   "cell_type": "code",
   "execution_count": 19,
   "id": "greater-event",
   "metadata": {
    "scrolled": true
   },
   "outputs": [
    {
     "data": {
      "text/html": [
       "<div>\n",
       "<style scoped>\n",
       "    .dataframe tbody tr th:only-of-type {\n",
       "        vertical-align: middle;\n",
       "    }\n",
       "\n",
       "    .dataframe tbody tr th {\n",
       "        vertical-align: top;\n",
       "    }\n",
       "\n",
       "    .dataframe thead th {\n",
       "        text-align: right;\n",
       "    }\n",
       "</style>\n",
       "<table border=\"1\" class=\"dataframe\">\n",
       "  <thead>\n",
       "    <tr style=\"text-align: right;\">\n",
       "      <th></th>\n",
       "      <th>movie_id</th>\n",
       "      <th>title</th>\n",
       "      <th>genre</th>\n",
       "    </tr>\n",
       "  </thead>\n",
       "  <tbody>\n",
       "    <tr>\n",
       "      <th>46</th>\n",
       "      <td>47</td>\n",
       "      <td>seven (se7en) (1995)</td>\n",
       "      <td>crime|thriller</td>\n",
       "    </tr>\n",
       "    <tr>\n",
       "      <th>590</th>\n",
       "      <td>594</td>\n",
       "      <td>snow white and the seven dwarfs (1937)</td>\n",
       "      <td>animation|children's|musical</td>\n",
       "    </tr>\n",
       "    <tr>\n",
       "      <th>1218</th>\n",
       "      <td>1237</td>\n",
       "      <td>seventh seal, the (sjunde inseglet, det) (1957)</td>\n",
       "      <td>drama</td>\n",
       "    </tr>\n",
       "    <tr>\n",
       "      <th>1576</th>\n",
       "      <td>1619</td>\n",
       "      <td>seven years in tibet (1997)</td>\n",
       "      <td>drama|war</td>\n",
       "    </tr>\n",
       "    <tr>\n",
       "      <th>1825</th>\n",
       "      <td>1894</td>\n",
       "      <td>six days seven nights (1998)</td>\n",
       "      <td>adventure|comedy|romance</td>\n",
       "    </tr>\n",
       "    <tr>\n",
       "      <th>1950</th>\n",
       "      <td>2019</td>\n",
       "      <td>seven samurai (the magnificent seven) (shichin...</td>\n",
       "      <td>action|drama</td>\n",
       "    </tr>\n",
       "    <tr>\n",
       "      <th>1994</th>\n",
       "      <td>2063</td>\n",
       "      <td>seventh heaven (le septième ciel) (1997)</td>\n",
       "      <td>drama|romance</td>\n",
       "    </tr>\n",
       "    <tr>\n",
       "      <th>2145</th>\n",
       "      <td>2214</td>\n",
       "      <td>number seventeen (1932)</td>\n",
       "      <td>thriller</td>\n",
       "    </tr>\n",
       "    <tr>\n",
       "      <th>2169</th>\n",
       "      <td>2238</td>\n",
       "      <td>seven beauties (pasqualino settebellezze) (1976)</td>\n",
       "      <td>comedy|drama</td>\n",
       "    </tr>\n",
       "    <tr>\n",
       "      <th>2194</th>\n",
       "      <td>2263</td>\n",
       "      <td>seventh sign, the (1988)</td>\n",
       "      <td>thriller</td>\n",
       "    </tr>\n",
       "    <tr>\n",
       "      <th>2375</th>\n",
       "      <td>2444</td>\n",
       "      <td>24 7: twenty four seven (1997)</td>\n",
       "      <td>comedy|drama</td>\n",
       "    </tr>\n",
       "    <tr>\n",
       "      <th>2557</th>\n",
       "      <td>2626</td>\n",
       "      <td>edge of seventeen (1998)</td>\n",
       "      <td>comedy|drama|romance</td>\n",
       "    </tr>\n",
       "    <tr>\n",
       "      <th>3163</th>\n",
       "      <td>3232</td>\n",
       "      <td>seven chances (1925)</td>\n",
       "      <td>comedy</td>\n",
       "    </tr>\n",
       "    <tr>\n",
       "      <th>3565</th>\n",
       "      <td>3634</td>\n",
       "      <td>seven days in may (1964)</td>\n",
       "      <td>thriller</td>\n",
       "    </tr>\n",
       "  </tbody>\n",
       "</table>\n",
       "</div>"
      ],
      "text/plain": [
       "      movie_id                                              title  \\\n",
       "46          47                               seven (se7en) (1995)   \n",
       "590        594             snow white and the seven dwarfs (1937)   \n",
       "1218      1237    seventh seal, the (sjunde inseglet, det) (1957)   \n",
       "1576      1619                        seven years in tibet (1997)   \n",
       "1825      1894                       six days seven nights (1998)   \n",
       "1950      2019  seven samurai (the magnificent seven) (shichin...   \n",
       "1994      2063           seventh heaven (le septième ciel) (1997)   \n",
       "2145      2214                            number seventeen (1932)   \n",
       "2169      2238   seven beauties (pasqualino settebellezze) (1976)   \n",
       "2194      2263                           seventh sign, the (1988)   \n",
       "2375      2444                     24 7: twenty four seven (1997)   \n",
       "2557      2626                           edge of seventeen (1998)   \n",
       "3163      3232                               seven chances (1925)   \n",
       "3565      3634                           seven days in may (1964)   \n",
       "\n",
       "                             genre  \n",
       "46                  crime|thriller  \n",
       "590   animation|children's|musical  \n",
       "1218                         drama  \n",
       "1576                     drama|war  \n",
       "1825      adventure|comedy|romance  \n",
       "1950                  action|drama  \n",
       "1994                 drama|romance  \n",
       "2145                      thriller  \n",
       "2169                  comedy|drama  \n",
       "2194                      thriller  \n",
       "2375                  comedy|drama  \n",
       "2557          comedy|drama|romance  \n",
       "3163                        comedy  \n",
       "3565                      thriller  "
      ]
     },
     "execution_count": 19,
     "metadata": {},
     "output_type": "execute_result"
    }
   ],
   "source": [
    "movies.loc[movies['title'].str.contains('seven')]"
   ]
  },
  {
   "cell_type": "markdown",
   "id": "necessary-quest",
   "metadata": {},
   "source": [
    "2. Mission : Impossible(1996) - id : 648, count = 5"
   ]
  },
  {
   "cell_type": "code",
   "execution_count": 20,
   "id": "clean-incidence",
   "metadata": {},
   "outputs": [
    {
     "data": {
      "text/html": [
       "<div>\n",
       "<style scoped>\n",
       "    .dataframe tbody tr th:only-of-type {\n",
       "        vertical-align: middle;\n",
       "    }\n",
       "\n",
       "    .dataframe tbody tr th {\n",
       "        vertical-align: top;\n",
       "    }\n",
       "\n",
       "    .dataframe thead th {\n",
       "        text-align: right;\n",
       "    }\n",
       "</style>\n",
       "<table border=\"1\" class=\"dataframe\">\n",
       "  <thead>\n",
       "    <tr style=\"text-align: right;\">\n",
       "      <th></th>\n",
       "      <th>movie_id</th>\n",
       "      <th>title</th>\n",
       "      <th>genre</th>\n",
       "    </tr>\n",
       "  </thead>\n",
       "  <tbody>\n",
       "    <tr>\n",
       "      <th>642</th>\n",
       "      <td>648</td>\n",
       "      <td>mission: impossible (1996)</td>\n",
       "      <td>action|adventure|mystery</td>\n",
       "    </tr>\n",
       "    <tr>\n",
       "      <th>2676</th>\n",
       "      <td>2745</td>\n",
       "      <td>mission, the (1986)</td>\n",
       "      <td>drama</td>\n",
       "    </tr>\n",
       "    <tr>\n",
       "      <th>3285</th>\n",
       "      <td>3354</td>\n",
       "      <td>mission to mars (2000)</td>\n",
       "      <td>sci-fi</td>\n",
       "    </tr>\n",
       "    <tr>\n",
       "      <th>3554</th>\n",
       "      <td>3623</td>\n",
       "      <td>mission: impossible 2 (2000)</td>\n",
       "      <td>action|thriller</td>\n",
       "    </tr>\n",
       "    <tr>\n",
       "      <th>3817</th>\n",
       "      <td>3887</td>\n",
       "      <td>went to coney island on a mission from god... ...</td>\n",
       "      <td>drama</td>\n",
       "    </tr>\n",
       "  </tbody>\n",
       "</table>\n",
       "</div>"
      ],
      "text/plain": [
       "      movie_id                                              title  \\\n",
       "642        648                         mission: impossible (1996)   \n",
       "2676      2745                                mission, the (1986)   \n",
       "3285      3354                             mission to mars (2000)   \n",
       "3554      3623                       mission: impossible 2 (2000)   \n",
       "3817      3887  went to coney island on a mission from god... ...   \n",
       "\n",
       "                         genre  \n",
       "642   action|adventure|mystery  \n",
       "2676                     drama  \n",
       "3285                    sci-fi  \n",
       "3554           action|thriller  \n",
       "3817                     drama  "
      ]
     },
     "execution_count": 20,
     "metadata": {},
     "output_type": "execute_result"
    }
   ],
   "source": [
    "movies.loc[movies['title'].str.contains('mission')]"
   ]
  },
  {
   "cell_type": "markdown",
   "id": "working-douglas",
   "metadata": {},
   "source": [
    "3. Toy Story (1995) - id : 1, count = 5"
   ]
  },
  {
   "cell_type": "code",
   "execution_count": 21,
   "id": "circular-declaration",
   "metadata": {},
   "outputs": [
    {
     "data": {
      "text/html": [
       "<div>\n",
       "<style scoped>\n",
       "    .dataframe tbody tr th:only-of-type {\n",
       "        vertical-align: middle;\n",
       "    }\n",
       "\n",
       "    .dataframe tbody tr th {\n",
       "        vertical-align: top;\n",
       "    }\n",
       "\n",
       "    .dataframe thead th {\n",
       "        text-align: right;\n",
       "    }\n",
       "</style>\n",
       "<table border=\"1\" class=\"dataframe\">\n",
       "  <thead>\n",
       "    <tr style=\"text-align: right;\">\n",
       "      <th></th>\n",
       "      <th>movie_id</th>\n",
       "      <th>title</th>\n",
       "      <th>genre</th>\n",
       "    </tr>\n",
       "  </thead>\n",
       "  <tbody>\n",
       "    <tr>\n",
       "      <th>0</th>\n",
       "      <td>1</td>\n",
       "      <td>toy story (1995)</td>\n",
       "      <td>animation|children's|comedy</td>\n",
       "    </tr>\n",
       "    <tr>\n",
       "      <th>3045</th>\n",
       "      <td>3114</td>\n",
       "      <td>toy story 2 (1999)</td>\n",
       "      <td>animation|children's|comedy</td>\n",
       "    </tr>\n",
       "  </tbody>\n",
       "</table>\n",
       "</div>"
      ],
      "text/plain": [
       "      movie_id               title                        genre\n",
       "0            1    toy story (1995)  animation|children's|comedy\n",
       "3045      3114  toy story 2 (1999)  animation|children's|comedy"
      ]
     },
     "execution_count": 21,
     "metadata": {},
     "output_type": "execute_result"
    }
   ],
   "source": [
    "movies.loc[movies['title'].str.contains('toy story')]"
   ]
  },
  {
   "cell_type": "markdown",
   "id": "entertaining-alexander",
   "metadata": {},
   "source": [
    "4. The Silence of the Lambs (1991) - id : 593, count = 5"
   ]
  },
  {
   "cell_type": "code",
   "execution_count": 22,
   "id": "referenced-entry",
   "metadata": {},
   "outputs": [
    {
     "data": {
      "text/html": [
       "<div>\n",
       "<style scoped>\n",
       "    .dataframe tbody tr th:only-of-type {\n",
       "        vertical-align: middle;\n",
       "    }\n",
       "\n",
       "    .dataframe tbody tr th {\n",
       "        vertical-align: top;\n",
       "    }\n",
       "\n",
       "    .dataframe thead th {\n",
       "        text-align: right;\n",
       "    }\n",
       "</style>\n",
       "<table border=\"1\" class=\"dataframe\">\n",
       "  <thead>\n",
       "    <tr style=\"text-align: right;\">\n",
       "      <th></th>\n",
       "      <th>movie_id</th>\n",
       "      <th>title</th>\n",
       "      <th>genre</th>\n",
       "    </tr>\n",
       "  </thead>\n",
       "  <tbody>\n",
       "    <tr>\n",
       "      <th>589</th>\n",
       "      <td>593</td>\n",
       "      <td>silence of the lambs, the (1991)</td>\n",
       "      <td>drama|thriller</td>\n",
       "    </tr>\n",
       "  </tbody>\n",
       "</table>\n",
       "</div>"
      ],
      "text/plain": [
       "     movie_id                             title           genre\n",
       "589       593  silence of the lambs, the (1991)  drama|thriller"
      ]
     },
     "execution_count": 22,
     "metadata": {},
     "output_type": "execute_result"
    }
   ],
   "source": [
    "movies.loc[movies['title'].str.contains('lambs')]"
   ]
  },
  {
   "cell_type": "markdown",
   "id": "comic-cement",
   "metadata": {},
   "source": [
    "5. Fight Club (1999) - id : 2959, count = 4"
   ]
  },
  {
   "cell_type": "code",
   "execution_count": 23,
   "id": "buried-newark",
   "metadata": {
    "scrolled": true
   },
   "outputs": [
    {
     "data": {
      "text/html": [
       "<div>\n",
       "<style scoped>\n",
       "    .dataframe tbody tr th:only-of-type {\n",
       "        vertical-align: middle;\n",
       "    }\n",
       "\n",
       "    .dataframe tbody tr th {\n",
       "        vertical-align: top;\n",
       "    }\n",
       "\n",
       "    .dataframe thead th {\n",
       "        text-align: right;\n",
       "    }\n",
       "</style>\n",
       "<table border=\"1\" class=\"dataframe\">\n",
       "  <thead>\n",
       "    <tr style=\"text-align: right;\">\n",
       "      <th></th>\n",
       "      <th>movie_id</th>\n",
       "      <th>title</th>\n",
       "      <th>genre</th>\n",
       "    </tr>\n",
       "  </thead>\n",
       "  <tbody>\n",
       "    <tr>\n",
       "      <th>389</th>\n",
       "      <td>393</td>\n",
       "      <td>street fighter (1994)</td>\n",
       "      <td>action</td>\n",
       "    </tr>\n",
       "    <tr>\n",
       "      <th>1840</th>\n",
       "      <td>1909</td>\n",
       "      <td>x-files: fight the future, the (1998)</td>\n",
       "      <td>mystery|sci-fi|thriller</td>\n",
       "    </tr>\n",
       "    <tr>\n",
       "      <th>2890</th>\n",
       "      <td>2959</td>\n",
       "      <td>fight club (1999)</td>\n",
       "      <td>drama</td>\n",
       "    </tr>\n",
       "    <tr>\n",
       "      <th>3574</th>\n",
       "      <td>3643</td>\n",
       "      <td>fighting seabees, the (1944)</td>\n",
       "      <td>action|drama|war</td>\n",
       "    </tr>\n",
       "    <tr>\n",
       "      <th>3845</th>\n",
       "      <td>3915</td>\n",
       "      <td>girlfight (2000)</td>\n",
       "      <td>drama</td>\n",
       "    </tr>\n",
       "  </tbody>\n",
       "</table>\n",
       "</div>"
      ],
      "text/plain": [
       "      movie_id                                  title                    genre\n",
       "389        393                  street fighter (1994)                   action\n",
       "1840      1909  x-files: fight the future, the (1998)  mystery|sci-fi|thriller\n",
       "2890      2959                      fight club (1999)                    drama\n",
       "3574      3643           fighting seabees, the (1944)         action|drama|war\n",
       "3845      3915                       girlfight (2000)                    drama"
      ]
     },
     "execution_count": 23,
     "metadata": {},
     "output_type": "execute_result"
    }
   ],
   "source": [
    "movies.loc[movies['title'].str.contains('fight')]"
   ]
  },
  {
   "cell_type": "markdown",
   "id": "documented-occupation",
   "metadata": {},
   "source": [
    "(3) **ratings + movies**"
   ]
  },
  {
   "cell_type": "code",
   "execution_count": 24,
   "id": "danish-password",
   "metadata": {},
   "outputs": [
    {
     "data": {
      "text/html": [
       "<div>\n",
       "<style scoped>\n",
       "    .dataframe tbody tr th:only-of-type {\n",
       "        vertical-align: middle;\n",
       "    }\n",
       "\n",
       "    .dataframe tbody tr th {\n",
       "        vertical-align: top;\n",
       "    }\n",
       "\n",
       "    .dataframe thead th {\n",
       "        text-align: right;\n",
       "    }\n",
       "</style>\n",
       "<table border=\"1\" class=\"dataframe\">\n",
       "  <thead>\n",
       "    <tr style=\"text-align: right;\">\n",
       "      <th></th>\n",
       "      <th>user_id</th>\n",
       "      <th>movie_id</th>\n",
       "      <th>count</th>\n",
       "      <th>timestamp</th>\n",
       "      <th>title</th>\n",
       "      <th>genre</th>\n",
       "    </tr>\n",
       "  </thead>\n",
       "  <tbody>\n",
       "    <tr>\n",
       "      <th>0</th>\n",
       "      <td>1</td>\n",
       "      <td>1193</td>\n",
       "      <td>5</td>\n",
       "      <td>978300760</td>\n",
       "      <td>one flew over the cuckoo's nest (1975)</td>\n",
       "      <td>drama</td>\n",
       "    </tr>\n",
       "    <tr>\n",
       "      <th>1</th>\n",
       "      <td>1</td>\n",
       "      <td>661</td>\n",
       "      <td>3</td>\n",
       "      <td>978302109</td>\n",
       "      <td>james and the giant peach (1996)</td>\n",
       "      <td>animation|children's|musical</td>\n",
       "    </tr>\n",
       "    <tr>\n",
       "      <th>2</th>\n",
       "      <td>1</td>\n",
       "      <td>914</td>\n",
       "      <td>3</td>\n",
       "      <td>978301968</td>\n",
       "      <td>my fair lady (1964)</td>\n",
       "      <td>musical|romance</td>\n",
       "    </tr>\n",
       "    <tr>\n",
       "      <th>3</th>\n",
       "      <td>1</td>\n",
       "      <td>3408</td>\n",
       "      <td>4</td>\n",
       "      <td>978300275</td>\n",
       "      <td>erin brockovich (2000)</td>\n",
       "      <td>drama</td>\n",
       "    </tr>\n",
       "    <tr>\n",
       "      <th>4</th>\n",
       "      <td>1</td>\n",
       "      <td>2355</td>\n",
       "      <td>5</td>\n",
       "      <td>978824291</td>\n",
       "      <td>bug's life, a (1998)</td>\n",
       "      <td>animation|children's|comedy</td>\n",
       "    </tr>\n",
       "    <tr>\n",
       "      <th>...</th>\n",
       "      <td>...</td>\n",
       "      <td>...</td>\n",
       "      <td>...</td>\n",
       "      <td>...</td>\n",
       "      <td>...</td>\n",
       "      <td>...</td>\n",
       "    </tr>\n",
       "    <tr>\n",
       "      <th>1000203</th>\n",
       "      <td>6040</td>\n",
       "      <td>1090</td>\n",
       "      <td>3</td>\n",
       "      <td>956715518</td>\n",
       "      <td>platoon (1986)</td>\n",
       "      <td>drama|war</td>\n",
       "    </tr>\n",
       "    <tr>\n",
       "      <th>1000205</th>\n",
       "      <td>6040</td>\n",
       "      <td>1094</td>\n",
       "      <td>5</td>\n",
       "      <td>956704887</td>\n",
       "      <td>crying game, the (1992)</td>\n",
       "      <td>drama|romance|war</td>\n",
       "    </tr>\n",
       "    <tr>\n",
       "      <th>1000206</th>\n",
       "      <td>6040</td>\n",
       "      <td>562</td>\n",
       "      <td>5</td>\n",
       "      <td>956704746</td>\n",
       "      <td>welcome to the dollhouse (1995)</td>\n",
       "      <td>comedy|drama</td>\n",
       "    </tr>\n",
       "    <tr>\n",
       "      <th>1000207</th>\n",
       "      <td>6040</td>\n",
       "      <td>1096</td>\n",
       "      <td>4</td>\n",
       "      <td>956715648</td>\n",
       "      <td>sophie's choice (1982)</td>\n",
       "      <td>drama</td>\n",
       "    </tr>\n",
       "    <tr>\n",
       "      <th>1000208</th>\n",
       "      <td>6040</td>\n",
       "      <td>1097</td>\n",
       "      <td>4</td>\n",
       "      <td>956715569</td>\n",
       "      <td>e.t. the extra-terrestrial (1982)</td>\n",
       "      <td>children's|drama|fantasy|sci-fi</td>\n",
       "    </tr>\n",
       "  </tbody>\n",
       "</table>\n",
       "<p>836478 rows × 6 columns</p>\n",
       "</div>"
      ],
      "text/plain": [
       "         user_id  movie_id  count  timestamp  \\\n",
       "0              1      1193      5  978300760   \n",
       "1              1       661      3  978302109   \n",
       "2              1       914      3  978301968   \n",
       "3              1      3408      4  978300275   \n",
       "4              1      2355      5  978824291   \n",
       "...          ...       ...    ...        ...   \n",
       "1000203     6040      1090      3  956715518   \n",
       "1000205     6040      1094      5  956704887   \n",
       "1000206     6040       562      5  956704746   \n",
       "1000207     6040      1096      4  956715648   \n",
       "1000208     6040      1097      4  956715569   \n",
       "\n",
       "                                          title  \\\n",
       "0        one flew over the cuckoo's nest (1975)   \n",
       "1              james and the giant peach (1996)   \n",
       "2                           my fair lady (1964)   \n",
       "3                        erin brockovich (2000)   \n",
       "4                          bug's life, a (1998)   \n",
       "...                                         ...   \n",
       "1000203                          platoon (1986)   \n",
       "1000205                 crying game, the (1992)   \n",
       "1000206         welcome to the dollhouse (1995)   \n",
       "1000207                  sophie's choice (1982)   \n",
       "1000208       e.t. the extra-terrestrial (1982)   \n",
       "\n",
       "                                   genre  \n",
       "0                                  drama  \n",
       "1           animation|children's|musical  \n",
       "2                        musical|romance  \n",
       "3                                  drama  \n",
       "4            animation|children's|comedy  \n",
       "...                                  ...  \n",
       "1000203                        drama|war  \n",
       "1000205                drama|romance|war  \n",
       "1000206                     comedy|drama  \n",
       "1000207                            drama  \n",
       "1000208  children's|drama|fantasy|sci-fi  \n",
       "\n",
       "[836478 rows x 6 columns]"
      ]
     },
     "execution_count": 24,
     "metadata": {},
     "output_type": "execute_result"
    }
   ],
   "source": [
    "data = ratings.join(movies.set_index('movie_id'), on = 'movie_id')\n",
    "data"
   ]
  },
  {
   "cell_type": "markdown",
   "id": "improving-rubber",
   "metadata": {},
   "source": [
    "합치는 과정에서 결측치 생겼는지 확인"
   ]
  },
  {
   "cell_type": "code",
   "execution_count": 25,
   "id": "reverse-management",
   "metadata": {},
   "outputs": [
    {
     "data": {
      "text/plain": [
       "user_id      0\n",
       "movie_id     0\n",
       "count        0\n",
       "timestamp    0\n",
       "title        0\n",
       "genre        0\n",
       "dtype: int64"
      ]
     },
     "execution_count": 25,
     "metadata": {},
     "output_type": "execute_result"
    }
   ],
   "source": [
    "data.isnull().sum()"
   ]
  },
  {
   "cell_type": "markdown",
   "id": "ancient-captain",
   "metadata": {},
   "source": [
    "#### 추천 시스템에 내가 좋아하는 영화 입력"
   ]
  },
  {
   "cell_type": "code",
   "execution_count": 26,
   "id": "final-strain",
   "metadata": {},
   "outputs": [
    {
     "data": {
      "text/html": [
       "<div>\n",
       "<style scoped>\n",
       "    .dataframe tbody tr th:only-of-type {\n",
       "        vertical-align: middle;\n",
       "    }\n",
       "\n",
       "    .dataframe tbody tr th {\n",
       "        vertical-align: top;\n",
       "    }\n",
       "\n",
       "    .dataframe thead th {\n",
       "        text-align: right;\n",
       "    }\n",
       "</style>\n",
       "<table border=\"1\" class=\"dataframe\">\n",
       "  <thead>\n",
       "    <tr style=\"text-align: right;\">\n",
       "      <th></th>\n",
       "      <th>user_id</th>\n",
       "      <th>movie_id</th>\n",
       "      <th>count</th>\n",
       "      <th>timestamp</th>\n",
       "      <th>title</th>\n",
       "      <th>genre</th>\n",
       "    </tr>\n",
       "  </thead>\n",
       "  <tbody>\n",
       "    <tr>\n",
       "      <th>0</th>\n",
       "      <td>1</td>\n",
       "      <td>1193</td>\n",
       "      <td>5</td>\n",
       "      <td>978300760</td>\n",
       "      <td>one flew over the cuckoo's nest (1975)</td>\n",
       "      <td>drama</td>\n",
       "    </tr>\n",
       "    <tr>\n",
       "      <th>1</th>\n",
       "      <td>1</td>\n",
       "      <td>661</td>\n",
       "      <td>3</td>\n",
       "      <td>978302109</td>\n",
       "      <td>james and the giant peach (1996)</td>\n",
       "      <td>animation|children's|musical</td>\n",
       "    </tr>\n",
       "    <tr>\n",
       "      <th>2</th>\n",
       "      <td>1</td>\n",
       "      <td>914</td>\n",
       "      <td>3</td>\n",
       "      <td>978301968</td>\n",
       "      <td>my fair lady (1964)</td>\n",
       "      <td>musical|romance</td>\n",
       "    </tr>\n",
       "    <tr>\n",
       "      <th>3</th>\n",
       "      <td>1</td>\n",
       "      <td>3408</td>\n",
       "      <td>4</td>\n",
       "      <td>978300275</td>\n",
       "      <td>erin brockovich (2000)</td>\n",
       "      <td>drama</td>\n",
       "    </tr>\n",
       "    <tr>\n",
       "      <th>4</th>\n",
       "      <td>1</td>\n",
       "      <td>2355</td>\n",
       "      <td>5</td>\n",
       "      <td>978824291</td>\n",
       "      <td>bug's life, a (1998)</td>\n",
       "      <td>animation|children's|comedy</td>\n",
       "    </tr>\n",
       "    <tr>\n",
       "      <th>...</th>\n",
       "      <td>...</td>\n",
       "      <td>...</td>\n",
       "      <td>...</td>\n",
       "      <td>...</td>\n",
       "      <td>...</td>\n",
       "      <td>...</td>\n",
       "    </tr>\n",
       "    <tr>\n",
       "      <th>836478</th>\n",
       "      <td>js</td>\n",
       "      <td>47</td>\n",
       "      <td>5</td>\n",
       "      <td>999067212</td>\n",
       "      <td>seven (se7en) (1995)</td>\n",
       "      <td>crime|thriller</td>\n",
       "    </tr>\n",
       "    <tr>\n",
       "      <th>836479</th>\n",
       "      <td>js</td>\n",
       "      <td>648</td>\n",
       "      <td>5</td>\n",
       "      <td>1006951044</td>\n",
       "      <td>mission: impossible (1996)</td>\n",
       "      <td>action|adventure|mystery</td>\n",
       "    </tr>\n",
       "    <tr>\n",
       "      <th>836480</th>\n",
       "      <td>js</td>\n",
       "      <td>1</td>\n",
       "      <td>5</td>\n",
       "      <td>982841983</td>\n",
       "      <td>toy story (1995)</td>\n",
       "      <td>animation|children's|comedy</td>\n",
       "    </tr>\n",
       "    <tr>\n",
       "      <th>836481</th>\n",
       "      <td>js</td>\n",
       "      <td>593</td>\n",
       "      <td>5</td>\n",
       "      <td>994365191</td>\n",
       "      <td>silence of the lambs, the (1991)</td>\n",
       "      <td>drama|thriller</td>\n",
       "    </tr>\n",
       "    <tr>\n",
       "      <th>836482</th>\n",
       "      <td>js</td>\n",
       "      <td>2959</td>\n",
       "      <td>4</td>\n",
       "      <td>965415220</td>\n",
       "      <td>fight club (1999)</td>\n",
       "      <td>drama</td>\n",
       "    </tr>\n",
       "  </tbody>\n",
       "</table>\n",
       "<p>836483 rows × 6 columns</p>\n",
       "</div>"
      ],
      "text/plain": [
       "       user_id  movie_id  count   timestamp  \\\n",
       "0            1      1193      5   978300760   \n",
       "1            1       661      3   978302109   \n",
       "2            1       914      3   978301968   \n",
       "3            1      3408      4   978300275   \n",
       "4            1      2355      5   978824291   \n",
       "...        ...       ...    ...         ...   \n",
       "836478      js        47      5   999067212   \n",
       "836479      js       648      5  1006951044   \n",
       "836480      js         1      5   982841983   \n",
       "836481      js       593      5   994365191   \n",
       "836482      js      2959      4   965415220   \n",
       "\n",
       "                                         title                         genre  \n",
       "0       one flew over the cuckoo's nest (1975)                         drama  \n",
       "1             james and the giant peach (1996)  animation|children's|musical  \n",
       "2                          my fair lady (1964)               musical|romance  \n",
       "3                       erin brockovich (2000)                         drama  \n",
       "4                         bug's life, a (1998)   animation|children's|comedy  \n",
       "...                                        ...                           ...  \n",
       "836478                    seven (se7en) (1995)                crime|thriller  \n",
       "836479              mission: impossible (1996)      action|adventure|mystery  \n",
       "836480                        toy story (1995)   animation|children's|comedy  \n",
       "836481        silence of the lambs, the (1991)                drama|thriller  \n",
       "836482                       fight club (1999)                         drama  \n",
       "\n",
       "[836483 rows x 6 columns]"
      ]
     },
     "execution_count": 26,
     "metadata": {},
     "output_type": "execute_result"
    }
   ],
   "source": [
    "random.seed(20210818)\n",
    "\n",
    "my_favorite = [47,648,1,593,2959] #세븐, 양들의 침묵, 토이스토리, 양들의 침묵, 파이트 클럽\n",
    "#my_favorite = list(map(int,my_favorite))\n",
    "my_time = []\n",
    "for i in range(5):\n",
    "    my_time.append(random.randint(956703932,1046454590))\n",
    "    \n",
    "my_title = [movies.loc[46,'title'],movies.loc[642,'title'],movies.loc[0,'title'],movies.loc[589,'title'],movies.loc[2890,'title']]\n",
    "my_genre = [movies.loc[46,'genre'],movies.loc[642,'genre'],movies.loc[0,'genre'],movies.loc[589,'genre'],movies.loc[2890,'genre']]\n",
    "\n",
    "\n",
    "\n",
    "#my_time = list(map(int,my_time))\n",
    "my_list = pd.DataFrame({'user_id' : ['js']*5,'movie_id' : my_favorite, 'count' : [5,5,5,5,4] , 'timestamp' : my_time, 'title' : \\\n",
    "                       my_title, 'genre' : my_genre})\n",
    "\n",
    "data_concat = pd.concat([data,my_list], ignore_index = True)\n",
    "data_concat"
   ]
  },
  {
   "cell_type": "markdown",
   "id": "indian-regular",
   "metadata": {},
   "source": [
    "가장 인기 많은 **영화**는?"
   ]
  },
  {
   "cell_type": "code",
   "execution_count": 27,
   "id": "fuzzy-swaziland",
   "metadata": {},
   "outputs": [
    {
     "data": {
      "text/plain": [
       "title\n",
       "american beauty (1999)                                   3211\n",
       "star wars: episode iv - a new hope (1977)                2910\n",
       "star wars: episode v - the empire strikes back (1980)    2885\n",
       "star wars: episode vi - return of the jedi (1983)        2716\n",
       "saving private ryan (1998)                               2561\n",
       "terminator 2: judgment day (1991)                        2509\n",
       "silence of the lambs, the (1991)                         2499\n",
       "raiders of the lost ark (1981)                           2473\n",
       "back to the future (1985)                                2460\n",
       "matrix, the (1999)                                       2434\n",
       "jurassic park (1993)                                     2413\n",
       "sixth sense, the (1999)                                  2385\n",
       "fargo (1996)                                             2371\n",
       "braveheart (1995)                                        2314\n",
       "men in black (1997)                                      2297\n",
       "schindler's list (1993)                                  2257\n",
       "princess bride, the (1987)                               2252\n",
       "shakespeare in love (1998)                               2213\n",
       "l.a. confidential (1997)                                 2210\n",
       "shawshank redemption, the (1994)                         2194\n",
       "godfather, the (1972)                                    2167\n",
       "groundhog day (1993)                                     2121\n",
       "e.t. the extra-terrestrial (1982)                        2102\n",
       "being john malkovich (1999)                              2066\n",
       "ghostbusters (1984)                                      2051\n",
       "pulp fiction (1994)                                      2030\n",
       "forrest gump (1994)                                      2022\n",
       "terminator, the (1984)                                   2019\n",
       "toy story (1995)                                         2001\n",
       "fugitive, the (1993)                                     1941\n",
       "Name: user_id, dtype: int64"
      ]
     },
     "execution_count": 27,
     "metadata": {},
     "output_type": "execute_result"
    }
   ],
   "source": [
    "movie_count = data_concat.groupby('title')['user_id'].count().sort_values(ascending=False).head(30)\n",
    "movie_count"
   ]
  },
  {
   "cell_type": "markdown",
   "id": "headed-campbell",
   "metadata": {},
   "source": [
    "## 2. 모델 구성하기"
   ]
  },
  {
   "cell_type": "markdown",
   "id": "thermal-scratch",
   "metadata": {},
   "source": [
    "user_id , movie_title index화"
   ]
  },
  {
   "cell_type": "code",
   "execution_count": 28,
   "id": "stupid-incentive",
   "metadata": {},
   "outputs": [],
   "source": [
    "user_unique = data_concat['user_id'].unique()\n",
    "movie_unique = data_concat['title'].unique()\n",
    "\n",
    "# 유저, movie indexing\n",
    "user_to_idx = {v:k for k,v in enumerate(user_unique)}\n",
    "movie_to_idx = {v:k for k,v in enumerate(movie_unique)}"
   ]
  },
  {
   "cell_type": "code",
   "execution_count": 29,
   "id": "leading-mileage",
   "metadata": {
    "scrolled": true
   },
   "outputs": [
    {
     "name": "stdout",
     "output_type": "stream",
     "text": [
      "user_id column indexing OK!!\n",
      "movie column indexing OK!!\n"
     ]
    },
    {
     "data": {
      "text/html": [
       "<div>\n",
       "<style scoped>\n",
       "    .dataframe tbody tr th:only-of-type {\n",
       "        vertical-align: middle;\n",
       "    }\n",
       "\n",
       "    .dataframe tbody tr th {\n",
       "        vertical-align: top;\n",
       "    }\n",
       "\n",
       "    .dataframe thead th {\n",
       "        text-align: right;\n",
       "    }\n",
       "</style>\n",
       "<table border=\"1\" class=\"dataframe\">\n",
       "  <thead>\n",
       "    <tr style=\"text-align: right;\">\n",
       "      <th></th>\n",
       "      <th>user_id</th>\n",
       "      <th>movie_id</th>\n",
       "      <th>count</th>\n",
       "      <th>timestamp</th>\n",
       "      <th>title</th>\n",
       "      <th>genre</th>\n",
       "    </tr>\n",
       "  </thead>\n",
       "  <tbody>\n",
       "    <tr>\n",
       "      <th>0</th>\n",
       "      <td>0</td>\n",
       "      <td>1193</td>\n",
       "      <td>5</td>\n",
       "      <td>978300760</td>\n",
       "      <td>0</td>\n",
       "      <td>drama</td>\n",
       "    </tr>\n",
       "    <tr>\n",
       "      <th>1</th>\n",
       "      <td>0</td>\n",
       "      <td>661</td>\n",
       "      <td>3</td>\n",
       "      <td>978302109</td>\n",
       "      <td>1</td>\n",
       "      <td>animation|children's|musical</td>\n",
       "    </tr>\n",
       "    <tr>\n",
       "      <th>2</th>\n",
       "      <td>0</td>\n",
       "      <td>914</td>\n",
       "      <td>3</td>\n",
       "      <td>978301968</td>\n",
       "      <td>2</td>\n",
       "      <td>musical|romance</td>\n",
       "    </tr>\n",
       "    <tr>\n",
       "      <th>3</th>\n",
       "      <td>0</td>\n",
       "      <td>3408</td>\n",
       "      <td>4</td>\n",
       "      <td>978300275</td>\n",
       "      <td>3</td>\n",
       "      <td>drama</td>\n",
       "    </tr>\n",
       "    <tr>\n",
       "      <th>4</th>\n",
       "      <td>0</td>\n",
       "      <td>2355</td>\n",
       "      <td>5</td>\n",
       "      <td>978824291</td>\n",
       "      <td>4</td>\n",
       "      <td>animation|children's|comedy</td>\n",
       "    </tr>\n",
       "    <tr>\n",
       "      <th>...</th>\n",
       "      <td>...</td>\n",
       "      <td>...</td>\n",
       "      <td>...</td>\n",
       "      <td>...</td>\n",
       "      <td>...</td>\n",
       "      <td>...</td>\n",
       "    </tr>\n",
       "    <tr>\n",
       "      <th>836478</th>\n",
       "      <td>6039</td>\n",
       "      <td>47</td>\n",
       "      <td>5</td>\n",
       "      <td>999067212</td>\n",
       "      <td>220</td>\n",
       "      <td>crime|thriller</td>\n",
       "    </tr>\n",
       "    <tr>\n",
       "      <th>836479</th>\n",
       "      <td>6039</td>\n",
       "      <td>648</td>\n",
       "      <td>5</td>\n",
       "      <td>1006951044</td>\n",
       "      <td>58</td>\n",
       "      <td>action|adventure|mystery</td>\n",
       "    </tr>\n",
       "    <tr>\n",
       "      <th>836480</th>\n",
       "      <td>6039</td>\n",
       "      <td>1</td>\n",
       "      <td>5</td>\n",
       "      <td>982841983</td>\n",
       "      <td>40</td>\n",
       "      <td>animation|children's|comedy</td>\n",
       "    </tr>\n",
       "    <tr>\n",
       "      <th>836481</th>\n",
       "      <td>6039</td>\n",
       "      <td>593</td>\n",
       "      <td>5</td>\n",
       "      <td>994365191</td>\n",
       "      <td>121</td>\n",
       "      <td>drama|thriller</td>\n",
       "    </tr>\n",
       "    <tr>\n",
       "      <th>836482</th>\n",
       "      <td>6039</td>\n",
       "      <td>2959</td>\n",
       "      <td>4</td>\n",
       "      <td>965415220</td>\n",
       "      <td>273</td>\n",
       "      <td>drama</td>\n",
       "    </tr>\n",
       "  </tbody>\n",
       "</table>\n",
       "<p>836483 rows × 6 columns</p>\n",
       "</div>"
      ],
      "text/plain": [
       "        user_id  movie_id  count   timestamp  title  \\\n",
       "0             0      1193      5   978300760      0   \n",
       "1             0       661      3   978302109      1   \n",
       "2             0       914      3   978301968      2   \n",
       "3             0      3408      4   978300275      3   \n",
       "4             0      2355      5   978824291      4   \n",
       "...         ...       ...    ...         ...    ...   \n",
       "836478     6039        47      5   999067212    220   \n",
       "836479     6039       648      5  1006951044     58   \n",
       "836480     6039         1      5   982841983     40   \n",
       "836481     6039       593      5   994365191    121   \n",
       "836482     6039      2959      4   965415220    273   \n",
       "\n",
       "                               genre  \n",
       "0                              drama  \n",
       "1       animation|children's|musical  \n",
       "2                    musical|romance  \n",
       "3                              drama  \n",
       "4        animation|children's|comedy  \n",
       "...                              ...  \n",
       "836478                crime|thriller  \n",
       "836479      action|adventure|mystery  \n",
       "836480   animation|children's|comedy  \n",
       "836481                drama|thriller  \n",
       "836482                         drama  \n",
       "\n",
       "[836483 rows x 6 columns]"
      ]
     },
     "execution_count": 29,
     "metadata": {},
     "output_type": "execute_result"
    }
   ],
   "source": [
    "# indexing을 통해 데이터 컬럼 내 값을 바꾸는 코드\n",
    "# dictionary 자료형의 get 함수는 https://wikidocs.net/16 을 참고하세요.\n",
    "\n",
    "# user_to_idx.get을 통해 user_id 컬럼의 모든 값을 인덱싱한 Series를 구해 봅시다. \n",
    "# 혹시 정상적으로 인덱싱되지 않은 row가 있다면 인덱스가 NaN이 될 테니 dropna()로 제거합니다. \n",
    "temp_user_data = data_concat['user_id'].map(user_to_idx.get).dropna()\n",
    "if len(temp_user_data) == len(data_concat):   # 모든 row가 정상적으로 인덱싱되었다면\n",
    "    print('user_id column indexing OK!!')\n",
    "    data_concat['user_id'] = temp_user_data   # data['user_id']을 인덱싱된 Series로 교체해 줍니다. \n",
    "else:\n",
    "    print('user_id column indexing Fail!!')\n",
    "\n",
    "# artist_to_idx을 통해 artist 컬럼도 동일한 방식으로 인덱싱해 줍니다. \n",
    "temp_movie_data = data_concat['title'].map(movie_to_idx.get).dropna()\n",
    "if len(temp_movie_data) == len(data_concat):\n",
    "    print('movie column indexing OK!!')\n",
    "    data_concat['title'] = temp_movie_data\n",
    "else:\n",
    "    print('movie column indexing Fail!!')\n",
    "\n",
    "data_concat"
   ]
  },
  {
   "cell_type": "markdown",
   "id": "hollywood-advocate",
   "metadata": {},
   "source": [
    "#### movie_id 는 최대값이 3952(중간에 빈 값이 있음)이므로 sparse matrix를 구성하기 위해선 title 활용"
   ]
  },
  {
   "cell_type": "code",
   "execution_count": 30,
   "id": "academic-grain",
   "metadata": {
    "scrolled": true
   },
   "outputs": [
    {
     "data": {
      "text/plain": [
       "787690    3952\n",
       "136158    3952\n",
       "298386    3952\n",
       "21444     3952\n",
       "111948    3952\n",
       "          ... \n",
       "47471        1\n",
       "60132        1\n",
       "592151       1\n",
       "665563       1\n",
       "99129        1\n",
       "Name: movie_id, Length: 836483, dtype: int64"
      ]
     },
     "execution_count": 30,
     "metadata": {},
     "output_type": "execute_result"
    }
   ],
   "source": [
    "data_concat['movie_id'].sort_values(ascending=False)"
   ]
  },
  {
   "cell_type": "code",
   "execution_count": 31,
   "id": "amateur-cooper",
   "metadata": {
    "scrolled": true
   },
   "outputs": [
    {
     "data": {
      "text/plain": [
       "823157    3627\n",
       "822167    3626\n",
       "812520    3625\n",
       "812443    3624\n",
       "811989    3623\n",
       "          ... \n",
       "264203       0\n",
       "462274       0\n",
       "58421        0\n",
       "4878         0\n",
       "0            0\n",
       "Name: title, Length: 836483, dtype: int64"
      ]
     },
     "execution_count": 31,
     "metadata": {},
     "output_type": "execute_result"
    }
   ],
   "source": [
    "data_concat['title'].sort_values(ascending=False)"
   ]
  },
  {
   "cell_type": "markdown",
   "id": "utility-breeding",
   "metadata": {},
   "source": [
    "**csr_matrix** 구성하기"
   ]
  },
  {
   "cell_type": "code",
   "execution_count": 32,
   "id": "formed-reply",
   "metadata": {},
   "outputs": [
    {
     "data": {
      "text/plain": [
       "<6040x3628 sparse matrix of type '<class 'numpy.longlong'>'\n",
       "\twith 836483 stored elements in Compressed Sparse Row format>"
      ]
     },
     "execution_count": 32,
     "metadata": {},
     "output_type": "execute_result"
    }
   ],
   "source": [
    "num_user = data_concat['user_id'].nunique()\n",
    "num_movie = data_concat['title'].nunique()\n",
    "\n",
    "csr_data = csr_matrix((data_concat['count'], (data_concat['user_id'], data_concat['title'])), shape= (num_user, num_movie))\n",
    "csr_data"
   ]
  },
  {
   "cell_type": "markdown",
   "id": "alien-harmony",
   "metadata": {},
   "source": [
    "___"
   ]
  },
  {
   "cell_type": "markdown",
   "id": "opponent-access",
   "metadata": {},
   "source": [
    "#### MF 모델 학습하기"
   ]
  },
  {
   "cell_type": "code",
   "execution_count": 33,
   "id": "standard-excitement",
   "metadata": {},
   "outputs": [],
   "source": [
    "#초기 설정\n",
    "os.environ['OPENBLAS_NUM_THREADS']='1'\n",
    "os.environ['KMP_DUPLICATE_LIB_OK']='True'\n",
    "os.environ['MKL_NUM_THREADS']='1'"
   ]
  },
  {
   "cell_type": "markdown",
   "id": "ranging-delight",
   "metadata": {},
   "source": [
    "**Als** 모델 정의"
   ]
  },
  {
   "cell_type": "code",
   "execution_count": 34,
   "id": "thorough-affiliation",
   "metadata": {},
   "outputs": [],
   "source": [
    "# Implicit AlternatingLeastSquares 모델의 선언\n",
    "als_model = AlternatingLeastSquares(factors=100, regularization=0.01, use_gpu=False, iterations=15, dtype=np.float32)"
   ]
  },
  {
   "cell_type": "code",
   "execution_count": 35,
   "id": "educated-inflation",
   "metadata": {},
   "outputs": [
    {
     "data": {
      "text/plain": [
       "<3628x6040 sparse matrix of type '<class 'numpy.longlong'>'\n",
       "\twith 836483 stored elements in Compressed Sparse Column format>"
      ]
     },
     "execution_count": 35,
     "metadata": {},
     "output_type": "execute_result"
    }
   ],
   "source": [
    "# als 모델은 input으로 (item X user 꼴의 matrix를 받기 때문에 Transpose해줍니다.)\n",
    "csr_data_transpose = csr_data.T\n",
    "csr_data_transpose"
   ]
  },
  {
   "cell_type": "code",
   "execution_count": 36,
   "id": "south-clerk",
   "metadata": {},
   "outputs": [
    {
     "data": {
      "application/vnd.jupyter.widget-view+json": {
       "model_id": "533cebe3cd814180b6f12a23897670ab",
       "version_major": 2,
       "version_minor": 0
      },
      "text/plain": [
       "  0%|          | 0/15 [00:00<?, ?it/s]"
      ]
     },
     "metadata": {},
     "output_type": "display_data"
    }
   ],
   "source": [
    "# 모델 훈련\n",
    "als_model.fit(csr_data_transpose)"
   ]
  },
  {
   "cell_type": "markdown",
   "id": "portable-influence",
   "metadata": {},
   "source": [
    "#### 나와 seven과의 관계를 확인"
   ]
  },
  {
   "cell_type": "code",
   "execution_count": 37,
   "id": "ongoing-fiber",
   "metadata": {},
   "outputs": [],
   "source": [
    "js, seven  = user_to_idx['js'], movie_to_idx['seven (se7en) (1995)']\n",
    "js_vector, seven_vector = als_model.user_factors[js], als_model.item_factors[seven]"
   ]
  },
  {
   "cell_type": "code",
   "execution_count": 38,
   "id": "welcome-valve",
   "metadata": {
    "scrolled": true
   },
   "outputs": [
    {
     "data": {
      "text/plain": [
       "array([ 0.65339255,  0.2552523 ,  0.20738667, -0.31959096,  0.20561974,\n",
       "       -0.61191803,  0.11937266,  0.0926216 , -0.58485126,  0.0114001 ,\n",
       "        1.0832313 ,  0.11104604, -0.2255594 ,  0.5659285 , -0.14490148,\n",
       "        1.5360148 ,  0.9097392 , -0.60831606,  0.11688108, -0.46472138,\n",
       "        0.86343515, -0.9632065 ,  0.07667996, -0.60944307, -0.08593376,\n",
       "        1.0740038 ,  0.08456306, -0.11546434,  0.4726141 ,  0.03235072,\n",
       "       -0.69715303,  0.04613259, -0.53400934,  0.9355613 , -0.40277112,\n",
       "        0.43592823, -0.23528332, -0.40413335, -0.55324715,  0.35132855,\n",
       "       -0.19609128,  0.670551  ,  0.06539285, -0.42723542,  0.11248975,\n",
       "       -0.2713388 , -0.09370007,  0.021828  , -1.0400947 ,  0.4904608 ,\n",
       "        0.5654408 ,  0.10320243,  0.74106497,  0.5285577 , -0.16218825,\n",
       "        0.19950102,  0.51837033,  0.72512835,  0.0542467 , -0.3167928 ,\n",
       "       -0.03958422, -0.03597993, -0.4918951 , -0.24410969,  0.17856981,\n",
       "        0.35324585,  0.07575265, -0.02583706, -0.42823482,  0.73348045,\n",
       "       -0.5442654 , -1.348613  ,  0.50582224,  0.28454554, -0.4324681 ,\n",
       "       -0.04084267, -0.24126397,  0.14270867, -0.7315092 , -0.18286356,\n",
       "       -0.03136628,  0.4687644 , -0.14226295, -0.02770578, -0.76964384,\n",
       "       -0.10017174, -0.05988189, -0.6138316 , -0.43102524,  0.5188458 ,\n",
       "        0.10353496,  0.3603043 ,  0.71055883, -0.3894883 ,  0.06254107,\n",
       "        0.05350921,  0.84644955,  0.06662985, -1.1933812 , -0.01394538],\n",
       "      dtype=float32)"
      ]
     },
     "execution_count": 38,
     "metadata": {},
     "output_type": "execute_result"
    }
   ],
   "source": [
    "js_vector"
   ]
  },
  {
   "cell_type": "code",
   "execution_count": 39,
   "id": "canadian-smith",
   "metadata": {},
   "outputs": [
    {
     "data": {
      "text/plain": [
       "array([ 0.0261443 ,  0.03236723,  0.01171583, -0.02021266,  0.00214848,\n",
       "        0.0025777 , -0.01838938,  0.01563251, -0.02535387,  0.00176518,\n",
       "        0.02020922,  0.0023605 ,  0.007887  ,  0.0145974 ,  0.01186926,\n",
       "        0.03407011,  0.00792765,  0.01776448,  0.00616112, -0.00549287,\n",
       "        0.03567027,  0.00102637,  0.01390664,  0.01513257,  0.00700274,\n",
       "       -0.00425369, -0.02375882,  0.00617185,  0.00472735,  0.00955537,\n",
       "       -0.00764001,  0.00373437, -0.01280488,  0.04407841, -0.01761988,\n",
       "        0.00721643, -0.01480863, -0.00193471,  0.00545363, -0.00039025,\n",
       "        0.00788868,  0.01853045,  0.01740216,  0.0031428 ,  0.01482856,\n",
       "        0.01653221, -0.01562303,  0.01413015, -0.0239438 ,  0.0357586 ,\n",
       "       -0.01021716, -0.01586837,  0.02674948,  0.01313429,  0.00332676,\n",
       "        0.00744464,  0.01008658,  0.00645798,  0.00379093,  0.00632642,\n",
       "        0.0076279 , -0.01018122, -0.00041851, -0.01237101,  0.01790199,\n",
       "        0.02786931,  0.00068459,  0.02240548, -0.03545968,  0.01476041,\n",
       "       -0.00590163, -0.01658317,  0.0328916 , -0.01923743, -0.0113706 ,\n",
       "       -0.00386988,  0.01218698,  0.02423015, -0.01630234,  0.01541652,\n",
       "        0.0178727 , -0.01223156,  0.00284403,  0.0121095 ,  0.00097236,\n",
       "        0.00790871,  0.00051189, -0.00078985,  0.00250421,  0.02695059,\n",
       "        0.01974381,  0.01828894,  0.01380606, -0.01109765,  0.00085294,\n",
       "       -0.01184378, -0.02043181,  0.0185496 , -0.02364406,  0.00211181],\n",
       "      dtype=float32)"
      ]
     },
     "execution_count": 39,
     "metadata": {},
     "output_type": "execute_result"
    }
   ],
   "source": [
    "seven_vector"
   ]
  },
  {
   "cell_type": "markdown",
   "id": "polar-medium",
   "metadata": {},
   "source": [
    "#### 생각보다 낮은 결과"
   ]
  },
  {
   "cell_type": "code",
   "execution_count": 40,
   "id": "hired-saying",
   "metadata": {
    "scrolled": true
   },
   "outputs": [
    {
     "data": {
      "text/plain": [
       "0.42019188"
      ]
     },
     "execution_count": 40,
     "metadata": {},
     "output_type": "execute_result"
    }
   ],
   "source": [
    "np.dot(js_vector, seven_vector)"
   ]
  },
  {
   "cell_type": "code",
   "execution_count": 41,
   "id": "comparative-software",
   "metadata": {},
   "outputs": [
    {
     "data": {
      "text/plain": [
       "0.38319805"
      ]
     },
     "execution_count": 41,
     "metadata": {},
     "output_type": "execute_result"
    }
   ],
   "source": [
    "mi = movie_to_idx['mission: impossible (1996)']\n",
    "mi_vector = als_model.item_factors[mi]\n",
    "np.dot(js_vector, mi_vector)"
   ]
  },
  {
   "cell_type": "code",
   "execution_count": 42,
   "id": "false-folder",
   "metadata": {},
   "outputs": [
    {
     "data": {
      "text/plain": [
       "0.4416934"
      ]
     },
     "execution_count": 42,
     "metadata": {},
     "output_type": "execute_result"
    }
   ],
   "source": [
    "toystory = movie_to_idx['toy story (1995)']\n",
    "toystory_vector = als_model.item_factors[toystory]\n",
    "np.dot(js_vector, toystory_vector)"
   ]
  },
  {
   "cell_type": "code",
   "execution_count": 43,
   "id": "revolutionary-collectible",
   "metadata": {},
   "outputs": [
    {
     "data": {
      "text/plain": [
       "0.54024845"
      ]
     },
     "execution_count": 43,
     "metadata": {},
     "output_type": "execute_result"
    }
   ],
   "source": [
    "silent = movie_to_idx['silence of the lambs, the (1991)']\n",
    "silent_vector = als_model.item_factors[silent]\n",
    "np.dot(js_vector, silent_vector)"
   ]
  },
  {
   "cell_type": "code",
   "execution_count": 44,
   "id": "governing-green",
   "metadata": {},
   "outputs": [
    {
     "data": {
      "text/plain": [
       "0.44838643"
      ]
     },
     "execution_count": 44,
     "metadata": {},
     "output_type": "execute_result"
    }
   ],
   "source": [
    "fight = movie_to_idx['fight club (1999)']\n",
    "fight_vector = als_model.item_factors[fight]\n",
    "np.dot(js_vector, fight_vector)"
   ]
  },
  {
   "cell_type": "markdown",
   "id": "immediate-rover",
   "metadata": {},
   "source": [
    "내가 뽑지 않은 영화"
   ]
  },
  {
   "cell_type": "code",
   "execution_count": 45,
   "id": "commercial-portable",
   "metadata": {},
   "outputs": [
    {
     "data": {
      "text/plain": [
       "-0.029957814"
      ]
     },
     "execution_count": 45,
     "metadata": {},
     "output_type": "execute_result"
    }
   ],
   "source": [
    "fairlady = movie_to_idx['my fair lady (1964)']\n",
    "fairlady_vector = als_model.item_factors[fairlady]\n",
    "np.dot(js_vector, fairlady_vector)"
   ]
  },
  {
   "cell_type": "markdown",
   "id": "hazardous-shipping",
   "metadata": {},
   "source": [
    "점수가 가장 높았던 **양들의 침묵**과 **유사한** 영화들을 확인해보자."
   ]
  },
  {
   "cell_type": "code",
   "execution_count": 46,
   "id": "engaging-ebony",
   "metadata": {},
   "outputs": [
    {
     "data": {
      "text/plain": [
       "[(121, 1.0),\n",
       " (157, 0.8070394),\n",
       " (51, 0.7600723),\n",
       " (222, 0.6761469),\n",
       " (23, 0.5781125),\n",
       " (269, 0.51910645),\n",
       " (472, 0.5083644),\n",
       " (38, 0.504795),\n",
       " (248, 0.4946388),\n",
       " (233, 0.4859819),\n",
       " (224, 0.38698718),\n",
       " (3517, 0.37803966),\n",
       " (220, 0.36682847),\n",
       " (48, 0.34531134),\n",
       " (289, 0.3439058)]"
      ]
     },
     "execution_count": 46,
     "metadata": {},
     "output_type": "execute_result"
    }
   ],
   "source": [
    "favorite_movie = 'silence of the lambs, the (1991)'\n",
    "movie_id = movie_to_idx[favorite_movie]\n",
    "similar_movie = als_model.similar_items(movie_id, N=15)\n",
    "similar_movie"
   ]
  },
  {
   "cell_type": "code",
   "execution_count": 47,
   "id": "radical-insulation",
   "metadata": {
    "scrolled": true
   },
   "outputs": [
    {
     "data": {
      "text/plain": [
       "['silence of the lambs, the (1991)',\n",
       " 'shawshank redemption, the (1994)',\n",
       " 'fargo (1996)',\n",
       " 'pulp fiction (1994)',\n",
       " \"schindler's list (1993)\",\n",
       " 'goodfellas (1990)',\n",
       " 'sling blade (1996)',\n",
       " 'sixth sense, the (1999)',\n",
       " 'good will hunting (1997)',\n",
       " 'usual suspects, the (1995)',\n",
       " 'l.a. confidential (1997)',\n",
       " 'paralyzing fear: the story of polio in america, a (1998)',\n",
       " 'seven (se7en) (1995)',\n",
       " 'saving private ryan (1998)',\n",
       " 'reservoir dogs (1992)']"
      ]
     },
     "execution_count": 47,
     "metadata": {},
     "output_type": "execute_result"
    }
   ],
   "source": [
    "#artist_to_idx 를 뒤집어, index로부터 artist 이름을 얻는 dict를 생성합니다. \n",
    "idx_to_movie = {v:k for k,v in movie_to_idx.items()}\n",
    "[idx_to_movie[i[0]] for i in similar_movie]"
   ]
  },
  {
   "cell_type": "markdown",
   "id": "blessed-begin",
   "metadata": {},
   "source": [
    "#### als_model의 similar_items로 확인"
   ]
  },
  {
   "cell_type": "code",
   "execution_count": 48,
   "id": "neural-search",
   "metadata": {},
   "outputs": [],
   "source": [
    "# 비슷한 영화를 알려주는 함수\n",
    "def get_similar_movie(movie_title: str):\n",
    "    movie_id = movie_to_idx[movie_title]\n",
    "    similar_movie = als_model.similar_items(movie_id)\n",
    "    similar_movie = [idx_to_movie[i[0]] for i in similar_movie]\n",
    "    return similar_movie"
   ]
  },
  {
   "cell_type": "markdown",
   "id": "powerful-employer",
   "metadata": {},
   "source": [
    "#### 비슷한 영화들을 얻었다."
   ]
  },
  {
   "cell_type": "code",
   "execution_count": 49,
   "id": "normal-swimming",
   "metadata": {},
   "outputs": [
    {
     "data": {
      "text/plain": [
       "['silence of the lambs, the (1991)',\n",
       " 'shawshank redemption, the (1994)',\n",
       " 'fargo (1996)',\n",
       " 'pulp fiction (1994)',\n",
       " \"schindler's list (1993)\",\n",
       " 'goodfellas (1990)',\n",
       " 'sling blade (1996)',\n",
       " 'sixth sense, the (1999)',\n",
       " 'good will hunting (1997)',\n",
       " 'usual suspects, the (1995)']"
      ]
     },
     "execution_count": 49,
     "metadata": {},
     "output_type": "execute_result"
    }
   ],
   "source": [
    "get_similar_movie('silence of the lambs, the (1991)')"
   ]
  },
  {
   "cell_type": "code",
   "execution_count": 50,
   "id": "material-stadium",
   "metadata": {
    "scrolled": true
   },
   "outputs": [
    {
     "data": {
      "text/plain": [
       "['toy story (1995)',\n",
       " 'toy story 2 (1999)',\n",
       " 'aladdin (1992)',\n",
       " \"bug's life, a (1998)\",\n",
       " 'babe (1995)',\n",
       " 'groundhog day (1993)',\n",
       " 'lion king, the (1994)',\n",
       " \"there's something about mary (1998)\",\n",
       " 'beauty and the beast (1991)',\n",
       " 'pleasantville (1998)']"
      ]
     },
     "execution_count": 50,
     "metadata": {},
     "output_type": "execute_result"
    }
   ],
   "source": [
    "get_similar_movie('toy story (1995)')"
   ]
  },
  {
   "cell_type": "markdown",
   "id": "biblical-acceptance",
   "metadata": {},
   "source": [
    "내가 좋아할 만한 영화 추천 받기"
   ]
  },
  {
   "cell_type": "code",
   "execution_count": 51,
   "id": "selective-suggestion",
   "metadata": {},
   "outputs": [
    {
     "data": {
      "text/plain": [
       "[(38, 0.49172634),\n",
       " (222, 0.40203747),\n",
       " (233, 0.39003184),\n",
       " (50, 0.37959346),\n",
       " (157, 0.3513489),\n",
       " (51, 0.32742053),\n",
       " (289, 0.31263992),\n",
       " (248, 0.28534436),\n",
       " (224, 0.28497958),\n",
       " (472, 0.27255216),\n",
       " (99, 0.24678871),\n",
       " (124, 0.24081089),\n",
       " (119, 0.23997086),\n",
       " (23, 0.23957959),\n",
       " (269, 0.22625375),\n",
       " (317, 0.21374924),\n",
       " (826, 0.2114458),\n",
       " (138, 0.20659842),\n",
       " (110, 0.20556238),\n",
       " (221, 0.19980812)]"
      ]
     },
     "execution_count": 51,
     "metadata": {},
     "output_type": "execute_result"
    }
   ],
   "source": [
    "user = user_to_idx['js']\n",
    "# recommend에서는 user*item CSR Matrix를 받습니다.\n",
    "movie_recommended = als_model.recommend(user, csr_data, N=20, filter_already_liked_items=True) #filter? 이미 평가한 아이템은 제외\n",
    "movie_recommended"
   ]
  },
  {
   "cell_type": "markdown",
   "id": "textile-capability",
   "metadata": {},
   "source": [
    "내가 **좋아하는** 스릴러와 픽사 영화들이 많이 출력됐다!"
   ]
  },
  {
   "cell_type": "code",
   "execution_count": 52,
   "id": "quick-advertising",
   "metadata": {
    "scrolled": true
   },
   "outputs": [
    {
     "data": {
      "text/plain": [
       "['sixth sense, the (1999)',\n",
       " 'pulp fiction (1994)',\n",
       " 'usual suspects, the (1995)',\n",
       " 'toy story 2 (1999)',\n",
       " 'shawshank redemption, the (1994)',\n",
       " 'fargo (1996)',\n",
       " 'reservoir dogs (1992)',\n",
       " 'good will hunting (1997)',\n",
       " 'l.a. confidential (1997)',\n",
       " 'sling blade (1996)',\n",
       " 'american beauty (1999)',\n",
       " 'matrix, the (1999)',\n",
       " 'twister (1996)',\n",
       " \"schindler's list (1993)\",\n",
       " 'goodfellas (1990)',\n",
       " 'twelve monkeys (1995)',\n",
       " 'game, the (1997)',\n",
       " 'true lies (1994)',\n",
       " 'groundhog day (1993)',\n",
       " 'south park: bigger, longer and uncut (1999)']"
      ]
     },
     "execution_count": 52,
     "metadata": {},
     "output_type": "execute_result"
    }
   ],
   "source": [
    "[idx_to_movie[i[0]] for i in movie_recommended]"
   ]
  },
  {
   "cell_type": "markdown",
   "id": "magnetic-boating",
   "metadata": {},
   "source": [
    "#### 1위를 차지한 sixth_sense의 판단 근거는??"
   ]
  },
  {
   "cell_type": "code",
   "execution_count": 53,
   "id": "reported-block",
   "metadata": {},
   "outputs": [],
   "source": [
    "sixth_sense = movie_to_idx['sixth sense, the (1999)']\n",
    "explain = als_model.explain(user, csr_data, itemid=sixth_sense)"
   ]
  },
  {
   "cell_type": "markdown",
   "id": "seven-drinking",
   "metadata": {},
   "source": [
    "스릴러인 양들의 침묵과 세븐이 상위에 있다!"
   ]
  },
  {
   "cell_type": "code",
   "execution_count": 54,
   "id": "polished-chosen",
   "metadata": {},
   "outputs": [
    {
     "data": {
      "text/plain": [
       "[('silence of the lambs, the (1991)', 0.19547314401192353),\n",
       " ('seven (se7en) (1995)', 0.12703118704612895),\n",
       " ('fight club (1999)', 0.11099986086924336),\n",
       " ('toy story (1995)', 0.05423168803041139),\n",
       " ('mission: impossible (1996)', -0.005228031954165099)]"
      ]
     },
     "execution_count": 54,
     "metadata": {},
     "output_type": "execute_result"
    }
   ],
   "source": [
    "[(idx_to_movie[i[0]], i[1]) for i in explain[1]]"
   ]
  },
  {
   "cell_type": "markdown",
   "id": "regular-arthritis",
   "metadata": {},
   "source": [
    "___"
   ]
  },
  {
   "cell_type": "markdown",
   "id": "tight-elizabeth",
   "metadata": {},
   "source": [
    "# 정리"
   ]
  },
  {
   "cell_type": "markdown",
   "id": "studied-desert",
   "metadata": {},
   "source": [
    "- artist_recommendation을 진행한 것과 동일한 방식으로 movie_recommendation을 진행했다."
   ]
  },
  {
   "cell_type": "markdown",
   "id": "detailed-mortality",
   "metadata": {},
   "source": [
    "노드 진행하는 데는 큰 어려움이 없었지만 CSR matrix와 MAE와 같은 추천 시스템에서의 새로운 개념들을 익히기가 어려웠다."
   ]
  },
  {
   "cell_type": "markdown",
   "id": "pacific-insight",
   "metadata": {},
   "source": [
    "AlternatingLeastSquares이 잘 구현돼있어 pandas로 약간의 전처리만 하면 충분히 원하는 결과를 얻을 수 있었다."
   ]
  },
  {
   "cell_type": "markdown",
   "id": "precise-migration",
   "metadata": {},
   "source": [
    "내가 선택한 Top 5 영화 목록은 세븐, 양들의 침묵, 파이트 클럽, 토이스토리, 미션 임파서블이었는데 선택한 영화들의 연관성이   \n",
    "좀 떨어졌는지 선호 벡터와의 내적한 값이 크게 나오진 않았다. 그치만 이와는 완전 다른 마이 페어 레이디 영화를 입력했을 때 내적한 값이    \n",
    "음수가 나온 것으로 보아 제대로 훈련된 것은 맞는 거 같다."
   ]
  },
  {
   "cell_type": "code",
   "execution_count": null,
   "id": "confident-postage",
   "metadata": {},
   "outputs": [],
   "source": []
  }
 ],
 "metadata": {
  "kernelspec": {
   "display_name": "Python 3",
   "language": "python",
   "name": "python3"
  },
  "language_info": {
   "codemirror_mode": {
    "name": "ipython",
    "version": 3
   },
   "file_extension": ".py",
   "mimetype": "text/x-python",
   "name": "python",
   "nbconvert_exporter": "python",
   "pygments_lexer": "ipython3",
   "version": "3.7.9"
  }
 },
 "nbformat": 4,
 "nbformat_minor": 5
}
