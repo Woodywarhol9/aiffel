{
 "cells": [
  {
   "cell_type": "markdown",
   "id": "relevant-economy",
   "metadata": {},
   "source": [
    "# ConvNet 구현 및 Ablation Study"
   ]
  },
  {
   "cell_type": "markdown",
   "id": "nasty-touch",
   "metadata": {},
   "source": [
    "ablation study? 제안한 방법의 유효함을 증명하기 위해서 제안 기술을 제거, 추가 후 성능을 비교"
   ]
  },
  {
   "cell_type": "markdown",
   "id": "individual-title",
   "metadata": {},
   "source": [
    "- CIFAR10 데이터셋을 사용해 Ablation Study를 진행하자!"
   ]
  },
  {
   "cell_type": "markdown",
   "id": "subjective-miniature",
   "metadata": {},
   "source": [
    "## 1.  CIFAR10 데이터 준비하기"
   ]
  },
  {
   "cell_type": "markdown",
   "id": "stupid-unknown",
   "metadata": {},
   "source": [
    "tf.dataset 활용"
   ]
  },
  {
   "cell_type": "code",
   "execution_count": 1,
   "id": "recovered-perfume",
   "metadata": {},
   "outputs": [],
   "source": [
    "# TensorFlow and tf.keras\n",
    "import tensorflow as tf\n",
    "from tensorflow import keras\n",
    "\n",
    "# Helper libraries\n",
    "import numpy as np\n",
    "import matplotlib.pyplot as plt\n",
    "\n",
    "import tensorflow_datasets as tfds"
   ]
  },
  {
   "cell_type": "code",
   "execution_count": 2,
   "id": "elect-local",
   "metadata": {},
   "outputs": [
    {
     "data": {
      "text/plain": [
       "[PhysicalDevice(name='/physical_device:GPU:0', device_type='GPU')]"
      ]
     },
     "execution_count": 2,
     "metadata": {},
     "output_type": "execute_result"
    }
   ],
   "source": [
    "# Tensorflow가 활용할 GPU가 장착되어 있는지 확인해 봅니다.\n",
    "tf.config.list_physical_devices('GPU')"
   ]
  },
  {
   "cell_type": "code",
   "execution_count": 3,
   "id": "personal-array",
   "metadata": {},
   "outputs": [
    {
     "name": "stdout",
     "output_type": "stream",
     "text": [
      "\u001b[1mDownloading and preparing dataset 162.17 MiB (download: 162.17 MiB, generated: 132.40 MiB, total: 294.58 MiB) to /aiffel/tensorflow_datasets/cifar10/3.0.2...\u001b[0m\n"
     ]
    },
    {
     "data": {
      "application/vnd.jupyter.widget-view+json": {
       "model_id": "780efb5a172849888359515d5c434f35",
       "version_major": 2,
       "version_minor": 0
      },
      "text/plain": [
       "Dl Completed...: 0 url [00:00, ? url/s]"
      ]
     },
     "metadata": {},
     "output_type": "display_data"
    },
    {
     "data": {
      "application/vnd.jupyter.widget-view+json": {
       "model_id": "ddf6ac53425e4de9b6472900e638cca3",
       "version_major": 2,
       "version_minor": 0
      },
      "text/plain": [
       "Dl Size...: 0 MiB [00:00, ? MiB/s]"
      ]
     },
     "metadata": {},
     "output_type": "display_data"
    },
    {
     "data": {
      "application/vnd.jupyter.widget-view+json": {
       "model_id": "aabd211119d7461ebc9032d3bf5d21c7",
       "version_major": 2,
       "version_minor": 0
      },
      "text/plain": [
       "Extraction completed...: 0 file [00:00, ? file/s]"
      ]
     },
     "metadata": {},
     "output_type": "display_data"
    },
    {
     "name": "stdout",
     "output_type": "stream",
     "text": [
      "\n",
      "\n",
      "\n"
     ]
    },
    {
     "data": {
      "application/vnd.jupyter.widget-view+json": {
       "model_id": "",
       "version_major": 2,
       "version_minor": 0
      },
      "text/plain": [
       "Generating splits...:   0%|          | 0/2 [00:00<?, ? splits/s]"
      ]
     },
     "metadata": {},
     "output_type": "display_data"
    },
    {
     "data": {
      "application/vnd.jupyter.widget-view+json": {
       "model_id": "",
       "version_major": 2,
       "version_minor": 0
      },
      "text/plain": [
       "Generating train examples...:   0%|          | 0/50000 [00:00<?, ? examples/s]"
      ]
     },
     "metadata": {},
     "output_type": "display_data"
    },
    {
     "data": {
      "application/vnd.jupyter.widget-view+json": {
       "model_id": "",
       "version_major": 2,
       "version_minor": 0
      },
      "text/plain": [
       "Shuffling cifar10-train.tfrecord...:   0%|          | 0/50000 [00:00<?, ? examples/s]"
      ]
     },
     "metadata": {},
     "output_type": "display_data"
    },
    {
     "data": {
      "application/vnd.jupyter.widget-view+json": {
       "model_id": "",
       "version_major": 2,
       "version_minor": 0
      },
      "text/plain": [
       "Generating test examples...:   0%|          | 0/10000 [00:00<?, ? examples/s]"
      ]
     },
     "metadata": {},
     "output_type": "display_data"
    },
    {
     "data": {
      "application/vnd.jupyter.widget-view+json": {
       "model_id": "",
       "version_major": 2,
       "version_minor": 0
      },
      "text/plain": [
       "Shuffling cifar10-test.tfrecord...:   0%|          | 0/10000 [00:00<?, ? examples/s]"
      ]
     },
     "metadata": {},
     "output_type": "display_data"
    },
    {
     "name": "stdout",
     "output_type": "stream",
     "text": [
      "\u001b[1mDataset cifar10 downloaded and prepared to /aiffel/tensorflow_datasets/cifar10/3.0.2. Subsequent calls will reuse this data.\u001b[0m\n"
     ]
    }
   ],
   "source": [
    "import urllib3\n",
    "urllib3.disable_warnings()\n",
    "\n",
    "#tfds.disable_progress_bar()   # 이 주석을 풀면 데이터셋 다운로드과정의 프로그레스바가 나타나지 않습니다.\n",
    "\n",
    "(ds_train, ds_test), ds_info = tfds.load(\n",
    "    'cifar10',\n",
    "    split=['train', 'test'],\n",
    "    shuffle_files=True,\n",
    "    with_info=True,\n",
    ")"
   ]
  },
  {
   "cell_type": "markdown",
   "id": "baking-rough",
   "metadata": {},
   "source": [
    "(32,32,3), 10개의 Label 종류를 가진 데이터셋"
   ]
  },
  {
   "cell_type": "code",
   "execution_count": 4,
   "id": "particular-amendment",
   "metadata": {
    "scrolled": true
   },
   "outputs": [
    {
     "name": "stdout",
     "output_type": "stream",
     "text": [
      "FeaturesDict({\n",
      "    'id': Text(shape=(), dtype=tf.string),\n",
      "    'image': Image(shape=(32, 32, 3), dtype=tf.uint8),\n",
      "    'label': ClassLabel(shape=(), dtype=tf.int64, num_classes=10),\n",
      "})\n"
     ]
    }
   ],
   "source": [
    "# Tensorflow 데이터셋을 로드하면 꼭 feature 정보를 확인해 보세요. \n",
    "print(ds_info.features)"
   ]
  },
  {
   "cell_type": "markdown",
   "id": "adequate-purchase",
   "metadata": {},
   "source": [
    "#### tf.dataset의 경우 numpy가 아니기 때문에 별도의 함수를 통해서 확인한다."
   ]
  },
  {
   "cell_type": "code",
   "execution_count": 5,
   "id": "coordinated-overhead",
   "metadata": {},
   "outputs": [
    {
     "name": "stdout",
     "output_type": "stream",
     "text": [
      "tf.Tensor(50000, shape=(), dtype=int64)\n",
      "tf.Tensor(10000, shape=(), dtype=int64)\n"
     ]
    }
   ],
   "source": [
    "# 데이터의 개수도 확인해 봅시다. \n",
    "print(tf.data.experimental.cardinality(ds_train))\n",
    "print(tf.data.experimental.cardinality(ds_test))"
   ]
  },
  {
   "cell_type": "markdown",
   "id": "correct-zimbabwe",
   "metadata": {},
   "source": [
    "데이터 normarlization"
   ]
  },
  {
   "cell_type": "markdown",
   "id": "laughing-personality",
   "metadata": {},
   "source": [
    "- 학습 속도 빠르게 + local optimum에 빠질 위험 줄이기 위해서"
   ]
  },
  {
   "cell_type": "code",
   "execution_count": 6,
   "id": "conventional-picking",
   "metadata": {},
   "outputs": [],
   "source": [
    "def normalize_and_resize_img(image, label): #map에 사용될 함수\n",
    "    \"\"\"Normalizes images: `uint8` -> `float32`.\"\"\"\n",
    "    # image = tf.image.resize(image, [32, 32])\n",
    "    return tf.cast(image, tf.float32) / 255., label"
   ]
  },
  {
   "cell_type": "code",
   "execution_count": 7,
   "id": "literary-frederick",
   "metadata": {},
   "outputs": [],
   "source": [
    "def apply_normalize_on_dataset(ds, is_test=False, batch_size=16):\n",
    "    ds = ds.map(\n",
    "        normalize_and_resize_img, \n",
    "        num_parallel_calls=1 #interleaving\n",
    "    )\n",
    "    ds = ds.batch(batch_size)\n",
    "    if not is_test:\n",
    "        ds = ds.repeat()\n",
    "        ds = ds.shuffle(200)\n",
    "    ds = ds.prefetch(tf.data.experimental.AUTOTUNE)\n",
    "    return ds"
   ]
  },
  {
   "cell_type": "code",
   "execution_count": 8,
   "id": "reasonable-valve",
   "metadata": {},
   "outputs": [
    {
     "data": {
      "text/plain": [
       "10"
      ]
     },
     "execution_count": 8,
     "metadata": {},
     "output_type": "execute_result"
    }
   ],
   "source": [
    "ds_info.features[\"label\"].num_classes"
   ]
  },
  {
   "cell_type": "code",
   "execution_count": 9,
   "id": "metric-binary",
   "metadata": {},
   "outputs": [
    {
     "data": {
      "text/plain": [
       "['airplane',\n",
       " 'automobile',\n",
       " 'bird',\n",
       " 'cat',\n",
       " 'deer',\n",
       " 'dog',\n",
       " 'frog',\n",
       " 'horse',\n",
       " 'ship',\n",
       " 'truck']"
      ]
     },
     "execution_count": 9,
     "metadata": {},
     "output_type": "execute_result"
    }
   ],
   "source": [
    "ds_info.features[\"label\"].names"
   ]
  },
  {
   "cell_type": "code",
   "execution_count": 10,
   "id": "accurate-swing",
   "metadata": {},
   "outputs": [
    {
     "data": {
      "image/png": "[encoded data removed]",
      "text/plain": [
       "<Figure size 648x648 with 9 Axes>"
      ]
     },
     "metadata": {},
     "output_type": "display_data"
    }
   ],
   "source": [
    "fig = tfds.show_examples(ds_train, ds_info)"
   ]
  },
  {
   "cell_type": "code",
   "execution_count": 11,
   "id": "approximate-portfolio",
   "metadata": {},
   "outputs": [
    {
     "data": {
      "image/png": "[encoded data removed]",
      "text/plain": [
       "<Figure size 648x648 with 9 Axes>"
      ]
     },
     "metadata": {},
     "output_type": "display_data"
    }
   ],
   "source": [
    "fig = tfds.show_examples(ds_test, ds_info)"
   ]
  },
  {
   "cell_type": "markdown",
   "id": "legendary-former",
   "metadata": {},
   "source": [
    "___"
   ]
  },
  {
   "cell_type": "markdown",
   "id": "biblical-agriculture",
   "metadata": {},
   "source": [
    "## 2. 모듈화 / 블록화"
   ]
  },
  {
   "cell_type": "markdown",
   "id": "buried-cancer",
   "metadata": {},
   "source": [
    "- 모델 구조를 필요 시 바꾸기 쉽도록!"
   ]
  },
  {
   "cell_type": "markdown",
   "id": "regulated-acting",
   "metadata": {},
   "source": [
    "![image](https://user-images.githubusercontent.com/86637320/134627078-f61cad5d-0ff3-40b6-b761-1fc7bf172387.png)\n"
   ]
  },
  {
   "cell_type": "markdown",
   "id": "several-elevation",
   "metadata": {},
   "source": [
    "VGG - 16, VGG - 19 우선 구현해보자."
   ]
  },
  {
   "cell_type": "markdown",
   "id": "possible-discovery",
   "metadata": {},
   "source": [
    "#### vgg_block : 동일한 채널 수, 커널 크기가 반복됨"
   ]
  },
  {
   "cell_type": "code",
   "execution_count": 12,
   "id": "particular-plastic",
   "metadata": {},
   "outputs": [],
   "source": [
    "# function for building VGG Block\n",
    "\n",
    "def build_vgg_block(input_layer,\n",
    "                    num_cnn=3, \n",
    "                    channel=64,\n",
    "                    block_num=1,\n",
    "                   ):\n",
    "    # 입력 레이어\n",
    "    x = input_layer\n",
    "\n",
    "    # CNN 레이어\n",
    "    for cnn_num in range(num_cnn):\n",
    "        x = keras.layers.Conv2D(\n",
    "            filters=channel,\n",
    "            kernel_size=(3,3),\n",
    "            activation='relu',\n",
    "            kernel_initializer='he_normal',\n",
    "            padding='same',\n",
    "            name=f'block{block_num}_conv{cnn_num}'\n",
    "        )(x)    \n",
    "\n",
    "    # Max Pooling 레이어\n",
    "    x = keras.layers.MaxPooling2D(\n",
    "        pool_size=(2, 2),\n",
    "        strides=2,\n",
    "        name=f'block{block_num}_pooling'\n",
    "    )(x)\n",
    "\n",
    "    return x"
   ]
  },
  {
   "cell_type": "markdown",
   "id": "forced-metallic",
   "metadata": {},
   "source": [
    "VGG block 1개짜리 모델 생성"
   ]
  },
  {
   "cell_type": "code",
   "execution_count": 13,
   "id": "higher-heritage",
   "metadata": {},
   "outputs": [],
   "source": [
    "vgg_input_layer = keras.layers.Input(shape=(32,32,3))   # 입력 레이어 생성\n",
    "vgg_block_output = build_vgg_block(vgg_input_layer)    # VGG 블록 생성"
   ]
  },
  {
   "cell_type": "code",
   "execution_count": 14,
   "id": "technical-allocation",
   "metadata": {
    "scrolled": true
   },
   "outputs": [
    {
     "name": "stdout",
     "output_type": "stream",
     "text": [
      "Model: \"model\"\n",
      "_________________________________________________________________\n",
      "Layer (type)                 Output Shape              Param #   \n",
      "=================================================================\n",
      "input_1 (InputLayer)         [(None, 32, 32, 3)]       0         \n",
      "_________________________________________________________________\n",
      "block1_conv0 (Conv2D)        (None, 32, 32, 64)        1792      \n",
      "_________________________________________________________________\n",
      "block1_conv1 (Conv2D)        (None, 32, 32, 64)        36928     \n",
      "_________________________________________________________________\n",
      "block1_conv2 (Conv2D)        (None, 32, 32, 64)        36928     \n",
      "_________________________________________________________________\n",
      "block1_pooling (MaxPooling2D (None, 16, 16, 64)        0         \n",
      "=================================================================\n",
      "Total params: 75,648\n",
      "Trainable params: 75,648\n",
      "Non-trainable params: 0\n",
      "_________________________________________________________________\n"
     ]
    }
   ],
   "source": [
    "# 블록 1개짜리 model 생성\n",
    "model = keras.Model(inputs=vgg_input_layer, outputs=vgg_block_output)  \n",
    "\n",
    "model.summary()"
   ]
  },
  {
   "cell_type": "markdown",
   "id": "israeli-religious",
   "metadata": {},
   "source": [
    "___"
   ]
  },
  {
   "cell_type": "markdown",
   "id": "auburn-assets",
   "metadata": {},
   "source": [
    "## 3. VGG 구현하기"
   ]
  },
  {
   "cell_type": "markdown",
   "id": "valued-optimum",
   "metadata": {},
   "source": [
    "VGG 16"
   ]
  },
  {
   "cell_type": "code",
   "execution_count": 15,
   "id": "noticed-parliament",
   "metadata": {},
   "outputs": [],
   "source": [
    "# VGG 모델 자체를 생성하는 함수입니다.\n",
    "def build_vgg(input_shape=(32,32,3),\n",
    "              num_cnn_list=[2,2,3,3,3],\n",
    "              channel_list=[64,128,256,512,512],\n",
    "              num_classes=10):\n",
    "    \n",
    "    assert len(num_cnn_list) == len(channel_list) #모델을 만들기 전에 config list들이 같은 길이인지 확인합니다.\n",
    "    \n",
    "    input_layer = keras.layers.Input(shape=input_shape)  # input layer를 만들어둡니다.\n",
    "    output = input_layer\n",
    "    \n",
    "    # config list들의 길이만큼 반복해서 블록을 생성합니다.\n",
    "    for i, (num_cnn, channel) in enumerate(zip(num_cnn_list, channel_list)):\n",
    "        output = build_vgg_block(\n",
    "            output,\n",
    "            num_cnn=num_cnn, \n",
    "            channel=channel,\n",
    "            block_num=i\n",
    "        )\n",
    "        \n",
    "    output = keras.layers.Flatten(name='flatten')(output)\n",
    "    output = keras.layers.Dense(4096, activation='relu', name='fc1')(output)\n",
    "    output = keras.layers.Dense(4096, activation='relu', name='fc2')(output)\n",
    "    output = keras.layers.Dense(num_classes, activation='softmax', name='predictions')(output)\n",
    "    \n",
    "    model = keras.Model(\n",
    "        inputs=input_layer, \n",
    "        outputs=output\n",
    "    )\n",
    "    return model"
   ]
  },
  {
   "cell_type": "code",
   "execution_count": 16,
   "id": "charitable-hygiene",
   "metadata": {},
   "outputs": [
    {
     "name": "stdout",
     "output_type": "stream",
     "text": [
      "Model: \"model_1\"\n",
      "_________________________________________________________________\n",
      "Layer (type)                 Output Shape              Param #   \n",
      "=================================================================\n",
      "input_2 (InputLayer)         [(None, 32, 32, 3)]       0         \n",
      "_________________________________________________________________\n",
      "block0_conv0 (Conv2D)        (None, 32, 32, 64)        1792      \n",
      "_________________________________________________________________\n",
      "block0_conv1 (Conv2D)        (None, 32, 32, 64)        36928     \n",
      "_________________________________________________________________\n",
      "block0_pooling (MaxPooling2D (None, 16, 16, 64)        0         \n",
      "_________________________________________________________________\n",
      "block1_conv0 (Conv2D)        (None, 16, 16, 128)       73856     \n",
      "_________________________________________________________________\n",
      "block1_conv1 (Conv2D)        (None, 16, 16, 128)       147584    \n",
      "_________________________________________________________________\n",
      "block1_pooling (MaxPooling2D (None, 8, 8, 128)         0         \n",
      "_________________________________________________________________\n",
      "block2_conv0 (Conv2D)        (None, 8, 8, 256)         295168    \n",
      "_________________________________________________________________\n",
      "block2_conv1 (Conv2D)        (None, 8, 8, 256)         590080    \n",
      "_________________________________________________________________\n",
      "block2_conv2 (Conv2D)        (None, 8, 8, 256)         590080    \n",
      "_________________________________________________________________\n",
      "block2_pooling (MaxPooling2D (None, 4, 4, 256)         0         \n",
      "_________________________________________________________________\n",
      "block3_conv0 (Conv2D)        (None, 4, 4, 512)         1180160   \n",
      "_________________________________________________________________\n",
      "block3_conv1 (Conv2D)        (None, 4, 4, 512)         2359808   \n",
      "_________________________________________________________________\n",
      "block3_conv2 (Conv2D)        (None, 4, 4, 512)         2359808   \n",
      "_________________________________________________________________\n",
      "block3_pooling (MaxPooling2D (None, 2, 2, 512)         0         \n",
      "_________________________________________________________________\n",
      "block4_conv0 (Conv2D)        (None, 2, 2, 512)         2359808   \n",
      "_________________________________________________________________\n",
      "block4_conv1 (Conv2D)        (None, 2, 2, 512)         2359808   \n",
      "_________________________________________________________________\n",
      "block4_conv2 (Conv2D)        (None, 2, 2, 512)         2359808   \n",
      "_________________________________________________________________\n",
      "block4_pooling (MaxPooling2D (None, 1, 1, 512)         0         \n",
      "_________________________________________________________________\n",
      "flatten (Flatten)            (None, 512)               0         \n",
      "_________________________________________________________________\n",
      "fc1 (Dense)                  (None, 4096)              2101248   \n",
      "_________________________________________________________________\n",
      "fc2 (Dense)                  (None, 4096)              16781312  \n",
      "_________________________________________________________________\n",
      "predictions (Dense)          (None, 10)                40970     \n",
      "=================================================================\n",
      "Total params: 33,638,218\n",
      "Trainable params: 33,638,218\n",
      "Non-trainable params: 0\n",
      "_________________________________________________________________\n"
     ]
    }
   ],
   "source": [
    "# 기본값을 그대로 사용해서 VGG 모델을 만들면 VGG-16이 됩니다.\n",
    "vgg_16 = build_vgg()\n",
    "\n",
    "vgg_16.summary()"
   ]
  },
  {
   "cell_type": "markdown",
   "id": "distinguished-audio",
   "metadata": {},
   "source": [
    "VGG 19"
   ]
  },
  {
   "cell_type": "code",
   "execution_count": 17,
   "id": "color-third",
   "metadata": {
    "scrolled": true
   },
   "outputs": [
    {
     "name": "stdout",
     "output_type": "stream",
     "text": [
      "Model: \"model_2\"\n",
      "_________________________________________________________________\n",
      "Layer (type)                 Output Shape              Param #   \n",
      "=================================================================\n",
      "input_3 (InputLayer)         [(None, 32, 32, 3)]       0         \n",
      "_________________________________________________________________\n",
      "block0_conv0 (Conv2D)        (None, 32, 32, 64)        1792      \n",
      "_________________________________________________________________\n",
      "block0_conv1 (Conv2D)        (None, 32, 32, 64)        36928     \n",
      "_________________________________________________________________\n",
      "block0_pooling (MaxPooling2D (None, 16, 16, 64)        0         \n",
      "_________________________________________________________________\n",
      "block1_conv0 (Conv2D)        (None, 16, 16, 128)       73856     \n",
      "_________________________________________________________________\n",
      "block1_conv1 (Conv2D)        (None, 16, 16, 128)       147584    \n",
      "_________________________________________________________________\n",
      "block1_pooling (MaxPooling2D (None, 8, 8, 128)         0         \n",
      "_________________________________________________________________\n",
      "block2_conv0 (Conv2D)        (None, 8, 8, 256)         295168    \n",
      "_________________________________________________________________\n",
      "block2_conv1 (Conv2D)        (None, 8, 8, 256)         590080    \n",
      "_________________________________________________________________\n",
      "block2_conv2 (Conv2D)        (None, 8, 8, 256)         590080    \n",
      "_________________________________________________________________\n",
      "block2_conv3 (Conv2D)        (None, 8, 8, 256)         590080    \n",
      "_________________________________________________________________\n",
      "block2_pooling (MaxPooling2D (None, 4, 4, 256)         0         \n",
      "_________________________________________________________________\n",
      "block3_conv0 (Conv2D)        (None, 4, 4, 512)         1180160   \n",
      "_________________________________________________________________\n",
      "block3_conv1 (Conv2D)        (None, 4, 4, 512)         2359808   \n",
      "_________________________________________________________________\n",
      "block3_conv2 (Conv2D)        (None, 4, 4, 512)         2359808   \n",
      "_________________________________________________________________\n",
      "block3_conv3 (Conv2D)        (None, 4, 4, 512)         2359808   \n",
      "_________________________________________________________________\n",
      "block3_pooling (MaxPooling2D (None, 2, 2, 512)         0         \n",
      "_________________________________________________________________\n",
      "block4_conv0 (Conv2D)        (None, 2, 2, 512)         2359808   \n",
      "_________________________________________________________________\n",
      "block4_conv1 (Conv2D)        (None, 2, 2, 512)         2359808   \n",
      "_________________________________________________________________\n",
      "block4_conv2 (Conv2D)        (None, 2, 2, 512)         2359808   \n",
      "_________________________________________________________________\n",
      "block4_conv3 (Conv2D)        (None, 2, 2, 512)         2359808   \n",
      "_________________________________________________________________\n",
      "block4_pooling (MaxPooling2D (None, 1, 1, 512)         0         \n",
      "_________________________________________________________________\n",
      "flatten (Flatten)            (None, 512)               0         \n",
      "_________________________________________________________________\n",
      "fc1 (Dense)                  (None, 4096)              2101248   \n",
      "_________________________________________________________________\n",
      "fc2 (Dense)                  (None, 4096)              16781312  \n",
      "_________________________________________________________________\n",
      "predictions (Dense)          (None, 10)                40970     \n",
      "=================================================================\n",
      "Total params: 38,947,914\n",
      "Trainable params: 38,947,914\n",
      "Non-trainable params: 0\n",
      "_________________________________________________________________\n"
     ]
    }
   ],
   "source": [
    "# 원하는 블록의 설계에 따라 매개변수로 리스트를 전달해 줍니다.\n",
    "vgg_19 = build_vgg(\n",
    "    num_cnn_list=[2,2,4,4,4],\n",
    "    channel_list=[64,128,256,512,512]\n",
    ")\n",
    "\n",
    "vgg_19.summary()"
   ]
  },
  {
   "cell_type": "markdown",
   "id": "congressional-underwear",
   "metadata": {},
   "source": [
    "___"
   ]
  },
  {
   "cell_type": "markdown",
   "id": "coordinate-arthritis",
   "metadata": {},
   "source": [
    "## VGG layer ablation"
   ]
  },
  {
   "cell_type": "markdown",
   "id": "demographic-cambridge",
   "metadata": {},
   "source": [
    "BATCH = 256, EPOCH = 20"
   ]
  },
  {
   "cell_type": "code",
   "execution_count": 18,
   "id": "compatible-developer",
   "metadata": {},
   "outputs": [],
   "source": [
    "BATCH_SIZE = 256\n",
    "EPOCH = 20"
   ]
  },
  {
   "cell_type": "code",
   "execution_count": 19,
   "id": "primary-protection",
   "metadata": {},
   "outputs": [],
   "source": [
    "(ds_train, ds_test), ds_info = tfds.load(\n",
    "    'cifar10',\n",
    "    split=['train', 'test'],\n",
    "    as_supervised=True,\n",
    "    shuffle_files=True,\n",
    "    with_info=True,\n",
    ")\n",
    "ds_train = apply_normalize_on_dataset(ds_train, batch_size=BATCH_SIZE) #normalization 진행\n",
    "ds_test = apply_normalize_on_dataset(ds_test, batch_size=BATCH_SIZE)"
   ]
  },
  {
   "cell_type": "markdown",
   "id": "consecutive-winner",
   "metadata": {},
   "source": [
    "#### VGG 16 훈련"
   ]
  },
  {
   "cell_type": "code",
   "execution_count": 20,
   "id": "changing-default",
   "metadata": {},
   "outputs": [
    {
     "name": "stdout",
     "output_type": "stream",
     "text": [
      "Epoch 1/20\n",
      "195/195 [==============================] - 74s 243ms/step - loss: 2.2337 - accuracy: 0.1612 - val_loss: 2.0275 - val_accuracy: 0.2504\n",
      "Epoch 2/20\n",
      "195/195 [==============================] - 63s 323ms/step - loss: 2.0107 - accuracy: 0.2727 - val_loss: 1.8931 - val_accuracy: 0.3229\n",
      "Epoch 3/20\n",
      "195/195 [==============================] - 46s 238ms/step - loss: 1.8662 - accuracy: 0.3299 - val_loss: 1.7766 - val_accuracy: 0.3695\n",
      "Epoch 4/20\n",
      "195/195 [==============================] - 53s 271ms/step - loss: 1.7550 - accuracy: 0.3649 - val_loss: 1.6799 - val_accuracy: 0.4062\n",
      "Epoch 5/20\n",
      "195/195 [==============================] - 46s 238ms/step - loss: 1.6685 - accuracy: 0.3991 - val_loss: 1.6081 - val_accuracy: 0.4173\n",
      "Epoch 6/20\n",
      "195/195 [==============================] - 47s 240ms/step - loss: 1.6126 - accuracy: 0.4156 - val_loss: 1.5599 - val_accuracy: 0.4490\n",
      "Epoch 7/20\n",
      "195/195 [==============================] - 47s 240ms/step - loss: 1.5477 - accuracy: 0.4412 - val_loss: 1.5137 - val_accuracy: 0.4463\n",
      "Epoch 8/20\n",
      "195/195 [==============================] - 47s 241ms/step - loss: 1.5069 - accuracy: 0.4533 - val_loss: 1.4574 - val_accuracy: 0.4728\n",
      "Epoch 9/20\n",
      "195/195 [==============================] - 47s 240ms/step - loss: 1.4694 - accuracy: 0.4693 - val_loss: 1.4259 - val_accuracy: 0.4892\n",
      "Epoch 10/20\n",
      "195/195 [==============================] - 47s 241ms/step - loss: 1.4272 - accuracy: 0.4868 - val_loss: 1.4213 - val_accuracy: 0.4792\n",
      "Epoch 11/20\n",
      "195/195 [==============================] - 47s 241ms/step - loss: 1.3813 - accuracy: 0.5046 - val_loss: 1.3772 - val_accuracy: 0.5136\n",
      "Epoch 12/20\n",
      "195/195 [==============================] - 47s 241ms/step - loss: 1.3614 - accuracy: 0.5116 - val_loss: 1.3142 - val_accuracy: 0.5349\n",
      "Epoch 13/20\n",
      "195/195 [==============================] - 47s 241ms/step - loss: 1.3197 - accuracy: 0.5264 - val_loss: 1.3107 - val_accuracy: 0.5324\n",
      "Epoch 14/20\n",
      "195/195 [==============================] - 47s 242ms/step - loss: 1.2758 - accuracy: 0.5446 - val_loss: 1.2766 - val_accuracy: 0.5507\n",
      "Epoch 15/20\n",
      "195/195 [==============================] - 47s 242ms/step - loss: 1.2379 - accuracy: 0.5607 - val_loss: 1.2827 - val_accuracy: 0.5452\n",
      "Epoch 16/20\n",
      "195/195 [==============================] - 47s 241ms/step - loss: 1.2116 - accuracy: 0.5669 - val_loss: 1.1952 - val_accuracy: 0.5724\n",
      "Epoch 17/20\n",
      "195/195 [==============================] - 47s 241ms/step - loss: 1.1811 - accuracy: 0.5808 - val_loss: 1.1871 - val_accuracy: 0.5822\n",
      "Epoch 18/20\n",
      "195/195 [==============================] - 47s 241ms/step - loss: 1.1609 - accuracy: 0.5875 - val_loss: 1.1914 - val_accuracy: 0.5763\n",
      "Epoch 19/20\n",
      "195/195 [==============================] - 47s 241ms/step - loss: 1.1193 - accuracy: 0.6020 - val_loss: 1.2207 - val_accuracy: 0.5783\n",
      "Epoch 20/20\n",
      "195/195 [==============================] - 47s 241ms/step - loss: 1.1024 - accuracy: 0.6118 - val_loss: 1.1631 - val_accuracy: 0.5910\n"
     ]
    }
   ],
   "source": [
    "vgg_16.compile(\n",
    "    loss='sparse_categorical_crossentropy',\n",
    "    optimizer=tf.keras.optimizers.SGD(lr=0.01, clipnorm=1.),\n",
    "    metrics=['accuracy'],\n",
    ")\n",
    "\n",
    "history_16 = vgg_16.fit(\n",
    "    ds_train,\n",
    "    steps_per_epoch=int(ds_info.splits['train'].num_examples/BATCH_SIZE),\n",
    "    validation_steps=int(ds_info.splits['test'].num_examples/BATCH_SIZE),\n",
    "    epochs=EPOCH,\n",
    "    validation_data=ds_test,\n",
    "    verbose=1,\n",
    "    use_multiprocessing=True,\n",
    ")"
   ]
  },
  {
   "cell_type": "markdown",
   "id": "athletic-example",
   "metadata": {},
   "source": [
    "#### VGG 19 훈련"
   ]
  },
  {
   "cell_type": "code",
   "execution_count": 21,
   "id": "charming-manor",
   "metadata": {},
   "outputs": [
    {
     "name": "stdout",
     "output_type": "stream",
     "text": [
      "Epoch 1/20\n",
      "195/195 [==============================] - 61s 287ms/step - loss: 2.2877 - accuracy: 0.1236 - val_loss: 2.1927 - val_accuracy: 0.1876\n",
      "Epoch 2/20\n",
      "195/195 [==============================] - 56s 286ms/step - loss: 2.1185 - accuracy: 0.2258 - val_loss: 1.9670 - val_accuracy: 0.2927\n",
      "Epoch 3/20\n",
      "195/195 [==============================] - 56s 286ms/step - loss: 1.9556 - accuracy: 0.2827 - val_loss: 1.8145 - val_accuracy: 0.3515\n",
      "Epoch 4/20\n",
      "195/195 [==============================] - 56s 285ms/step - loss: 1.8311 - accuracy: 0.3367 - val_loss: 1.7392 - val_accuracy: 0.3922\n",
      "Epoch 5/20\n",
      "195/195 [==============================] - 56s 286ms/step - loss: 1.7240 - accuracy: 0.3764 - val_loss: 1.6517 - val_accuracy: 0.4074\n",
      "Epoch 6/20\n",
      "195/195 [==============================] - 56s 288ms/step - loss: 1.6496 - accuracy: 0.4026 - val_loss: 1.5784 - val_accuracy: 0.4291\n",
      "Epoch 7/20\n",
      "195/195 [==============================] - 56s 289ms/step - loss: 1.6010 - accuracy: 0.4206 - val_loss: 1.5457 - val_accuracy: 0.4389\n",
      "Epoch 8/20\n",
      "195/195 [==============================] - 56s 287ms/step - loss: 1.5350 - accuracy: 0.4444 - val_loss: 1.5160 - val_accuracy: 0.4542\n",
      "Epoch 9/20\n",
      "195/195 [==============================] - 56s 287ms/step - loss: 1.4982 - accuracy: 0.4596 - val_loss: 1.5030 - val_accuracy: 0.4610\n",
      "Epoch 10/20\n",
      "195/195 [==============================] - 56s 288ms/step - loss: 1.4645 - accuracy: 0.4718 - val_loss: 1.4777 - val_accuracy: 0.4716\n",
      "Epoch 11/20\n",
      "195/195 [==============================] - 56s 287ms/step - loss: 1.4075 - accuracy: 0.4943 - val_loss: 1.3817 - val_accuracy: 0.4980\n",
      "Epoch 12/20\n",
      "195/195 [==============================] - 56s 287ms/step - loss: 1.3741 - accuracy: 0.5047 - val_loss: 1.3610 - val_accuracy: 0.5158\n",
      "Epoch 13/20\n",
      "195/195 [==============================] - 56s 286ms/step - loss: 1.3282 - accuracy: 0.5195 - val_loss: 1.3039 - val_accuracy: 0.5333\n",
      "Epoch 14/20\n",
      "195/195 [==============================] - 56s 287ms/step - loss: 1.2876 - accuracy: 0.5369 - val_loss: 1.2955 - val_accuracy: 0.5451\n",
      "Epoch 15/20\n",
      "195/195 [==============================] - 56s 288ms/step - loss: 1.2759 - accuracy: 0.5432 - val_loss: 1.2583 - val_accuracy: 0.5516\n",
      "Epoch 16/20\n",
      "195/195 [==============================] - 56s 287ms/step - loss: 1.2138 - accuracy: 0.5671 - val_loss: 1.2840 - val_accuracy: 0.5440\n",
      "Epoch 17/20\n",
      "195/195 [==============================] - 56s 289ms/step - loss: 1.1834 - accuracy: 0.5744 - val_loss: 1.2179 - val_accuracy: 0.5694\n",
      "Epoch 18/20\n",
      "195/195 [==============================] - 56s 286ms/step - loss: 1.1514 - accuracy: 0.5900 - val_loss: 1.1983 - val_accuracy: 0.5785\n",
      "Epoch 19/20\n",
      "195/195 [==============================] - 56s 287ms/step - loss: 1.1144 - accuracy: 0.6007 - val_loss: 1.1668 - val_accuracy: 0.5822\n",
      "Epoch 20/20\n",
      "195/195 [==============================] - 56s 287ms/step - loss: 1.0916 - accuracy: 0.6122 - val_loss: 1.1968 - val_accuracy: 0.5809\n"
     ]
    }
   ],
   "source": [
    "vgg_19.compile(\n",
    "    loss='sparse_categorical_crossentropy',\n",
    "    optimizer=tf.keras.optimizers.SGD(lr=0.01, clipnorm=1.),\n",
    "    metrics=['accuracy'],\n",
    ")\n",
    "\n",
    "history_19 = vgg_19.fit(\n",
    "    ds_train,\n",
    "    steps_per_epoch=int(ds_info.splits['train'].num_examples/BATCH_SIZE),\n",
    "    validation_steps=int(ds_info.splits['test'].num_examples/BATCH_SIZE),\n",
    "    epochs=EPOCH,\n",
    "    validation_data=ds_test,\n",
    "    verbose=1,\n",
    "    use_multiprocessing=True,\n",
    ")"
   ]
  },
  {
   "cell_type": "markdown",
   "id": "inside-marriage",
   "metadata": {},
   "source": [
    "#### VGG 16 - 19 비교"
   ]
  },
  {
   "cell_type": "markdown",
   "id": "respected-terrorism",
   "metadata": {},
   "source": [
    "loss"
   ]
  },
  {
   "cell_type": "code",
   "execution_count": 22,
   "id": "humanitarian-share",
   "metadata": {},
   "outputs": [
    {
     "data": {
      "image/png": "[encoded data removed]",
      "text/plain": [
       "<Figure size 432x288 with 1 Axes>"
      ]
     },
     "metadata": {
      "needs_background": "light"
     },
     "output_type": "display_data"
    }
   ],
   "source": [
    "import matplotlib.pyplot as plt\n",
    "\n",
    "plt.plot(history_16.history['loss'], 'r')\n",
    "plt.plot(history_19.history['loss'], 'b')\n",
    "plt.title('Model training loss')\n",
    "plt.ylabel('Loss')\n",
    "plt.xlabel('Epoch')\n",
    "plt.legend(['vgg_16', 'vgg_19'], loc='upper left')\n",
    "plt.show()"
   ]
  },
  {
   "cell_type": "markdown",
   "id": "exciting-transcription",
   "metadata": {},
   "source": [
    "accuracy"
   ]
  },
  {
   "cell_type": "code",
   "execution_count": 23,
   "id": "virtual-interim",
   "metadata": {
    "scrolled": true
   },
   "outputs": [
    {
     "data": {
      "image/png": "[encoded data removed]",
      "text/plain": [
       "<Figure size 432x288 with 1 Axes>"
      ]
     },
     "metadata": {
      "needs_background": "light"
     },
     "output_type": "display_data"
    }
   ],
   "source": [
    "plt.plot(history_16.history['val_accuracy'], 'r')\n",
    "plt.plot(history_19.history['val_accuracy'], 'b')\n",
    "plt.title('Model validation accuracy')\n",
    "plt.ylabel('Accuracy')\n",
    "plt.xlabel('Epoch')\n",
    "plt.legend(['vgg_16', 'vgg_19'], loc='upper left')\n",
    "plt.show()"
   ]
  },
  {
   "cell_type": "markdown",
   "id": "nasty-fiber",
   "metadata": {},
   "source": [
    "#### 20 Epochs만 진행했을 때 VGG16이 더 좋은 결과를 얻었지만 에포크를 늘릴 시 VGG19가 더 좋은 결과를 얻을 것으로 기대된다."
   ]
  },
  {
   "cell_type": "markdown",
   "id": "asian-woman",
   "metadata": {},
   "source": [
    "___"
   ]
  }
 ],
 "metadata": {
  "kernelspec": {
   "display_name": "Python 3",
   "language": "python",
   "name": "python3"
  },
  "language_info": {
   "codemirror_mode": {
    "name": "ipython",
    "version": 3
   },
   "file_extension": ".py",
   "mimetype": "text/x-python",
   "name": "python",
   "nbconvert_exporter": "python",
   "pygments_lexer": "ipython3",
   "version": "3.7.9"
  }
 },
 "nbformat": 4,
 "nbformat_minor": 5
}
