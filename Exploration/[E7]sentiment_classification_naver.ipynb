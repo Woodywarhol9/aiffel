{
 "cells": [
  {
   "cell_type": "markdown",
   "id": "sudden-vancouver",
   "metadata": {},
   "source": [
    "# 네이버 영화 리뷰 감성 분석하기"
   ]
  },
  {
   "cell_type": "markdown",
   "id": "rising-sunglasses",
   "metadata": {},
   "source": [
    "## 1. 데이터 준비하기"
   ]
  },
  {
   "cell_type": "markdown",
   "id": "significant-diesel",
   "metadata": {},
   "source": [
    "네이버 영화 리뷰 데이터 불러오기"
   ]
  },
  {
   "cell_type": "code",
   "execution_count": 1,
   "id": "addressed-throw",
   "metadata": {
    "scrolled": false
   },
   "outputs": [
    {
     "data": {
      "text/html": [
       "<div>\n",
       "<style scoped>\n",
       "    .dataframe tbody tr th:only-of-type {\n",
       "        vertical-align: middle;\n",
       "    }\n",
       "\n",
       "    .dataframe tbody tr th {\n",
       "        vertical-align: top;\n",
       "    }\n",
       "\n",
       "    .dataframe thead th {\n",
       "        text-align: right;\n",
       "    }\n",
       "</style>\n",
       "<table border=\"1\" class=\"dataframe\">\n",
       "  <thead>\n",
       "    <tr style=\"text-align: right;\">\n",
       "      <th></th>\n",
       "      <th>id</th>\n",
       "      <th>document</th>\n",
       "      <th>label</th>\n",
       "    </tr>\n",
       "  </thead>\n",
       "  <tbody>\n",
       "    <tr>\n",
       "      <th>0</th>\n",
       "      <td>9976970</td>\n",
       "      <td>아 더빙.. 진짜 짜증나네요 목소리</td>\n",
       "      <td>0</td>\n",
       "    </tr>\n",
       "    <tr>\n",
       "      <th>1</th>\n",
       "      <td>3819312</td>\n",
       "      <td>흠...포스터보고 초딩영화줄....오버연기조차 가볍지 않구나</td>\n",
       "      <td>1</td>\n",
       "    </tr>\n",
       "    <tr>\n",
       "      <th>2</th>\n",
       "      <td>10265843</td>\n",
       "      <td>너무재밓었다그래서보는것을추천한다</td>\n",
       "      <td>0</td>\n",
       "    </tr>\n",
       "    <tr>\n",
       "      <th>3</th>\n",
       "      <td>9045019</td>\n",
       "      <td>교도소 이야기구먼 ..솔직히 재미는 없다..평점 조정</td>\n",
       "      <td>0</td>\n",
       "    </tr>\n",
       "    <tr>\n",
       "      <th>4</th>\n",
       "      <td>6483659</td>\n",
       "      <td>사이몬페그의 익살스런 연기가 돋보였던 영화!스파이더맨에서 늙어보이기만 했던 커스틴 ...</td>\n",
       "      <td>1</td>\n",
       "    </tr>\n",
       "  </tbody>\n",
       "</table>\n",
       "</div>"
      ],
      "text/plain": [
       "         id                                           document  label\n",
       "0   9976970                                아 더빙.. 진짜 짜증나네요 목소리      0\n",
       "1   3819312                  흠...포스터보고 초딩영화줄....오버연기조차 가볍지 않구나      1\n",
       "2  10265843                                  너무재밓었다그래서보는것을추천한다      0\n",
       "3   9045019                      교도소 이야기구먼 ..솔직히 재미는 없다..평점 조정      0\n",
       "4   6483659  사이몬페그의 익살스런 연기가 돋보였던 영화!스파이더맨에서 늙어보이기만 했던 커스틴 ...      1"
      ]
     },
     "execution_count": 1,
     "metadata": {},
     "output_type": "execute_result"
    }
   ],
   "source": [
    "import pandas as pd\n",
    "import urllib.request\n",
    "%matplotlib inline\n",
    "import matplotlib.pyplot as plt\n",
    "import re\n",
    "from konlpy.tag import Okt\n",
    "from tensorflow import keras\n",
    "import tensorflow as tf\n",
    "from tensorflow.keras.preprocessing.text import Tokenizer\n",
    "import numpy as np\n",
    "from tensorflow.keras.preprocessing.sequence import pad_sequences\n",
    "from collections import Counter\n",
    "import seaborn as sns\n",
    "from sklearn.model_selection import train_test_split\n",
    "import os\n",
    "from gensim.models.keyedvectors import Word2VecKeyedVectors\n",
    "from konlpy.tag import Mecab\n",
    "import  gensim\n",
    "\n",
    "# 데이터를 읽어봅시다. \n",
    "train_data = pd.read_table('~/aiffel/sentiment_classification/data/ratings_train.txt')\n",
    "test_data = pd.read_table('~/aiffel/sentiment_classification/data/ratings_test.txt')\n",
    "\n",
    "train_data.head()"
   ]
  },
  {
   "cell_type": "markdown",
   "id": "cubic-algorithm",
   "metadata": {},
   "source": [
    "## 2. 데이터 로더 구성하기"
   ]
  },
  {
   "cell_type": "markdown",
   "id": "fatal-approval",
   "metadata": {},
   "source": [
    "data_to_word , word_to_index"
   ]
  },
  {
   "cell_type": "code",
   "execution_count": 2,
   "id": "intellectual-constant",
   "metadata": {
    "scrolled": true
   },
   "outputs": [
    {
     "name": "stdout",
     "output_type": "stream",
     "text": [
      "['아', '더', '빙', '.', '.', '진짜', '짜증', '나', '네요', '목소리', '흠', '.', '..', '포스터', '보고', '초딩', '영화', '줄', '.', '...', '오버', '연기', '조차', '가볍', '지', '않', '구나', '너무', '재', '밓었다그래서보는것을추천한다', '교도소', '이야기', '구먼', '.', '.', '솔직히', '재미', '없', '다', '.', '.', '평점', '조정', '사이몬페그', '익살', '스런', '연기', '돋보였', '던', '영화', '!', '스파이더맨', '에서', '늙', '어', '보이', '기', '만', '했', '던', '커스틴', '던스트', '너무나', '이뻐', '보였', '다', '막', '걸음마', '뗀', '3', '세', '부터', '초등', '학교', '1', '학년', '생', '인', '8', '살', '용', '영화', '.', 'ㅋㅋㅋ', '.', '..', '별반', '개', '아까움', '.', '원작', '긴장감', '을', '제대로', '살려', '내', '지', '못했', '다', '.']\n"
     ]
    }
   ],
   "source": [
    "tokenizer = Mecab()\n",
    "stopwords = ['의','가','이','은','들','는','좀','잘','걍','과','도','를','으로','자','에','와','한','하다']\n",
    "\n",
    "def load_data(train_data, test_data, num_words=10000):\n",
    "    train_data.drop_duplicates(subset=['document'], inplace=True) # 중복 sentence 제거\n",
    "    train_data = train_data.dropna(how = 'any')                   # 결측치 제거\n",
    "    test_data.drop_duplicates(subset=['document'], inplace=True)\n",
    "    test_data = test_data.dropna(how = 'any') \n",
    "    \n",
    "    X_train = [] #x_train 설정\n",
    "    for sentence in train_data['document']:\n",
    "        temp_X = tokenizer.morphs(sentence) # 문장 내 형태소 토큰화\n",
    "        temp_X = [word for word in temp_X if not word in stopwords] # 불용어 제거 temp_x 성분 중 stopwords가 아닌 것만 정리\n",
    "        X_train.append(temp_X)\n",
    "        \n",
    "        \n",
    "    X_test = []\n",
    "    for sentence in test_data['document']:\n",
    "        temp_X = tokenizer.morphs(sentence) # 형태소 토큰화\n",
    "        temp_X = [word for word in temp_X if not word in stopwords] # 불용어 제거\n",
    "        X_test.append(temp_X)\n",
    "        \n",
    "    words = np.concatenate(X_train).tolist() #np.concatenate : 서로 다른 길이의 문장 합치기. tolist : [[list],[list] ] 형태를 [list]\n",
    "    print(words[:100])\n",
    "    counter = Counter(words)\n",
    "    counter = counter.most_common(num_words-4) #pad, bos, unk, unused \n",
    "    vocab = ['<PAD>', '<BOS>', '<UNK>', '<UNUSED>'] + [key for key, _ in counter]\n",
    "    word_to_index = {word:index for index, word in enumerate(vocab)}\n",
    "        \n",
    "    def wordlist_to_indexlist(wordlist):\n",
    "        return [word_to_index[word] if word in word_to_index else word_to_index['<UNK>'] for word in wordlist]\n",
    "        \n",
    "    X_train = list(map(wordlist_to_indexlist, X_train))\n",
    "    X_test = list(map(wordlist_to_indexlist, X_test))\n",
    "        \n",
    "    return X_train, np.array(list(train_data['label'])), X_test, np.array(list(test_data['label'])), word_to_index , words\n",
    "    \n",
    "X_train, y_train, X_test, y_test, word_to_index, words = load_data(train_data, test_data) "
   ]
  },
  {
   "cell_type": "code",
   "execution_count": 3,
   "id": "pursuant-memorabilia",
   "metadata": {},
   "outputs": [
    {
     "name": "stdout",
     "output_type": "stream",
     "text": [
      "[32, 74, 919, 4, 4, 39, 228, 20, 33, 748]\n"
     ]
    },
    {
     "data": {
      "text/plain": [
       "{0: '<PAD>',\n",
       " 1: '<BOS>',\n",
       " 2: '<UNK>',\n",
       " 3: '<UNUSED>',\n",
       " 4: '.',\n",
       " 5: '영화',\n",
       " 6: '다',\n",
       " 7: '고',\n",
       " 8: '하',\n",
       " 9: '을',\n",
       " 10: '보',\n",
       " 11: '..',\n",
       " 12: '게',\n",
       " 13: ',',\n",
       " 14: '!',\n",
       " 15: '지',\n",
       " 16: '있',\n",
       " 17: '없',\n",
       " 18: '?',\n",
       " 19: '좋',\n",
       " 20: '나',\n",
       " 21: '었',\n",
       " 22: '만',\n",
       " 23: '는데',\n",
       " 24: '너무',\n",
       " 25: '봤',\n",
       " 26: '적',\n",
       " 27: '안',\n",
       " 28: '정말',\n",
       " 29: '로',\n",
       " 30: '음',\n",
       " 31: '것',\n",
       " 32: '아',\n",
       " 33: '네요',\n",
       " 34: '재밌',\n",
       " 35: '어',\n",
       " 36: '같',\n",
       " 37: '점',\n",
       " 38: '지만',\n",
       " 39: '진짜',\n",
       " 40: '했',\n",
       " 41: '에서',\n",
       " 42: '기',\n",
       " 43: '네',\n",
       " 44: '않',\n",
       " 45: '거',\n",
       " 46: '았',\n",
       " 47: '수',\n",
       " 48: '되',\n",
       " 49: '면',\n",
       " 50: 'ㅋㅋ',\n",
       " 51: '말',\n",
       " 52: '연기',\n",
       " 53: '인',\n",
       " 54: '주',\n",
       " 55: '내',\n",
       " 56: '최고',\n",
       " 57: '~',\n",
       " 58: '평점',\n",
       " 59: '이런',\n",
       " 60: '던',\n",
       " 61: '어요',\n",
       " 62: '할',\n",
       " 63: '왜',\n",
       " 64: '겠',\n",
       " 65: '1',\n",
       " 66: '스토리',\n",
       " 67: '해',\n",
       " 68: '습니다',\n",
       " 69: 'ㅋㅋㅋ',\n",
       " 70: '...',\n",
       " 71: '드라마',\n",
       " 72: '생각',\n",
       " 73: '아니',\n",
       " 74: '더',\n",
       " 75: '그',\n",
       " 76: '싶',\n",
       " 77: '사람',\n",
       " 78: '듯',\n",
       " 79: '때',\n",
       " 80: '감동',\n",
       " 81: '함',\n",
       " 82: '배우',\n",
       " 83: '본',\n",
       " 84: '까지',\n",
       " 85: '뭐',\n",
       " 86: '알',\n",
       " 87: '만들',\n",
       " 88: '내용',\n",
       " 89: '볼',\n",
       " 90: '감독',\n",
       " 91: '보다',\n",
       " 92: '라',\n",
       " 93: '그냥',\n",
       " 94: '재미',\n",
       " 95: '시간',\n",
       " 96: '지루',\n",
       " 97: '중',\n",
       " 98: '재미있',\n",
       " 99: '년',\n",
       " 100: '10',\n",
       " 101: '였',\n",
       " 102: '잼',\n",
       " 103: '사랑',\n",
       " 104: '못',\n",
       " 105: '냐',\n",
       " 106: '재미없',\n",
       " 107: '쓰레기',\n",
       " 108: '서',\n",
       " 109: '2',\n",
       " 110: '라고',\n",
       " 111: '야',\n",
       " 112: '니',\n",
       " 113: '면서',\n",
       " 114: '번',\n",
       " 115: '다시',\n",
       " 116: '나오',\n",
       " 117: '작품',\n",
       " 118: '이거',\n",
       " 119: '하나',\n",
       " 120: '줄',\n",
       " 121: '해서',\n",
       " 122: '개',\n",
       " 123: '남',\n",
       " 124: '정도',\n",
       " 125: '마지막',\n",
       " 126: '끝',\n",
       " 127: '이건',\n",
       " 128: '액션',\n",
       " 129: '임',\n",
       " 130: 'ㅋ',\n",
       " 131: '3',\n",
       " 132: '기대',\n",
       " 133: '입니다',\n",
       " 134: '건',\n",
       " 135: '라는',\n",
       " 136: '분',\n",
       " 137: '완전',\n",
       " 138: '다는',\n",
       " 139: '참',\n",
       " 140: '많',\n",
       " 141: '처음',\n",
       " 142: '장면',\n",
       " 143: '대',\n",
       " 144: '아깝',\n",
       " 145: '다가',\n",
       " 146: '으면',\n",
       " 147: '지금',\n",
       " 148: '모르',\n",
       " 149: '이렇게',\n",
       " 150: \"'\",\n",
       " 151: '편',\n",
       " 152: '일',\n",
       " 153: '돈',\n",
       " 154: '이게',\n",
       " 155: '성',\n",
       " 156: '느낌',\n",
       " 157: '시',\n",
       " 158: '이야기',\n",
       " 159: '최악',\n",
       " 160: '된',\n",
       " 161: '봐도',\n",
       " 162: '님',\n",
       " 163: '어서',\n",
       " 164: '애',\n",
       " 165: '전',\n",
       " 166: '넘',\n",
       " 167: 'ㅠㅠ',\n",
       " 168: '인데',\n",
       " 169: '다고',\n",
       " 170: '이해',\n",
       " 171: '별로',\n",
       " 172: '그리고',\n",
       " 173: '명작',\n",
       " 174: '여자',\n",
       " 175: '^^',\n",
       " 176: '역시',\n",
       " 177: '난',\n",
       " 178: '이상',\n",
       " 179: '또',\n",
       " 180: '걸',\n",
       " 181: '한국',\n",
       " 182: '는지',\n",
       " 183: '많이',\n",
       " 184: '에게',\n",
       " 185: '부터',\n",
       " 186: '만든',\n",
       " 187: '주인공',\n",
       " 188: '받',\n",
       " 189: '합니다',\n",
       " 190: '우리',\n",
       " 191: '두',\n",
       " 192: '살',\n",
       " 193: '!!',\n",
       " 194: '길',\n",
       " 195: '엔',\n",
       " 196: '괜찮',\n",
       " 197: '기억',\n",
       " 198: '연출',\n",
       " 199: '한다',\n",
       " 200: '때문',\n",
       " 201: '이나',\n",
       " 202: 'ㅎㅎ',\n",
       " 203: '요',\n",
       " 204: '저',\n",
       " 205: '재',\n",
       " 206: '꼭',\n",
       " 207: '랑',\n",
       " 208: '며',\n",
       " 209: '현실',\n",
       " 210: '긴',\n",
       " 211: 'ㅡㅡ',\n",
       " 212: '무슨',\n",
       " 213: '내내',\n",
       " 214: '결말',\n",
       " 215: '죽',\n",
       " 216: '남자',\n",
       " 217: '세요',\n",
       " 218: '전개',\n",
       " 219: '마음',\n",
       " 220: '소재',\n",
       " 221: '속',\n",
       " 222: '공포',\n",
       " 223: '아서',\n",
       " 224: '다른',\n",
       " 225: '씨',\n",
       " 226: '인생',\n",
       " 227: '~~',\n",
       " 228: '짜증',\n",
       " 229: '짱',\n",
       " 230: '뿐',\n",
       " 231: '은데',\n",
       " 232: '별',\n",
       " 233: '아요',\n",
       " 234: '유치',\n",
       " 235: '가장',\n",
       " 236: '필요',\n",
       " 237: '음악',\n",
       " 238: ')',\n",
       " 239: '일본',\n",
       " 240: '낮',\n",
       " 241: '아이',\n",
       " 242: ';;',\n",
       " 243: '오',\n",
       " 244: '반전',\n",
       " 245: '수준',\n",
       " 246: '다니',\n",
       " 247: '웃',\n",
       " 248: '매력',\n",
       " 249: '맞',\n",
       " 250: '인지',\n",
       " 251: '가슴',\n",
       " 252: '없이',\n",
       " 253: '원작',\n",
       " 254: 'ㄷ',\n",
       " 255: '인간',\n",
       " 256: '데',\n",
       " 257: '굿',\n",
       " 258: 'ㅠ',\n",
       " 259: '높',\n",
       " 260: '밋',\n",
       " 261: '(',\n",
       " 262: '만드',\n",
       " 263: '급',\n",
       " 264: '눈물',\n",
       " 265: '보여',\n",
       " 266: '준',\n",
       " 267: '찍',\n",
       " 268: '인가',\n",
       " 269: '노',\n",
       " 270: '을까',\n",
       " 271: '용',\n",
       " 272: '코미디',\n",
       " 273: '마',\n",
       " 274: '화',\n",
       " 275: '신',\n",
       " 276: '모든',\n",
       " 277: '쓰',\n",
       " 278: '여',\n",
       " 279: '5',\n",
       " 280: '아직',\n",
       " 281: '추천',\n",
       " 282: '처럼',\n",
       " 283: '눈',\n",
       " 284: '아닌',\n",
       " 285: '자체',\n",
       " 286: '울',\n",
       " 287: '몰입',\n",
       " 288: '4',\n",
       " 289: '대박',\n",
       " 290: '몇',\n",
       " 291: '스럽',\n",
       " 292: '실망',\n",
       " 293: '는다',\n",
       " 294: '대한',\n",
       " 295: '죠',\n",
       " 296: '란',\n",
       " 297: '그런',\n",
       " 298: '솔직히',\n",
       " 299: '캐릭터',\n",
       " 300: 'ㅎ',\n",
       " 301: '모두',\n",
       " 302: '아주',\n",
       " 303: '-',\n",
       " 304: '가족',\n",
       " 305: '여운',\n",
       " 306: '건지',\n",
       " 307: '전혀',\n",
       " 308: '연기력',\n",
       " 309: '나라',\n",
       " 310: '후',\n",
       " 311: '될',\n",
       " 312: '다면',\n",
       " 313: '뭔가',\n",
       " 314: '그래도',\n",
       " 315: ';',\n",
       " 316: '시리즈',\n",
       " 317: '근데',\n",
       " 318: '작',\n",
       " 319: '표현',\n",
       " 320: '모습',\n",
       " 321: '공감',\n",
       " 322: '계속',\n",
       " 323: '먹',\n",
       " 324: '\"\"',\n",
       " 325: '제목',\n",
       " 326: '7',\n",
       " 327: '이랑',\n",
       " 328: '극장',\n",
       " 329: '치',\n",
       " 330: '비',\n",
       " 331: '이걸',\n",
       " 332: '진',\n",
       " 333: '바',\n",
       " 334: '대사',\n",
       " 335: '부분',\n",
       " 336: '그렇',\n",
       " 337: '개봉',\n",
       " 338: '0',\n",
       " 339: 'OO',\n",
       " 340: '대단',\n",
       " 341: '어디',\n",
       " 342: '작가',\n",
       " 343: '된다',\n",
       " 344: '아쉽',\n",
       " 345: '기분',\n",
       " 346: '제',\n",
       " 347: '진심',\n",
       " 348: '타임',\n",
       " 349: '/',\n",
       " 350: '웃기',\n",
       " 351: '보이',\n",
       " 352: '놓',\n",
       " 353: '해도',\n",
       " 354: '이제',\n",
       " 355: '물',\n",
       " 356: '봐야',\n",
       " 357: '막장',\n",
       " 358: '삶',\n",
       " 359: '친구',\n",
       " 360: '잔잔',\n",
       " 361: '조금',\n",
       " 362: '씬',\n",
       " 363: '딱',\n",
       " 364: '영상',\n",
       " 365: '억지',\n",
       " 366: '찾',\n",
       " 367: '요즘',\n",
       " 368: '같이',\n",
       " 369: '중간',\n",
       " 370: '\"',\n",
       " 371: '구',\n",
       " 372: '라도',\n",
       " 373: '스릴러',\n",
       " 374: '가지',\n",
       " 375: '8',\n",
       " 376: '믿',\n",
       " 377: '싫',\n",
       " 378: '....',\n",
       " 379: '나왔',\n",
       " 380: '아까운',\n",
       " 381: '긴장감',\n",
       " 382: '점수',\n",
       " 383: '개인',\n",
       " 384: '제대로',\n",
       " 385: '부족',\n",
       " 386: '이유',\n",
       " 387: '노래',\n",
       " 388: '만큼',\n",
       " 389: '라면',\n",
       " 390: '시작',\n",
       " 391: '구나',\n",
       " 392: '잇',\n",
       " 393: '특히',\n",
       " 394: '한테',\n",
       " 395: '날',\n",
       " 396: '려고',\n",
       " 397: '제일',\n",
       " 398: '아름다운',\n",
       " 399: '시대',\n",
       " 400: 'ㅜㅜ',\n",
       " 401: '어떻게',\n",
       " 402: '엔딩',\n",
       " 403: '당시',\n",
       " 404: '하지만',\n",
       " 405: '나름',\n",
       " 406: '봐',\n",
       " 407: '무섭',\n",
       " 408: '나온',\n",
       " 409: '명',\n",
       " 410: '사',\n",
       " 411: '니까',\n",
       " 412: '오랜만',\n",
       " 413: '이것',\n",
       " 414: '해요',\n",
       " 415: '9',\n",
       " 416: '팬',\n",
       " 417: '차라리',\n",
       " 418: '절대',\n",
       " 419: '세상',\n",
       " 420: '세',\n",
       " 421: '못하',\n",
       " 422: '의미',\n",
       " 423: '던데',\n",
       " 424: '봄',\n",
       " 425: '욕',\n",
       " 426: '훌륭',\n",
       " 427: '너무나',\n",
       " 428: '강추',\n",
       " 429: '감',\n",
       " 430: '됨',\n",
       " 431: 'ㅡ',\n",
       " 432: '따뜻',\n",
       " 433: '빼',\n",
       " 434: '느끼',\n",
       " 435: '해야',\n",
       " 436: '드',\n",
       " 437: '도대체',\n",
       " 438: '어야',\n",
       " 439: '답답',\n",
       " 440: '마다',\n",
       " 441: '준다',\n",
       " 442: '글',\n",
       " 443: '전쟁',\n",
       " 444: '놈',\n",
       " 445: '설정',\n",
       " 446: '무엇',\n",
       " 447: '수작',\n",
       " 448: '만화',\n",
       " 449: '흥미',\n",
       " 450: '그저',\n",
       " 451: '감정',\n",
       " 452: '미국',\n",
       " 453: '신선',\n",
       " 454: '행복',\n",
       " 455: '뻔',\n",
       " 456: '형',\n",
       " 457: '앞',\n",
       " 458: '허접',\n",
       " 459: '어도',\n",
       " 460: '군',\n",
       " 461: '시절',\n",
       " 462: '관객',\n",
       " 463: '배경',\n",
       " 464: '6',\n",
       " 465: '초반',\n",
       " 466: '사실',\n",
       " 467: '웃음',\n",
       " 468: '답',\n",
       " 469: '엄청',\n",
       " 470: '더라',\n",
       " 471: '라니',\n",
       " 472: '질',\n",
       " 473: '자신',\n",
       " 474: '추억',\n",
       " 475: '캐스팅',\n",
       " 476: '첨',\n",
       " 477: '멋있',\n",
       " 478: '류',\n",
       " 479: '어색',\n",
       " 480: '시나리오',\n",
       " 481: '머',\n",
       " 482: '밖에',\n",
       " 483: 'OOO',\n",
       " 484: '슬프',\n",
       " 485: '정신',\n",
       " 486: '분위기',\n",
       " 487: '소름',\n",
       " 488: '멋진',\n",
       " 489: '힘들',\n",
       " 490: '오늘',\n",
       " 491: '어이없',\n",
       " 492: '봐서',\n",
       " 493: '잡',\n",
       " 494: '구성',\n",
       " 495: '엄마',\n",
       " 496: '함께',\n",
       " 497: '문제',\n",
       " 498: '위해',\n",
       " 499: '졸작',\n",
       " 500: '잊',\n",
       " 501: '이딴',\n",
       " 502: '등',\n",
       " 503: '집',\n",
       " 504: '유쾌',\n",
       " 505: '뻔한',\n",
       " 506: '킬링',\n",
       " 507: '스러운',\n",
       " 508: '결국',\n",
       " 509: '낫',\n",
       " 510: '한데',\n",
       " 511: '나요',\n",
       " 512: '뭘',\n",
       " 513: '소리',\n",
       " 514: '간',\n",
       " 515: '20',\n",
       " 516: '역사',\n",
       " 517: '뭔',\n",
       " 518: '제발',\n",
       " 519: '포스터',\n",
       " 520: '아무리',\n",
       " 521: '코믹',\n",
       " 522: '어떤',\n",
       " 523: '완벽',\n",
       " 524: '~~~',\n",
       " 525: '맘',\n",
       " 526: '얼마나',\n",
       " 527: '애니메이션',\n",
       " 528: '!!!',\n",
       " 529: '러',\n",
       " 530: '주연',\n",
       " 531: '원',\n",
       " 532: '난다',\n",
       " 533: '버리',\n",
       " 534: '어릴',\n",
       " 535: '♥',\n",
       " 536: '후회',\n",
       " 537: '진부',\n",
       " 538: '나올',\n",
       " 539: '됐',\n",
       " 540: '보단',\n",
       " 541: '책',\n",
       " 542: '장난',\n",
       " 543: '더니',\n",
       " 544: '영화관',\n",
       " 545: '큰',\n",
       " 546: '개연',\n",
       " 547: '둘',\n",
       " 548: '출연',\n",
       " 549: '보고',\n",
       " 550: '극',\n",
       " 551: 'ㅅ',\n",
       " 552: '밖',\n",
       " 553: '충격',\n",
       " 554: '여기',\n",
       " 555: '엇',\n",
       " 556: '잔인',\n",
       " 557: '아름답',\n",
       " 558: '얘기',\n",
       " 559: '줬',\n",
       " 560: '평가',\n",
       " 561: '꺼',\n",
       " 562: '예술',\n",
       " 563: '갈수록',\n",
       " 564: '매우',\n",
       " 565: '든',\n",
       " 566: '자기',\n",
       " 567: '위한',\n",
       " 568: '이리',\n",
       " 569: '봐라',\n",
       " 570: '이후',\n",
       " 571: '읽',\n",
       " 572: '반',\n",
       " 573: '얼굴',\n",
       " 574: '꽤',\n",
       " 575: '티비',\n",
       " 576: '이쁘',\n",
       " 577: '으나',\n",
       " 578: '별점',\n",
       " 579: '깊',\n",
       " 580: '옛날',\n",
       " 581: '불쌍',\n",
       " 582: '못한',\n",
       " 583: '겟',\n",
       " 584: '불',\n",
       " 585: '시청',\n",
       " 586: '순수',\n",
       " 587: '라서',\n",
       " 588: '낭비',\n",
       " 589: '언제',\n",
       " 590: '건가',\n",
       " 591: '비디오',\n",
       " 592: '애니',\n",
       " 593: '머리',\n",
       " 594: '장르',\n",
       " 595: '생각나',\n",
       " 596: '텐데',\n",
       " 597: '+',\n",
       " 598: '미',\n",
       " 599: '배',\n",
       " 600: '그래서',\n",
       " 601: ':',\n",
       " 602: '다운',\n",
       " 603: '주제',\n",
       " 604: '다큐',\n",
       " 605: '다음',\n",
       " 606: '궁금',\n",
       " 607: '아님',\n",
       " 608: '시키',\n",
       " 609: '누구',\n",
       " 610: '예전',\n",
       " 611: '그렇게',\n",
       " 612: '크',\n",
       " 613: '동안',\n",
       " 614: '뒤',\n",
       " 615: '그만',\n",
       " 616: '인상',\n",
       " 617: '상황',\n",
       " 618: '??',\n",
       " 619: '이름',\n",
       " 620: '미친',\n",
       " 621: '스릴',\n",
       " 622: '감사',\n",
       " 623: '시즌',\n",
       " 624: '아무',\n",
       " 625: '너',\n",
       " 626: '오래',\n",
       " 627: 'B',\n",
       " 628: '집중',\n",
       " 629: '힘',\n",
       " 630: '어느',\n",
       " 631: '본다',\n",
       " 632: '그러',\n",
       " 633: '로맨스',\n",
       " 634: '약간',\n",
       " 635: '나와서',\n",
       " 636: '진정',\n",
       " 637: '식',\n",
       " 638: '방송',\n",
       " 639: '그나마',\n",
       " 640: '까',\n",
       " 641: '짜리',\n",
       " 642: '마세요',\n",
       " 643: '소설',\n",
       " 644: '여주인공',\n",
       " 645: '몰',\n",
       " 646: '걸작',\n",
       " 647: '존나',\n",
       " 648: '그대로',\n",
       " 649: '죽이',\n",
       " 650: '인물',\n",
       " 651: '났',\n",
       " 652: '그것',\n",
       " 653: '회',\n",
       " 654: '떨어지',\n",
       " 655: '평',\n",
       " 656: '케',\n",
       " 657: '왔',\n",
       " 658: '에요',\n",
       " 659: '실화',\n",
       " 660: '꿈',\n",
       " 661: '대체',\n",
       " 662: '해라',\n",
       " 663: '훨씬',\n",
       " 664: '짓',\n",
       " 665: '무',\n",
       " 666: '사회',\n",
       " 667: '만점',\n",
       " 668: '발연기',\n",
       " 669: '구만',\n",
       " 670: '~!',\n",
       " 671: '전체',\n",
       " 672: 'ㅜ',\n",
       " 673: '비슷',\n",
       " 674: '누가',\n",
       " 675: '막',\n",
       " 676: '30',\n",
       " 677: '햇',\n",
       " 678: '끝나',\n",
       " 679: 'CG',\n",
       " 680: '엉성',\n",
       " 681: '귀엽',\n",
       " 682: '여주',\n",
       " 683: '단',\n",
       " 684: '영상미',\n",
       " 685: '중국',\n",
       " 686: '비교',\n",
       " 687: '초딩',\n",
       " 688: '감성',\n",
       " 689: '네이버',\n",
       " 690: '세계',\n",
       " 691: '여배우',\n",
       " 692: '는가',\n",
       " 693: 'ㅎㅎㅎ',\n",
       " 694: '순간',\n",
       " 695: '망',\n",
       " 696: '느껴',\n",
       " 697: '려는',\n",
       " 698: '나이',\n",
       " 699: ';;;',\n",
       " 700: '대해',\n",
       " 701: '상',\n",
       " 702: '첫',\n",
       " 703: '어렸',\n",
       " 704: '쯤',\n",
       " 705: '판',\n",
       " 706: '입',\n",
       " 707: '꿀',\n",
       " 708: '갔',\n",
       " 709: '어설픈',\n",
       " 710: '돋',\n",
       " 711: '셨',\n",
       " 712: '학교',\n",
       " 713: '더럽',\n",
       " 714: '타',\n",
       " 715: '생',\n",
       " 716: '100',\n",
       " 717: '혼자',\n",
       " 718: '아들',\n",
       " 719: '느낄',\n",
       " 720: '성룡',\n",
       " 721: '아야',\n",
       " 722: '가능',\n",
       " 723: '졸',\n",
       " 724: '어린',\n",
       " 725: '교훈',\n",
       " 726: '멋지',\n",
       " 727: '바로',\n",
       " 728: '나가',\n",
       " 729: '잘못',\n",
       " 730: '맛',\n",
       " 731: '.....',\n",
       " 732: '한마디',\n",
       " 733: '존',\n",
       " 734: '딸',\n",
       " 735: '당신',\n",
       " 736: '화려',\n",
       " 737: '길래',\n",
       " 738: '끌',\n",
       " 739: '티',\n",
       " 740: '판타지',\n",
       " 741: '삼류',\n",
       " 742: '잠',\n",
       " 743: '땜',\n",
       " 744: '든다',\n",
       " 745: '달',\n",
       " 746: '빨리',\n",
       " 747: '맨',\n",
       " 748: '목소리',\n",
       " 749: '똥',\n",
       " 750: '아까움',\n",
       " 751: '영',\n",
       " 752: '당',\n",
       " 753: '거의',\n",
       " 754: '듣',\n",
       " 755: '봤었',\n",
       " 756: '나온다',\n",
       " 757: '전부',\n",
       " 758: '차',\n",
       " 759: '독특',\n",
       " 760: '건데',\n",
       " 761: '다르',\n",
       " 762: '초',\n",
       " 763: 'ㅉㅉ',\n",
       " 764: '어른',\n",
       " 765: '가치',\n",
       " 766: '위',\n",
       " 767: '률',\n",
       " 768: '상당히',\n",
       " 769: '씩',\n",
       " 770: '90',\n",
       " 771: '다만',\n",
       " 772: '질질',\n",
       " 773: '아버지',\n",
       " 774: '넣',\n",
       " 775: '평론가',\n",
       " 776: '줄거리',\n",
       " 777: '한번',\n",
       " 778: '이번',\n",
       " 779: '갑자기',\n",
       " 780: '스타일',\n",
       " 781: '이러',\n",
       " 782: '그러나',\n",
       " 783: '여러',\n",
       " 784: '군요',\n",
       " 785: 'ㅂ',\n",
       " 786: '의도',\n",
       " 787: '저런',\n",
       " 788: '존재',\n",
       " 789: '허무',\n",
       " 790: '밑',\n",
       " 791: '%',\n",
       " 792: '부',\n",
       " 793: '대로',\n",
       " 794: '에선',\n",
       " 795: '째',\n",
       " 796: '각본',\n",
       " 797: '예상',\n",
       " 798: '성우',\n",
       " 799: '으면서',\n",
       " 800: '그녀',\n",
       " 801: '버린',\n",
       " 802: '화면',\n",
       " 803: '너무너무',\n",
       " 804: 'ㄱ',\n",
       " 805: '떠나',\n",
       " 806: '예쁘',\n",
       " 807: '비해',\n",
       " 808: '자연',\n",
       " 809: '담',\n",
       " 810: '그런지',\n",
       " 811: '뻔하',\n",
       " 812: '평범',\n",
       " 813: '굉장히',\n",
       " 814: '만나',\n",
       " 815: '슬픈',\n",
       " 816: '돼',\n",
       " 817: '못했',\n",
       " 818: '지루함',\n",
       " 819: '복수',\n",
       " 820: '관람',\n",
       " 821: '스',\n",
       " 822: '단순',\n",
       " 823: '댓글',\n",
       " 824: '중요',\n",
       " 825: '낸',\n",
       " 826: '새로운',\n",
       " 827: '피',\n",
       " 828: '앗',\n",
       " 829: '극장판',\n",
       " 830: '줌',\n",
       " 831: '갖',\n",
       " 832: '굳',\n",
       " 833: '제작',\n",
       " 834: '버렸',\n",
       " 835: '일단',\n",
       " 836: '만족',\n",
       " 837: '쉽',\n",
       " 838: '선택',\n",
       " 839: '아빠',\n",
       " 840: '쓴',\n",
       " 841: 'TV',\n",
       " 842: '요소',\n",
       " 843: '한편',\n",
       " 844: '불편',\n",
       " 845: '항상',\n",
       " 846: '거기',\n",
       " 847: '연출력',\n",
       " 848: '그때',\n",
       " 849: '롭',\n",
       " 850: '에로',\n",
       " 851: '산',\n",
       " 852: '탄탄',\n",
       " 853: '잃',\n",
       " 854: '한다는',\n",
       " 855: '발',\n",
       " 856: '나옴',\n",
       " 857: '예요',\n",
       " 858: '한심',\n",
       " 859: '흥행',\n",
       " 860: '물론',\n",
       " 861: '려',\n",
       " 862: '지나',\n",
       " 863: '따라',\n",
       " 864: '진행',\n",
       " 865: '점점',\n",
       " 866: '관계',\n",
       " 867: '전형',\n",
       " 868: '역대',\n",
       " 869: '편집',\n",
       " 870: '조',\n",
       " 871: '거나',\n",
       " 872: '아까워',\n",
       " 873: '법',\n",
       " 874: '던가',\n",
       " 875: '총',\n",
       " 876: '짧',\n",
       " 877: '이하',\n",
       " 878: '충분히',\n",
       " 879: '따',\n",
       " 880: '안타깝',\n",
       " 881: '에겐',\n",
       " 882: '아닌가',\n",
       " 883: '식상',\n",
       " 884: '몰랐',\n",
       " 885: '자꾸',\n",
       " 886: '훈훈',\n",
       " 887: '80',\n",
       " 888: '미안',\n",
       " 889: '김',\n",
       " 890: '화이팅',\n",
       " 891: '도록',\n",
       " 892: '게임',\n",
       " 893: '-_-',\n",
       " 894: '멜',\n",
       " 895: '원래',\n",
       " 896: '곳',\n",
       " 897: '그게',\n",
       " 898: '자극',\n",
       " 899: '몸',\n",
       " 900: '삼',\n",
       " 901: '손',\n",
       " 902: '장',\n",
       " 903: '구요',\n",
       " 904: '~!!',\n",
       " 905: '어쩔',\n",
       " 906: '팔',\n",
       " 907: '똑같',\n",
       " 908: '간다',\n",
       " 909: '나쁜',\n",
       " 910: '뭔지',\n",
       " 911: '사건',\n",
       " 912: '풀',\n",
       " 913: '설명',\n",
       " 914: '어울리',\n",
       " 915: '짜',\n",
       " 916: '귀신',\n",
       " 917: '잖아',\n",
       " 918: '과거',\n",
       " 919: '빙',\n",
       " 920: '노력',\n",
       " 921: '짐',\n",
       " 922: '그래픽',\n",
       " 923: '도저히',\n",
       " 924: '황당',\n",
       " 925: '조차',\n",
       " 926: '닿',\n",
       " 927: '됬',\n",
       " 928: '아프',\n",
       " 929: '중반',\n",
       " 930: '개그',\n",
       " 931: '듬',\n",
       " 932: '프랑스',\n",
       " 933: '코메디',\n",
       " 934: '홍콩',\n",
       " 935: '취향',\n",
       " 936: '빠져',\n",
       " 937: '죽음',\n",
       " 938: '했었',\n",
       " 939: '미치',\n",
       " 940: '역',\n",
       " 941: '속편',\n",
       " 942: '무조건',\n",
       " 943: '소중',\n",
       " 944: '프로',\n",
       " 945: '빠',\n",
       " 946: '무비',\n",
       " 947: '참신',\n",
       " 948: '이란',\n",
       " 949: '쳐',\n",
       " 950: '나쁘',\n",
       " 951: '멋',\n",
       " 952: '좋아하',\n",
       " 953: '아쉬운',\n",
       " 954: '더욱',\n",
       " 955: '넘치',\n",
       " 956: '병맛',\n",
       " 957: '괜히',\n",
       " 958: '진지',\n",
       " 959: '빠지',\n",
       " 960: '척',\n",
       " 961: '특유',\n",
       " 962: '또한',\n",
       " 963: '상상',\n",
       " 964: '숨',\n",
       " 965: '상영',\n",
       " 966: '결혼',\n",
       " 967: '리',\n",
       " 968: '짱짱',\n",
       " 969: '유명',\n",
       " 970: 'ost',\n",
       " 971: '심리',\n",
       " 972: '전설',\n",
       " 973: '무서운',\n",
       " 974: '헐',\n",
       " 975: '엄청난',\n",
       " 976: '오히려',\n",
       " 977: '인듯',\n",
       " 978: '비추',\n",
       " 979: '예고편',\n",
       " 980: '후반부',\n",
       " 981: '틀',\n",
       " 982: '더빙',\n",
       " 983: '아저씨',\n",
       " 984: '으니',\n",
       " 985: '고자',\n",
       " 986: '심하',\n",
       " 987: '바보',\n",
       " 988: '왕',\n",
       " 989: '연기자',\n",
       " 990: '촬영',\n",
       " 991: '그리',\n",
       " 992: '소녀',\n",
       " 993: '느꼈',\n",
       " 994: '끝내',\n",
       " 995: '로맨틱',\n",
       " 996: '조연',\n",
       " 997: '천재',\n",
       " 998: '아도',\n",
       " 999: '쩔',\n",
       " ...}"
      ]
     },
     "execution_count": 3,
     "metadata": {},
     "output_type": "execute_result"
    }
   ],
   "source": [
    "print(X_train[0])\n",
    "index_to_word = {index:word for word, index in word_to_index.items()}\n",
    "index_to_word"
   ]
  },
  {
   "cell_type": "markdown",
   "id": "prostate-mountain",
   "metadata": {},
   "source": [
    "#### encoder - decoder 정의"
   ]
  },
  {
   "cell_type": "code",
   "execution_count": 4,
   "id": "bound-panel",
   "metadata": {},
   "outputs": [],
   "source": [
    "# 문장 1개를 활용할 딕셔너리와 함께 주면, 단어 인덱스 리스트 벡터로 변환해 주는 함수입니다. \n",
    "# 단, 모든 문장은 <BOS>로 시작하는 것으로 합니다. \n",
    "def get_encoded_sentence(sentence, word_to_index):\n",
    "    return [word_to_index['<BOS>']]+[word_to_index[word] if word in word_to_index else word_to_index['<UNK>'] for word in sentence.split()]\n",
    "\n",
    "# 여러 개의 문장 리스트를 한꺼번에 단어 인덱스 리스트 벡터로 encode해 주는 함수입니다. \n",
    "def get_encoded_sentences(sentences, word_to_index):\n",
    "    return [get_encoded_sentence(sentence, word_to_index) for sentence in sentences]\n",
    "\n",
    "# 숫자 벡터로 encode된 문장을 원래대로 decode하는 함수입니다. \n",
    "def get_decoded_sentence(encoded_sentence, index_to_word):\n",
    "    return ' '.join(index_to_word[index] if index in index_to_word else '<UNK>' for index in encoded_sentence[1:])  #[1:]를 통해 <BOS>를 제외\n",
    "\n",
    "# 여러 개의 숫자 벡터로 encode된 문장을 한꺼번에 원래대로 decode하는 함수입니다. \n",
    "def get_decoded_sentences(encoded_sentences, index_to_word):\n",
    "    return [get_decoded_sentence(encoded_sentence, index_to_word) for encoded_sentence in encoded_sentences]"
   ]
  },
  {
   "cell_type": "code",
   "execution_count": 5,
   "id": "political-liberia",
   "metadata": {},
   "outputs": [
    {
     "data": {
      "text/plain": [
       "[1, 5, 6, 7, 8, 9, 10]"
      ]
     },
     "execution_count": 5,
     "metadata": {},
     "output_type": "execute_result"
    }
   ],
   "source": [
    "get_encoded_sentence('영화 다 고 하 을 보',word_to_index)"
   ]
  },
  {
   "cell_type": "markdown",
   "id": "removable-specification",
   "metadata": {},
   "source": [
    "## 2. 모델 구성을 위한 데이터 분석 및 가공"
   ]
  },
  {
   "cell_type": "code",
   "execution_count": 6,
   "id": "false-consumer",
   "metadata": {},
   "outputs": [
    {
     "name": "stdout",
     "output_type": "stream",
     "text": [
      "문장길이 평균 :  15.96940191154864\n",
      "문장길이 최대 :  116\n",
      "문장길이 표준편차 :  12.843571191092\n",
      "pad_sequences_maxlen :  54\n",
      "전체 문장의 0.9720946661956905%가 maxlen 설정값 이내에 포함됩니다. \n"
     ]
    },
    {
     "name": "stderr",
     "output_type": "stream",
     "text": [
      "/opt/conda/lib/python3.7/site-packages/seaborn/distributions.py:2557: FutureWarning: `distplot` is a deprecated function and will be removed in a future version. Please adapt your code to use either `displot` (a figure-level function with similar flexibility) or `histplot` (an axes-level function for histograms).\n",
      "  warnings.warn(msg, FutureWarning)\n"
     ]
    },
    {
     "data": {
      "text/plain": [
       "<AxesSubplot:xlabel='len', ylabel='Density'>"
      ]
     },
     "execution_count": 6,
     "metadata": {},
     "output_type": "execute_result"
    },
    {
     "data": {
      "image/png": "[encoded data removed]",
      "text/plain": [
       "<Figure size 1440x2160 with 1 Axes>"
      ]
     },
     "metadata": {
      "needs_background": "light"
     },
     "output_type": "display_data"
    }
   ],
   "source": [
    "total_data_text = list(X_train) + list(X_test)\n",
    "# 텍스트데이터 문장길이의 리스트를 생성한 후\n",
    "num_tokens = [len(tokens) for tokens in total_data_text] #데이터셋 마다 num_token 구하기!\n",
    "num_tokens = np.array(num_tokens)\n",
    "\n",
    "# 문장길이의 평균값, 최대값, 표준편차를 계산해 본다. \n",
    "print('문장길이 평균 : ', np.mean(num_tokens))\n",
    "print('문장길이 최대 : ', np.max(num_tokens))\n",
    "print('문장길이 표준편차 : ', np.std(num_tokens))\n",
    "\n",
    "# 예를들어, 최대 길이를 (평균 + 3*표준편차)로 한다면,  \n",
    "max_tokens = np.mean(num_tokens) + 3 * np.std(num_tokens)\n",
    "maxlen = int(max_tokens)\n",
    "print('pad_sequences_maxlen : ', maxlen)\n",
    "print('전체 문장의 {}%가 maxlen 설정값 이내에 포함됩니다. '.format(np.sum(num_tokens < max_tokens) / len(num_tokens)))\n",
    "\n",
    "#시각화\n",
    "fig, ax = plt.subplots(figsize=(20,30))\n",
    "\n",
    "num_tokens_pd = pd.DataFrame(num_tokens)\n",
    "num_tokens_pd.columns = [\"len\"]\n",
    "\n",
    "sns.distplot(num_tokens_pd['len'], ax = ax)"
   ]
  },
  {
   "cell_type": "markdown",
   "id": "uniform-spine",
   "metadata": {},
   "source": [
    "## 3. 모델 구성"
   ]
  },
  {
   "cell_type": "markdown",
   "id": "premium-senior",
   "metadata": {},
   "source": [
    "LSTM model"
   ]
  },
  {
   "cell_type": "markdown",
   "id": "completed-somalia",
   "metadata": {},
   "source": [
    "LSTM 이므로 pre padding 진행"
   ]
  },
  {
   "cell_type": "code",
   "execution_count": 7,
   "id": "civic-omaha",
   "metadata": {},
   "outputs": [
    {
     "name": "stdout",
     "output_type": "stream",
     "text": [
      "x_train : (116945, 54)\n",
      "x_valid :  (29237, 54)\n"
     ]
    }
   ],
   "source": [
    "#maxlen = 54\n",
    "X_train_rnn = keras.preprocessing.sequence.pad_sequences(X_train,\n",
    "                                                        value=word_to_index[\"<PAD>\"],\n",
    "                                                        padding='pre', # 혹은 'post'\n",
    "                                                        maxlen=maxlen)\n",
    "\n",
    "X_test_rnn = keras.preprocessing.sequence.pad_sequences(X_test,\n",
    "                                                       value=word_to_index[\"<PAD>\"],\n",
    "                                                       padding='pre', # 혹은 ''post\n",
    "                                                      maxlen=maxlen)\n",
    "y_train_rnn = y_train.copy()\n",
    "\n",
    "\n",
    "x_train_rnn , x_valid_rnn , y_train_rnn, y_valid_rnn = train_test_split(X_train_rnn,y_train_rnn,test_size = 0.2, random_state = 42)\n",
    "\n",
    "print(\"x_train :\",x_train_rnn.shape)\n",
    "print(\"x_valid : \",x_valid_rnn.shape)"
   ]
  },
  {
   "cell_type": "code",
   "execution_count": 8,
   "id": "immune-report",
   "metadata": {},
   "outputs": [
    {
     "name": "stdout",
     "output_type": "stream",
     "text": [
      "Model: \"sequential\"\n",
      "_________________________________________________________________\n",
      "Layer (type)                 Output Shape              Param #   \n",
      "=================================================================\n",
      "embedding (Embedding)        (None, None, 100)         1000000   \n",
      "_________________________________________________________________\n",
      "lstm (LSTM)                  (None, 8)                 3488      \n",
      "_________________________________________________________________\n",
      "dense (Dense)                (None, 8)                 72        \n",
      "_________________________________________________________________\n",
      "dense_1 (Dense)              (None, 1)                 9         \n",
      "=================================================================\n",
      "Total params: 1,003,569\n",
      "Trainable params: 1,003,569\n",
      "Non-trainable params: 0\n",
      "_________________________________________________________________\n"
     ]
    }
   ],
   "source": [
    "vocab_size = 10000    # 어휘 사전의 크기입니다(10,000개의 단어)\n",
    "word_vector_dim = 100  # 워드 벡터의 차원 수 (변경 가능한 하이퍼파라미터)\n",
    "\n",
    "# model_rnn 설계 - 딥러닝 모델 코드를 직접 작성해 주세요.\n",
    "model_rnn = keras.Sequential()\n",
    "model_rnn.add(keras.layers.Embedding(vocab_size, word_vector_dim, input_shape=(None,)))\n",
    "model_rnn.add(keras.layers.LSTM(8))   # 가장 널리 쓰이는 RNN인 LSTM 레이어를 사용하였습니다. \n",
    "model_rnn.add(keras.layers.Dense(8, activation='relu'))\n",
    "model_rnn.add(keras.layers.Dense(1, activation='sigmoid'))  # 최종 출력은 긍정/부정을 나타내는 1dim 입니다.\n",
    "\n",
    "model_rnn.summary()"
   ]
  },
  {
   "cell_type": "markdown",
   "id": "small-departure",
   "metadata": {},
   "source": [
    "모델 훈련"
   ]
  },
  {
   "cell_type": "code",
   "execution_count": 9,
   "id": "married-blocking",
   "metadata": {},
   "outputs": [
    {
     "name": "stdout",
     "output_type": "stream",
     "text": [
      "Epoch 1/20\n",
      "229/229 [==============================] - 9s 27ms/step - loss: 0.5611 - accuracy: 0.7586 - val_loss: 0.3617 - val_accuracy: 0.8464\n",
      "Epoch 2/20\n",
      "229/229 [==============================] - 5s 23ms/step - loss: 0.3294 - accuracy: 0.8655 - val_loss: 0.3477 - val_accuracy: 0.8484\n",
      "Epoch 3/20\n",
      "229/229 [==============================] - 5s 23ms/step - loss: 0.2972 - accuracy: 0.8783 - val_loss: 0.3428 - val_accuracy: 0.8501\n",
      "Epoch 4/20\n",
      "229/229 [==============================] - 5s 23ms/step - loss: 0.2811 - accuracy: 0.8845 - val_loss: 0.3493 - val_accuracy: 0.8515\n",
      "Epoch 5/20\n",
      "229/229 [==============================] - 5s 23ms/step - loss: 0.2658 - accuracy: 0.8904 - val_loss: 0.3490 - val_accuracy: 0.8507\n",
      "Epoch 6/20\n",
      "229/229 [==============================] - 5s 23ms/step - loss: 0.2463 - accuracy: 0.8994 - val_loss: 0.3516 - val_accuracy: 0.8538\n",
      "Epoch 7/20\n",
      "229/229 [==============================] - 5s 23ms/step - loss: 0.2292 - accuracy: 0.9072 - val_loss: 0.3689 - val_accuracy: 0.8554\n",
      "Epoch 8/20\n",
      "229/229 [==============================] - 5s 23ms/step - loss: 0.2109 - accuracy: 0.9150 - val_loss: 0.3695 - val_accuracy: 0.8552\n",
      "Epoch 9/20\n",
      "229/229 [==============================] - 5s 22ms/step - loss: 0.1970 - accuracy: 0.9222 - val_loss: 0.3930 - val_accuracy: 0.8533\n",
      "Epoch 10/20\n",
      "229/229 [==============================] - 5s 22ms/step - loss: 0.1869 - accuracy: 0.9260 - val_loss: 0.4173 - val_accuracy: 0.8518\n"
     ]
    }
   ],
   "source": [
    "#early stopping\n",
    "callback = tf.keras.callbacks.EarlyStopping(monitor='val_accuracy', patience=3)\n",
    "\n",
    "model_rnn.compile(optimizer='adam',\n",
    "              loss='binary_crossentropy',\n",
    "              metrics=['accuracy'])\n",
    "              \n",
    "epochs=20  # 몇 epoch를 훈련하면 좋을지 결과를 보면서 바꾸어 봅시다. \n",
    "\n",
    "history_rnn = model_rnn.fit(x_train_rnn,\n",
    "                    y_train_rnn,\n",
    "                    epochs=epochs,\n",
    "                    batch_size=512,\n",
    "                    validation_data=(x_valid_rnn, y_valid_rnn),\n",
    "                    verbose=1,callbacks=callback)"
   ]
  },
  {
   "cell_type": "code",
   "execution_count": 10,
   "id": "stopped-trinity",
   "metadata": {},
   "outputs": [
    {
     "name": "stdout",
     "output_type": "stream",
     "text": [
      "1537/1537 - 6s - loss: 0.4234 - accuracy: 0.8474\n",
      "[0.4234188497066498, 0.8474479913711548]\n"
     ]
    }
   ],
   "source": [
    "results_rnn = model_rnn.evaluate(X_test_rnn,  y_test, verbose=2)\n",
    "\n",
    "print(results_rnn)"
   ]
  },
  {
   "cell_type": "code",
   "execution_count": 11,
   "id": "limited-touch",
   "metadata": {
    "scrolled": true
   },
   "outputs": [
    {
     "data": {
      "image/png": "[encoded data removed]",
      "text/plain": [
       "<Figure size 720x720 with 2 Axes>"
      ]
     },
     "metadata": {
      "needs_background": "light"
     },
     "output_type": "display_data"
    }
   ],
   "source": [
    "history_rnn_dict = history_rnn.history\n",
    "\n",
    "acc = history_rnn_dict['accuracy']\n",
    "val_acc = history_rnn_dict['val_accuracy']\n",
    "loss = history_rnn_dict['loss']\n",
    "val_loss = history_rnn_dict['val_loss']\n",
    "\n",
    "epochs = range(1, len(acc) + 1)\n",
    "\n",
    "fig , ax = plt.subplots(1,2,figsize = (10,10))\n",
    "\n",
    "ax[0].plot(epochs, loss, 'r', label='Training loss')\n",
    "ax[0].plot(epochs, val_loss, 'b', label='Validation loss')\n",
    "ax[0].set_title('Training and validation loss')\n",
    "ax[0].set_xlabel('Epochs')\n",
    "ax[0].set_ylabel('Loss')\n",
    "ax[0].legend()\n",
    "\n",
    "ax[1].plot(epochs, acc, 'r', label='Training acc')\n",
    "ax[1].plot(epochs, val_acc, 'b', label='Validation acc')\n",
    "ax[1].set_title('Training and validation accuracy')\n",
    "ax[1].set_xlabel('Epochs')\n",
    "ax[1].set_ylabel('Accuracy')\n",
    "ax[1].legend()\n",
    "\n",
    "plt.show()"
   ]
  },
  {
   "cell_type": "markdown",
   "id": "lasting-chick",
   "metadata": {},
   "source": [
    "gensim 이용 word_to_vec"
   ]
  },
  {
   "cell_type": "code",
   "execution_count": 12,
   "id": "quantitative-ordinary",
   "metadata": {},
   "outputs": [],
   "source": [
    "#vocab size = 10000, word_vector_dim = 100\n",
    "# 학습한 Embedding 파라미터를 파일에 써서 저장합니다. \n",
    "word2vec_file_path = os.getenv('HOME')+'/aiffel/sentiment_classification/data/word2vec_rnn.txt'\n",
    "f = open(word2vec_file_path, 'w')\n",
    "f.write('{} {}\\n'.format(vocab_size-4, word_vector_dim))  # 몇개의 벡터를 얼마 사이즈로 기재할지 타이틀을 씁니다.\n",
    "\n",
    "# 단어 개수(에서 특수문자 4개는 제외하고)만큼의 워드 벡터를 파일에 기록합니다. \n",
    "vectors = model_rnn.get_weights()[0]\n",
    "for i in range(4,vocab_size):\n",
    "    f.write('{} {}\\n'.format(index_to_word[i], ' '.join(map(str, list(vectors[i, :])))))\n",
    "f.close()"
   ]
  },
  {
   "cell_type": "code",
   "execution_count": 13,
   "id": "matched-refrigerator",
   "metadata": {},
   "outputs": [],
   "source": [
    "word_vectors = Word2VecKeyedVectors.load_word2vec_format(word2vec_file_path, binary=False)"
   ]
  },
  {
   "cell_type": "markdown",
   "id": "attached-brooks",
   "metadata": {},
   "source": [
    "기준이 뭘까... "
   ]
  },
  {
   "cell_type": "code",
   "execution_count": 14,
   "id": "accepted-instrument",
   "metadata": {},
   "outputs": [
    {
     "data": {
      "text/plain": [
       "[('거의', 0.7676725387573242),\n",
       " ('매우', 0.7641090154647827),\n",
       " ('긴장감', 0.7619941234588623),\n",
       " ('넘', 0.7550836205482483),\n",
       " ('한마디', 0.7495607733726501),\n",
       " ('너무', 0.7440831661224365),\n",
       " ('난', 0.7353911399841309),\n",
       " ('이렇게', 0.7327897548675537),\n",
       " ('정말', 0.7252612113952637),\n",
       " ('몰입', 0.7158450484275818)]"
      ]
     },
     "execution_count": 14,
     "metadata": {},
     "output_type": "execute_result"
    }
   ],
   "source": [
    "word_vectors.similar_by_word(\"재미\")"
   ]
  },
  {
   "cell_type": "markdown",
   "id": "ahead-jackson",
   "metadata": {},
   "source": [
    "___"
   ]
  },
  {
   "cell_type": "markdown",
   "id": "hundred-meaning",
   "metadata": {},
   "source": [
    "1 - D CNN"
   ]
  },
  {
   "cell_type": "code",
   "execution_count": 15,
   "id": "focal-league",
   "metadata": {},
   "outputs": [
    {
     "name": "stdout",
     "output_type": "stream",
     "text": [
      "Model: \"sequential_1\"\n",
      "_________________________________________________________________\n",
      "Layer (type)                 Output Shape              Param #   \n",
      "=================================================================\n",
      "embedding_1 (Embedding)      (None, None, 100)         1000000   \n",
      "_________________________________________________________________\n",
      "conv1d (Conv1D)              (None, None, 16)          11216     \n",
      "_________________________________________________________________\n",
      "max_pooling1d (MaxPooling1D) (None, None, 16)          0         \n",
      "_________________________________________________________________\n",
      "conv1d_1 (Conv1D)            (None, None, 16)          1808      \n",
      "_________________________________________________________________\n",
      "global_max_pooling1d (Global (None, 16)                0         \n",
      "_________________________________________________________________\n",
      "dense_2 (Dense)              (None, 8)                 136       \n",
      "_________________________________________________________________\n",
      "dense_3 (Dense)              (None, 1)                 9         \n",
      "=================================================================\n",
      "Total params: 1,013,169\n",
      "Trainable params: 1,013,169\n",
      "Non-trainable params: 0\n",
      "_________________________________________________________________\n"
     ]
    }
   ],
   "source": [
    "vocab_size = 10000  # 어휘 사전의 크기입니다\n",
    "word_vector_dim = 100   # 단어 하나를 표현하는 임베딩 벡터의 차원 수입니다. \n",
    "\n",
    "model_cnn = keras.Sequential()\n",
    "model_cnn.add(keras.layers.Embedding(vocab_size, word_vector_dim, input_shape=(None,)))\n",
    "model_cnn.add(keras.layers.Conv1D(16, 7, activation='relu'))\n",
    "model_cnn.add(keras.layers.MaxPooling1D(5))\n",
    "model_cnn.add(keras.layers.Conv1D(16, 7, activation='relu'))\n",
    "model_cnn.add(keras.layers.GlobalMaxPooling1D())\n",
    "model_cnn.add(keras.layers.Dense(8, activation='relu'))\n",
    "model_cnn.add(keras.layers.Dense(1, activation='sigmoid'))  # 최종 출력은 긍정/부정을 나타내는 1dim 입니다.\n",
    "\n",
    "model_cnn.summary()"
   ]
  },
  {
   "cell_type": "code",
   "execution_count": 16,
   "id": "tough-shape",
   "metadata": {},
   "outputs": [
    {
     "name": "stdout",
     "output_type": "stream",
     "text": [
      "Epoch 1/20\n",
      "229/229 [==============================] - 11s 36ms/step - loss: 0.6151 - accuracy: 0.6277 - val_loss: 0.4301 - val_accuracy: 0.7919\n",
      "Epoch 2/20\n",
      "229/229 [==============================] - 5s 21ms/step - loss: 0.3909 - accuracy: 0.8183 - val_loss: 0.4159 - val_accuracy: 0.7981\n",
      "Epoch 3/20\n",
      "229/229 [==============================] - 5s 20ms/step - loss: 0.3377 - accuracy: 0.8471 - val_loss: 0.4261 - val_accuracy: 0.7983\n",
      "Epoch 4/20\n",
      "229/229 [==============================] - 4s 19ms/step - loss: 0.2692 - accuracy: 0.8824 - val_loss: 0.4547 - val_accuracy: 0.7940\n",
      "Epoch 5/20\n",
      "229/229 [==============================] - 4s 19ms/step - loss: 0.2105 - accuracy: 0.9095 - val_loss: 0.5243 - val_accuracy: 0.7888\n",
      "Epoch 6/20\n",
      "229/229 [==============================] - 4s 19ms/step - loss: 0.1638 - accuracy: 0.9282 - val_loss: 0.5944 - val_accuracy: 0.7838\n"
     ]
    }
   ],
   "source": [
    "#early stopping\n",
    "callback = tf.keras.callbacks.EarlyStopping(monitor='val_accuracy', patience=3)\n",
    "\n",
    "model_cnn.compile(optimizer='adam',\n",
    "              loss='binary_crossentropy',\n",
    "              metrics=['accuracy'])\n",
    "              \n",
    "epochs=20  # 몇 epoch를 훈련하면 좋을지 결과를 보면서 바꾸어 봅시다. \n",
    "\n",
    "history_cnn = model_cnn.fit(x_train_rnn,\n",
    "                    y_train_rnn,\n",
    "                    epochs=epochs,\n",
    "                    batch_size=512,\n",
    "                    validation_data=(x_valid_rnn, y_valid_rnn),\n",
    "                    verbose=1,callbacks=callback)"
   ]
  },
  {
   "cell_type": "code",
   "execution_count": 17,
   "id": "vital-england",
   "metadata": {},
   "outputs": [
    {
     "name": "stdout",
     "output_type": "stream",
     "text": [
      "1537/1537 - 5s - loss: 0.5973 - accuracy: 0.7840\n",
      "[0.5972736477851868, 0.7839575409889221]\n"
     ]
    }
   ],
   "source": [
    "results_cnn = model_cnn.evaluate(X_test_rnn,  y_test, verbose=2)\n",
    "\n",
    "print(results_cnn)"
   ]
  },
  {
   "cell_type": "code",
   "execution_count": 18,
   "id": "married-credit",
   "metadata": {},
   "outputs": [
    {
     "data": {
      "image/png": "[encoded data removed]",
      "text/plain": [
       "<Figure size 720x720 with 2 Axes>"
      ]
     },
     "metadata": {
      "needs_background": "light"
     },
     "output_type": "display_data"
    }
   ],
   "source": [
    "history_cnn_dict = history_cnn.history\n",
    "\n",
    "acc = history_cnn_dict['accuracy']\n",
    "val_acc = history_cnn_dict['val_accuracy']\n",
    "loss = history_cnn_dict['loss']\n",
    "val_loss = history_cnn_dict['val_loss']\n",
    "\n",
    "epochs = range(1, len(acc) + 1)\n",
    "\n",
    "fig , ax = plt.subplots(1,2,figsize = (10,10))\n",
    "\n",
    "ax[0].plot(epochs, loss, 'r', label='Training loss')\n",
    "ax[0].plot(epochs, val_loss, 'b', label='Validation loss')\n",
    "ax[0].set_title('Training and validation loss')\n",
    "ax[0].set_xlabel('Epochs')\n",
    "ax[0].set_ylabel('Loss')\n",
    "ax[0].legend()\n",
    "\n",
    "ax[1].plot(epochs, acc, 'r', label='Training acc')\n",
    "ax[1].plot(epochs, val_acc, 'b', label='Validation acc')\n",
    "ax[1].set_title('Training and validation accuracy')\n",
    "ax[1].set_xlabel('Epochs')\n",
    "ax[1].set_ylabel('Accuracy')\n",
    "ax[1].legend()\n",
    "\n",
    "plt.show()"
   ]
  },
  {
   "cell_type": "code",
   "execution_count": 19,
   "id": "moving-lyric",
   "metadata": {},
   "outputs": [],
   "source": [
    "#vocab size = 10000, word_vector_dim = 100\n",
    "# 학습한 Embedding 파라미터를 파일에 써서 저장합니다. \n",
    "word2vec_file_path = os.getenv('HOME')+'/aiffel/sentiment_classification/data/word2vec_cnn.txt'\n",
    "f = open(word2vec_file_path, 'w')\n",
    "f.write('{} {}\\n'.format(vocab_size-4, word_vector_dim))  # 몇개의 벡터를 얼마 사이즈로 기재할지 타이틀을 씁니다.\n",
    "\n",
    "# 단어 개수(에서 특수문자 4개는 제외하고)만큼의 워드 벡터를 파일에 기록합니다. \n",
    "vectors = model_cnn.get_weights()[0]\n",
    "for i in range(4,vocab_size):\n",
    "    f.write('{} {}\\n'.format(index_to_word[i], ' '.join(map(str, list(vectors[i, :])))))\n",
    "f.close()"
   ]
  },
  {
   "cell_type": "code",
   "execution_count": 20,
   "id": "collectible-fellow",
   "metadata": {},
   "outputs": [
    {
     "data": {
      "text/plain": [
       "[('야말로', 0.4988921880722046),\n",
       " ('우기', 0.473939448595047),\n",
       " ('마법', 0.4632434546947479),\n",
       " ('못생긴', 0.461357980966568),\n",
       " ('막', 0.4610389173030853),\n",
       " ('또라이', 0.4603385627269745),\n",
       " ('했으나', 0.45340120792388916),\n",
       " ('몰라요', 0.4502134621143341),\n",
       " ('남북', 0.448657751083374),\n",
       " ('싸워', 0.4394008219242096)]"
      ]
     },
     "execution_count": 20,
     "metadata": {},
     "output_type": "execute_result"
    }
   ],
   "source": [
    "word_vectors = Word2VecKeyedVectors.load_word2vec_format(word2vec_file_path, binary=False)\n",
    "word_vectors.similar_by_word(\"재미\")"
   ]
  },
  {
   "cell_type": "markdown",
   "id": "developed-chaos",
   "metadata": {},
   "source": [
    "GRU"
   ]
  },
  {
   "cell_type": "code",
   "execution_count": 21,
   "id": "indonesian-horizon",
   "metadata": {},
   "outputs": [
    {
     "name": "stdout",
     "output_type": "stream",
     "text": [
      "Model: \"sequential_2\"\n",
      "_________________________________________________________________\n",
      "Layer (type)                 Output Shape              Param #   \n",
      "=================================================================\n",
      "embedding_2 (Embedding)      (None, None, 100)         1000000   \n",
      "_________________________________________________________________\n",
      "gru (GRU)                    (None, 128)               88320     \n",
      "_________________________________________________________________\n",
      "dense_4 (Dense)              (None, 1)                 129       \n",
      "=================================================================\n",
      "Total params: 1,088,449\n",
      "Trainable params: 1,088,449\n",
      "Non-trainable params: 0\n",
      "_________________________________________________________________\n"
     ]
    }
   ],
   "source": [
    "vocab_size = 10000  # 어휘 사전의 크기입니다\n",
    "word_vector_dim = 100   # 단어 하나를 표현하는 임베딩 벡터의 차원 수입니다. \n",
    "\n",
    "model_gru = keras.Sequential()\n",
    "model_gru.add(keras.layers.Embedding(vocab_size, 100))\n",
    "model_gru.add(keras.layers.GRU(128))\n",
    "model_gru.add(keras.layers.Dense(1, activation='sigmoid'))\n",
    "\n",
    "model_gru.summary()"
   ]
  },
  {
   "cell_type": "code",
   "execution_count": 22,
   "id": "incident-attendance",
   "metadata": {},
   "outputs": [
    {
     "name": "stdout",
     "output_type": "stream",
     "text": [
      "Epoch 1/20\n",
      "229/229 [==============================] - 4s 19ms/step - loss: 0.1364 - accuracy: 0.9385 - val_loss: 0.6746 - val_accuracy: 0.7802\n",
      "Epoch 2/20\n",
      "229/229 [==============================] - 4s 19ms/step - loss: 0.1158 - accuracy: 0.9457 - val_loss: 0.7632 - val_accuracy: 0.7802\n",
      "Epoch 3/20\n",
      "229/229 [==============================] - 4s 19ms/step - loss: 0.1022 - accuracy: 0.9513 - val_loss: 0.8562 - val_accuracy: 0.7797\n",
      "Epoch 4/20\n",
      "229/229 [==============================] - 4s 19ms/step - loss: 0.0938 - accuracy: 0.9547 - val_loss: 0.9239 - val_accuracy: 0.7784\n",
      "Epoch 5/20\n",
      "229/229 [==============================] - 4s 19ms/step - loss: 0.0872 - accuracy: 0.9567 - val_loss: 1.0505 - val_accuracy: 0.7735\n"
     ]
    }
   ],
   "source": [
    "#early stopping\n",
    "callback = tf.keras.callbacks.EarlyStopping(monitor='val_accuracy', patience=3)\n",
    "\n",
    "model_gru.compile(optimizer='adam',\n",
    "              loss='binary_crossentropy',\n",
    "              metrics=['accuracy'])\n",
    "              \n",
    "epochs=20  # 몇 epoch를 훈련하면 좋을지 결과를 보면서 바꾸어 봅시다. \n",
    "\n",
    "history_gru = model_cnn.fit(x_train_rnn,\n",
    "                    y_train_rnn,\n",
    "                    epochs=epochs,\n",
    "                    batch_size=512,\n",
    "                    validation_data=(x_valid_rnn, y_valid_rnn),\n",
    "                    verbose=1,callbacks=callback)"
   ]
  },
  {
   "cell_type": "code",
   "execution_count": 23,
   "id": "periodic-ground",
   "metadata": {},
   "outputs": [
    {
     "name": "stdout",
     "output_type": "stream",
     "text": [
      "1537/1537 - 7s - loss: 0.6938 - accuracy: 0.4734\n",
      "[0.6937904953956604, 0.4734219014644623]\n"
     ]
    }
   ],
   "source": [
    "results_gru = model_gru.evaluate(X_test_rnn,  y_test, verbose=2)\n",
    "\n",
    "print(results_gru)"
   ]
  },
  {
   "cell_type": "code",
   "execution_count": 24,
   "id": "weighted-efficiency",
   "metadata": {},
   "outputs": [
    {
     "data": {
      "image/png": "[encoded data removed]",
      "text/plain": [
       "<Figure size 720x720 with 2 Axes>"
      ]
     },
     "metadata": {
      "needs_background": "light"
     },
     "output_type": "display_data"
    }
   ],
   "source": [
    "history_gru_dict = history_gru.history\n",
    "\n",
    "acc = history_gru_dict['accuracy']\n",
    "val_acc = history_gru_dict['val_accuracy']\n",
    "loss = history_gru_dict['loss']\n",
    "val_loss = history_gru_dict['val_loss']\n",
    "\n",
    "epochs = range(1, len(acc) + 1)\n",
    "\n",
    "fig , ax = plt.subplots(1,2,figsize = (10,10))\n",
    "\n",
    "ax[0].plot(epochs, loss, 'r', label='Training loss')\n",
    "ax[0].plot(epochs, val_loss, 'b', label='Validation loss')\n",
    "ax[0].set_title('Training and validation loss')\n",
    "ax[0].set_xlabel('Epochs')\n",
    "ax[0].set_ylabel('Loss')\n",
    "ax[0].legend()\n",
    "\n",
    "ax[1].plot(epochs, acc, 'r', label='Training acc')\n",
    "ax[1].plot(epochs, val_acc, 'b', label='Validation acc')\n",
    "ax[1].set_title('Training and validation accuracy')\n",
    "ax[1].set_xlabel('Epochs')\n",
    "ax[1].set_ylabel('Accuracy')\n",
    "ax[1].legend()\n",
    "\n",
    "plt.show()"
   ]
  },
  {
   "cell_type": "code",
   "execution_count": 25,
   "id": "marine-assurance",
   "metadata": {},
   "outputs": [],
   "source": [
    "#vocab size = 10000, word_vector_dim = 100\n",
    "# 학습한 Embedding 파라미터를 파일에 써서 저장합니다. \n",
    "word2vec_file_path = os.getenv('HOME')+'/aiffel/sentiment_classification/data/word2vec_gru.txt'\n",
    "f = open(word2vec_file_path, 'w')\n",
    "f.write('{} {}\\n'.format(vocab_size-4, word_vector_dim))  # 몇개의 벡터를 얼마 사이즈로 기재할지 타이틀을 씁니다.\n",
    "\n",
    "# 단어 개수(에서 특수문자 4개는 제외하고)만큼의 워드 벡터를 파일에 기록합니다. \n",
    "vectors = model_gru.get_weights()[0]\n",
    "for i in range(4,vocab_size):\n",
    "    f.write('{} {}\\n'.format(index_to_word[i], ' '.join(map(str, list(vectors[i, :])))))\n",
    "f.close()"
   ]
  },
  {
   "cell_type": "markdown",
   "id": "warming-textbook",
   "metadata": {},
   "source": [
    "결과가 충격적이다."
   ]
  },
  {
   "cell_type": "code",
   "execution_count": 26,
   "id": "fundamental-brooklyn",
   "metadata": {},
   "outputs": [
    {
     "data": {
      "text/plain": [
       "[('복습', 0.43902328610420227),\n",
       " ('설레', 0.41624364256858826),\n",
       " ('한심', 0.36323878169059753),\n",
       " ('무모', 0.3550788164138794),\n",
       " ('천재', 0.34821033477783203),\n",
       " ('도배', 0.3402595520019531),\n",
       " ('범인', 0.3361009359359741),\n",
       " ('떨어져서', 0.3185499310493469),\n",
       " ('_', 0.31172335147857666),\n",
       " ('스타뎀', 0.3115297555923462)]"
      ]
     },
     "execution_count": 26,
     "metadata": {},
     "output_type": "execute_result"
    }
   ],
   "source": [
    "word_vectors = Word2VecKeyedVectors.load_word2vec_format(word2vec_file_path, binary=False)\n",
    "word_vectors.similar_by_word(\"재미\")"
   ]
  },
  {
   "cell_type": "markdown",
   "id": "unlimited-philip",
   "metadata": {},
   "source": [
    "## 4. 결과 "
   ]
  },
  {
   "cell_type": "markdown",
   "id": "average-ambassador",
   "metadata": {},
   "source": [
    "사전 훈련된 word2vec을 사용하지 않았을 때 LSTM 모델이 0.8474로 가장 높은 정확도를 기록했다."
   ]
  },
  {
   "attachments": {
    "image-2.png": {
     "image/png": "[encoded data removed]"
    }
   },
   "cell_type": "markdown",
   "id": "bored-lobby",
   "metadata": {},
   "source": [
    "![image-2.png](attachment:image-2.png)"
   ]
  },
  {
   "cell_type": "markdown",
   "id": "printable-mirror",
   "metadata": {},
   "source": [
    "## 5. 한국어 word2vec을 이용한 성능 개선"
   ]
  },
  {
   "cell_type": "markdown",
   "id": "danish-emergency",
   "metadata": {},
   "source": [
    "LSTM 모델은 word2vec을 사용하기 전에도 0.8474의 정확도를 기록했으므로 0.85를 넘기 위해 word2vec을 이용해보려고 한다!"
   ]
  },
  {
   "cell_type": "code",
   "execution_count": 27,
   "id": "significant-separate",
   "metadata": {},
   "outputs": [
    {
     "name": "stdout",
     "output_type": "stream",
     "text": [
      "Requirement already satisfied: gensim==3.8.1 in /opt/conda/lib/python3.7/site-packages (3.8.1)\n",
      "Requirement already satisfied: smart-open>=1.8.1 in /opt/conda/lib/python3.7/site-packages (from gensim==3.8.1) (4.1.2)\n",
      "Requirement already satisfied: scipy>=0.18.1 in /opt/conda/lib/python3.7/site-packages (from gensim==3.8.1) (1.4.1)\n",
      "Requirement already satisfied: numpy>=1.11.3 in /opt/conda/lib/python3.7/site-packages (from gensim==3.8.1) (1.19.5)\n",
      "Requirement already satisfied: six>=1.5.0 in /opt/conda/lib/python3.7/site-packages (from gensim==3.8.1) (1.15.0)\n",
      "\u001b[33mWARNING: You are using pip version 20.3.3; however, version 21.2.3 is available.\n",
      "You should consider upgrading via the '/opt/conda/bin/python3.7 -m pip install --upgrade pip' command.\u001b[0m\n"
     ]
    }
   ],
   "source": [
    "!pip install gensim==3.8.1"
   ]
  },
  {
   "cell_type": "code",
   "execution_count": 28,
   "id": "organizational-essay",
   "metadata": {},
   "outputs": [],
   "source": [
    "# 학습한 Embedding 파라미터를 파일에 써서 저장합니다. \n",
    "word2vec_file_path = os.getenv('HOME')+'/aiffel/sentiment_classification/data/ko.bin'\n",
    "word2vec = gensim.models.Word2Vec.load(word2vec_file_path)"
   ]
  },
  {
   "cell_type": "code",
   "execution_count": 34,
   "id": "permanent-combination",
   "metadata": {},
   "outputs": [
    {
     "name": "stderr",
     "output_type": "stream",
     "text": [
      "/opt/conda/lib/python3.7/site-packages/ipykernel_launcher.py:8: DeprecationWarning: Call to deprecated `__contains__` (Method will be removed in 4.0.0, use self.wv.__contains__() instead).\n",
      "  \n",
      "/opt/conda/lib/python3.7/site-packages/ipykernel_launcher.py:9: DeprecationWarning: Call to deprecated `__getitem__` (Method will be removed in 4.0.0, use self.wv.__getitem__() instead).\n",
      "  if __name__ == '__main__':\n"
     ]
    }
   ],
   "source": [
    "vocab_size = 10000    # 어휘 사전의 크기입니다(10,000개의 단어)\n",
    "word_vector_dim = 200  # 워드 벡터의 차원수 (변경가능한 하이퍼파라미터)\n",
    "\n",
    "embedding_matrix = np.random.rand(vocab_size, word_vector_dim)\n",
    "\n",
    "# embedding_matrix에 Word2Vec 워드 벡터를 단어 하나씩마다 차례차례 카피한다.\n",
    "for i in range(4,vocab_size):\n",
    "    if index_to_word[i] in word2vec:\n",
    "        embedding_matrix[i] = word2vec[index_to_word[i]]"
   ]
  },
  {
   "cell_type": "markdown",
   "id": "improved-satisfaction",
   "metadata": {},
   "source": [
    "1D -CNN"
   ]
  },
  {
   "cell_type": "code",
   "execution_count": null,
   "id": "infrared-vertical",
   "metadata": {},
   "outputs": [],
   "source": [
    "vocab_size = 10000    # 어휘 사전의 크기입니다(10,000개의 단어)\n",
    "word_vector_dim = 300  # 워드 벡터의 차원 수 (변경가능한 하이퍼파라미터)\n",
    "\n",
    "# 모델 구성\n",
    "model_word = keras.Sequential()\n",
    "model_word.add(keras.layers.Embedding(vocab_size, \n",
    "                                 word_vector_dim, \n",
    "                                 embeddings_initializer=Constant(embedding_matrix),  # 카피한 임베딩을 여기서 활용\n",
    "                                 input_length=maxlen, \n",
    "                                 trainable=True))   # trainable을 True로 주면 Fine-tuning\n",
    "model_word.add(keras.layers.Conv1D(16, 7, activation='relu'))\n",
    "model_word.add(keras.layers.MaxPooling1D(5))\n",
    "model_word.add(keras.layers.Conv1D(16, 7, activation='relu'))\n",
    "model_word.add(keras.layers.GlobalMaxPooling1D())\n",
    "model_word.add(keras.layers.Dense(8, activation='relu'))\n",
    "model_word.add(keras.layers.Dense(1, activation='sigmoid')) \n",
    "\n",
    "model_word.summary()"
   ]
  },
  {
   "cell_type": "code",
   "execution_count": null,
   "id": "immediate-butler",
   "metadata": {},
   "outputs": [],
   "source": [
    "callback = tf.keras.callbacks.EarlyStopping(monitor='val_accuracy', patience=2)\n",
    "\n",
    "model_word.compile(optimizer='adam',\n",
    "              loss='binary_crossentropy',\n",
    "              metrics=['accuracy'])\n",
    "              \n",
    "epochs=20  # 몇 epoch를 훈련하면 좋을지 결과를 보면서 바꾸어 봅시다. \n",
    "\n",
    "history_word = model_word.fit(x_train_rnn,\n",
    "                    y_train_rnn,\n",
    "                    epochs=epochs,\n",
    "                    batch_size=512,\n",
    "                    validation_data=(x_valid_rnn, y_valid_rnn),\n",
    "                    verbose=1,callbacks=callback)"
   ]
  },
  {
   "cell_type": "code",
   "execution_count": null,
   "id": "concrete-chair",
   "metadata": {},
   "outputs": [],
   "source": [
    "results_word = model_word.evaluate(X_test_rnn,  y_test, verbose=2)\n",
    "\n",
    "print(results_word)"
   ]
  },
  {
   "cell_type": "code",
   "execution_count": null,
   "id": "sonic-venue",
   "metadata": {},
   "outputs": [],
   "source": [
    "history_dict = history.history\n",
    "\n",
    "acc = history_dict['accuracy']\n",
    "val_acc = history_dict['val_accuracy']\n",
    "loss = history_dict['loss']\n",
    "val_loss = history_dict['val_loss']\n",
    "\n",
    "epochs = range(1, len(acc) + 1)\n",
    "\n",
    "fig , ax = plt.subplots(1,2,figsize = (10,10))\n",
    "\n",
    "ax[0].plot(epochs, loss, 'r', label='Training loss')\n",
    "ax[0].plot(epochs, val_loss, 'b', label='Validation loss')\n",
    "ax[0].set_title('Training and validation loss')\n",
    "ax[0].set_xlabel('Epochs')\n",
    "ax[0].set_ylabel('Loss')\n",
    "ax[0].legend()\n",
    "\n",
    "ax[1].plot(epochs, acc, 'r', label='Training acc')\n",
    "ax[1].plot(epochs, val_acc, 'b', label='Validation acc')\n",
    "ax[1].set_title('Training and validation accuracy')\n",
    "ax[1].set_xlabel('Epochs')\n",
    "ax[1].set_ylabel('Accuracy')\n",
    "ax[1].legend()\n",
    "\n",
    "plt.show()"
   ]
  },
  {
   "cell_type": "code",
   "execution_count": null,
   "id": "lasting-platform",
   "metadata": {},
   "outputs": [],
   "source": [
    "history_word_dict = history_word.history_word\n",
    "\n",
    "acc = history_word_dict['accuracy']\n",
    "val_acc = history_word_dict['val_accuracy']\n",
    "loss = history_word_dict['loss']\n",
    "val_loss = history_word_dict['val_loss']\n",
    "\n",
    "epochs = range(1, len(acc) + 1)\n",
    "\n",
    "fig , ax = plt.subplots(1,2,figsize = (10,10))\n",
    "\n",
    "ax[0].plot(epochs, loss, 'r', label='Training loss')\n",
    "ax[0].plot(epochs, val_loss, 'b', label='Validation loss')\n",
    "ax[0].set_title('Training and validation loss')\n",
    "ax[0].set_xlabel('Epochs')\n",
    "ax[0].set_ylabel('Loss')\n",
    "ax[0].legend()\n",
    "\n",
    "ax[1].plot(epochs, acc, 'r', label='Training acc')\n",
    "ax[1].plot(epochs, val_acc, 'b', label='Validation acc')\n",
    "ax[1].set_title('Training and validation accuracy')\n",
    "ax[1].set_xlabel('Epochs')\n",
    "ax[1].set_ylabel('Accuracy')\n",
    "ax[1].legend()\n",
    "\n",
    "plt.show()"
   ]
  },
  {
   "cell_type": "code",
   "execution_count": 72,
   "id": "respected-factor",
   "metadata": {},
   "outputs": [
    {
     "name": "stdout",
     "output_type": "stream",
     "text": [
      "Model: \"sequential_15\"\n",
      "_________________________________________________________________\n",
      "Layer (type)                 Output Shape              Param #   \n",
      "=================================================================\n",
      "embedding_15 (Embedding)     (None, None, 200)         2000000   \n",
      "_________________________________________________________________\n",
      "lstm_12 (LSTM)               (None, 8)                 6688      \n",
      "_________________________________________________________________\n",
      "dense_17 (Dense)             (None, 8)                 72        \n",
      "_________________________________________________________________\n",
      "dense_18 (Dense)             (None, 1)                 9         \n",
      "=================================================================\n",
      "Total params: 2,006,769\n",
      "Trainable params: 2,006,769\n",
      "Non-trainable params: 0\n",
      "_________________________________________________________________\n"
     ]
    }
   ],
   "source": [
    "from tensorflow.keras.initializers import Constant\n",
    "\n",
    "vocab_size = 10000    # 어휘 사전의 크기입니다(10,000개의 단어)\n",
    "word_vector_dim = 200  # 워드 벡터의 차원 수 (변경가능한 하이퍼파라미터)\n",
    "\n",
    "# 모델 구성\n",
    "model = keras.Sequential()\n",
    "model.add(keras.layers.Embedding(vocab_size, word_vector_dim, \n",
    "                                      embeddings_initializer=Constant(embedding_matrix), \n",
    "                                      input_shape=(None,),\n",
    "                                      trainable=True))\n",
    "model.add(keras.layers.LSTM(8))\n",
    "model.add(keras.layers.Dense(8, activation='relu'))\n",
    "model.add(keras.layers.Dense(1, activation='sigmoid'))\n",
    "\n",
    "model.summary()"
   ]
  },
  {
   "cell_type": "code",
   "execution_count": 79,
   "id": "latin-atlas",
   "metadata": {},
   "outputs": [
    {
     "name": "stdout",
     "output_type": "stream",
     "text": [
      "Epoch 1/20\n",
      "229/229 [==============================] - 10s 37ms/step - loss: 0.2252 - accuracy: 0.9123 - val_loss: 0.3694 - val_accuracy: 0.8518\n",
      "Epoch 2/20\n",
      "229/229 [==============================] - 7s 32ms/step - loss: 0.2152 - accuracy: 0.9165 - val_loss: 0.3748 - val_accuracy: 0.8522\n",
      "Epoch 3/20\n",
      "229/229 [==============================] - 7s 31ms/step - loss: 0.2038 - accuracy: 0.9224 - val_loss: 0.3863 - val_accuracy: 0.8502\n"
     ]
    }
   ],
   "source": [
    "#early stopping\n",
    "callback = tf.keras.callbacks.EarlyStopping(monitor='val_accuracy', patience=1)\n",
    "\n",
    "model.compile(optimizer='adam',\n",
    "              loss='binary_crossentropy',\n",
    "              metrics=['accuracy'])\n",
    "              \n",
    "epochs=20  # 몇 epoch를 훈련하면 좋을지 결과를 보면서 바꾸어 봅시다. \n",
    "\n",
    "history = model.fit(x_train_rnn,\n",
    "                    y_train_rnn,\n",
    "                    epochs=epochs,\n",
    "                    batch_size=512,\n",
    "                    validation_data=(x_valid_rnn, y_valid_rnn),\n",
    "                    verbose=1,callbacks=callback)"
   ]
  },
  {
   "cell_type": "code",
   "execution_count": 80,
   "id": "varied-prefix",
   "metadata": {},
   "outputs": [
    {
     "name": "stdout",
     "output_type": "stream",
     "text": [
      "1537/1537 - 6s - loss: 0.3962 - accuracy: 0.8453\n",
      "[0.39623144268989563, 0.8453119397163391]\n"
     ]
    }
   ],
   "source": [
    "results = model.evaluate(X_test_rnn,  y_test, verbose=2)\n",
    "\n",
    "print(results)"
   ]
  },
  {
   "cell_type": "code",
   "execution_count": 81,
   "id": "interracial-offer",
   "metadata": {
    "scrolled": true
   },
   "outputs": [
    {
     "data": {
      "image/png": "[encoded data removed]",
      "text/plain": [
       "<Figure size 720x720 with 2 Axes>"
      ]
     },
     "metadata": {
      "needs_background": "light"
     },
     "output_type": "display_data"
    }
   ],
   "source": [
    "history_dict = history.history\n",
    "\n",
    "acc = history_dict['accuracy']\n",
    "val_acc = history_dict['val_accuracy']\n",
    "loss = history_dict['loss']\n",
    "val_loss = history_dict['val_loss']\n",
    "\n",
    "epochs = range(1, len(acc) + 1)\n",
    "\n",
    "fig , ax = plt.subplots(1,2,figsize = (10,10))\n",
    "\n",
    "ax[0].plot(epochs, loss, 'r', label='Training loss')\n",
    "ax[0].plot(epochs, val_loss, 'b', label='Validation loss')\n",
    "ax[0].set_title('Training and validation loss')\n",
    "ax[0].set_xlabel('Epochs')\n",
    "ax[0].set_ylabel('Loss')\n",
    "ax[0].legend()\n",
    "\n",
    "ax[1].plot(epochs, acc, 'r', label='Training acc')\n",
    "ax[1].plot(epochs, val_acc, 'b', label='Validation acc')\n",
    "ax[1].set_title('Training and validation accuracy')\n",
    "ax[1].set_xlabel('Epochs')\n",
    "ax[1].set_ylabel('Accuracy')\n",
    "ax[1].legend()\n",
    "\n",
    "plt.show()"
   ]
  },
  {
   "cell_type": "markdown",
   "id": "nasty-helen",
   "metadata": {},
   "source": [
    "## 6. 문장 입력 받아 예측하기"
   ]
  },
  {
   "cell_type": "markdown",
   "id": "serial-staff",
   "metadata": {},
   "source": [
    "마지막 accuracy 처리 단계에서 시간이 부족했다."
   ]
  },
  {
   "cell_type": "markdown",
   "id": "linear-lindsay",
   "metadata": {},
   "source": [
    "리뷰 예측해보기"
   ]
  },
  {
   "cell_type": "code",
   "execution_count": 29,
   "id": "immune-executive",
   "metadata": {},
   "outputs": [
    {
     "data": {
      "text/plain": [
       "\"\\ndef get_encoded_sentence_new(sentence, word_to_index):\\n    return [word_to_index['<BOS>']]+[word_to_index[word] if word in word_to_index else word_to_index['<UNK>'] for word in sentence]\\n\""
      ]
     },
     "execution_count": 29,
     "metadata": {},
     "output_type": "execute_result"
    }
   ],
   "source": [
    "'''\n",
    "def get_encoded_sentence_new(sentence, word_to_index):\n",
    "    return [word_to_index['<BOS>']]+[word_to_index[word] if word in word_to_index else word_to_index['<UNK>'] for word in sentence]\n",
    "'''"
   ]
  },
  {
   "cell_type": "code",
   "execution_count": 30,
   "id": "simple-service",
   "metadata": {},
   "outputs": [
    {
     "data": {
      "text/plain": [
       "'\\ndef sentiment_predict(new_sentence,word_to_index):\\n    \\n    new_sentence = tokenizer.morphs(new_sentence) # 토큰화\\n    new_sentence = [word for word in new_sentence if not word in stopwords] # 불용어 제거\\n    print(new_sentence)\\n    encoded = get_encoded_sentence_new(new_sentence,word_to_index)\\n    pad_size = maxlen-len(encoded)\\n    pad_new = np.pad(encoded,(maxlen-len(encoded),0),\\'constant\\',constant_values=word_to_index[\\'<BOS>\\'])[:maxlen]\\n    print(pad_new)\\n    score = model_rnn.predict(pad_new) # 예측\\n    print(score[pad_size:])\\n    score = np.mean(score[pad_size:]) #요걸 고쳐야됨\\n    if(score > 0.5):\\n        print(\"{:.2f}% 확률로 긍정 리뷰입니다.\".format(score * 100))\\n    else:\\n        print(\"{:.2f}% 확률로 부정 리뷰입니다.\".format((1 - score) * 100))\\n'"
      ]
     },
     "execution_count": 30,
     "metadata": {},
     "output_type": "execute_result"
    }
   ],
   "source": [
    "'''\n",
    "def sentiment_predict(new_sentence,word_to_index):\n",
    "    \n",
    "    new_sentence = tokenizer.morphs(new_sentence) # 토큰화\n",
    "    new_sentence = [word for word in new_sentence if not word in stopwords] # 불용어 제거\n",
    "    print(new_sentence)\n",
    "    encoded = get_encoded_sentence_new(new_sentence,word_to_index)\n",
    "    pad_size = maxlen-len(encoded)\n",
    "    pad_new = np.pad(encoded,(maxlen-len(encoded),0),'constant',constant_values=word_to_index['<BOS>'])[:maxlen]\n",
    "    print(pad_new)\n",
    "    score = model_rnn.predict(pad_new) # 예측\n",
    "    print(score[pad_size:])\n",
    "    score = np.mean(score[pad_size:]) #요걸 고쳐야됨\n",
    "    if(score > 0.5):\n",
    "        print(\"{:.2f}% 확률로 긍정 리뷰입니다.\".format(score * 100))\n",
    "    else:\n",
    "        print(\"{:.2f}% 확률로 부정 리뷰입니다.\".format((1 - score) * 100))\n",
    "'''"
   ]
  },
  {
   "cell_type": "code",
   "execution_count": 31,
   "id": "settled-enterprise",
   "metadata": {},
   "outputs": [],
   "source": [
    "#sentiment_predict('기대이상이었음 코로나시국에 개봉해 내가 다 아쉬울지경 연기 연출 모두 빠질 것 없이 훌륭하다 생각합니다 추천해요!!!',word_to_index)"
   ]
  },
  {
   "cell_type": "code",
   "execution_count": null,
   "id": "partial-shaft",
   "metadata": {},
   "outputs": [],
   "source": []
  },
  {
   "cell_type": "code",
   "execution_count": 32,
   "id": "digital-belize",
   "metadata": {},
   "outputs": [
    {
     "data": {
      "text/plain": [
       "'\\ndef sentiment_predict(new_sentence,tokenizer_pre):\\n    \\n    new_sentence = Okt.morphs(new_sentence,stem = True) # 토큰화\\n    new_sentence = [word for word in new_sentence if not word in stopwords] # 불용어 제거\\n    encoded = tokenizer.texts_to_sequences([new_sentence]) # 정수 인코딩\\n    pad_new = pad_sequences(encoded, maxlen = max_len) # 패딩\\n    score = float(loaded_model.predict(pad_new)) # 예측\\n    \\n    if(score > 0.5):\\n        print(\"{:.2f}% 확률로 긍정 리뷰입니다.\\n\".format(score * 100))\\n    else:\\n        print(\"{:.2f}% 확률로 부정 리뷰입니다.\\n\".format((1 - score) * 100))\\n\\ntokenizer_pre = Tokenizer(vocab_size) \\ntokenizer_pre.fit_on_texts(words)\\nsentiment_predict(\\'이 영화 개꿀잼 ㅋㅋㅋ\\',tokenizer_pre)\\n'"
      ]
     },
     "execution_count": 32,
     "metadata": {},
     "output_type": "execute_result"
    }
   ],
   "source": [
    "'''\n",
    "def sentiment_predict(new_sentence,tokenizer_pre):\n",
    "    \n",
    "    new_sentence = Okt.morphs(new_sentence,stem = True) # 토큰화\n",
    "    new_sentence = [word for word in new_sentence if not word in stopwords] # 불용어 제거\n",
    "    encoded = tokenizer.texts_to_sequences([new_sentence]) # 정수 인코딩\n",
    "    pad_new = pad_sequences(encoded, maxlen = max_len) # 패딩\n",
    "    score = float(loaded_model.predict(pad_new)) # 예측\n",
    "    \n",
    "    if(score > 0.5):\n",
    "        print(\"{:.2f}% 확률로 긍정 리뷰입니다.\\n\".format(score * 100))\n",
    "    else:\n",
    "        print(\"{:.2f}% 확률로 부정 리뷰입니다.\\n\".format((1 - score) * 100))\n",
    "\n",
    "tokenizer_pre = Tokenizer(vocab_size) \n",
    "tokenizer_pre.fit_on_texts(words)\n",
    "sentiment_predict('이 영화 개꿀잼 ㅋㅋㅋ',tokenizer_pre)\n",
    "'''"
   ]
  },
  {
   "cell_type": "markdown",
   "id": "material-miller",
   "metadata": {},
   "source": [
    "# 정리"
   ]
  },
  {
   "cell_type": "markdown",
   "id": "physical-orlando",
   "metadata": {},
   "source": [
    "- 미리 라벨링된 영화 감상 데이터를 이용해서 영화에 대한 감상이 긍정적인지 부정적인지를 구분할 수 있었다."
   ]
  },
  {
   "cell_type": "markdown",
   "id": "subjective-camcorder",
   "metadata": {},
   "source": [
    "다양한 모델을 통해서 데이터를 훈련시켜 classifier를 구성해봤는데 LSTM 모델이 가장 우수한 성능을 보였다. 후에 더 나은 성능 개선을 위해서 \n",
    "사전 학습된 word2vec embedding data를 학습에 활용했지만 생각보다 성능이 많이 개선되지는 않았다."
   ]
  },
  {
   "cell_type": "markdown",
   "id": "spectacular-swedish",
   "metadata": {},
   "source": [
    "또한 학습된 모델을 통해 최종적으로 임의의 문장을 입력 받아서 그 문장이 긍정인지 부정인지를 확인해주는 판별기를 만들고 싶었지만 시간이 부족해서 구현엔 실패했다."
   ]
  },
  {
   "cell_type": "markdown",
   "id": "driving-oliver",
   "metadata": {},
   "source": [
    "저번 주 해커톤 진행 이후 밀린 노드들을 처리하느라 더 세세한 작업은 못해본 것이 아쉽다."
   ]
  }
 ],
 "metadata": {
  "kernelspec": {
   "display_name": "Python 3",
   "language": "python",
   "name": "python3"
  },
  "language_info": {
   "codemirror_mode": {
    "name": "ipython",
    "version": 3
   },
   "file_extension": ".py",
   "mimetype": "text/x-python",
   "name": "python",
   "nbconvert_exporter": "python",
   "pygments_lexer": "ipython3",
   "version": "3.7.9"
  }
 },
 "nbformat": 4,
 "nbformat_minor": 5
}
