{
 "cells": [
  {
   "cell_type": "markdown",
   "id": "available-immigration",
   "metadata": {},
   "source": [
    "# Session based recommedation"
   ]
  },
  {
   "cell_type": "markdown",
   "id": "technological-style",
   "metadata": {},
   "source": [
    "- 웹 서버에 저장된 session 데이터를 기반으로 사용자에게 아이템을 추천해주는 시스템을 만들어보자."
   ]
  },
  {
   "cell_type": "markdown",
   "id": "billion-hostel",
   "metadata": {},
   "source": [
    "## 1. 데이터 분석 및 전처리"
   ]
  },
  {
   "cell_type": "markdown",
   "id": "alive-baptist",
   "metadata": {},
   "source": [
    "#### MovieLes 데이터"
   ]
  },
  {
   "cell_type": "markdown",
   "id": "multiple-interface",
   "metadata": {},
   "source": [
    "1. 6040명의 유저가 3952개의 영화에 대해 1,000,209개의 평점을 부여한 데이터\n",
    "2. UserID가 SessionID 역할을 한다.\n",
    "3. 3년간의 정보가 모여있다."
   ]
  },
  {
   "cell_type": "code",
   "execution_count": 1,
   "id": "alleged-aside",
   "metadata": {},
   "outputs": [
    {
     "name": "stdout",
     "output_type": "stream",
     "text": [
      "SUMMARY\n",
      "\n",
      "================================================================================\n",
      "\n",
      "\n",
      "\n",
      "These files contain 1,000,209 anonymous ratings of approximately 3,900 movies \n",
      "\n",
      "made by 6,040 MovieLens users who joined MovieLens in 2000.\n",
      "\n",
      "\n",
      "\n",
      "USAGE LICENSE\n",
      "\n",
      "================================================================================\n",
      "\n",
      "\n",
      "\n",
      "Neither the University of Minnesota nor any of the researchers\n",
      "\n",
      "involved can guarantee the correctness of the data, its suitability\n",
      "\n",
      "for any particular purpose, or the validity of results based on the\n",
      "\n",
      "use of the data set.  The data set may be used for any research\n",
      "\n",
      "purposes under the following conditions:\n",
      "\n",
      "\n",
      "\n",
      "     * The user may not state or imply any endorsement from the\n",
      "\n",
      "       University of Minnesota or the GroupLens Research Group.\n",
      "\n",
      "\n",
      "\n",
      "     * The user must acknowledge the use of the data set in\n",
      "\n",
      "       publications resulting from the use of the data set\n",
      "\n",
      "       (see below for citation information).\n",
      "\n",
      "\n",
      "\n",
      "     * The user may not redistribute the data without separate\n",
      "\n",
      "       permission.\n",
      "\n",
      "\n",
      "\n",
      "     * The user may not use this information for any commercial or\n",
      "\n",
      "       revenue-bearing purposes without first obtaining permission\n",
      "\n",
      "       from a faculty member of the GroupLens Research Project at the\n",
      "\n",
      "       University of Minnesota.\n",
      "\n",
      "\n",
      "\n",
      "If you have any further questions or comments, please contact GroupLens\n",
      "\n",
      "<grouplens-info@cs.umn.edu>. \n",
      "\n",
      "\n",
      "\n",
      "CITATION\n",
      "\n",
      "================================================================================\n",
      "\n",
      "\n",
      "\n",
      "To acknowledge use of the dataset in publications, please cite the following\n",
      "\n",
      "paper:\n",
      "\n",
      "\n",
      "\n",
      "F. Maxwell Harper and Joseph A. Konstan. 2015. The MovieLens Datasets: History\n",
      "\n",
      "and Context. ACM Transactions on Interactive Intelligent Systems (TiiS) 5, 4,\n",
      "\n",
      "Article 19 (December 2015), 19 pages. DOI=http://dx.doi.org/10.1145/2827872\n",
      "\n",
      "\n",
      "\n",
      "\n",
      "\n",
      "ACKNOWLEDGEMENTS\n",
      "\n",
      "================================================================================\n",
      "\n",
      "\n",
      "\n",
      "Thanks to Shyong Lam and Jon Herlocker for cleaning up and generating the data\n",
      "\n",
      "set.\n",
      "\n",
      "\n",
      "\n",
      "FURTHER INFORMATION ABOUT THE GROUPLENS RESEARCH PROJECT\n",
      "\n",
      "================================================================================\n",
      "\n",
      "\n",
      "\n",
      "The GroupLens Research Project is a research group in the Department of \n",
      "\n",
      "Computer Science and Engineering at the University of Minnesota. Members of \n",
      "\n",
      "the GroupLens Research Project are involved in many research projects related \n",
      "\n",
      "to the fields of information filtering, collaborative filtering, and \n",
      "\n",
      "recommender systems. The project is lead by professors John Riedl and Joseph \n",
      "\n",
      "Konstan. The project began to explore automated collaborative filtering in \n",
      "\n",
      "1992, but is most well known for its world wide trial of an automated \n",
      "\n",
      "collaborative filtering system for Usenet news in 1996. Since then the project \n",
      "\n",
      "has expanded its scope to research overall information filtering solutions, \n",
      "\n",
      "integrating in content-based methods as well as improving current collaborative \n",
      "\n",
      "filtering technology.\n",
      "\n",
      "\n",
      "\n",
      "Further information on the GroupLens Research project, including research \n",
      "\n",
      "publications, can be found at the following web site:\n",
      "\n",
      "        \n",
      "\n",
      "        http://www.grouplens.org/\n",
      "\n",
      "\n",
      "\n",
      "GroupLens Research currently operates a movie recommender based on \n",
      "\n",
      "collaborative filtering:\n",
      "\n",
      "\n",
      "\n",
      "        http://www.movielens.org/\n",
      "\n",
      "\n",
      "\n",
      "RATINGS FILE DESCRIPTION\n",
      "\n",
      "================================================================================\n",
      "\n",
      "\n",
      "\n",
      "All ratings are contained in the file \"ratings.dat\" and are in the\n",
      "\n",
      "following format:\n",
      "\n",
      "\n",
      "\n",
      "UserID::MovieID::Rating::Timestamp\n",
      "\n",
      "\n",
      "\n",
      "- UserIDs range between 1 and 6040 \n",
      "\n",
      "- MovieIDs range between 1 and 3952\n",
      "\n",
      "- Ratings are made on a 5-star scale (whole-star ratings only)\n",
      "\n",
      "- Timestamp is represented in seconds since the epoch as returned by time(2)\n",
      "\n",
      "- Each user has at least 20 ratings\n",
      "\n",
      "\n",
      "\n",
      "USERS FILE DESCRIPTION\n",
      "\n",
      "================================================================================\n",
      "\n",
      "\n",
      "\n",
      "User information is in the file \"users.dat\" and is in the following\n",
      "\n",
      "format:\n",
      "\n",
      "\n",
      "\n",
      "UserID::Gender::Age::Occupation::Zip-code\n",
      "\n",
      "\n",
      "\n",
      "All demographic information is provided voluntarily by the users and is\n",
      "\n",
      "not checked for accuracy.  Only users who have provided some demographic\n",
      "\n",
      "information are included in this data set.\n",
      "\n",
      "\n",
      "\n",
      "- Gender is denoted by a \"M\" for male and \"F\" for female\n",
      "\n",
      "- Age is chosen from the following ranges:\n",
      "\n",
      "\n",
      "\n",
      "\t*  1:  \"Under 18\"\n",
      "\n",
      "\t* 18:  \"18-24\"\n",
      "\n",
      "\t* 25:  \"25-34\"\n",
      "\n",
      "\t* 35:  \"35-44\"\n",
      "\n",
      "\t* 45:  \"45-49\"\n",
      "\n",
      "\t* 50:  \"50-55\"\n",
      "\n",
      "\t* 56:  \"56+\"\n",
      "\n",
      "\n",
      "\n",
      "- Occupation is chosen from the following choices:\n",
      "\n",
      "\n",
      "\n",
      "\t*  0:  \"other\" or not specified\n",
      "\n",
      "\t*  1:  \"academic/educator\"\n",
      "\n",
      "\t*  2:  \"artist\"\n",
      "\n",
      "\t*  3:  \"clerical/admin\"\n",
      "\n",
      "\t*  4:  \"college/grad student\"\n",
      "\n",
      "\t*  5:  \"customer service\"\n",
      "\n",
      "\t*  6:  \"doctor/health care\"\n",
      "\n",
      "\t*  7:  \"executive/managerial\"\n",
      "\n",
      "\t*  8:  \"farmer\"\n",
      "\n",
      "\t*  9:  \"homemaker\"\n",
      "\n",
      "\t* 10:  \"K-12 student\"\n",
      "\n",
      "\t* 11:  \"lawyer\"\n",
      "\n",
      "\t* 12:  \"programmer\"\n",
      "\n",
      "\t* 13:  \"retired\"\n",
      "\n",
      "\t* 14:  \"sales/marketing\"\n",
      "\n",
      "\t* 15:  \"scientist\"\n",
      "\n",
      "\t* 16:  \"self-employed\"\n",
      "\n",
      "\t* 17:  \"technician/engineer\"\n",
      "\n",
      "\t* 18:  \"tradesman/craftsman\"\n",
      "\n",
      "\t* 19:  \"unemployed\"\n",
      "\n",
      "\t* 20:  \"writer\"\n",
      "\n",
      "\n",
      "\n",
      "MOVIES FILE DESCRIPTION\n",
      "\n",
      "================================================================================\n",
      "\n",
      "\n",
      "\n",
      "Movie information is in the file \"movies.dat\" and is in the following\n",
      "\n",
      "format:\n",
      "\n",
      "\n",
      "\n",
      "MovieID::Title::Genres\n",
      "\n",
      "\n",
      "\n",
      "- Titles are identical to titles provided by the IMDB (including\n",
      "\n",
      "year of release)\n",
      "\n",
      "- Genres are pipe-separated and are selected from the following genres:\n",
      "\n",
      "\n",
      "\n",
      "\t* Action\n",
      "\n",
      "\t* Adventure\n",
      "\n",
      "\t* Animation\n",
      "\n",
      "\t* Children's\n",
      "\n",
      "\t* Comedy\n",
      "\n",
      "\t* Crime\n",
      "\n",
      "\t* Documentary\n",
      "\n",
      "\t* Drama\n",
      "\n",
      "\t* Fantasy\n",
      "\n",
      "\t* Film-Noir\n",
      "\n",
      "\t* Horror\n",
      "\n",
      "\t* Musical\n",
      "\n",
      "\t* Mystery\n",
      "\n",
      "\t* Romance\n",
      "\n",
      "\t* Sci-Fi\n",
      "\n",
      "\t* Thriller\n",
      "\n",
      "\t* War\n",
      "\n",
      "\t* Western\n",
      "\n",
      "\n",
      "\n",
      "- Some MovieIDs do not correspond to a movie due to accidental duplicate\n",
      "\n",
      "entries and/or test entries\n",
      "\n",
      "- Movies are mostly entered by hand, so errors and inconsistencies may exist\n",
      "\n"
     ]
    }
   ],
   "source": [
    "# 데이터 설명(README)를 읽어 봅니다. \n",
    "import os\n",
    "f = open(os.getenv('HOME')+'/aiffel/yoochoose/data/README', 'r')\n",
    "while True:\n",
    "    line = f.readline()\n",
    "    if not line: break\n",
    "    print(line)\n",
    "f.close()"
   ]
  },
  {
   "cell_type": "markdown",
   "id": "healthy-doubt",
   "metadata": {},
   "source": [
    "___"
   ]
  },
  {
   "cell_type": "markdown",
   "id": "sized-tuner",
   "metadata": {},
   "source": [
    "#### 데이터 가져오기"
   ]
  },
  {
   "cell_type": "markdown",
   "id": "transsexual-belief",
   "metadata": {},
   "source": [
    "- user_id : Sessionid\n",
    "- movie_id : ItemId\n",
    "- timestamp : Time"
   ]
  },
  {
   "cell_type": "code",
   "execution_count": 2,
   "id": "tender-resource",
   "metadata": {},
   "outputs": [],
   "source": [
    "import datetime as dt\n",
    "from pathlib import Path\n",
    "import os\n",
    "\n",
    "import numpy as np\n",
    "import pandas as pd\n",
    "import warnings\n",
    "warnings.filterwarnings('ignore')"
   ]
  },
  {
   "cell_type": "code",
   "execution_count": 3,
   "id": "serial-quebec",
   "metadata": {},
   "outputs": [
    {
     "data": {
      "text/plain": [
       "PosixPath('/aiffel/aiffel/yoochoose/data/ratings.dat')"
      ]
     },
     "execution_count": 3,
     "metadata": {},
     "output_type": "execute_result"
    }
   ],
   "source": [
    "data_path = Path(os.getenv('HOME')+'/aiffel/yoochoose/data') \n",
    "train_path = data_path / 'ratings.dat'\n",
    "train_path"
   ]
  },
  {
   "cell_type": "markdown",
   "id": "affiliated-bunny",
   "metadata": {},
   "source": [
    "Session, Time, Iteimid 컬럼만 불러오자"
   ]
  },
  {
   "cell_type": "code",
   "execution_count": 4,
   "id": "bizarre-study",
   "metadata": {},
   "outputs": [],
   "source": [
    "def load_data(data_path: Path, nrows=None):\n",
    "    data = pd.read_csv(data_path, sep='::', encoding = 'ISO-8859-1')\n",
    "    data.columns = ['user_id', 'movie_id', 'rating', 'timestamp']\n",
    "    return data"
   ]
  },
  {
   "cell_type": "code",
   "execution_count": 5,
   "id": "connected-craft",
   "metadata": {},
   "outputs": [
    {
     "data": {
      "text/html": [
       "<div>\n",
       "<style scoped>\n",
       "    .dataframe tbody tr th:only-of-type {\n",
       "        vertical-align: middle;\n",
       "    }\n",
       "\n",
       "    .dataframe tbody tr th {\n",
       "        vertical-align: top;\n",
       "    }\n",
       "\n",
       "    .dataframe thead th {\n",
       "        text-align: right;\n",
       "    }\n",
       "</style>\n",
       "<table border=\"1\" class=\"dataframe\">\n",
       "  <thead>\n",
       "    <tr style=\"text-align: right;\">\n",
       "      <th></th>\n",
       "      <th>SessionId</th>\n",
       "      <th>ItemId</th>\n",
       "      <th>rating</th>\n",
       "      <th>Time</th>\n",
       "    </tr>\n",
       "  </thead>\n",
       "  <tbody>\n",
       "    <tr>\n",
       "      <th>30</th>\n",
       "      <td>1</td>\n",
       "      <td>3186</td>\n",
       "      <td>4</td>\n",
       "      <td>978300019</td>\n",
       "    </tr>\n",
       "    <tr>\n",
       "      <th>21</th>\n",
       "      <td>1</td>\n",
       "      <td>1270</td>\n",
       "      <td>5</td>\n",
       "      <td>978300055</td>\n",
       "    </tr>\n",
       "    <tr>\n",
       "      <th>26</th>\n",
       "      <td>1</td>\n",
       "      <td>1721</td>\n",
       "      <td>4</td>\n",
       "      <td>978300055</td>\n",
       "    </tr>\n",
       "    <tr>\n",
       "      <th>36</th>\n",
       "      <td>1</td>\n",
       "      <td>1022</td>\n",
       "      <td>5</td>\n",
       "      <td>978300055</td>\n",
       "    </tr>\n",
       "    <tr>\n",
       "      <th>23</th>\n",
       "      <td>1</td>\n",
       "      <td>2340</td>\n",
       "      <td>3</td>\n",
       "      <td>978300103</td>\n",
       "    </tr>\n",
       "    <tr>\n",
       "      <th>...</th>\n",
       "      <td>...</td>\n",
       "      <td>...</td>\n",
       "      <td>...</td>\n",
       "      <td>...</td>\n",
       "    </tr>\n",
       "    <tr>\n",
       "      <th>1000018</th>\n",
       "      <td>6040</td>\n",
       "      <td>2917</td>\n",
       "      <td>4</td>\n",
       "      <td>997454429</td>\n",
       "    </tr>\n",
       "    <tr>\n",
       "      <th>999987</th>\n",
       "      <td>6040</td>\n",
       "      <td>1921</td>\n",
       "      <td>4</td>\n",
       "      <td>997454464</td>\n",
       "    </tr>\n",
       "    <tr>\n",
       "      <th>1000171</th>\n",
       "      <td>6040</td>\n",
       "      <td>1784</td>\n",
       "      <td>3</td>\n",
       "      <td>997454464</td>\n",
       "    </tr>\n",
       "    <tr>\n",
       "      <th>1000166</th>\n",
       "      <td>6040</td>\n",
       "      <td>161</td>\n",
       "      <td>3</td>\n",
       "      <td>997454486</td>\n",
       "    </tr>\n",
       "    <tr>\n",
       "      <th>1000041</th>\n",
       "      <td>6040</td>\n",
       "      <td>1221</td>\n",
       "      <td>4</td>\n",
       "      <td>998315055</td>\n",
       "    </tr>\n",
       "  </tbody>\n",
       "</table>\n",
       "<p>1000208 rows × 4 columns</p>\n",
       "</div>"
      ],
      "text/plain": [
       "         SessionId  ItemId  rating       Time\n",
       "30               1    3186       4  978300019\n",
       "21               1    1270       5  978300055\n",
       "26               1    1721       4  978300055\n",
       "36               1    1022       5  978300055\n",
       "23               1    2340       3  978300103\n",
       "...            ...     ...     ...        ...\n",
       "1000018       6040    2917       4  997454429\n",
       "999987        6040    1921       4  997454464\n",
       "1000171       6040    1784       3  997454464\n",
       "1000166       6040     161       3  997454486\n",
       "1000041       6040    1221       4  998315055\n",
       "\n",
       "[1000208 rows x 4 columns]"
      ]
     },
     "execution_count": 5,
     "metadata": {},
     "output_type": "execute_result"
    }
   ],
   "source": [
    "# 시간이 좀 걸릴 수 있습니다. 메모리도 10GB 가까이 소요될 수 있으니 메모리 상태에 주의해 주세요.  \n",
    "data = load_data(train_path, None)\n",
    "data.sort_values(['user_id', 'timestamp'], inplace=True)  # data를 id와 시간 순서로 정렬해줍니다.\n",
    "data.columns = ['SessionId','ItemId','rating','Time']\n",
    "data"
   ]
  },
  {
   "cell_type": "markdown",
   "id": "exciting-jacket",
   "metadata": {},
   "source": [
    "#### Sessionid, Itemid의 수"
   ]
  },
  {
   "cell_type": "code",
   "execution_count": 6,
   "id": "abstract-combining",
   "metadata": {},
   "outputs": [
    {
     "data": {
      "text/plain": [
       "(6040, 3706)"
      ]
     },
     "execution_count": 6,
     "metadata": {},
     "output_type": "execute_result"
    }
   ],
   "source": [
    "data['SessionId'].nunique(), data['ItemId'].nunique()"
   ]
  },
  {
   "cell_type": "markdown",
   "id": "miniature-antique",
   "metadata": {},
   "source": [
    "#### Sessionid 별 방문 횟수"
   ]
  },
  {
   "cell_type": "code",
   "execution_count": 7,
   "id": "musical-edwards",
   "metadata": {},
   "outputs": [
    {
     "data": {
      "text/plain": [
       "SessionId\n",
       "1        52\n",
       "2       129\n",
       "3        51\n",
       "4        21\n",
       "5       198\n",
       "       ... \n",
       "6036    888\n",
       "6037    202\n",
       "6038     20\n",
       "6039    123\n",
       "6040    341\n",
       "Length: 6040, dtype: int64"
      ]
     },
     "execution_count": 7,
     "metadata": {},
     "output_type": "execute_result"
    }
   ],
   "source": [
    "session_length = data.groupby('SessionId').size()\n",
    "session_length"
   ]
  },
  {
   "cell_type": "markdown",
   "id": "equipped-executive",
   "metadata": {},
   "source": [
    "#### 평균, 중앙값, 최대, 최소"
   ]
  },
  {
   "cell_type": "code",
   "execution_count": 8,
   "id": "nonprofit-compound",
   "metadata": {},
   "outputs": [
    {
     "data": {
      "text/plain": [
       "(96.0, 165.5973509933775)"
      ]
     },
     "execution_count": 8,
     "metadata": {},
     "output_type": "execute_result"
    }
   ],
   "source": [
    "session_length.median(), session_length.mean()"
   ]
  },
  {
   "cell_type": "code",
   "execution_count": 9,
   "id": "spectacular-corruption",
   "metadata": {
    "scrolled": true
   },
   "outputs": [
    {
     "data": {
      "text/plain": [
       "(20, 2314)"
      ]
     },
     "execution_count": 9,
     "metadata": {},
     "output_type": "execute_result"
    }
   ],
   "source": [
    "session_length.min(), session_length.max()"
   ]
  },
  {
   "cell_type": "markdown",
   "id": "fitting-tobacco",
   "metadata": {},
   "source": [
    "#### 99.9%의 session id가 방문 횟수 1343 이하"
   ]
  },
  {
   "cell_type": "markdown",
   "id": "armed-prisoner",
   "metadata": {},
   "source": [
    "방문 횟수 2314인 경우를 확인해보자!"
   ]
  },
  {
   "cell_type": "code",
   "execution_count": 10,
   "id": "organized-virginia",
   "metadata": {},
   "outputs": [
    {
     "data": {
      "text/plain": [
       "1343.181000000005"
      ]
     },
     "execution_count": 10,
     "metadata": {},
     "output_type": "execute_result"
    }
   ],
   "source": [
    "session_length.quantile(0.999)"
   ]
  },
  {
   "cell_type": "markdown",
   "id": "focused-kruger",
   "metadata": {},
   "source": [
    "#### 매우 짧은 시간 간격으로 조회"
   ]
  },
  {
   "cell_type": "markdown",
   "id": "related-strand",
   "metadata": {},
   "source": [
    "- 동시에 여러 영화에 대한 평점을 저장?"
   ]
  },
  {
   "cell_type": "markdown",
   "id": "former-brazil",
   "metadata": {},
   "source": [
    "- 삭제할 필요는 없다고 판단"
   ]
  },
  {
   "cell_type": "code",
   "execution_count": 11,
   "id": "explicit-florist",
   "metadata": {
    "scrolled": true
   },
   "outputs": [
    {
     "data": {
      "text/html": [
       "<div>\n",
       "<style scoped>\n",
       "    .dataframe tbody tr th:only-of-type {\n",
       "        vertical-align: middle;\n",
       "    }\n",
       "\n",
       "    .dataframe tbody tr th {\n",
       "        vertical-align: top;\n",
       "    }\n",
       "\n",
       "    .dataframe thead th {\n",
       "        text-align: right;\n",
       "    }\n",
       "</style>\n",
       "<table border=\"1\" class=\"dataframe\">\n",
       "  <thead>\n",
       "    <tr style=\"text-align: right;\">\n",
       "      <th></th>\n",
       "      <th>SessionId</th>\n",
       "      <th>ItemId</th>\n",
       "      <th>rating</th>\n",
       "      <th>Time</th>\n",
       "    </tr>\n",
       "  </thead>\n",
       "  <tbody>\n",
       "    <tr>\n",
       "      <th>696968</th>\n",
       "      <td>4169</td>\n",
       "      <td>1268</td>\n",
       "      <td>5</td>\n",
       "      <td>965333392</td>\n",
       "    </tr>\n",
       "    <tr>\n",
       "      <th>697167</th>\n",
       "      <td>4169</td>\n",
       "      <td>2617</td>\n",
       "      <td>4</td>\n",
       "      <td>965333392</td>\n",
       "    </tr>\n",
       "    <tr>\n",
       "      <th>697184</th>\n",
       "      <td>4169</td>\n",
       "      <td>2628</td>\n",
       "      <td>4</td>\n",
       "      <td>965333392</td>\n",
       "    </tr>\n",
       "    <tr>\n",
       "      <th>697218</th>\n",
       "      <td>4169</td>\n",
       "      <td>2653</td>\n",
       "      <td>4</td>\n",
       "      <td>965333392</td>\n",
       "    </tr>\n",
       "    <tr>\n",
       "      <th>697274</th>\n",
       "      <td>4169</td>\n",
       "      <td>423</td>\n",
       "      <td>3</td>\n",
       "      <td>965333392</td>\n",
       "    </tr>\n",
       "    <tr>\n",
       "      <th>...</th>\n",
       "      <td>...</td>\n",
       "      <td>...</td>\n",
       "      <td>...</td>\n",
       "      <td>...</td>\n",
       "    </tr>\n",
       "    <tr>\n",
       "      <th>697881</th>\n",
       "      <td>4169</td>\n",
       "      <td>3754</td>\n",
       "      <td>2</td>\n",
       "      <td>1024174347</td>\n",
       "    </tr>\n",
       "    <tr>\n",
       "      <th>695701</th>\n",
       "      <td>4169</td>\n",
       "      <td>1413</td>\n",
       "      <td>3</td>\n",
       "      <td>1024175031</td>\n",
       "    </tr>\n",
       "    <tr>\n",
       "      <th>697357</th>\n",
       "      <td>4169</td>\n",
       "      <td>494</td>\n",
       "      <td>4</td>\n",
       "      <td>1024175760</td>\n",
       "    </tr>\n",
       "    <tr>\n",
       "      <th>695944</th>\n",
       "      <td>4169</td>\n",
       "      <td>1804</td>\n",
       "      <td>2</td>\n",
       "      <td>1024175783</td>\n",
       "    </tr>\n",
       "    <tr>\n",
       "      <th>696445</th>\n",
       "      <td>4169</td>\n",
       "      <td>1548</td>\n",
       "      <td>3</td>\n",
       "      <td>1024176337</td>\n",
       "    </tr>\n",
       "  </tbody>\n",
       "</table>\n",
       "<p>2314 rows × 4 columns</p>\n",
       "</div>"
      ],
      "text/plain": [
       "        SessionId  ItemId  rating        Time\n",
       "696968       4169    1268       5   965333392\n",
       "697167       4169    2617       4   965333392\n",
       "697184       4169    2628       4   965333392\n",
       "697218       4169    2653       4   965333392\n",
       "697274       4169     423       3   965333392\n",
       "...           ...     ...     ...         ...\n",
       "697881       4169    3754       2  1024174347\n",
       "695701       4169    1413       3  1024175031\n",
       "697357       4169     494       4  1024175760\n",
       "695944       4169    1804       2  1024175783\n",
       "696445       4169    1548       3  1024176337\n",
       "\n",
       "[2314 rows x 4 columns]"
      ]
     },
     "execution_count": 11,
     "metadata": {},
     "output_type": "execute_result"
    }
   ],
   "source": [
    "long_session = session_length[session_length==2314].index[0]\n",
    "data[data['SessionId']==long_session]"
   ]
  },
  {
   "cell_type": "markdown",
   "id": "periodic-balloon",
   "metadata": {},
   "source": [
    "#### 시각화 해보기"
   ]
  },
  {
   "cell_type": "code",
   "execution_count": 12,
   "id": "friendly-delaware",
   "metadata": {},
   "outputs": [
    {
     "data": {
      "text/plain": [
       "20      0.014238\n",
       "21      0.029305\n",
       "22      0.042053\n",
       "23      0.055464\n",
       "24      0.068874\n",
       "          ...   \n",
       "1271    0.998179\n",
       "1277    0.998344\n",
       "1286    0.998510\n",
       "1302    0.998675\n",
       "1323    0.998841\n",
       "Length: 736, dtype: float64"
      ]
     },
     "execution_count": 12,
     "metadata": {},
     "output_type": "execute_result"
    }
   ],
   "source": [
    "length_count = session_length.groupby(session_length).size()\n",
    "length_percent_cumsum = length_count.cumsum() / length_count.sum()\n",
    "length_percent_cumsum_999 = length_percent_cumsum[length_percent_cumsum < 0.999]\n",
    "\n",
    "length_percent_cumsum_999"
   ]
  },
  {
   "cell_type": "code",
   "execution_count": 13,
   "id": "acquired-organization",
   "metadata": {
    "scrolled": false
   },
   "outputs": [
    {
     "data": {
      "image/png": "[encoded data removed]",
      "text/plain": [
       "<Figure size 1440x720 with 1 Axes>"
      ]
     },
     "metadata": {
      "needs_background": "light"
     },
     "output_type": "display_data"
    }
   ],
   "source": [
    "import matplotlib.pyplot as plt\n",
    "\n",
    "plt.figure(figsize=(20, 10))\n",
    "ax = plt.subplot()\n",
    "\n",
    "ax.bar(x=length_percent_cumsum_999.index,\n",
    "        height=length_percent_cumsum_999, color='red')\n",
    "ax.set_title('Cumsum Percentage Until 0.999', size=20)\n",
    "plt.show()"
   ]
  },
  {
   "cell_type": "markdown",
   "id": "otherwise-division",
   "metadata": {},
   "source": [
    "#### movie별 시청 횟수"
   ]
  },
  {
   "cell_type": "code",
   "execution_count": 14,
   "id": "neural-absolute",
   "metadata": {},
   "outputs": [
    {
     "data": {
      "text/plain": [
       "ItemId\n",
       "1       2077\n",
       "2        701\n",
       "3        478\n",
       "4        170\n",
       "5        296\n",
       "        ... \n",
       "3948     862\n",
       "3949     304\n",
       "3950      54\n",
       "3951      40\n",
       "3952     388\n",
       "Length: 3706, dtype: int64"
      ]
     },
     "execution_count": 14,
     "metadata": {},
     "output_type": "execute_result"
    }
   ],
   "source": [
    "Item_length = data.groupby('ItemId').size()\n",
    "Item_length"
   ]
  },
  {
   "cell_type": "code",
   "execution_count": 15,
   "id": "quick-harvard",
   "metadata": {
    "scrolled": true
   },
   "outputs": [
    {
     "data": {
      "text/plain": [
       "(123.5, 269.88882892606586)"
      ]
     },
     "execution_count": 15,
     "metadata": {},
     "output_type": "execute_result"
    }
   ],
   "source": [
    "Item_length.median(), Item_length.mean()"
   ]
  },
  {
   "cell_type": "code",
   "execution_count": 16,
   "id": "attached-timing",
   "metadata": {},
   "outputs": [
    {
     "data": {
      "text/plain": [
       "(1, 3428)"
      ]
     },
     "execution_count": 16,
     "metadata": {},
     "output_type": "execute_result"
    }
   ],
   "source": [
    "Item_length.min(), Item_length.max()"
   ]
  },
  {
   "cell_type": "markdown",
   "id": "tested-italic",
   "metadata": {},
   "source": [
    "#### movie 시청 횟수 시각화"
   ]
  },
  {
   "cell_type": "code",
   "execution_count": 17,
   "id": "completed-polyester",
   "metadata": {
    "scrolled": true
   },
   "outputs": [
    {
     "data": {
      "text/plain": [
       "1       0.030761\n",
       "2       0.054776\n",
       "3       0.066109\n",
       "4       0.078251\n",
       "5       0.088775\n",
       "          ...   \n",
       "2583    0.997841\n",
       "2590    0.998111\n",
       "2649    0.998381\n",
       "2653    0.998651\n",
       "2672    0.998921\n",
       "Length: 920, dtype: float64"
      ]
     },
     "execution_count": 17,
     "metadata": {},
     "output_type": "execute_result"
    }
   ],
   "source": [
    "length_count = Item_length.groupby(Item_length).size()\n",
    "length_percent_cumsum = length_count.cumsum() / length_count.sum()\n",
    "length_percent_cumsum_999 = length_percent_cumsum[length_percent_cumsum < 0.999]\n",
    "\n",
    "length_percent_cumsum_999"
   ]
  },
  {
   "cell_type": "code",
   "execution_count": 18,
   "id": "presidential-lotus",
   "metadata": {},
   "outputs": [
    {
     "data": {
      "image/png": "[encoded data removed]",
      "text/plain": [
       "<Figure size 1440x720 with 1 Axes>"
      ]
     },
     "metadata": {
      "needs_background": "light"
     },
     "output_type": "display_data"
    }
   ],
   "source": [
    "import matplotlib.pyplot as plt\n",
    "\n",
    "plt.figure(figsize=(20, 10))\n",
    "ax = plt.subplot()\n",
    "\n",
    "ax.bar(x=length_percent_cumsum_999.index,\n",
    "        height=length_percent_cumsum_999, color='red')\n",
    "ax.set_title('Cumsum Percentage Until 0.999', size=20)\n",
    "plt.show()"
   ]
  },
  {
   "cell_type": "markdown",
   "id": "precious-louisiana",
   "metadata": {},
   "source": [
    "#### 시간 정보도 구매에 중요한 요소! "
   ]
  },
  {
   "cell_type": "markdown",
   "id": "choice-operation",
   "metadata": {},
   "source": [
    "시간 정보 확인해보기"
   ]
  },
  {
   "cell_type": "markdown",
   "id": "electoral-associate",
   "metadata": {},
   "source": [
    "#### timestamp -> date time"
   ]
  },
  {
   "cell_type": "code",
   "execution_count": 19,
   "id": "complete-chrome",
   "metadata": {},
   "outputs": [
    {
     "name": "stdout",
     "output_type": "stream",
     "text": [
      "2000-04-25 23:05:32\n",
      "2003-02-28 17:49:50\n"
     ]
    }
   ],
   "source": [
    "from datetime import datetime\n",
    "import time\n",
    "\n",
    "data['Time'] = data['Time'].apply(lambda x: datetime.fromtimestamp(x))\n",
    "oldest, latest = data['Time'].min(), data['Time'].max()\n",
    "print(oldest)\n",
    "print(latest)"
   ]
  },
  {
   "cell_type": "markdown",
   "id": "absent-cycling",
   "metadata": {},
   "source": [
    "#### 날짜가 거의 2000년에 집중"
   ]
  },
  {
   "cell_type": "markdown",
   "id": "higher-panel",
   "metadata": {},
   "source": [
    "latest 기준으로 날짜 뽑는 것은 의미 없다고 판단"
   ]
  },
  {
   "cell_type": "code",
   "execution_count": 20,
   "id": "scenic-whole",
   "metadata": {
    "scrolled": true
   },
   "outputs": [
    {
     "data": {
      "text/plain": [
       "Timestamp('2000-10-31 18:46:46')"
      ]
     },
     "execution_count": 20,
     "metadata": {},
     "output_type": "execute_result"
    }
   ],
   "source": [
    "data['Time'].median()"
   ]
  },
  {
   "cell_type": "code",
   "execution_count": 21,
   "id": "plastic-entrance",
   "metadata": {},
   "outputs": [
    {
     "data": {
      "text/plain": [
       "Timestamp('2000-12-29 23:42:33.700000')"
      ]
     },
     "execution_count": 21,
     "metadata": {},
     "output_type": "execute_result"
    }
   ],
   "source": [
    "data['Time'].quantile(0.9)"
   ]
  },
  {
   "cell_type": "code",
   "execution_count": 22,
   "id": "efficient-quarter",
   "metadata": {},
   "outputs": [
    {
     "data": {
      "text/plain": [
       "Timestamp('2000-07-21 04:13:26.400000')"
      ]
     },
     "execution_count": 22,
     "metadata": {},
     "output_type": "execute_result"
    }
   ],
   "source": [
    "data['Time'].quantile(0.2)"
   ]
  },
  {
   "cell_type": "code",
   "execution_count": 23,
   "id": "contained-joshua",
   "metadata": {
    "scrolled": true
   },
   "outputs": [
    {
     "data": {
      "text/plain": [
       "Timestamp('2000-06-10 23:59:30')"
      ]
     },
     "execution_count": 23,
     "metadata": {},
     "output_type": "execute_result"
    }
   ],
   "source": [
    "data['Time'].quantile(0.1)"
   ]
  },
  {
   "cell_type": "markdown",
   "id": "cardiovascular-joyce",
   "metadata": {},
   "source": [
    "#### 데이터 전처리"
   ]
  },
  {
   "cell_type": "markdown",
   "id": "egyptian-exception",
   "metadata": {},
   "source": [
    "- 길이가 50이하 세션 제거\n",
    "- 너무 적게 클릭된 아이템도 제거"
   ]
  },
  {
   "cell_type": "code",
   "execution_count": 24,
   "id": "municipal-world",
   "metadata": {},
   "outputs": [],
   "source": [
    "# short_session을 제거한 다음 unpopular item을 제거하면 다시 길이가 1인 session이 생길 수 있습니다.\n",
    "# 이를 위해 반복문을 통해 지속적으로 제거 합니다.\n",
    "def cleanse_recursive(data: pd.DataFrame, shortest, least_click) -> pd.DataFrame:\n",
    "    while True:\n",
    "        before_len = len(data)\n",
    "        data = cleanse_short_session(data, shortest)\n",
    "        data = cleanse_unpopular_item(data, least_click)\n",
    "        after_len = len(data)\n",
    "        if before_len == after_len:\n",
    "            break\n",
    "    return data\n",
    "\n",
    "\n",
    "def cleanse_short_session(data: pd.DataFrame, shortest):\n",
    "    session_len = data.groupby('SessionId').size()\n",
    "    session_use = session_len[session_len >= shortest].index\n",
    "    data = data[data['SessionId'].isin(session_use)]\n",
    "    return data\n",
    "\n",
    "\n",
    "def cleanse_unpopular_item(data: pd.DataFrame, least_click):\n",
    "    item_popular = data.groupby('ItemId').size()\n",
    "    item_use = item_popular[item_popular >= least_click].index\n",
    "    data = data[data['ItemId'].isin(item_use)]\n",
    "    return data"
   ]
  },
  {
   "cell_type": "markdown",
   "id": "eight-circulation",
   "metadata": {},
   "source": [
    "#### 100명 이상의 평가를 받은 영화, 50개 이상의 영화를 판단한 사람만 데이터에 넣는다."
   ]
  },
  {
   "cell_type": "code",
   "execution_count": 25,
   "id": "prospective-fireplace",
   "metadata": {},
   "outputs": [
    {
     "data": {
      "text/html": [
       "<div>\n",
       "<style scoped>\n",
       "    .dataframe tbody tr th:only-of-type {\n",
       "        vertical-align: middle;\n",
       "    }\n",
       "\n",
       "    .dataframe tbody tr th {\n",
       "        vertical-align: top;\n",
       "    }\n",
       "\n",
       "    .dataframe thead th {\n",
       "        text-align: right;\n",
       "    }\n",
       "</style>\n",
       "<table border=\"1\" class=\"dataframe\">\n",
       "  <thead>\n",
       "    <tr style=\"text-align: right;\">\n",
       "      <th></th>\n",
       "      <th>SessionId</th>\n",
       "      <th>ItemId</th>\n",
       "      <th>rating</th>\n",
       "      <th>Time</th>\n",
       "    </tr>\n",
       "  </thead>\n",
       "  <tbody>\n",
       "    <tr>\n",
       "      <th>30</th>\n",
       "      <td>1</td>\n",
       "      <td>3186</td>\n",
       "      <td>4</td>\n",
       "      <td>2000-12-31 22:00:19</td>\n",
       "    </tr>\n",
       "    <tr>\n",
       "      <th>21</th>\n",
       "      <td>1</td>\n",
       "      <td>1270</td>\n",
       "      <td>5</td>\n",
       "      <td>2000-12-31 22:00:55</td>\n",
       "    </tr>\n",
       "    <tr>\n",
       "      <th>26</th>\n",
       "      <td>1</td>\n",
       "      <td>1721</td>\n",
       "      <td>4</td>\n",
       "      <td>2000-12-31 22:00:55</td>\n",
       "    </tr>\n",
       "    <tr>\n",
       "      <th>36</th>\n",
       "      <td>1</td>\n",
       "      <td>1022</td>\n",
       "      <td>5</td>\n",
       "      <td>2000-12-31 22:00:55</td>\n",
       "    </tr>\n",
       "    <tr>\n",
       "      <th>23</th>\n",
       "      <td>1</td>\n",
       "      <td>2340</td>\n",
       "      <td>3</td>\n",
       "      <td>2000-12-31 22:01:43</td>\n",
       "    </tr>\n",
       "    <tr>\n",
       "      <th>...</th>\n",
       "      <td>...</td>\n",
       "      <td>...</td>\n",
       "      <td>...</td>\n",
       "      <td>...</td>\n",
       "    </tr>\n",
       "    <tr>\n",
       "      <th>1000018</th>\n",
       "      <td>6040</td>\n",
       "      <td>2917</td>\n",
       "      <td>4</td>\n",
       "      <td>2001-08-10 14:40:29</td>\n",
       "    </tr>\n",
       "    <tr>\n",
       "      <th>999987</th>\n",
       "      <td>6040</td>\n",
       "      <td>1921</td>\n",
       "      <td>4</td>\n",
       "      <td>2001-08-10 14:41:04</td>\n",
       "    </tr>\n",
       "    <tr>\n",
       "      <th>1000171</th>\n",
       "      <td>6040</td>\n",
       "      <td>1784</td>\n",
       "      <td>3</td>\n",
       "      <td>2001-08-10 14:41:04</td>\n",
       "    </tr>\n",
       "    <tr>\n",
       "      <th>1000166</th>\n",
       "      <td>6040</td>\n",
       "      <td>161</td>\n",
       "      <td>3</td>\n",
       "      <td>2001-08-10 14:41:26</td>\n",
       "    </tr>\n",
       "    <tr>\n",
       "      <th>1000041</th>\n",
       "      <td>6040</td>\n",
       "      <td>1221</td>\n",
       "      <td>4</td>\n",
       "      <td>2001-08-20 13:44:15</td>\n",
       "    </tr>\n",
       "  </tbody>\n",
       "</table>\n",
       "<p>878583 rows × 4 columns</p>\n",
       "</div>"
      ],
      "text/plain": [
       "         SessionId  ItemId  rating                Time\n",
       "30               1    3186       4 2000-12-31 22:00:19\n",
       "21               1    1270       5 2000-12-31 22:00:55\n",
       "26               1    1721       4 2000-12-31 22:00:55\n",
       "36               1    1022       5 2000-12-31 22:00:55\n",
       "23               1    2340       3 2000-12-31 22:01:43\n",
       "...            ...     ...     ...                 ...\n",
       "1000018       6040    2917       4 2001-08-10 14:40:29\n",
       "999987        6040    1921       4 2001-08-10 14:41:04\n",
       "1000171       6040    1784       3 2001-08-10 14:41:04\n",
       "1000166       6040     161       3 2001-08-10 14:41:26\n",
       "1000041       6040    1221       4 2001-08-20 13:44:15\n",
       "\n",
       "[878583 rows x 4 columns]"
      ]
     },
     "execution_count": 25,
     "metadata": {},
     "output_type": "execute_result"
    }
   ],
   "source": [
    "data = cleanse_recursive(data, shortest=50, least_click=100)\n",
    "data"
   ]
  },
  {
   "cell_type": "markdown",
   "id": "deluxe-guatemala",
   "metadata": {},
   "source": [
    "#### 좋아했던 영화를 통해 추천하기 위해서 rating이 3 이상인 데이터만 남긴다."
   ]
  },
  {
   "cell_type": "code",
   "execution_count": 26,
   "id": "southeast-least",
   "metadata": {},
   "outputs": [
    {
     "data": {
      "text/html": [
       "<div>\n",
       "<style scoped>\n",
       "    .dataframe tbody tr th:only-of-type {\n",
       "        vertical-align: middle;\n",
       "    }\n",
       "\n",
       "    .dataframe tbody tr th {\n",
       "        vertical-align: top;\n",
       "    }\n",
       "\n",
       "    .dataframe thead th {\n",
       "        text-align: right;\n",
       "    }\n",
       "</style>\n",
       "<table border=\"1\" class=\"dataframe\">\n",
       "  <thead>\n",
       "    <tr style=\"text-align: right;\">\n",
       "      <th></th>\n",
       "      <th>SessionId</th>\n",
       "      <th>ItemId</th>\n",
       "      <th>rating</th>\n",
       "      <th>Time</th>\n",
       "    </tr>\n",
       "  </thead>\n",
       "  <tbody>\n",
       "    <tr>\n",
       "      <th>30</th>\n",
       "      <td>1</td>\n",
       "      <td>3186</td>\n",
       "      <td>4</td>\n",
       "      <td>2000-12-31 22:00:19</td>\n",
       "    </tr>\n",
       "    <tr>\n",
       "      <th>21</th>\n",
       "      <td>1</td>\n",
       "      <td>1270</td>\n",
       "      <td>5</td>\n",
       "      <td>2000-12-31 22:00:55</td>\n",
       "    </tr>\n",
       "    <tr>\n",
       "      <th>26</th>\n",
       "      <td>1</td>\n",
       "      <td>1721</td>\n",
       "      <td>4</td>\n",
       "      <td>2000-12-31 22:00:55</td>\n",
       "    </tr>\n",
       "    <tr>\n",
       "      <th>36</th>\n",
       "      <td>1</td>\n",
       "      <td>1022</td>\n",
       "      <td>5</td>\n",
       "      <td>2000-12-31 22:00:55</td>\n",
       "    </tr>\n",
       "    <tr>\n",
       "      <th>23</th>\n",
       "      <td>1</td>\n",
       "      <td>2340</td>\n",
       "      <td>3</td>\n",
       "      <td>2000-12-31 22:01:43</td>\n",
       "    </tr>\n",
       "    <tr>\n",
       "      <th>...</th>\n",
       "      <td>...</td>\n",
       "      <td>...</td>\n",
       "      <td>...</td>\n",
       "      <td>...</td>\n",
       "    </tr>\n",
       "    <tr>\n",
       "      <th>1000018</th>\n",
       "      <td>6040</td>\n",
       "      <td>2917</td>\n",
       "      <td>4</td>\n",
       "      <td>2001-08-10 14:40:29</td>\n",
       "    </tr>\n",
       "    <tr>\n",
       "      <th>999987</th>\n",
       "      <td>6040</td>\n",
       "      <td>1921</td>\n",
       "      <td>4</td>\n",
       "      <td>2001-08-10 14:41:04</td>\n",
       "    </tr>\n",
       "    <tr>\n",
       "      <th>1000171</th>\n",
       "      <td>6040</td>\n",
       "      <td>1784</td>\n",
       "      <td>3</td>\n",
       "      <td>2001-08-10 14:41:04</td>\n",
       "    </tr>\n",
       "    <tr>\n",
       "      <th>1000166</th>\n",
       "      <td>6040</td>\n",
       "      <td>161</td>\n",
       "      <td>3</td>\n",
       "      <td>2001-08-10 14:41:26</td>\n",
       "    </tr>\n",
       "    <tr>\n",
       "      <th>1000041</th>\n",
       "      <td>6040</td>\n",
       "      <td>1221</td>\n",
       "      <td>4</td>\n",
       "      <td>2001-08-20 13:44:15</td>\n",
       "    </tr>\n",
       "  </tbody>\n",
       "</table>\n",
       "<p>740832 rows × 4 columns</p>\n",
       "</div>"
      ],
      "text/plain": [
       "         SessionId  ItemId  rating                Time\n",
       "30               1    3186       4 2000-12-31 22:00:19\n",
       "21               1    1270       5 2000-12-31 22:00:55\n",
       "26               1    1721       4 2000-12-31 22:00:55\n",
       "36               1    1022       5 2000-12-31 22:00:55\n",
       "23               1    2340       3 2000-12-31 22:01:43\n",
       "...            ...     ...     ...                 ...\n",
       "1000018       6040    2917       4 2001-08-10 14:40:29\n",
       "999987        6040    1921       4 2001-08-10 14:41:04\n",
       "1000171       6040    1784       3 2001-08-10 14:41:04\n",
       "1000166       6040     161       3 2001-08-10 14:41:26\n",
       "1000041       6040    1221       4 2001-08-20 13:44:15\n",
       "\n",
       "[740832 rows x 4 columns]"
      ]
     },
     "execution_count": 26,
     "metadata": {},
     "output_type": "execute_result"
    }
   ],
   "source": [
    "data = data[data['rating'].apply(lambda x : x>=3)]\n",
    "data"
   ]
  },
  {
   "cell_type": "markdown",
   "id": "complex-chicago",
   "metadata": {},
   "source": [
    "___"
   ]
  },
  {
   "cell_type": "markdown",
   "id": "damaged-mozambique",
   "metadata": {},
   "source": [
    "#### Train/ Valid/ Test split"
   ]
  },
  {
   "cell_type": "markdown",
   "id": "incorrect-brave",
   "metadata": {},
   "source": [
    "#### 현재 고객이 어떤 선택을 할 것인지가 중요하므로 날짜 별로 데이터를 나눈다."
   ]
  },
  {
   "cell_type": "markdown",
   "id": "secure-mobility",
   "metadata": {},
   "source": [
    "3년치 데이터에서 마지막 50일을 test set, 그 이전 100일을 valid set으로 설정"
   ]
  },
  {
   "cell_type": "markdown",
   "id": "every-cleaning",
   "metadata": {},
   "source": [
    "날짜별 데이터 split"
   ]
  },
  {
   "cell_type": "code",
   "execution_count": 27,
   "id": "asian-missouri",
   "metadata": {},
   "outputs": [],
   "source": [
    "def split_by_date(data: pd.DataFrame, n_days: int):\n",
    "    final_time = data['Time'].max()\n",
    "    session_last_time = data.groupby('SessionId')['Time'].max() #sessionid 별 time 조회\n",
    "    session_in_train = session_last_time[session_last_time < final_time - dt.timedelta(n_days)].index\n",
    "    session_in_test = session_last_time[session_last_time >= final_time - dt.timedelta(n_days)].index\n",
    "\n",
    "    before_date = data[data['SessionId'].isin(session_in_train)]\n",
    "    after_date = data[data['SessionId'].isin(session_in_test)]\n",
    "    after_date = after_date[after_date['ItemId'].isin(before_date['ItemId'])]\n",
    "    return before_date, after_date"
   ]
  },
  {
   "cell_type": "code",
   "execution_count": 28,
   "id": "optical-personality",
   "metadata": {},
   "outputs": [],
   "source": [
    "tr, test = split_by_date(data, n_days=50)\n",
    "tr, val = split_by_date(tr, n_days=100)"
   ]
  },
  {
   "cell_type": "markdown",
   "id": "attempted-prompt",
   "metadata": {},
   "source": [
    "#### 데이터별 정보 확인"
   ]
  },
  {
   "cell_type": "code",
   "execution_count": 29,
   "id": "immune-brand",
   "metadata": {},
   "outputs": [],
   "source": [
    "# data에 대한 정보를 살펴봅니다.\n",
    "def stats_info(data: pd.DataFrame, status: str):\n",
    "    print(f'* {status} Set Stats Info\\n'\n",
    "          f'\\t Events: {len(data)}\\n'\n",
    "          f'\\t Sessions: {data[\"SessionId\"].nunique()}\\n'\n",
    "          f'\\t Items: {data[\"ItemId\"].nunique()}\\n'\n",
    "          f'\\t First Time : {data[\"Time\"].min()}\\n'\n",
    "          f'\\t Last Time : {data[\"Time\"].max()}\\n')"
   ]
  },
  {
   "cell_type": "code",
   "execution_count": 30,
   "id": "composed-miracle",
   "metadata": {},
   "outputs": [
    {
     "name": "stdout",
     "output_type": "stream",
     "text": [
      "* train Set Stats Info\n",
      "\t Events: 643751\n",
      "\t Sessions: 3897\n",
      "\t Items: 1971\n",
      "\t First Time : 2000-04-25 23:05:32\n",
      "\t Last Time : 2002-09-30 16:19:28\n",
      "\n",
      "* valid Set Stats Info\n",
      "\t Events: 46454\n",
      "\t Sessions: 157\n",
      "\t Items: 1965\n",
      "\t First Time : 2000-04-27 16:38:08\n",
      "\t Last Time : 2003-01-08 21:56:15\n",
      "\n",
      "* test Set Stats Info\n",
      "\t Events: 50627\n",
      "\t Sessions: 139\n",
      "\t Items: 1964\n",
      "\t First Time : 2000-05-01 11:15:13\n",
      "\t Last Time : 2003-02-28 17:49:50\n",
      "\n"
     ]
    }
   ],
   "source": [
    "stats_info(tr, 'train')\n",
    "stats_info(val, 'valid')\n",
    "stats_info(test, 'test')"
   ]
  },
  {
   "cell_type": "markdown",
   "id": "attached-thanks",
   "metadata": {},
   "source": [
    "#### 아이템 인덱싱"
   ]
  },
  {
   "cell_type": "code",
   "execution_count": 31,
   "id": "disciplinary-group",
   "metadata": {},
   "outputs": [],
   "source": [
    "# train set에 없는 아이템이 val, test기간에 생길 수 있으므로 train data를 기준으로 인덱싱합니다.\n",
    "id2idx = {item_id : index for index, item_id in enumerate(tr['ItemId'].unique())}\n",
    "\n",
    "def indexing(df, id2idx):\n",
    "    df['item_idx'] = df['ItemId'].map(lambda x: id2idx.get(x, -1))  # id2idx에 없는 아이템은 모르는 값(-1) 처리 해줍니다.\n",
    "    return df\n",
    "\n",
    "tr = indexing(tr, id2idx)\n",
    "val = indexing(val, id2idx)\n",
    "test = indexing(test, id2idx)"
   ]
  },
  {
   "cell_type": "markdown",
   "id": "indoor-masters",
   "metadata": {},
   "source": [
    "## 2 . 데이터 파이프라인 구축"
   ]
  },
  {
   "cell_type": "markdown",
   "id": "atmospheric-daisy",
   "metadata": {},
   "source": [
    "데이터 pkl로 저장"
   ]
  },
  {
   "cell_type": "code",
   "execution_count": 32,
   "id": "prescription-evans",
   "metadata": {},
   "outputs": [],
   "source": [
    "save_path = data_path / 'processed' / 'movie'\n",
    "save_path.mkdir(parents=True, exist_ok=True)\n",
    "\n",
    "tr.to_pickle(save_path / 'train.pkl')\n",
    "val.to_pickle(save_path / 'valid.pkl')\n",
    "test.to_pickle(save_path / 'test.pkl')"
   ]
  },
  {
   "cell_type": "markdown",
   "id": "accepting-transportation",
   "metadata": {},
   "source": [
    "주어진 데이터에서 세션이 시작되는 인덱스를 담는 값과 세션을 인덱싱한 값을 가지는 클래스 생성"
   ]
  },
  {
   "cell_type": "code",
   "execution_count": 33,
   "id": "revised-extent",
   "metadata": {},
   "outputs": [],
   "source": [
    "class SessionDataset:\n",
    "    \"\"\"Credit to yhs-968/pyGRU4REC.\"\"\"\n",
    "\n",
    "    def __init__(self, data):\n",
    "        self.df = data\n",
    "        self.click_offsets = self.get_click_offsets()\n",
    "        self.session_idx = np.arange(self.df['SessionId'].nunique())  # indexing to SessionId\n",
    "\n",
    "    def get_click_offsets(self):\n",
    "        \"\"\"\n",
    "        Return the indexes of the first click of each session IDs,\n",
    "        \"\"\"\n",
    "        offsets = np.zeros(self.df['SessionId'].nunique() + 1, dtype=np.int32)\n",
    "        offsets[1:] = self.df.groupby('SessionId').size().cumsum()\n",
    "        return offsets"
   ]
  },
  {
   "cell_type": "code",
   "execution_count": 34,
   "id": "unlike-rabbit",
   "metadata": {
    "scrolled": true
   },
   "outputs": [
    {
     "data": {
      "text/html": [
       "<div>\n",
       "<style scoped>\n",
       "    .dataframe tbody tr th:only-of-type {\n",
       "        vertical-align: middle;\n",
       "    }\n",
       "\n",
       "    .dataframe tbody tr th {\n",
       "        vertical-align: top;\n",
       "    }\n",
       "\n",
       "    .dataframe thead th {\n",
       "        text-align: right;\n",
       "    }\n",
       "</style>\n",
       "<table border=\"1\" class=\"dataframe\">\n",
       "  <thead>\n",
       "    <tr style=\"text-align: right;\">\n",
       "      <th></th>\n",
       "      <th>SessionId</th>\n",
       "      <th>ItemId</th>\n",
       "      <th>rating</th>\n",
       "      <th>Time</th>\n",
       "      <th>item_idx</th>\n",
       "    </tr>\n",
       "  </thead>\n",
       "  <tbody>\n",
       "    <tr>\n",
       "      <th>30</th>\n",
       "      <td>1</td>\n",
       "      <td>3186</td>\n",
       "      <td>4</td>\n",
       "      <td>2000-12-31 22:00:19</td>\n",
       "      <td>0</td>\n",
       "    </tr>\n",
       "    <tr>\n",
       "      <th>21</th>\n",
       "      <td>1</td>\n",
       "      <td>1270</td>\n",
       "      <td>5</td>\n",
       "      <td>2000-12-31 22:00:55</td>\n",
       "      <td>1</td>\n",
       "    </tr>\n",
       "    <tr>\n",
       "      <th>26</th>\n",
       "      <td>1</td>\n",
       "      <td>1721</td>\n",
       "      <td>4</td>\n",
       "      <td>2000-12-31 22:00:55</td>\n",
       "      <td>2</td>\n",
       "    </tr>\n",
       "    <tr>\n",
       "      <th>36</th>\n",
       "      <td>1</td>\n",
       "      <td>1022</td>\n",
       "      <td>5</td>\n",
       "      <td>2000-12-31 22:00:55</td>\n",
       "      <td>3</td>\n",
       "    </tr>\n",
       "    <tr>\n",
       "      <th>23</th>\n",
       "      <td>1</td>\n",
       "      <td>2340</td>\n",
       "      <td>3</td>\n",
       "      <td>2000-12-31 22:01:43</td>\n",
       "      <td>4</td>\n",
       "    </tr>\n",
       "    <tr>\n",
       "      <th>35</th>\n",
       "      <td>1</td>\n",
       "      <td>1836</td>\n",
       "      <td>5</td>\n",
       "      <td>2000-12-31 22:02:52</td>\n",
       "      <td>5</td>\n",
       "    </tr>\n",
       "    <tr>\n",
       "      <th>2</th>\n",
       "      <td>1</td>\n",
       "      <td>3408</td>\n",
       "      <td>4</td>\n",
       "      <td>2000-12-31 22:04:35</td>\n",
       "      <td>6</td>\n",
       "    </tr>\n",
       "    <tr>\n",
       "      <th>6</th>\n",
       "      <td>1</td>\n",
       "      <td>2804</td>\n",
       "      <td>5</td>\n",
       "      <td>2000-12-31 22:11:59</td>\n",
       "      <td>7</td>\n",
       "    </tr>\n",
       "    <tr>\n",
       "      <th>46</th>\n",
       "      <td>1</td>\n",
       "      <td>1207</td>\n",
       "      <td>4</td>\n",
       "      <td>2000-12-31 22:11:59</td>\n",
       "      <td>8</td>\n",
       "    </tr>\n",
       "    <tr>\n",
       "      <th>20</th>\n",
       "      <td>1</td>\n",
       "      <td>720</td>\n",
       "      <td>3</td>\n",
       "      <td>2000-12-31 22:12:40</td>\n",
       "      <td>9</td>\n",
       "    </tr>\n",
       "    <tr>\n",
       "      <th>43</th>\n",
       "      <td>1</td>\n",
       "      <td>260</td>\n",
       "      <td>4</td>\n",
       "      <td>2000-12-31 22:12:40</td>\n",
       "      <td>10</td>\n",
       "    </tr>\n",
       "    <tr>\n",
       "      <th>8</th>\n",
       "      <td>1</td>\n",
       "      <td>919</td>\n",
       "      <td>4</td>\n",
       "      <td>2000-12-31 22:22:48</td>\n",
       "      <td>11</td>\n",
       "    </tr>\n",
       "    <tr>\n",
       "      <th>50</th>\n",
       "      <td>1</td>\n",
       "      <td>608</td>\n",
       "      <td>4</td>\n",
       "      <td>2000-12-31 22:23:18</td>\n",
       "      <td>12</td>\n",
       "    </tr>\n",
       "    <tr>\n",
       "      <th>42</th>\n",
       "      <td>1</td>\n",
       "      <td>2692</td>\n",
       "      <td>4</td>\n",
       "      <td>2000-12-31 22:26:10</td>\n",
       "      <td>13</td>\n",
       "    </tr>\n",
       "    <tr>\n",
       "      <th>40</th>\n",
       "      <td>1</td>\n",
       "      <td>1961</td>\n",
       "      <td>5</td>\n",
       "      <td>2000-12-31 22:26:30</td>\n",
       "      <td>14</td>\n",
       "    </tr>\n",
       "    <tr>\n",
       "      <th>47</th>\n",
       "      <td>1</td>\n",
       "      <td>2028</td>\n",
       "      <td>5</td>\n",
       "      <td>2000-12-31 22:26:59</td>\n",
       "      <td>15</td>\n",
       "    </tr>\n",
       "    <tr>\n",
       "      <th>17</th>\n",
       "      <td>1</td>\n",
       "      <td>3105</td>\n",
       "      <td>5</td>\n",
       "      <td>2000-12-31 22:28:33</td>\n",
       "      <td>16</td>\n",
       "    </tr>\n",
       "    <tr>\n",
       "      <th>10</th>\n",
       "      <td>1</td>\n",
       "      <td>938</td>\n",
       "      <td>4</td>\n",
       "      <td>2000-12-31 22:29:12</td>\n",
       "      <td>17</td>\n",
       "    </tr>\n",
       "    <tr>\n",
       "      <th>13</th>\n",
       "      <td>1</td>\n",
       "      <td>1035</td>\n",
       "      <td>5</td>\n",
       "      <td>2000-12-31 22:29:13</td>\n",
       "      <td>18</td>\n",
       "    </tr>\n",
       "    <tr>\n",
       "      <th>41</th>\n",
       "      <td>1</td>\n",
       "      <td>1962</td>\n",
       "      <td>4</td>\n",
       "      <td>2000-12-31 22:29:13</td>\n",
       "      <td>19</td>\n",
       "    </tr>\n",
       "  </tbody>\n",
       "</table>\n",
       "</div>"
      ],
      "text/plain": [
       "    SessionId  ItemId  rating                Time  item_idx\n",
       "30          1    3186       4 2000-12-31 22:00:19         0\n",
       "21          1    1270       5 2000-12-31 22:00:55         1\n",
       "26          1    1721       4 2000-12-31 22:00:55         2\n",
       "36          1    1022       5 2000-12-31 22:00:55         3\n",
       "23          1    2340       3 2000-12-31 22:01:43         4\n",
       "35          1    1836       5 2000-12-31 22:02:52         5\n",
       "2           1    3408       4 2000-12-31 22:04:35         6\n",
       "6           1    2804       5 2000-12-31 22:11:59         7\n",
       "46          1    1207       4 2000-12-31 22:11:59         8\n",
       "20          1     720       3 2000-12-31 22:12:40         9\n",
       "43          1     260       4 2000-12-31 22:12:40        10\n",
       "8           1     919       4 2000-12-31 22:22:48        11\n",
       "50          1     608       4 2000-12-31 22:23:18        12\n",
       "42          1    2692       4 2000-12-31 22:26:10        13\n",
       "40          1    1961       5 2000-12-31 22:26:30        14\n",
       "47          1    2028       5 2000-12-31 22:26:59        15\n",
       "17          1    3105       5 2000-12-31 22:28:33        16\n",
       "10          1     938       4 2000-12-31 22:29:12        17\n",
       "13          1    1035       5 2000-12-31 22:29:13        18\n",
       "41          1    1962       4 2000-12-31 22:29:13        19"
      ]
     },
     "execution_count": 34,
     "metadata": {},
     "output_type": "execute_result"
    }
   ],
   "source": [
    "tr_dataset = SessionDataset(tr)\n",
    "tr_dataset.df.head(20)"
   ]
  },
  {
   "cell_type": "code",
   "execution_count": 35,
   "id": "delayed-expression",
   "metadata": {},
   "outputs": [
    {
     "data": {
      "text/plain": [
       "SessionId\n",
       "1        51\n",
       "2       112\n",
       "3        46\n",
       "5       125\n",
       "6        67\n",
       "       ... \n",
       "6035    136\n",
       "6036    618\n",
       "6037    181\n",
       "6039    115\n",
       "6040    254\n",
       "Length: 3897, dtype: int64"
      ]
     },
     "execution_count": 35,
     "metadata": {},
     "output_type": "execute_result"
    }
   ],
   "source": [
    "session_len = tr_dataset.df.groupby('SessionId').size()\n",
    "session_len"
   ]
  },
  {
   "cell_type": "markdown",
   "id": "sharing-orchestra",
   "metadata": {},
   "source": [
    "세션이 시작되는(첫 클릭)인덱스"
   ]
  },
  {
   "cell_type": "code",
   "execution_count": 36,
   "id": "twenty-heather",
   "metadata": {
    "scrolled": true
   },
   "outputs": [
    {
     "data": {
      "text/plain": [
       "array([     0,     51,    163, ..., 643382, 643497, 643751], dtype=int32)"
      ]
     },
     "execution_count": 36,
     "metadata": {},
     "output_type": "execute_result"
    }
   ],
   "source": [
    "tr_dataset.click_offsets"
   ]
  },
  {
   "cell_type": "markdown",
   "id": "sitting-shopping",
   "metadata": {},
   "source": [
    "세션 인덱싱"
   ]
  },
  {
   "cell_type": "code",
   "execution_count": 37,
   "id": "dietary-albuquerque",
   "metadata": {},
   "outputs": [
    {
     "data": {
      "text/plain": [
       "array([   0,    1,    2, ..., 3894, 3895, 3896])"
      ]
     },
     "execution_count": 37,
     "metadata": {},
     "output_type": "execute_result"
    }
   ],
   "source": [
    "tr_dataset.session_idx"
   ]
  },
  {
   "cell_type": "markdown",
   "id": "practical-affiliation",
   "metadata": {},
   "source": [
    "#### generator 활용해서 session 정보 읽어오기"
   ]
  },
  {
   "cell_type": "code",
   "execution_count": 38,
   "id": "regional-experience",
   "metadata": {},
   "outputs": [],
   "source": [
    "class SessionDataLoader:\n",
    "    \"\"\"Credit to yhs-968/pyGRU4REC.\"\"\"\n",
    "\n",
    "    def __init__(self, dataset: SessionDataset, batch_size=50):\n",
    "        self.dataset = dataset\n",
    "        self.batch_size = batch_size\n",
    "\n",
    "    def __iter__(self):\n",
    "        \"\"\" Returns the iterator for producing session-parallel training mini-batches.\n",
    "        Yields:\n",
    "            input (B,):  Item indices that will be encoded as one-hot vectors later.\n",
    "            target (B,): a Variable that stores the target item indices\n",
    "            masks: Numpy array indicating the positions of the sessions to be terminated\n",
    "        \"\"\"\n",
    "\n",
    "        start, end, mask, last_session, finished = self.initialize()  # initialize 메소드에서 확인해주세요.\n",
    "        \"\"\"\n",
    "        start : Index Where Session Start\n",
    "        end : Index Where Session End\n",
    "        mask : indicator for the sessions to be terminated\n",
    "        \"\"\"\n",
    "\n",
    "        while not finished:\n",
    "            min_len = (end - start).min() - 1  # Shortest Length Among Sessions\n",
    "            for i in range(min_len):\n",
    "                # Build inputs & targets\n",
    "                inp = self.dataset.df['item_idx'].values[start + i]\n",
    "                target = self.dataset.df['item_idx'].values[start + i + 1]\n",
    "                yield inp, target, mask\n",
    "\n",
    "            start, end, mask, last_session, finished = self.update_status(start, end, min_len, last_session, finished)\n",
    "\n",
    "    def initialize(self):\n",
    "        first_iters = np.arange(self.batch_size)    # 첫 배치에 사용할 세션 Index를 가져옵니다.\n",
    "        last_session = self.batch_size - 1    # 마지막으로 다루고 있는 세션 Index를 저장해둡니다.\n",
    "        start = self.dataset.click_offsets[self.dataset.session_idx[first_iters]]       # data 상에서 session이 시작된 위치를 가져옵니다.\n",
    "        end = self.dataset.click_offsets[self.dataset.session_idx[first_iters] + 1]  # session이 끝난 위치 바로 다음 위치를 가져옵니다.\n",
    "        mask = np.array([])   # session의 모든 아이템을 다 돌은 경우 mask에 추가해줄 것입니다.\n",
    "        finished = False         # data를 전부 돌았는지 기록하기 위한 변수입니다.\n",
    "        return start, end, mask, last_session, finished\n",
    "\n",
    "    def update_status(self, start: np.ndarray, end: np.ndarray, min_len: int, last_session: int, finished: bool):  \n",
    "        # 다음 배치 데이터를 생성하기 위해 상태를 update합니다.\n",
    "        \n",
    "        start += min_len   # __iter__에서 min_len 만큼 for문을 돌았으므로 start를 min_len 만큼 더해줍니다.\n",
    "        mask = np.arange(self.batch_size)[(end - start) == 1]  \n",
    "        # end는 다음 세션이 시작되는 위치인데 start와 한 칸 차이난다는 것은 session이 끝났다는 뜻입니다. mask에 기록해줍니다.\n",
    "\n",
    "        for i, idx in enumerate(mask, start=1):  # mask에 추가된 세션 개수만큼 새로운 세션을 돌것입니다.\n",
    "            new_session = last_session + i  \n",
    "            if new_session > self.dataset.session_idx[-1]:  # 만약 새로운 세션이 마지막 세션 index보다 크다면 모든 학습데이터를 돈 것입니다.\n",
    "                finished = True\n",
    "                break\n",
    "            # update the next starting/ending point\n",
    "            start[idx] = self.dataset.click_offsets[self.dataset.session_idx[new_session]]     # 종료된 세션 대신 새로운 세션의 시작점을 기록합니다.\n",
    "            end[idx] = self.dataset.click_offsets[self.dataset.session_idx[new_session] + 1]\n",
    "\n",
    "        last_session += len(mask)  # 마지막 세션의 위치를 기록해둡니다.\n",
    "        return start, end, mask, last_session, finished"
   ]
  },
  {
   "cell_type": "code",
   "execution_count": 39,
   "id": "impaired-logic",
   "metadata": {},
   "outputs": [
    {
     "data": {
      "text/html": [
       "<div>\n",
       "<style scoped>\n",
       "    .dataframe tbody tr th:only-of-type {\n",
       "        vertical-align: middle;\n",
       "    }\n",
       "\n",
       "    .dataframe tbody tr th {\n",
       "        vertical-align: top;\n",
       "    }\n",
       "\n",
       "    .dataframe thead th {\n",
       "        text-align: right;\n",
       "    }\n",
       "</style>\n",
       "<table border=\"1\" class=\"dataframe\">\n",
       "  <thead>\n",
       "    <tr style=\"text-align: right;\">\n",
       "      <th></th>\n",
       "      <th>SessionId</th>\n",
       "      <th>ItemId</th>\n",
       "      <th>rating</th>\n",
       "      <th>Time</th>\n",
       "      <th>item_idx</th>\n",
       "    </tr>\n",
       "  </thead>\n",
       "  <tbody>\n",
       "    <tr>\n",
       "      <th>30</th>\n",
       "      <td>1</td>\n",
       "      <td>3186</td>\n",
       "      <td>4</td>\n",
       "      <td>2000-12-31 22:00:19</td>\n",
       "      <td>0</td>\n",
       "    </tr>\n",
       "    <tr>\n",
       "      <th>21</th>\n",
       "      <td>1</td>\n",
       "      <td>1270</td>\n",
       "      <td>5</td>\n",
       "      <td>2000-12-31 22:00:55</td>\n",
       "      <td>1</td>\n",
       "    </tr>\n",
       "    <tr>\n",
       "      <th>26</th>\n",
       "      <td>1</td>\n",
       "      <td>1721</td>\n",
       "      <td>4</td>\n",
       "      <td>2000-12-31 22:00:55</td>\n",
       "      <td>2</td>\n",
       "    </tr>\n",
       "    <tr>\n",
       "      <th>36</th>\n",
       "      <td>1</td>\n",
       "      <td>1022</td>\n",
       "      <td>5</td>\n",
       "      <td>2000-12-31 22:00:55</td>\n",
       "      <td>3</td>\n",
       "    </tr>\n",
       "    <tr>\n",
       "      <th>23</th>\n",
       "      <td>1</td>\n",
       "      <td>2340</td>\n",
       "      <td>3</td>\n",
       "      <td>2000-12-31 22:01:43</td>\n",
       "      <td>4</td>\n",
       "    </tr>\n",
       "    <tr>\n",
       "      <th>35</th>\n",
       "      <td>1</td>\n",
       "      <td>1836</td>\n",
       "      <td>5</td>\n",
       "      <td>2000-12-31 22:02:52</td>\n",
       "      <td>5</td>\n",
       "    </tr>\n",
       "    <tr>\n",
       "      <th>2</th>\n",
       "      <td>1</td>\n",
       "      <td>3408</td>\n",
       "      <td>4</td>\n",
       "      <td>2000-12-31 22:04:35</td>\n",
       "      <td>6</td>\n",
       "    </tr>\n",
       "    <tr>\n",
       "      <th>6</th>\n",
       "      <td>1</td>\n",
       "      <td>2804</td>\n",
       "      <td>5</td>\n",
       "      <td>2000-12-31 22:11:59</td>\n",
       "      <td>7</td>\n",
       "    </tr>\n",
       "    <tr>\n",
       "      <th>46</th>\n",
       "      <td>1</td>\n",
       "      <td>1207</td>\n",
       "      <td>4</td>\n",
       "      <td>2000-12-31 22:11:59</td>\n",
       "      <td>8</td>\n",
       "    </tr>\n",
       "    <tr>\n",
       "      <th>20</th>\n",
       "      <td>1</td>\n",
       "      <td>720</td>\n",
       "      <td>3</td>\n",
       "      <td>2000-12-31 22:12:40</td>\n",
       "      <td>9</td>\n",
       "    </tr>\n",
       "    <tr>\n",
       "      <th>43</th>\n",
       "      <td>1</td>\n",
       "      <td>260</td>\n",
       "      <td>4</td>\n",
       "      <td>2000-12-31 22:12:40</td>\n",
       "      <td>10</td>\n",
       "    </tr>\n",
       "    <tr>\n",
       "      <th>8</th>\n",
       "      <td>1</td>\n",
       "      <td>919</td>\n",
       "      <td>4</td>\n",
       "      <td>2000-12-31 22:22:48</td>\n",
       "      <td>11</td>\n",
       "    </tr>\n",
       "    <tr>\n",
       "      <th>50</th>\n",
       "      <td>1</td>\n",
       "      <td>608</td>\n",
       "      <td>4</td>\n",
       "      <td>2000-12-31 22:23:18</td>\n",
       "      <td>12</td>\n",
       "    </tr>\n",
       "    <tr>\n",
       "      <th>42</th>\n",
       "      <td>1</td>\n",
       "      <td>2692</td>\n",
       "      <td>4</td>\n",
       "      <td>2000-12-31 22:26:10</td>\n",
       "      <td>13</td>\n",
       "    </tr>\n",
       "    <tr>\n",
       "      <th>40</th>\n",
       "      <td>1</td>\n",
       "      <td>1961</td>\n",
       "      <td>5</td>\n",
       "      <td>2000-12-31 22:26:30</td>\n",
       "      <td>14</td>\n",
       "    </tr>\n",
       "    <tr>\n",
       "      <th>47</th>\n",
       "      <td>1</td>\n",
       "      <td>2028</td>\n",
       "      <td>5</td>\n",
       "      <td>2000-12-31 22:26:59</td>\n",
       "      <td>15</td>\n",
       "    </tr>\n",
       "    <tr>\n",
       "      <th>17</th>\n",
       "      <td>1</td>\n",
       "      <td>3105</td>\n",
       "      <td>5</td>\n",
       "      <td>2000-12-31 22:28:33</td>\n",
       "      <td>16</td>\n",
       "    </tr>\n",
       "    <tr>\n",
       "      <th>10</th>\n",
       "      <td>1</td>\n",
       "      <td>938</td>\n",
       "      <td>4</td>\n",
       "      <td>2000-12-31 22:29:12</td>\n",
       "      <td>17</td>\n",
       "    </tr>\n",
       "    <tr>\n",
       "      <th>13</th>\n",
       "      <td>1</td>\n",
       "      <td>1035</td>\n",
       "      <td>5</td>\n",
       "      <td>2000-12-31 22:29:13</td>\n",
       "      <td>18</td>\n",
       "    </tr>\n",
       "    <tr>\n",
       "      <th>41</th>\n",
       "      <td>1</td>\n",
       "      <td>1962</td>\n",
       "      <td>4</td>\n",
       "      <td>2000-12-31 22:29:13</td>\n",
       "      <td>19</td>\n",
       "    </tr>\n",
       "  </tbody>\n",
       "</table>\n",
       "</div>"
      ],
      "text/plain": [
       "    SessionId  ItemId  rating                Time  item_idx\n",
       "30          1    3186       4 2000-12-31 22:00:19         0\n",
       "21          1    1270       5 2000-12-31 22:00:55         1\n",
       "26          1    1721       4 2000-12-31 22:00:55         2\n",
       "36          1    1022       5 2000-12-31 22:00:55         3\n",
       "23          1    2340       3 2000-12-31 22:01:43         4\n",
       "35          1    1836       5 2000-12-31 22:02:52         5\n",
       "2           1    3408       4 2000-12-31 22:04:35         6\n",
       "6           1    2804       5 2000-12-31 22:11:59         7\n",
       "46          1    1207       4 2000-12-31 22:11:59         8\n",
       "20          1     720       3 2000-12-31 22:12:40         9\n",
       "43          1     260       4 2000-12-31 22:12:40        10\n",
       "8           1     919       4 2000-12-31 22:22:48        11\n",
       "50          1     608       4 2000-12-31 22:23:18        12\n",
       "42          1    2692       4 2000-12-31 22:26:10        13\n",
       "40          1    1961       5 2000-12-31 22:26:30        14\n",
       "47          1    2028       5 2000-12-31 22:26:59        15\n",
       "17          1    3105       5 2000-12-31 22:28:33        16\n",
       "10          1     938       4 2000-12-31 22:29:12        17\n",
       "13          1    1035       5 2000-12-31 22:29:13        18\n",
       "41          1    1962       4 2000-12-31 22:29:13        19"
      ]
     },
     "execution_count": 39,
     "metadata": {},
     "output_type": "execute_result"
    }
   ],
   "source": [
    "tr_data_loader = SessionDataLoader(tr_dataset, batch_size=4)\n",
    "tr_dataset.df.head(20)"
   ]
  },
  {
   "cell_type": "code",
   "execution_count": 40,
   "id": "aggressive-rescue",
   "metadata": {},
   "outputs": [],
   "source": [
    "iter_ex = iter(tr_data_loader)"
   ]
  },
  {
   "cell_type": "markdown",
   "id": "suffering-johns",
   "metadata": {},
   "source": [
    "iter를 통해 계속 다음 데이터를 만들 수 있다."
   ]
  },
  {
   "cell_type": "code",
   "execution_count": 41,
   "id": "accepting-evans",
   "metadata": {},
   "outputs": [
    {
     "name": "stdout",
     "output_type": "stream",
     "text": [
      "Model Input Item Idx are : [  0  51  63 187]\n",
      "Label Item Idx are :       [ 1 52 61 11]\n",
      "Previous Masked Input Idx are []\n"
     ]
    }
   ],
   "source": [
    "inputs, labels, mask =  next(iter_ex)\n",
    "print(f'Model Input Item Idx are : {inputs}')\n",
    "print(f'Label Item Idx are : {\"\":5} {labels}')\n",
    "print(f'Previous Masked Input Idx are {mask}')"
   ]
  },
  {
   "cell_type": "markdown",
   "id": "complicated-albuquerque",
   "metadata": {},
   "source": [
    "___"
   ]
  },
  {
   "cell_type": "markdown",
   "id": "dynamic-aurora",
   "metadata": {},
   "source": [
    "## 3. 모델 설계"
   ]
  },
  {
   "cell_type": "markdown",
   "id": "headed-request",
   "metadata": {},
   "source": [
    "### 모델 소개"
   ]
  },
  {
   "cell_type": "markdown",
   "id": "diagnostic-louisville",
   "metadata": {},
   "source": [
    "#### GRU4REC"
   ]
  },
  {
   "cell_type": "markdown",
   "id": "animated-vegetarian",
   "metadata": {},
   "source": [
    "- GRU 기반"
   ]
  },
  {
   "cell_type": "markdown",
   "id": "voluntary-attack",
   "metadata": {},
   "source": [
    " - Embedding layer보다 one-hot encoding 때 더 좋은 결과"
   ]
  },
  {
   "cell_type": "markdown",
   "id": "minus-station",
   "metadata": {},
   "source": [
    "![image](https://user-images.githubusercontent.com/86637320/131254052-3ed7e72c-66f9-4de3-a4a1-884e364e6bfe.png)"
   ]
  },
  {
   "cell_type": "markdown",
   "id": "involved-architect",
   "metadata": {},
   "source": [
    "- 세션 별로 미니 배치 생성 시 세션 길이에 따라서 병목 현상 발생 우려"
   ]
  },
  {
   "cell_type": "markdown",
   "id": "western-associate",
   "metadata": {},
   "source": [
    "![image](https://user-images.githubusercontent.com/86637320/131254118-07785670-642d-403a-949b-b1db041c0d0d.png)"
   ]
  },
  {
   "cell_type": "markdown",
   "id": "grateful-australia",
   "metadata": {},
   "source": [
    "- Session-Parallel Mini-Batches"
   ]
  },
  {
   "cell_type": "markdown",
   "id": "fuzzy-admission",
   "metadata": {},
   "source": [
    "#### 성능 평가 지표"
   ]
  },
  {
   "cell_type": "markdown",
   "id": "accomplished-scotland",
   "metadata": {},
   "source": [
    "-  MRR과 Recall@k"
   ]
  },
  {
   "cell_type": "markdown",
   "id": "increasing-swedish",
   "metadata": {},
   "source": [
    "순서에 민감한 MRR"
   ]
  },
  {
   "cell_type": "code",
   "execution_count": 42,
   "id": "similar-lloyd",
   "metadata": {},
   "outputs": [],
   "source": [
    "def mrr_k(pred, truth: int, k: int):\n",
    "    indexing = np.where(pred[:k] == truth)[0]\n",
    "    if len(indexing) > 0:\n",
    "        return 1 / (indexing[0] + 1)\n",
    "    else:\n",
    "        return 0\n",
    "\n",
    "\n",
    "def recall_k(pred, truth: int, k: int) -> int:\n",
    "    answer = truth in pred[:k]\n",
    "    return int(answer)"
   ]
  },
  {
   "cell_type": "markdown",
   "id": "likely-password",
   "metadata": {},
   "source": [
    "#### 모델 선언"
   ]
  },
  {
   "cell_type": "code",
   "execution_count": 43,
   "id": "mathematical-appeal",
   "metadata": {},
   "outputs": [],
   "source": [
    "import numpy as np\n",
    "import tensorflow as tf\n",
    "from tensorflow.keras.layers import Input, Dense, Dropout, GRU\n",
    "from tensorflow.keras.losses import categorical_crossentropy\n",
    "from tensorflow.keras.models import Model\n",
    "from tensorflow.keras.optimizers import Adam\n",
    "from tensorflow.keras.utils import to_categorical\n",
    "from tqdm import tqdm"
   ]
  },
  {
   "cell_type": "code",
   "execution_count": 44,
   "id": "optimum-listening",
   "metadata": {},
   "outputs": [],
   "source": [
    "def create_model(args):\n",
    "    inputs = Input(batch_shape=(args.batch_size, 1, args.num_items))\n",
    "    gru, _ = GRU(args.hsz, stateful=True, return_state=True, name='GRU')(inputs)\n",
    "    dropout = Dropout(args.drop_rate)(gru)\n",
    "    predictions = Dense(args.num_items, activation='softmax')(dropout)\n",
    "    model = Model(inputs=inputs, outputs=[predictions])\n",
    "    model.compile(loss=categorical_crossentropy, optimizer=Adam(args.lr), metrics=['accuracy'])\n",
    "    model.summary()\n",
    "    return model"
   ]
  },
  {
   "cell_type": "markdown",
   "id": "verbal-structure",
   "metadata": {},
   "source": [
    "#### 하이퍼 파라미터를 클래스로 관리"
   ]
  },
  {
   "cell_type": "code",
   "execution_count": 45,
   "id": "complimentary-seventh",
   "metadata": {},
   "outputs": [],
   "source": [
    "class Args:\n",
    "    def __init__(self, tr, val, test, batch_size, hsz, drop_rate, lr, epochs, k):\n",
    "        self.tr = tr\n",
    "        self.val = val\n",
    "        self.test = test\n",
    "        self.num_items = tr['ItemId'].nunique()\n",
    "        self.num_sessions = tr['SessionId'].nunique()\n",
    "        self.batch_size = batch_size\n",
    "        self.hsz = hsz\n",
    "        self.drop_rate = drop_rate\n",
    "        self.lr = lr\n",
    "        self.epochs = epochs\n",
    "        self.k = k\n",
    "\n",
    "#args 지정\n",
    "args = Args(tr, val, test, batch_size=128, hsz=50, drop_rate=0.1, lr=0.001, epochs=10, k=20)"
   ]
  },
  {
   "cell_type": "code",
   "execution_count": 46,
   "id": "effective-azerbaijan",
   "metadata": {},
   "outputs": [
    {
     "name": "stdout",
     "output_type": "stream",
     "text": [
      "Model: \"model\"\n",
      "_________________________________________________________________\n",
      "Layer (type)                 Output Shape              Param #   \n",
      "=================================================================\n",
      "input_1 (InputLayer)         [(128, 1, 1971)]          0         \n",
      "_________________________________________________________________\n",
      "GRU (GRU)                    [(128, 50), (128, 50)]    303450    \n",
      "_________________________________________________________________\n",
      "dropout (Dropout)            (128, 50)                 0         \n",
      "_________________________________________________________________\n",
      "dense (Dense)                (128, 1971)               100521    \n",
      "=================================================================\n",
      "Total params: 403,971\n",
      "Trainable params: 403,971\n",
      "Non-trainable params: 0\n",
      "_________________________________________________________________\n"
     ]
    }
   ],
   "source": [
    "model = create_model(args)"
   ]
  },
  {
   "cell_type": "markdown",
   "id": "bound-digest",
   "metadata": {},
   "source": [
    "#### 모델 훈련하기"
   ]
  },
  {
   "cell_type": "code",
   "execution_count": 47,
   "id": "forbidden-beverage",
   "metadata": {},
   "outputs": [],
   "source": [
    "# train 셋으로 학습하면서 valid 셋으로 검증합니다.\n",
    "def train_model(model, args):\n",
    "    train_dataset = SessionDataset(args.tr)\n",
    "    train_loader = SessionDataLoader(train_dataset, batch_size=args.batch_size)\n",
    "\n",
    "    for epoch in range(1, args.epochs + 1):\n",
    "        total_step = len(args.tr) - args.tr['SessionId'].nunique()\n",
    "        tr_loader = tqdm(train_loader, total=total_step // args.batch_size, desc='Train', mininterval=1)\n",
    "        for feat, target, mask in tr_loader:\n",
    "            reset_hidden_states(model, mask)  # 종료된 session은 hidden_state를 초기화합니다. 아래 메서드에서 확인해주세요.\n",
    "\n",
    "            input_ohe = to_categorical(feat, num_classes=args.num_items)\n",
    "            input_ohe = np.expand_dims(input_ohe, axis=1)\n",
    "            target_ohe = to_categorical(target, num_classes=args.num_items)\n",
    "\n",
    "            result = model.train_on_batch(input_ohe, target_ohe)\n",
    "            tr_loader.set_postfix(train_loss=result[0], accuracy = result[1])\n",
    "\n",
    "        val_recall, val_mrr = get_metrics(args.val, model, args, args.k)  # valid set에 대해 검증합니다.\n",
    "\n",
    "        print(f\"\\t - Recall@{args.k} epoch {epoch}: {val_recall:3f}\")\n",
    "        print(f\"\\t - MRR@{args.k}    epoch {epoch}: {val_mrr:3f}\\n\")\n",
    "\n",
    "\n",
    "def reset_hidden_states(model, mask):\n",
    "    gru_layer = model.get_layer(name='GRU')  # model에서 gru layer를 가져옵니다.\n",
    "    hidden_states = gru_layer.states[0].numpy()  # gru_layer의 parameter를 가져옵니다.\n",
    "    for elt in mask:  # mask된 인덱스 즉, 종료된 세션의 인덱스를 돌면서\n",
    "        hidden_states[elt, :] = 0  # parameter를 초기화 합니다.\n",
    "    gru_layer.reset_states(states=hidden_states)\n",
    "\n",
    "\n",
    "def get_metrics(data, model, args, k: int):  # valid셋과 test셋을 평가하는 코드입니다. \n",
    "                                             # train과 거의 같지만 mrr, recall을 구하는 라인이 있습니다.\n",
    "    dataset = SessionDataset(data)\n",
    "    loader = SessionDataLoader(dataset, batch_size=args.batch_size)\n",
    "    recall_list, mrr_list = [], []\n",
    "\n",
    "    total_step = len(data) - data['SessionId'].nunique()\n",
    "    for inputs, label, mask in tqdm(loader, total=total_step // args.batch_size, desc='Evaluation', mininterval=1):\n",
    "        reset_hidden_states(model, mask)\n",
    "        input_ohe = to_categorical(inputs, num_classes=args.num_items)\n",
    "        input_ohe = np.expand_dims(input_ohe, axis=1)\n",
    "\n",
    "        pred = model.predict(input_ohe, batch_size=args.batch_size)\n",
    "        pred_arg = tf.argsort(pred, direction='DESCENDING')  # softmax 값이 큰 순서대로 sorting 합니다.\n",
    "\n",
    "        length = len(inputs)\n",
    "        recall_list.extend([recall_k(pred_arg[i], label[i], k) for i in range(length)])\n",
    "        mrr_list.extend([mrr_k(pred_arg[i], label[i], k) for i in range(length)])\n",
    "\n",
    "    recall, mrr = np.mean(recall_list), np.mean(mrr_list)\n",
    "    return recall, mrr"
   ]
  },
  {
   "cell_type": "code",
   "execution_count": 48,
   "id": "funky-donor",
   "metadata": {
    "scrolled": true
   },
   "outputs": [
    {
     "name": "stderr",
     "output_type": "stream",
     "text": [
      "Train:  97%|█████████▋| 4866/4998 [01:01<00:01, 79.63it/s, accuracy=0.0312, train_loss=6.05] \n",
      "Evaluation:  33%|███▎      | 119/361 [01:26<02:55,  1.38it/s]\n",
      "Train:   0%|          | 0/4998 [00:00<?, ?it/s, accuracy=0.0312, train_loss=5.6]  "
     ]
    },
    {
     "name": "stdout",
     "output_type": "stream",
     "text": [
      "\t - Recall@20 epoch 1: 0.245733\n",
      "\t - MRR@20    epoch 1: 0.063671\n",
      "\n"
     ]
    },
    {
     "name": "stderr",
     "output_type": "stream",
     "text": [
      "Train:  97%|█████████▋| 4866/4998 [00:59<00:01, 82.20it/s, accuracy=0.0312, train_loss=5.8]  \n",
      "Evaluation:  33%|███▎      | 119/361 [01:23<02:49,  1.43it/s]\n",
      "Train:   0%|          | 0/4998 [00:00<?, ?it/s, accuracy=0.0469, train_loss=5.23]"
     ]
    },
    {
     "name": "stdout",
     "output_type": "stream",
     "text": [
      "\t - Recall@20 epoch 2: 0.305344\n",
      "\t - MRR@20    epoch 2: 0.083781\n",
      "\n"
     ]
    },
    {
     "name": "stderr",
     "output_type": "stream",
     "text": [
      "Train:  97%|█████████▋| 4866/4998 [00:59<00:01, 81.81it/s, accuracy=0.0156, train_loss=5.75] \n",
      "Evaluation:  33%|███▎      | 119/361 [01:21<02:46,  1.45it/s]\n",
      "Train:   0%|          | 0/4998 [00:00<?, ?it/s, accuracy=0.0391, train_loss=5.14] "
     ]
    },
    {
     "name": "stdout",
     "output_type": "stream",
     "text": [
      "\t - Recall@20 epoch 3: 0.329372\n",
      "\t - MRR@20    epoch 3: 0.094796\n",
      "\n"
     ]
    },
    {
     "name": "stderr",
     "output_type": "stream",
     "text": [
      "Train:  97%|█████████▋| 4866/4998 [00:59<00:01, 81.33it/s, accuracy=0.0234, train_loss=5.77] \n",
      "Evaluation:  33%|███▎      | 119/361 [01:21<02:46,  1.46it/s]\n",
      "Train:   0%|          | 0/4998 [00:00<?, ?it/s, accuracy=0.0234, train_loss=5.08]"
     ]
    },
    {
     "name": "stdout",
     "output_type": "stream",
     "text": [
      "\t - Recall@20 epoch 4: 0.341321\n",
      "\t - MRR@20    epoch 4: 0.100756\n",
      "\n"
     ]
    },
    {
     "name": "stderr",
     "output_type": "stream",
     "text": [
      "Train:  97%|█████████▋| 4866/4998 [00:59<00:01, 81.44it/s, accuracy=0.0234, train_loss=5.64] \n",
      "Evaluation:  33%|███▎      | 119/361 [01:21<02:44,  1.47it/s]\n",
      "Train:   0%|          | 0/4998 [00:00<?, ?it/s, accuracy=0.0391, train_loss=5.02] "
     ]
    },
    {
     "name": "stdout",
     "output_type": "stream",
     "text": [
      "\t - Recall@20 epoch 5: 0.347886\n",
      "\t - MRR@20    epoch 5: 0.104231\n",
      "\n"
     ]
    },
    {
     "name": "stderr",
     "output_type": "stream",
     "text": [
      "Train:  97%|█████████▋| 4866/4998 [01:00<00:01, 81.10it/s, accuracy=0.0312, train_loss=5.61] \n",
      "Evaluation:  33%|███▎      | 119/361 [01:20<02:42,  1.48it/s]\n",
      "Train:   0%|          | 0/4998 [00:00<?, ?it/s, accuracy=0.0391, train_loss=5.01]"
     ]
    },
    {
     "name": "stdout",
     "output_type": "stream",
     "text": [
      "\t - Recall@20 epoch 6: 0.352285\n",
      "\t - MRR@20    epoch 6: 0.106197\n",
      "\n"
     ]
    },
    {
     "name": "stderr",
     "output_type": "stream",
     "text": [
      "Train:  97%|█████████▋| 4866/4998 [00:59<00:01, 82.27it/s, accuracy=0.0234, train_loss=5.54] \n",
      "Evaluation:  33%|███▎      | 119/361 [01:20<02:43,  1.48it/s]\n",
      "Train:   0%|          | 0/4998 [00:00<?, ?it/s, accuracy=0.0625, train_loss=4.86]"
     ]
    },
    {
     "name": "stdout",
     "output_type": "stream",
     "text": [
      "\t - Recall@20 epoch 7: 0.353335\n",
      "\t - MRR@20    epoch 7: 0.107640\n",
      "\n"
     ]
    },
    {
     "name": "stderr",
     "output_type": "stream",
     "text": [
      "Train:  97%|█████████▋| 4866/4998 [00:59<00:01, 81.65it/s, accuracy=0.0703, train_loss=5.54] \n",
      "Evaluation:  33%|███▎      | 119/361 [01:20<02:43,  1.48it/s]\n",
      "Train:   0%|          | 0/4998 [00:00<?, ?it/s, accuracy=0.0781, train_loss=4.88]"
     ]
    },
    {
     "name": "stdout",
     "output_type": "stream",
     "text": [
      "\t - Recall@20 epoch 8: 0.353335\n",
      "\t - MRR@20    epoch 8: 0.108805\n",
      "\n"
     ]
    },
    {
     "name": "stderr",
     "output_type": "stream",
     "text": [
      "Train:  97%|█████████▋| 4866/4998 [00:59<00:01, 81.60it/s, accuracy=0.0312, train_loss=5.52] \n",
      "Evaluation:  33%|███▎      | 119/361 [01:20<02:43,  1.48it/s]\n",
      "Train:   0%|          | 0/4998 [00:00<?, ?it/s, accuracy=0.0547, train_loss=4.88] "
     ]
    },
    {
     "name": "stdout",
     "output_type": "stream",
     "text": [
      "\t - Recall@20 epoch 9: 0.354123\n",
      "\t - MRR@20    epoch 9: 0.109590\n",
      "\n"
     ]
    },
    {
     "name": "stderr",
     "output_type": "stream",
     "text": [
      "Train:  97%|█████████▋| 4866/4998 [00:59<00:01, 81.15it/s, accuracy=0.0547, train_loss=5.48] \n",
      "Evaluation:  33%|███▎      | 119/361 [01:20<02:44,  1.48it/s]"
     ]
    },
    {
     "name": "stdout",
     "output_type": "stream",
     "text": [
      "\t - Recall@20 epoch 10: 0.355633\n",
      "\t - MRR@20    epoch 10: 0.110155\n",
      "\n"
     ]
    },
    {
     "name": "stderr",
     "output_type": "stream",
     "text": [
      "\n"
     ]
    }
   ],
   "source": [
    "# 학습 시간이 다소 오래 소요됩니다. (예상시간 1시간)\n",
    "train_model(model, args)"
   ]
  },
  {
   "cell_type": "markdown",
   "id": "third-nancy",
   "metadata": {},
   "source": [
    "#### 학습된 결과 검증"
   ]
  },
  {
   "cell_type": "code",
   "execution_count": 49,
   "id": "mighty-contact",
   "metadata": {},
   "outputs": [
    {
     "name": "stderr",
     "output_type": "stream",
     "text": [
      "Evaluation:  24%|██▍       | 95/394 [01:04<03:22,  1.48it/s]"
     ]
    },
    {
     "name": "stdout",
     "output_type": "stream",
     "text": [
      "\t - Recall@20: 0.343997\n",
      "\t - MRR@20: 0.106607\n",
      "\n"
     ]
    },
    {
     "name": "stderr",
     "output_type": "stream",
     "text": [
      "\n"
     ]
    }
   ],
   "source": [
    "def test_model(model, args, test):\n",
    "    test_recall, test_mrr = get_metrics(test, model, args, 20)\n",
    "    print(f\"\\t - Recall@{args.k}: {test_recall:3f}\")\n",
    "    print(f\"\\t - MRR@{args.k}: {test_mrr:3f}\\n\")\n",
    "\n",
    "test_model(model, args, test)"
   ]
  },
  {
   "cell_type": "markdown",
   "id": "ignored-mistress",
   "metadata": {},
   "source": [
    "___"
   ]
  },
  {
   "cell_type": "markdown",
   "id": "equal-refrigerator",
   "metadata": {},
   "source": [
    "## 4. 모델 개선 시도"
   ]
  },
  {
   "cell_type": "markdown",
   "id": "smart-withdrawal",
   "metadata": {},
   "source": [
    "### 1. Batch size 변화"
   ]
  },
  {
   "cell_type": "markdown",
   "id": "unknown-sector",
   "metadata": {},
   "source": [
    "#### batch size : 64"
   ]
  },
  {
   "cell_type": "markdown",
   "id": "adult-stockholm",
   "metadata": {},
   "source": [
    "- batch size : 128일 때 보다 느린 훈련 속도, 낮은 MRR, Recall."
   ]
  },
  {
   "cell_type": "markdown",
   "id": "former-territory",
   "metadata": {},
   "source": [
    "-  loss가 꾸준히 줄어드는 것이 아니기 때문에 epoch를 늘리더라도 개선되지 않을 것이라고 판단."
   ]
  },
  {
   "cell_type": "code",
   "execution_count": 52,
   "id": "pleased-slovakia",
   "metadata": {},
   "outputs": [
    {
     "name": "stderr",
     "output_type": "stream",
     "text": [
      "Train:  99%|█████████▊| 9860/9997 [01:41<00:01, 97.22it/s, accuracy=0.0312, train_loss=5.86] \n",
      "Evaluation:  72%|███████▏  | 518/723 [03:18<01:18,  2.61it/s]\n",
      "Train:   0%|          | 0/9997 [00:00<?, ?it/s, accuracy=0.0469, train_loss=5.36]"
     ]
    },
    {
     "name": "stdout",
     "output_type": "stream",
     "text": [
      "\t - Recall@20 epoch 1: 0.236577\n",
      "\t - MRR@20    epoch 1: 0.059915\n",
      "\n"
     ]
    },
    {
     "name": "stderr",
     "output_type": "stream",
     "text": [
      "Train:  99%|█████████▊| 9860/9997 [01:38<00:01, 100.00it/s, accuracy=0.0312, train_loss=5.54]\n",
      "Evaluation:  72%|███████▏  | 518/723 [03:14<01:17,  2.66it/s]\n",
      "Train:   0%|          | 0/9997 [00:00<?, ?it/s, accuracy=0.0781, train_loss=5.11]"
     ]
    },
    {
     "name": "stdout",
     "output_type": "stream",
     "text": [
      "\t - Recall@20 epoch 2: 0.279953\n",
      "\t - MRR@20    epoch 2: 0.075449\n",
      "\n"
     ]
    },
    {
     "name": "stderr",
     "output_type": "stream",
     "text": [
      "Train:  99%|█████████▊| 9860/9997 [01:38<00:01, 100.53it/s, accuracy=0.0625, train_loss=5.23]\n",
      "Evaluation:  72%|███████▏  | 518/723 [03:12<01:16,  2.69it/s]\n",
      "Train:   0%|          | 0/9997 [00:00<?, ?it/s, accuracy=0.0469, train_loss=4.98]"
     ]
    },
    {
     "name": "stdout",
     "output_type": "stream",
     "text": [
      "\t - Recall@20 epoch 3: 0.293436\n",
      "\t - MRR@20    epoch 3: 0.081790\n",
      "\n"
     ]
    },
    {
     "name": "stderr",
     "output_type": "stream",
     "text": [
      "Train:  99%|█████████▊| 9860/9997 [01:38<00:01, 100.04it/s, accuracy=0.0781, train_loss=5.15]\n",
      "Evaluation:  72%|███████▏  | 518/723 [03:11<01:15,  2.71it/s]\n",
      "Train:   0%|          | 0/9997 [00:00<?, ?it/s, accuracy=0.0938, train_loss=5.05]"
     ]
    },
    {
     "name": "stdout",
     "output_type": "stream",
     "text": [
      "\t - Recall@20 epoch 4: 0.298383\n",
      "\t - MRR@20    epoch 4: 0.085112\n",
      "\n"
     ]
    },
    {
     "name": "stderr",
     "output_type": "stream",
     "text": [
      "Train:  99%|█████████▊| 9860/9997 [01:39<00:01, 99.44it/s, accuracy=0.0938, train_loss=5.05] \n",
      "Evaluation:  72%|███████▏  | 518/723 [03:08<01:14,  2.74it/s]\n",
      "Train:   0%|          | 0/9997 [00:00<?, ?it/s, accuracy=0.0625, train_loss=4.96]"
     ]
    },
    {
     "name": "stdout",
     "output_type": "stream",
     "text": [
      "\t - Recall@20 epoch 5: 0.301731\n",
      "\t - MRR@20    epoch 5: 0.087314\n",
      "\n"
     ]
    },
    {
     "name": "stderr",
     "output_type": "stream",
     "text": [
      "Train:  99%|█████████▊| 9860/9997 [01:40<00:01, 98.36it/s, accuracy=0.0312, train_loss=5.07] \n",
      "Evaluation:  72%|███████▏  | 518/723 [03:09<01:14,  2.73it/s]\n",
      "Train:   0%|          | 0/9997 [00:00<?, ?it/s, accuracy=0.0781, train_loss=5.14]"
     ]
    },
    {
     "name": "stdout",
     "output_type": "stream",
     "text": [
      "\t - Recall@20 epoch 6: 0.301188\n",
      "\t - MRR@20    epoch 6: 0.088251\n",
      "\n"
     ]
    },
    {
     "name": "stderr",
     "output_type": "stream",
     "text": [
      "Train:  99%|█████████▊| 9860/9997 [01:38<00:01, 100.24it/s, accuracy=0.0781, train_loss=4.98]\n",
      "Evaluation:  72%|███████▏  | 518/723 [03:08<01:14,  2.74it/s]\n",
      "Train:   0%|          | 0/9997 [00:00<?, ?it/s, accuracy=0.0625, train_loss=5.06]"
     ]
    },
    {
     "name": "stdout",
     "output_type": "stream",
     "text": [
      "\t - Recall@20 epoch 7: 0.302546\n",
      "\t - MRR@20    epoch 7: 0.088974\n",
      "\n"
     ]
    },
    {
     "name": "stderr",
     "output_type": "stream",
     "text": [
      "Train:  99%|█████████▊| 9860/9997 [01:36<00:01, 101.95it/s, accuracy=0.0625, train_loss=4.99]\n",
      "Evaluation:  72%|███████▏  | 518/723 [03:08<01:14,  2.74it/s]\n",
      "Train:   0%|          | 0/9997 [00:00<?, ?it/s, accuracy=0.0781, train_loss=5.07]"
     ]
    },
    {
     "name": "stdout",
     "output_type": "stream",
     "text": [
      "\t - Recall@20 epoch 8: 0.303059\n",
      "\t - MRR@20    epoch 8: 0.088964\n",
      "\n"
     ]
    },
    {
     "name": "stderr",
     "output_type": "stream",
     "text": [
      "Train:  99%|█████████▊| 9860/9997 [01:37<00:01, 100.91it/s, accuracy=0.0469, train_loss=5.04]\n",
      "Evaluation:  72%|███████▏  | 518/723 [03:06<01:13,  2.78it/s]\n",
      "Train:   0%|          | 0/9997 [00:00<?, ?it/s, accuracy=0.0469, train_loss=5.02]"
     ]
    },
    {
     "name": "stdout",
     "output_type": "stream",
     "text": [
      "\t - Recall@20 epoch 9: 0.303240\n",
      "\t - MRR@20    epoch 9: 0.089238\n",
      "\n"
     ]
    },
    {
     "name": "stderr",
     "output_type": "stream",
     "text": [
      "Train:  99%|█████████▊| 9860/9997 [01:36<00:01, 102.01it/s, accuracy=0.0312, train_loss=5]   \n",
      "Evaluation:  72%|███████▏  | 518/723 [03:05<01:13,  2.79it/s]"
     ]
    },
    {
     "name": "stdout",
     "output_type": "stream",
     "text": [
      "\t - Recall@20 epoch 10: 0.303149\n",
      "\t - MRR@20    epoch 10: 0.089995\n",
      "\n"
     ]
    },
    {
     "name": "stderr",
     "output_type": "stream",
     "text": [
      "\n"
     ]
    }
   ],
   "source": [
    "# 학습 시간이 다소 오래 소요됩니다. (예상시간 1시간)\n",
    "train_model(model, args)"
   ]
  },
  {
   "cell_type": "code",
   "execution_count": 53,
   "id": "smart-saturday",
   "metadata": {},
   "outputs": [
    {
     "name": "stderr",
     "output_type": "stream",
     "text": [
      "Evaluation:  69%|██████▉   | 543/788 [03:10<01:25,  2.85it/s]"
     ]
    },
    {
     "name": "stdout",
     "output_type": "stream",
     "text": [
      "\t - Recall@20: 0.285653\n",
      "\t - MRR@20: 0.083424\n",
      "\n"
     ]
    },
    {
     "name": "stderr",
     "output_type": "stream",
     "text": [
      "\n"
     ]
    }
   ],
   "source": [
    "def test_model(model, args, test):\n",
    "    test_recall, test_mrr = get_metrics(test, model, args, 20)\n",
    "    print(f\"\\t - Recall@{args.k}: {test_recall:3f}\")\n",
    "    print(f\"\\t - MRR@{args.k}: {test_mrr:3f}\\n\")\n",
    "\n",
    "test_model(model, args, test)"
   ]
  },
  {
   "cell_type": "markdown",
   "id": "drawn-brand",
   "metadata": {},
   "source": [
    "___"
   ]
  },
  {
   "cell_type": "markdown",
   "id": "canadian-relay",
   "metadata": {},
   "source": [
    "### 2. Dropout rate 조정"
   ]
  },
  {
   "cell_type": "markdown",
   "id": "balanced-rates",
   "metadata": {},
   "source": [
    "Dropout rate 조정에 따른 큰 변화는 없었다."
   ]
  },
  {
   "cell_type": "markdown",
   "id": "requested-absolute",
   "metadata": {},
   "source": [
    "#### Dropout rate를 0.4로 조정"
   ]
  },
  {
   "cell_type": "code",
   "execution_count": 61,
   "id": "detected-maker",
   "metadata": {},
   "outputs": [
    {
     "name": "stderr",
     "output_type": "stream",
     "text": [
      "Train:  97%|█████████▋| 4866/4998 [00:59<00:01, 81.26it/s, accuracy=0.00781, train_loss=6.29]\n",
      "Evaluation:  33%|███▎      | 119/361 [01:22<02:48,  1.44it/s]\n",
      "Train:   0%|          | 0/4998 [00:00<?, ?it/s, accuracy=0.0312, train_loss=5.95] "
     ]
    },
    {
     "name": "stdout",
     "output_type": "stream",
     "text": [
      "\t - Recall@20 epoch 1: 0.220720\n",
      "\t - MRR@20    epoch 1: 0.054460\n",
      "\n"
     ]
    },
    {
     "name": "stderr",
     "output_type": "stream",
     "text": [
      "Train:  97%|█████████▋| 4866/4998 [00:58<00:01, 83.26it/s, accuracy=0, train_loss=5.98]      \n",
      "Evaluation:  33%|███▎      | 119/361 [01:20<02:42,  1.48it/s]\n",
      "Train:   0%|          | 0/4998 [00:00<?, ?it/s, accuracy=0.0156, train_loss=5.63] "
     ]
    },
    {
     "name": "stdout",
     "output_type": "stream",
     "text": [
      "\t - Recall@20 epoch 2: 0.285123\n",
      "\t - MRR@20    epoch 2: 0.076109\n",
      "\n"
     ]
    },
    {
     "name": "stderr",
     "output_type": "stream",
     "text": [
      "Train:  97%|█████████▋| 4866/4998 [00:58<00:01, 83.34it/s, accuracy=0.0469, train_loss=5.85] \n",
      "Evaluation:  33%|███▎      | 119/361 [01:18<02:39,  1.52it/s]\n",
      "Train:   0%|          | 0/4998 [00:00<?, ?it/s, accuracy=0.0156, train_loss=5.37] "
     ]
    },
    {
     "name": "stdout",
     "output_type": "stream",
     "text": [
      "\t - Recall@20 epoch 3: 0.314404\n",
      "\t - MRR@20    epoch 3: 0.086013\n",
      "\n"
     ]
    },
    {
     "name": "stderr",
     "output_type": "stream",
     "text": [
      "Train:  97%|█████████▋| 4866/4998 [00:58<00:01, 83.73it/s, accuracy=0.0234, train_loss=5.8]  \n",
      "Evaluation:  33%|███▎      | 119/361 [01:17<02:38,  1.53it/s]\n",
      "Train:   0%|          | 0/4998 [00:00<?, ?it/s, accuracy=0.0391, train_loss=5.23] "
     ]
    },
    {
     "name": "stdout",
     "output_type": "stream",
     "text": [
      "\t - Recall@20 epoch 4: 0.328650\n",
      "\t - MRR@20    epoch 4: 0.092963\n",
      "\n"
     ]
    },
    {
     "name": "stderr",
     "output_type": "stream",
     "text": [
      "Train:  97%|█████████▋| 4866/4998 [00:57<00:01, 84.11it/s, accuracy=0.0391, train_loss=5.71] \n",
      "Evaluation:  33%|███▎      | 119/361 [01:17<02:37,  1.54it/s]\n",
      "Train:   0%|          | 0/4998 [00:00<?, ?it/s, accuracy=0.0547, train_loss=5.18]"
     ]
    },
    {
     "name": "stdout",
     "output_type": "stream",
     "text": [
      "\t - Recall@20 epoch 5: 0.333246\n",
      "\t - MRR@20    epoch 5: 0.096137\n",
      "\n"
     ]
    },
    {
     "name": "stderr",
     "output_type": "stream",
     "text": [
      "Train:  97%|█████████▋| 4866/4998 [00:58<00:01, 82.86it/s, accuracy=0.0234, train_loss=5.77] \n",
      "Evaluation:  33%|███▎      | 119/361 [01:17<02:37,  1.54it/s]\n",
      "Train:   0%|          | 0/4998 [00:00<?, ?it/s, accuracy=0.0469, train_loss=5.26] "
     ]
    },
    {
     "name": "stdout",
     "output_type": "stream",
     "text": [
      "\t - Recall@20 epoch 6: 0.340533\n",
      "\t - MRR@20    epoch 6: 0.099467\n",
      "\n"
     ]
    },
    {
     "name": "stderr",
     "output_type": "stream",
     "text": [
      "Train:  97%|█████████▋| 4866/4998 [00:58<00:01, 82.74it/s, accuracy=0.00781, train_loss=5.81]\n",
      "Evaluation:  33%|███▎      | 119/361 [01:17<02:36,  1.54it/s]\n",
      "Train:   0%|          | 0/4998 [00:00<?, ?it/s, accuracy=0.00781, train_loss=5.26]"
     ]
    },
    {
     "name": "stdout",
     "output_type": "stream",
     "text": [
      "\t - Recall@20 epoch 7: 0.343881\n",
      "\t - MRR@20    epoch 7: 0.101782\n",
      "\n"
     ]
    },
    {
     "name": "stderr",
     "output_type": "stream",
     "text": [
      "Train:  97%|█████████▋| 4866/4998 [00:57<00:01, 84.33it/s, accuracy=0.0312, train_loss=5.63] \n",
      "Evaluation:  33%|███▎      | 119/361 [01:16<02:36,  1.55it/s]\n",
      "Train:   0%|          | 0/4998 [00:00<?, ?it/s, accuracy=0.0391, train_loss=5.27]"
     ]
    },
    {
     "name": "stdout",
     "output_type": "stream",
     "text": [
      "\t - Recall@20 epoch 8: 0.347952\n",
      "\t - MRR@20    epoch 8: 0.102938\n",
      "\n"
     ]
    },
    {
     "name": "stderr",
     "output_type": "stream",
     "text": [
      "Train:  97%|█████████▋| 4866/4998 [00:57<00:01, 84.69it/s, accuracy=0.0234, train_loss=5.67] \n",
      "Evaluation:  33%|███▎      | 119/361 [01:16<02:35,  1.56it/s]\n",
      "Train:   0%|          | 0/4998 [00:00<?, ?it/s, accuracy=0.0234, train_loss=5.21] "
     ]
    },
    {
     "name": "stdout",
     "output_type": "stream",
     "text": [
      "\t - Recall@20 epoch 9: 0.350249\n",
      "\t - MRR@20    epoch 9: 0.103770\n",
      "\n"
     ]
    },
    {
     "name": "stderr",
     "output_type": "stream",
     "text": [
      "Train:  97%|█████████▋| 4866/4998 [00:57<00:01, 85.05it/s, accuracy=0.0234, train_loss=5.77] \n",
      "Evaluation:  33%|███▎      | 119/361 [01:16<02:36,  1.55it/s]"
     ]
    },
    {
     "name": "stdout",
     "output_type": "stream",
     "text": [
      "\t - Recall@20 epoch 10: 0.351169\n",
      "\t - MRR@20    epoch 10: 0.105086\n",
      "\n"
     ]
    },
    {
     "name": "stderr",
     "output_type": "stream",
     "text": [
      "\n"
     ]
    }
   ],
   "source": [
    "# 학습 시간이 다소 오래 소요됩니다. (예상시간 1시간)\n",
    "train_model(model, args)"
   ]
  },
  {
   "cell_type": "code",
   "execution_count": 62,
   "id": "sweet-buffalo",
   "metadata": {},
   "outputs": [
    {
     "name": "stderr",
     "output_type": "stream",
     "text": [
      "Evaluation:  24%|██▍       | 95/394 [01:02<03:15,  1.53it/s]"
     ]
    },
    {
     "name": "stdout",
     "output_type": "stream",
     "text": [
      "\t - Recall@20: 0.339803\n",
      "\t - MRR@20: 0.100476\n",
      "\n"
     ]
    },
    {
     "name": "stderr",
     "output_type": "stream",
     "text": [
      "\n"
     ]
    }
   ],
   "source": [
    "def test_model(model, args, test):\n",
    "    test_recall, test_mrr = get_metrics(test, model, args, 20)\n",
    "    print(f\"\\t - Recall@{args.k}: {test_recall:3f}\")\n",
    "    print(f\"\\t - MRR@{args.k}: {test_mrr:3f}\\n\")\n",
    "\n",
    "test_model(model, args, test)"
   ]
  },
  {
   "cell_type": "markdown",
   "id": "multiple-execution",
   "metadata": {},
   "source": [
    "#### dropout 0.2"
   ]
  },
  {
   "cell_type": "code",
   "execution_count": 65,
   "id": "later-garage",
   "metadata": {},
   "outputs": [
    {
     "name": "stderr",
     "output_type": "stream",
     "text": [
      "Train:  97%|█████████▋| 4866/4998 [00:59<00:01, 81.50it/s, accuracy=0.00781, train_loss=6.16]\n",
      "Evaluation:  33%|███▎      | 119/361 [01:22<02:48,  1.44it/s]\n",
      "Train:   0%|          | 0/4998 [00:00<?, ?it/s, accuracy=0.0156, train_loss=5.79] "
     ]
    },
    {
     "name": "stdout",
     "output_type": "stream",
     "text": [
      "\t - Recall@20 epoch 1: 0.236738\n",
      "\t - MRR@20    epoch 1: 0.059651\n",
      "\n"
     ]
    },
    {
     "name": "stderr",
     "output_type": "stream",
     "text": [
      "Train:  97%|█████████▋| 4866/4998 [00:57<00:01, 84.72it/s, accuracy=0.0234, train_loss=5.86] \n",
      "Evaluation:  33%|███▎      | 119/361 [01:19<02:41,  1.49it/s]\n",
      "Train:   0%|          | 0/4998 [00:00<?, ?it/s, accuracy=0.0391, train_loss=5.35] "
     ]
    },
    {
     "name": "stdout",
     "output_type": "stream",
     "text": [
      "\t - Recall@20 epoch 2: 0.303309\n",
      "\t - MRR@20    epoch 2: 0.082522\n",
      "\n"
     ]
    },
    {
     "name": "stderr",
     "output_type": "stream",
     "text": [
      "Train:  97%|█████████▋| 4866/4998 [00:57<00:01, 84.62it/s, accuracy=0.00781, train_loss=5.75]\n",
      "Evaluation:  33%|███▎      | 119/361 [01:18<02:39,  1.52it/s]\n",
      "Train:   0%|          | 0/4998 [00:00<?, ?it/s, accuracy=0.0312, train_loss=5.24] "
     ]
    },
    {
     "name": "stdout",
     "output_type": "stream",
     "text": [
      "\t - Recall@20 epoch 3: 0.328453\n",
      "\t - MRR@20    epoch 3: 0.093016\n",
      "\n"
     ]
    },
    {
     "name": "stderr",
     "output_type": "stream",
     "text": [
      "Train:  97%|█████████▋| 4866/4998 [00:57<00:01, 84.19it/s, accuracy=0.0234, train_loss=5.68] \n",
      "Evaluation:  33%|███▎      | 119/361 [01:17<02:37,  1.54it/s]\n",
      "Train:   0%|          | 0/4998 [00:00<?, ?it/s, accuracy=0.0469, train_loss=5.1] "
     ]
    },
    {
     "name": "stdout",
     "output_type": "stream",
     "text": [
      "\t - Recall@20 epoch 4: 0.339745\n",
      "\t - MRR@20    epoch 4: 0.099386\n",
      "\n"
     ]
    },
    {
     "name": "stderr",
     "output_type": "stream",
     "text": [
      "Train:  97%|█████████▋| 4866/4998 [00:57<00:01, 84.01it/s, accuracy=0.0312, train_loss=5.7]  \n",
      "Evaluation:  33%|███▎      | 119/361 [01:17<02:37,  1.54it/s]\n",
      "Train:   0%|          | 0/4998 [00:00<?, ?it/s, accuracy=0.0469, train_loss=5.21]"
     ]
    },
    {
     "name": "stdout",
     "output_type": "stream",
     "text": [
      "\t - Recall@20 epoch 5: 0.344144\n",
      "\t - MRR@20    epoch 5: 0.102467\n",
      "\n"
     ]
    },
    {
     "name": "stderr",
     "output_type": "stream",
     "text": [
      "Train:  97%|█████████▋| 4866/4998 [00:58<00:01, 83.01it/s, accuracy=0.0312, train_loss=5.59] \n",
      "Evaluation:  33%|███▎      | 119/361 [01:16<02:36,  1.55it/s]\n",
      "Train:   0%|          | 0/4998 [00:00<?, ?it/s, accuracy=0.0234, train_loss=5.19]"
     ]
    },
    {
     "name": "stdout",
     "output_type": "stream",
     "text": [
      "\t - Recall@20 epoch 6: 0.349265\n",
      "\t - MRR@20    epoch 6: 0.105544\n",
      "\n"
     ]
    },
    {
     "name": "stderr",
     "output_type": "stream",
     "text": [
      "Train:  97%|█████████▋| 4866/4998 [00:58<00:01, 82.64it/s, accuracy=0.0391, train_loss=5.57] \n",
      "Evaluation:  33%|███▎      | 119/361 [01:16<02:36,  1.55it/s]\n",
      "Train:   0%|          | 0/4998 [00:00<?, ?it/s, accuracy=0.0312, train_loss=5.18] "
     ]
    },
    {
     "name": "stdout",
     "output_type": "stream",
     "text": [
      "\t - Recall@20 epoch 7: 0.352744\n",
      "\t - MRR@20    epoch 7: 0.107255\n",
      "\n"
     ]
    },
    {
     "name": "stderr",
     "output_type": "stream",
     "text": [
      "Train:  97%|█████████▋| 4866/4998 [00:58<00:01, 83.28it/s, accuracy=0.0312, train_loss=5.59] \n",
      "Evaluation:  33%|███▎      | 119/361 [01:16<02:35,  1.55it/s]\n",
      "Train:   0%|          | 0/4998 [00:00<?, ?it/s, accuracy=0.0547, train_loss=5.09] "
     ]
    },
    {
     "name": "stdout",
     "output_type": "stream",
     "text": [
      "\t - Recall@20 epoch 8: 0.353072\n",
      "\t - MRR@20    epoch 8: 0.108285\n",
      "\n"
     ]
    },
    {
     "name": "stderr",
     "output_type": "stream",
     "text": [
      "Train:  97%|█████████▋| 4866/4998 [00:57<00:01, 84.19it/s, accuracy=0.0625, train_loss=5.57] \n",
      "Evaluation:  33%|███▎      | 119/361 [01:16<02:36,  1.55it/s]\n",
      "Train:   0%|          | 0/4998 [00:00<?, ?it/s, accuracy=0.0469, train_loss=5.11] "
     ]
    },
    {
     "name": "stdout",
     "output_type": "stream",
     "text": [
      "\t - Recall@20 epoch 9: 0.355108\n",
      "\t - MRR@20    epoch 9: 0.109583\n",
      "\n"
     ]
    },
    {
     "name": "stderr",
     "output_type": "stream",
     "text": [
      "Train:  97%|█████████▋| 4866/4998 [00:57<00:01, 85.27it/s, accuracy=0.0391, train_loss=5.62] \n",
      "Evaluation:  33%|███▎      | 119/361 [01:16<02:35,  1.56it/s]"
     ]
    },
    {
     "name": "stdout",
     "output_type": "stream",
     "text": [
      "\t - Recall@20 epoch 10: 0.356683\n",
      "\t - MRR@20    epoch 10: 0.109884\n",
      "\n"
     ]
    },
    {
     "name": "stderr",
     "output_type": "stream",
     "text": [
      "\n"
     ]
    }
   ],
   "source": [
    "# 학습 시간이 다소 오래 소요됩니다. (예상시간 1시간)\n",
    "train_model(model, args)"
   ]
  },
  {
   "cell_type": "code",
   "execution_count": 66,
   "id": "surprised-struggle",
   "metadata": {},
   "outputs": [
    {
     "name": "stderr",
     "output_type": "stream",
     "text": [
      "Evaluation:  24%|██▍       | 95/394 [01:01<03:14,  1.53it/s]"
     ]
    },
    {
     "name": "stdout",
     "output_type": "stream",
     "text": [
      "\t - Recall@20: 0.347204\n",
      "\t - MRR@20: 0.106040\n",
      "\n"
     ]
    },
    {
     "name": "stderr",
     "output_type": "stream",
     "text": [
      "\n"
     ]
    }
   ],
   "source": [
    "def test_model(model, args, test):\n",
    "    test_recall, test_mrr = get_metrics(test, model, args, 20)\n",
    "    print(f\"\\t - Recall@{args.k}: {test_recall:3f}\")\n",
    "    print(f\"\\t - MRR@{args.k}: {test_mrr:3f}\\n\")\n",
    "\n",
    "test_model(model, args, test)"
   ]
  },
  {
   "cell_type": "markdown",
   "id": "exact-breach",
   "metadata": {},
   "source": [
    "___"
   ]
  },
  {
   "cell_type": "markdown",
   "id": "pleased-index",
   "metadata": {},
   "source": [
    "### 3. Session 분포 재조정"
   ]
  },
  {
   "cell_type": "markdown",
   "id": "discrete-needle",
   "metadata": {},
   "source": [
    " - 분포를 조정한 결과 더 안 좋은 결과가 나왔다."
   ]
  },
  {
   "cell_type": "code",
   "execution_count": 72,
   "id": "delayed-leave",
   "metadata": {},
   "outputs": [
    {
     "name": "stdout",
     "output_type": "stream",
     "text": [
      "* train Set Stats Info\n",
      "\t Events: 569403\n",
      "\t Sessions: 3617\n",
      "\t Items: 1971\n",
      "\t First Time : 2000-04-25 23:05:32\n",
      "\t Last Time : 2001-12-03 07:56:51\n",
      "\n",
      "* valid Set Stats Info\n",
      "\t Events: 74348\n",
      "\t Sessions: 280\n",
      "\t Items: 1969\n",
      "\t First Time : 2000-04-27 01:55:48\n",
      "\t Last Time : 2002-09-30 16:19:28\n",
      "\n",
      "* test Set Stats Info\n",
      "\t Events: 97081\n",
      "\t Sessions: 296\n",
      "\t Items: 1971\n",
      "\t First Time : 2000-04-27 16:38:08\n",
      "\t Last Time : 2003-02-28 17:49:50\n",
      "\n"
     ]
    }
   ],
   "source": [
    "stats_info(tr, 'train')\n",
    "stats_info(val, 'valid')\n",
    "stats_info(test, 'test')"
   ]
  },
  {
   "cell_type": "code",
   "execution_count": 81,
   "id": "silent-flush",
   "metadata": {},
   "outputs": [
    {
     "name": "stderr",
     "output_type": "stream",
     "text": [
      "Train:  97%|█████████▋| 4294/4420 [00:54<00:01, 78.84it/s, accuracy=0.0156, train_loss=6.27] \n",
      "Evaluation:  69%|██████▉   | 398/578 [04:42<02:07,  1.41it/s]\n",
      "Train:   0%|          | 0/4420 [00:00<?, ?it/s, accuracy=0.00781, train_loss=5.8] "
     ]
    },
    {
     "name": "stdout",
     "output_type": "stream",
     "text": [
      "\t - Recall@20 epoch 1: 0.191465\n",
      "\t - MRR@20    epoch 1: 0.046183\n",
      "\n"
     ]
    },
    {
     "name": "stderr",
     "output_type": "stream",
     "text": [
      "Train:  97%|█████████▋| 4294/4420 [00:52<00:01, 82.09it/s, accuracy=0.0156, train_loss=5.87] \n",
      "Evaluation:  69%|██████▉   | 398/578 [04:34<02:04,  1.45it/s]\n",
      "Train:   0%|          | 0/4420 [00:00<?, ?it/s, accuracy=0.0469, train_loss=5.35] "
     ]
    },
    {
     "name": "stdout",
     "output_type": "stream",
     "text": [
      "\t - Recall@20 epoch 2: 0.255869\n",
      "\t - MRR@20    epoch 2: 0.068182\n",
      "\n"
     ]
    },
    {
     "name": "stderr",
     "output_type": "stream",
     "text": [
      "Train:  97%|█████████▋| 4294/4420 [00:51<00:01, 82.74it/s, accuracy=0.0391, train_loss=5.7]  \n",
      "Evaluation:  69%|██████▉   | 398/578 [04:29<02:01,  1.48it/s]\n",
      "Train:   0%|          | 0/4420 [00:00<?, ?it/s, accuracy=0.0312, train_loss=5.24] "
     ]
    },
    {
     "name": "stdout",
     "output_type": "stream",
     "text": [
      "\t - Recall@20 epoch 3: 0.281348\n",
      "\t - MRR@20    epoch 3: 0.078160\n",
      "\n"
     ]
    },
    {
     "name": "stderr",
     "output_type": "stream",
     "text": [
      "Train:  97%|█████████▋| 4294/4420 [00:52<00:01, 82.43it/s, accuracy=0.0391, train_loss=5.55] \n",
      "Evaluation:  69%|██████▉   | 398/578 [04:26<02:00,  1.49it/s]\n",
      "Train:   0%|          | 0/4420 [00:00<?, ?it/s, accuracy=0.0312, train_loss=5.01] "
     ]
    },
    {
     "name": "stdout",
     "output_type": "stream",
     "text": [
      "\t - Recall@20 epoch 4: 0.293774\n",
      "\t - MRR@20    epoch 4: 0.083467\n",
      "\n"
     ]
    },
    {
     "name": "stderr",
     "output_type": "stream",
     "text": [
      "Train:  97%|█████████▋| 4294/4420 [00:51<00:01, 83.11it/s, accuracy=0.0234, train_loss=5.56] \n",
      "Evaluation:  69%|██████▉   | 398/578 [04:25<01:59,  1.50it/s]\n",
      "Train:   0%|          | 0/4420 [00:00<?, ?it/s, accuracy=0.0547, train_loss=5.03] "
     ]
    },
    {
     "name": "stdout",
     "output_type": "stream",
     "text": [
      "\t - Recall@20 epoch 5: 0.302234\n",
      "\t - MRR@20    epoch 5: 0.087145\n",
      "\n"
     ]
    },
    {
     "name": "stderr",
     "output_type": "stream",
     "text": [
      "Train:  97%|█████████▋| 4294/4420 [00:51<00:01, 82.81it/s, accuracy=0.0859, train_loss=5.48] \n",
      "Evaluation:  69%|██████▉   | 398/578 [04:24<01:59,  1.51it/s]\n",
      "Train:   0%|          | 0/4420 [00:00<?, ?it/s, accuracy=0.0469, train_loss=5.01] "
     ]
    },
    {
     "name": "stdout",
     "output_type": "stream",
     "text": [
      "\t - Recall@20 epoch 6: 0.305060\n",
      "\t - MRR@20    epoch 6: 0.089301\n",
      "\n"
     ]
    },
    {
     "name": "stderr",
     "output_type": "stream",
     "text": [
      "Train:  97%|█████████▋| 4294/4420 [00:51<00:01, 82.84it/s, accuracy=0.0547, train_loss=5.54] \n",
      "Evaluation:  69%|██████▉   | 398/578 [04:23<01:59,  1.51it/s]\n",
      "Train:   0%|          | 0/4420 [00:00<?, ?it/s, accuracy=0.0391, train_loss=4.89] "
     ]
    },
    {
     "name": "stdout",
     "output_type": "stream",
     "text": [
      "\t - Recall@20 epoch 7: 0.307750\n",
      "\t - MRR@20    epoch 7: 0.091392\n",
      "\n"
     ]
    },
    {
     "name": "stderr",
     "output_type": "stream",
     "text": [
      "Train:  97%|█████████▋| 4294/4420 [00:52<00:01, 81.55it/s, accuracy=0.0547, train_loss=5.47] \n",
      "Evaluation:  69%|██████▉   | 398/578 [04:22<01:58,  1.51it/s]\n",
      "Train:   0%|          | 0/4420 [00:00<?, ?it/s, accuracy=0.0469, train_loss=4.9]  "
     ]
    },
    {
     "name": "stdout",
     "output_type": "stream",
     "text": [
      "\t - Recall@20 epoch 8: 0.310714\n",
      "\t - MRR@20    epoch 8: 0.092661\n",
      "\n"
     ]
    },
    {
     "name": "stderr",
     "output_type": "stream",
     "text": [
      "Train:  97%|█████████▋| 4294/4420 [00:51<00:01, 83.70it/s, accuracy=0.0547, train_loss=5.42] \n",
      "Evaluation:  69%|██████▉   | 398/578 [04:22<01:58,  1.52it/s]\n",
      "Train:   0%|          | 0/4420 [00:00<?, ?it/s, accuracy=0.0703, train_loss=4.88] "
     ]
    },
    {
     "name": "stdout",
     "output_type": "stream",
     "text": [
      "\t - Recall@20 epoch 9: 0.311244\n",
      "\t - MRR@20    epoch 9: 0.093432\n",
      "\n"
     ]
    },
    {
     "name": "stderr",
     "output_type": "stream",
     "text": [
      "Train:  97%|█████████▋| 4294/4420 [00:51<00:01, 82.99it/s, accuracy=0.0625, train_loss=5.42] \n",
      "Evaluation:  69%|██████▉   | 398/578 [04:22<01:58,  1.52it/s]"
     ]
    },
    {
     "name": "stdout",
     "output_type": "stream",
     "text": [
      "\t - Recall@20 epoch 10: 0.312500\n",
      "\t - MRR@20    epoch 10: 0.094079\n",
      "\n"
     ]
    },
    {
     "name": "stderr",
     "output_type": "stream",
     "text": [
      "\n"
     ]
    }
   ],
   "source": [
    "# 학습 시간이 다소 오래 소요됩니다. (예상시간 1시간)\n",
    "train_model(model, args)"
   ]
  },
  {
   "cell_type": "code",
   "execution_count": 82,
   "id": "proprietary-custody",
   "metadata": {},
   "outputs": [
    {
     "name": "stderr",
     "output_type": "stream",
     "text": [
      "Evaluation:  69%|██████▉   | 525/756 [05:50<02:34,  1.50it/s]"
     ]
    },
    {
     "name": "stdout",
     "output_type": "stream",
     "text": [
      "\t - Recall@20: 0.296711\n",
      "\t - MRR@20: 0.087815\n",
      "\n"
     ]
    },
    {
     "name": "stderr",
     "output_type": "stream",
     "text": [
      "\n"
     ]
    }
   ],
   "source": [
    "def test_model(model, args, test):\n",
    "    test_recall, test_mrr = get_metrics(test, model, args, 20)\n",
    "    print(f\"\\t - Recall@{args.k}: {test_recall:3f}\")\n",
    "    print(f\"\\t - MRR@{args.k}: {test_mrr:3f}\\n\")\n",
    "\n",
    "test_model(model, args, test)"
   ]
  },
  {
   "cell_type": "markdown",
   "id": "broken-summit",
   "metadata": {},
   "source": [
    "___"
   ]
  },
  {
   "cell_type": "markdown",
   "id": "enhanced-ancient",
   "metadata": {},
   "source": [
    "## 5. 정리"
   ]
  },
  {
   "cell_type": "markdown",
   "id": "descending-solution",
   "metadata": {},
   "source": [
    "- Session based recommendation을 movielens 데이터를 이용해 적용해 보았다."
   ]
  },
  {
   "cell_type": "markdown",
   "id": "north-glory",
   "metadata": {},
   "source": [
    "movielens의 user_id를 session_id처럼 판단해서 GRU 구조에 적용해 결과를 얻고자 했지만 user_id는 session_id와 달리 유저마다 고유의 값이 할당되기 때문에 session based recommendation을 통해선 좋은 결과를 얻을 수 없었다."
   ]
  },
  {
   "cell_type": "markdown",
   "id": "conscious-cotton",
   "metadata": {},
   "source": [
    "- movielens user_id 기반 추천 시스템을 구성하기 위해선 MF 추천 시스템을 활용하는 것이 더 효율적일 것이다."
   ]
  },
  {
   "cell_type": "markdown",
   "id": "departmental-relative",
   "metadata": {},
   "source": [
    "이때 movie_id 기반으로 클러스터링을 진행한 뒤 얻은 결과를 학습에 활용하는 것도 한 방법이다."
   ]
  },
  {
   "cell_type": "markdown",
   "id": "stable-security",
   "metadata": {},
   "source": [
    "Dropout rate , Batch size, Session 분포 조정을 시도했지만 초기 설정값과 비교할때 큰 성능 향상이 없었다. "
   ]
  }
 ],
 "metadata": {
  "kernelspec": {
   "display_name": "Python 3",
   "language": "python",
   "name": "python3"
  },
  "language_info": {
   "codemirror_mode": {
    "name": "ipython",
    "version": 3
   },
   "file_extension": ".py",
   "mimetype": "text/x-python",
   "name": "python",
   "nbconvert_exporter": "python",
   "pygments_lexer": "ipython3",
   "version": "3.7.9"
  }
 },
 "nbformat": 4,
 "nbformat_minor": 5
}
