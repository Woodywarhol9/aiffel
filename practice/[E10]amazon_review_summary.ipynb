{
 "cells": [
  {
   "cell_type": "markdown",
   "id": "urban-equipment",
   "metadata": {},
   "source": [
    "# Amazon 리뷰 요약하기"
   ]
  },
  {
   "cell_type": "markdown",
   "id": "human-document",
   "metadata": {},
   "source": [
    "## 1. 데이터 전처리 및 EDA"
   ]
  },
  {
   "cell_type": "markdown",
   "id": "institutional-turtle",
   "metadata": {},
   "source": [
    "stopwords 처리를 위해 NLTK 사용"
   ]
  },
  {
   "cell_type": "code",
   "execution_count": 1,
   "id": "approximate-proposal",
   "metadata": {},
   "outputs": [
    {
     "name": "stderr",
     "output_type": "stream",
     "text": [
      "[nltk_data] Downloading package stopwords to /aiffel/nltk_data...\n",
      "[nltk_data]   Unzipping corpora/stopwords.zip.\n"
     ]
    }
   ],
   "source": [
    "import nltk\n",
    "nltk.download('stopwords')\n",
    "\n",
    "import numpy as np\n",
    "import pandas as pd\n",
    "import os\n",
    "import re\n",
    "import matplotlib.pyplot as plt\n",
    "from nltk.corpus import stopwords\n",
    "from bs4 import BeautifulSoup \n",
    "from tensorflow.keras.preprocessing.text import Tokenizer \n",
    "from tensorflow.keras.preprocessing.sequence import pad_sequences\n",
    "import urllib.request\n",
    "import tensorflow as tf"
   ]
  },
  {
   "cell_type": "markdown",
   "id": "multiple-promotion",
   "metadata": {},
   "source": [
    "10만개의 샘플만 활용"
   ]
  },
  {
   "cell_type": "code",
   "execution_count": 2,
   "id": "pressed-carpet",
   "metadata": {},
   "outputs": [
    {
     "name": "stdout",
     "output_type": "stream",
     "text": [
      "전체 샘플수 : 100000\n"
     ]
    }
   ],
   "source": [
    "data = pd.read_csv(os.getenv(\"HOME\")+\"/aiffel/news_summarization/data/Reviews.csv\", nrows=100000)\n",
    "print('전체 샘플수 :', (len(data)))"
   ]
  },
  {
   "cell_type": "code",
   "execution_count": 3,
   "id": "stable-aruba",
   "metadata": {
    "scrolled": true
   },
   "outputs": [
    {
     "data": {
      "text/html": [
       "<div>\n",
       "<style scoped>\n",
       "    .dataframe tbody tr th:only-of-type {\n",
       "        vertical-align: middle;\n",
       "    }\n",
       "\n",
       "    .dataframe tbody tr th {\n",
       "        vertical-align: top;\n",
       "    }\n",
       "\n",
       "    .dataframe thead th {\n",
       "        text-align: right;\n",
       "    }\n",
       "</style>\n",
       "<table border=\"1\" class=\"dataframe\">\n",
       "  <thead>\n",
       "    <tr style=\"text-align: right;\">\n",
       "      <th></th>\n",
       "      <th>Id</th>\n",
       "      <th>ProductId</th>\n",
       "      <th>UserId</th>\n",
       "      <th>ProfileName</th>\n",
       "      <th>HelpfulnessNumerator</th>\n",
       "      <th>HelpfulnessDenominator</th>\n",
       "      <th>Score</th>\n",
       "      <th>Time</th>\n",
       "      <th>Summary</th>\n",
       "      <th>Text</th>\n",
       "    </tr>\n",
       "  </thead>\n",
       "  <tbody>\n",
       "    <tr>\n",
       "      <th>0</th>\n",
       "      <td>1</td>\n",
       "      <td>B001E4KFG0</td>\n",
       "      <td>A3SGXH7AUHU8GW</td>\n",
       "      <td>delmartian</td>\n",
       "      <td>1</td>\n",
       "      <td>1</td>\n",
       "      <td>5</td>\n",
       "      <td>1303862400</td>\n",
       "      <td>Good Quality Dog Food</td>\n",
       "      <td>I have bought several of the Vitality canned d...</td>\n",
       "    </tr>\n",
       "    <tr>\n",
       "      <th>1</th>\n",
       "      <td>2</td>\n",
       "      <td>B00813GRG4</td>\n",
       "      <td>A1D87F6ZCVE5NK</td>\n",
       "      <td>dll pa</td>\n",
       "      <td>0</td>\n",
       "      <td>0</td>\n",
       "      <td>1</td>\n",
       "      <td>1346976000</td>\n",
       "      <td>Not as Advertised</td>\n",
       "      <td>Product arrived labeled as Jumbo Salted Peanut...</td>\n",
       "    </tr>\n",
       "    <tr>\n",
       "      <th>2</th>\n",
       "      <td>3</td>\n",
       "      <td>B000LQOCH0</td>\n",
       "      <td>ABXLMWJIXXAIN</td>\n",
       "      <td>Natalia Corres \"Natalia Corres\"</td>\n",
       "      <td>1</td>\n",
       "      <td>1</td>\n",
       "      <td>4</td>\n",
       "      <td>1219017600</td>\n",
       "      <td>\"Delight\" says it all</td>\n",
       "      <td>This is a confection that has been around a fe...</td>\n",
       "    </tr>\n",
       "    <tr>\n",
       "      <th>3</th>\n",
       "      <td>4</td>\n",
       "      <td>B000UA0QIQ</td>\n",
       "      <td>A395BORC6FGVXV</td>\n",
       "      <td>Karl</td>\n",
       "      <td>3</td>\n",
       "      <td>3</td>\n",
       "      <td>2</td>\n",
       "      <td>1307923200</td>\n",
       "      <td>Cough Medicine</td>\n",
       "      <td>If you are looking for the secret ingredient i...</td>\n",
       "    </tr>\n",
       "    <tr>\n",
       "      <th>4</th>\n",
       "      <td>5</td>\n",
       "      <td>B006K2ZZ7K</td>\n",
       "      <td>A1UQRSCLF8GW1T</td>\n",
       "      <td>Michael D. Bigham \"M. Wassir\"</td>\n",
       "      <td>0</td>\n",
       "      <td>0</td>\n",
       "      <td>5</td>\n",
       "      <td>1350777600</td>\n",
       "      <td>Great taffy</td>\n",
       "      <td>Great taffy at a great price.  There was a wid...</td>\n",
       "    </tr>\n",
       "  </tbody>\n",
       "</table>\n",
       "</div>"
      ],
      "text/plain": [
       "   Id   ProductId          UserId                      ProfileName  \\\n",
       "0   1  B001E4KFG0  A3SGXH7AUHU8GW                       delmartian   \n",
       "1   2  B00813GRG4  A1D87F6ZCVE5NK                           dll pa   \n",
       "2   3  B000LQOCH0   ABXLMWJIXXAIN  Natalia Corres \"Natalia Corres\"   \n",
       "3   4  B000UA0QIQ  A395BORC6FGVXV                             Karl   \n",
       "4   5  B006K2ZZ7K  A1UQRSCLF8GW1T    Michael D. Bigham \"M. Wassir\"   \n",
       "\n",
       "   HelpfulnessNumerator  HelpfulnessDenominator  Score        Time  \\\n",
       "0                     1                       1      5  1303862400   \n",
       "1                     0                       0      1  1346976000   \n",
       "2                     1                       1      4  1219017600   \n",
       "3                     3                       3      2  1307923200   \n",
       "4                     0                       0      5  1350777600   \n",
       "\n",
       "                 Summary                                               Text  \n",
       "0  Good Quality Dog Food  I have bought several of the Vitality canned d...  \n",
       "1      Not as Advertised  Product arrived labeled as Jumbo Salted Peanut...  \n",
       "2  \"Delight\" says it all  This is a confection that has been around a fe...  \n",
       "3         Cough Medicine  If you are looking for the secret ingredient i...  \n",
       "4            Great taffy  Great taffy at a great price.  There was a wid...  "
      ]
     },
     "execution_count": 3,
     "metadata": {},
     "output_type": "execute_result"
    }
   ],
   "source": [
    "data.head()"
   ]
  },
  {
   "cell_type": "markdown",
   "id": "final-jonathan",
   "metadata": {},
   "source": [
    "#### 학습에 필요한 'Text' 와 'Summary'만 추출"
   ]
  },
  {
   "cell_type": "code",
   "execution_count": 4,
   "id": "surprised-factory",
   "metadata": {
    "scrolled": true
   },
   "outputs": [
    {
     "data": {
      "text/html": [
       "<div>\n",
       "<style scoped>\n",
       "    .dataframe tbody tr th:only-of-type {\n",
       "        vertical-align: middle;\n",
       "    }\n",
       "\n",
       "    .dataframe tbody tr th {\n",
       "        vertical-align: top;\n",
       "    }\n",
       "\n",
       "    .dataframe thead th {\n",
       "        text-align: right;\n",
       "    }\n",
       "</style>\n",
       "<table border=\"1\" class=\"dataframe\">\n",
       "  <thead>\n",
       "    <tr style=\"text-align: right;\">\n",
       "      <th></th>\n",
       "      <th>Text</th>\n",
       "      <th>Summary</th>\n",
       "    </tr>\n",
       "  </thead>\n",
       "  <tbody>\n",
       "    <tr>\n",
       "      <th>60404</th>\n",
       "      <td>Although this product does have an abundance o...</td>\n",
       "      <td>Best natural energy boost I've ever taken</td>\n",
       "    </tr>\n",
       "    <tr>\n",
       "      <th>59588</th>\n",
       "      <td>Received this product a while ago but didn't m...</td>\n",
       "      <td>Yummy</td>\n",
       "    </tr>\n",
       "    <tr>\n",
       "      <th>59259</th>\n",
       "      <td>I love this tea!  It's a simple, plain black t...</td>\n",
       "      <td>Plain simple black tea</td>\n",
       "    </tr>\n",
       "    <tr>\n",
       "      <th>89453</th>\n",
       "      <td>Izze makes some very good juices, and advertis...</td>\n",
       "      <td>A tad too sweet for my taste</td>\n",
       "    </tr>\n",
       "    <tr>\n",
       "      <th>38457</th>\n",
       "      <td>I've never tried any other himalayan salt but ...</td>\n",
       "      <td>Good salt</td>\n",
       "    </tr>\n",
       "    <tr>\n",
       "      <th>86065</th>\n",
       "      <td>The dark roast coffee is not at all 'full bodi...</td>\n",
       "      <td>Very bland</td>\n",
       "    </tr>\n",
       "    <tr>\n",
       "      <th>53551</th>\n",
       "      <td>It's a bit sticky, but other than that it is o...</td>\n",
       "      <td>not too bad.</td>\n",
       "    </tr>\n",
       "    <tr>\n",
       "      <th>16891</th>\n",
       "      <td>The Kiwi Berry drink may not have sugar addded...</td>\n",
       "      <td>Sweet sweet Kiwi Berry</td>\n",
       "    </tr>\n",
       "    <tr>\n",
       "      <th>17731</th>\n",
       "      <td>This stuff is amazing-it not only tastes exact...</td>\n",
       "      <td>Tastes EXACTLY LIKE SUGAR,No aftertaste!</td>\n",
       "    </tr>\n",
       "    <tr>\n",
       "      <th>62900</th>\n",
       "      <td>Marketers know that if they slap \"pure\" and \"n...</td>\n",
       "      <td>A good-tasting gimmick</td>\n",
       "    </tr>\n",
       "    <tr>\n",
       "      <th>84297</th>\n",
       "      <td>Great Taste, not greasey whatsoever like Slim ...</td>\n",
       "      <td>Very Tastey, Addiction Worthy.</td>\n",
       "    </tr>\n",
       "    <tr>\n",
       "      <th>38094</th>\n",
       "      <td>great buy on these rice noodles.  it ends up b...</td>\n",
       "      <td>great product</td>\n",
       "    </tr>\n",
       "    <tr>\n",
       "      <th>35217</th>\n",
       "      <td>I was moved to try this coffee because of othe...</td>\n",
       "      <td>It's Ok</td>\n",
       "    </tr>\n",
       "    <tr>\n",
       "      <th>10628</th>\n",
       "      <td>These are nutty delicious, and well packaged. ...</td>\n",
       "      <td>Everyday food</td>\n",
       "    </tr>\n",
       "    <tr>\n",
       "      <th>23310</th>\n",
       "      <td>I've been using these chews for years now and ...</td>\n",
       "      <td>Excellent product that works!</td>\n",
       "    </tr>\n",
       "  </tbody>\n",
       "</table>\n",
       "</div>"
      ],
      "text/plain": [
       "                                                    Text  \\\n",
       "60404  Although this product does have an abundance o...   \n",
       "59588  Received this product a while ago but didn't m...   \n",
       "59259  I love this tea!  It's a simple, plain black t...   \n",
       "89453  Izze makes some very good juices, and advertis...   \n",
       "38457  I've never tried any other himalayan salt but ...   \n",
       "86065  The dark roast coffee is not at all 'full bodi...   \n",
       "53551  It's a bit sticky, but other than that it is o...   \n",
       "16891  The Kiwi Berry drink may not have sugar addded...   \n",
       "17731  This stuff is amazing-it not only tastes exact...   \n",
       "62900  Marketers know that if they slap \"pure\" and \"n...   \n",
       "84297  Great Taste, not greasey whatsoever like Slim ...   \n",
       "38094  great buy on these rice noodles.  it ends up b...   \n",
       "35217  I was moved to try this coffee because of othe...   \n",
       "10628  These are nutty delicious, and well packaged. ...   \n",
       "23310  I've been using these chews for years now and ...   \n",
       "\n",
       "                                         Summary  \n",
       "60404  Best natural energy boost I've ever taken  \n",
       "59588                                      Yummy  \n",
       "59259                     Plain simple black tea  \n",
       "89453               A tad too sweet for my taste  \n",
       "38457                                  Good salt  \n",
       "86065                                 Very bland  \n",
       "53551                               not too bad.  \n",
       "16891                     Sweet sweet Kiwi Berry  \n",
       "17731   Tastes EXACTLY LIKE SUGAR,No aftertaste!  \n",
       "62900                     A good-tasting gimmick  \n",
       "84297             Very Tastey, Addiction Worthy.  \n",
       "38094                              great product  \n",
       "35217                                    It's Ok  \n",
       "10628                              Everyday food  \n",
       "23310              Excellent product that works!  "
      ]
     },
     "execution_count": 4,
     "metadata": {},
     "output_type": "execute_result"
    }
   ],
   "source": [
    "data = data[['Text','Summary']]\n",
    "\n",
    "#랜덤한 15개 샘플 출력\n",
    "data.sample(15)"
   ]
  },
  {
   "cell_type": "markdown",
   "id": "unique-projection",
   "metadata": {},
   "source": [
    "중복 , NULL 샘플 제거"
   ]
  },
  {
   "cell_type": "code",
   "execution_count": 5,
   "id": "absent-harrison",
   "metadata": {},
   "outputs": [
    {
     "name": "stdout",
     "output_type": "stream",
     "text": [
      "Text 열에서 중복을 배제한 유일한 샘플의 수 : 88426\n",
      "Summary 열에서 중복을 배제한 유일한 샘플의 수 : 72348\n"
     ]
    }
   ],
   "source": [
    "print('Text 열에서 중복을 배제한 유일한 샘플의 수 :', data['Text'].nunique())\n",
    "print('Summary 열에서 중복을 배제한 유일한 샘플의 수 :', data['Summary'].nunique())"
   ]
  },
  {
   "cell_type": "markdown",
   "id": "certified-gauge",
   "metadata": {},
   "source": [
    "Summary는 동일할 수 있어도 Text는 동일할 수 없다!"
   ]
  },
  {
   "cell_type": "code",
   "execution_count": 6,
   "id": "numerical-practice",
   "metadata": {},
   "outputs": [
    {
     "name": "stdout",
     "output_type": "stream",
     "text": [
      "전체 샘플수 : 88426\n"
     ]
    }
   ],
   "source": [
    "# inplace=True 를 설정하면 DataFrame 타입 값을 return 하지 않고 data 내부를 직접적으로 바꿉니다\n",
    "data.drop_duplicates(subset = ['Text'], inplace=True)\n",
    "print('전체 샘플수 :', (len(data)))"
   ]
  },
  {
   "cell_type": "markdown",
   "id": "large-visitor",
   "metadata": {},
   "source": [
    "NULL 확인 ( drop_duplicates 실행 시 한개의 NULL 빼고 제거되므로 NULL이 있다면 1개)"
   ]
  },
  {
   "cell_type": "code",
   "execution_count": 7,
   "id": "representative-found",
   "metadata": {},
   "outputs": [
    {
     "name": "stdout",
     "output_type": "stream",
     "text": [
      "Text       0\n",
      "Summary    1\n",
      "dtype: int64\n"
     ]
    }
   ],
   "source": [
    "print(data.isnull().sum())"
   ]
  },
  {
   "cell_type": "markdown",
   "id": "numerous-library",
   "metadata": {},
   "source": [
    "단순 결측치라고 판단돼 삭제"
   ]
  },
  {
   "cell_type": "code",
   "execution_count": 8,
   "id": "superior-marine",
   "metadata": {},
   "outputs": [
    {
     "data": {
      "text/html": [
       "<div>\n",
       "<style scoped>\n",
       "    .dataframe tbody tr th:only-of-type {\n",
       "        vertical-align: middle;\n",
       "    }\n",
       "\n",
       "    .dataframe tbody tr th {\n",
       "        vertical-align: top;\n",
       "    }\n",
       "\n",
       "    .dataframe thead th {\n",
       "        text-align: right;\n",
       "    }\n",
       "</style>\n",
       "<table border=\"1\" class=\"dataframe\">\n",
       "  <thead>\n",
       "    <tr style=\"text-align: right;\">\n",
       "      <th></th>\n",
       "      <th>Text</th>\n",
       "      <th>Summary</th>\n",
       "    </tr>\n",
       "  </thead>\n",
       "  <tbody>\n",
       "    <tr>\n",
       "      <th>33958</th>\n",
       "      <td>I only used two maybe three tea bags and got p...</td>\n",
       "      <td>NaN</td>\n",
       "    </tr>\n",
       "  </tbody>\n",
       "</table>\n",
       "</div>"
      ],
      "text/plain": [
       "                                                    Text Summary\n",
       "33958  I only used two maybe three tea bags and got p...     NaN"
      ]
     },
     "execution_count": 8,
     "metadata": {},
     "output_type": "execute_result"
    }
   ],
   "source": [
    "data[data['Summary'].isnull()]"
   ]
  },
  {
   "cell_type": "markdown",
   "id": "ethical-counter",
   "metadata": {},
   "source": [
    "NULL 제거"
   ]
  },
  {
   "cell_type": "code",
   "execution_count": 9,
   "id": "mathematical-reference",
   "metadata": {},
   "outputs": [
    {
     "name": "stdout",
     "output_type": "stream",
     "text": [
      "전체 샘플수 : 88425\n"
     ]
    }
   ],
   "source": [
    "data.dropna(axis=0, inplace=True)\n",
    "print('전체 샘플수 :', (len(data)))"
   ]
  },
  {
   "cell_type": "markdown",
   "id": "valuable-billy",
   "metadata": {},
   "source": [
    "___"
   ]
  },
  {
   "cell_type": "markdown",
   "id": "alive-dictionary",
   "metadata": {},
   "source": [
    "text normalization 진행"
   ]
  },
  {
   "cell_type": "code",
   "execution_count": 10,
   "id": "painted-rachel",
   "metadata": {},
   "outputs": [
    {
     "name": "stdout",
     "output_type": "stream",
     "text": [
      "정규화 사전의 수:  120\n"
     ]
    }
   ],
   "source": [
    "contractions = {\"ain't\": \"is not\", \"aren't\": \"are not\",\"can't\": \"cannot\", \"'cause\": \"because\", \"could've\": \"could have\", \"couldn't\": \"could not\",\n",
    "                           \"didn't\": \"did not\",  \"doesn't\": \"does not\", \"don't\": \"do not\", \"hadn't\": \"had not\", \"hasn't\": \"has not\", \"haven't\": \"have not\",\n",
    "                           \"he'd\": \"he would\",\"he'll\": \"he will\", \"he's\": \"he is\", \"how'd\": \"how did\", \"how'd'y\": \"how do you\", \"how'll\": \"how will\", \"how's\": \"how is\",\n",
    "                           \"I'd\": \"I would\", \"I'd've\": \"I would have\", \"I'll\": \"I will\", \"I'll've\": \"I will have\",\"I'm\": \"I am\", \"I've\": \"I have\", \"i'd\": \"i would\",\n",
    "                           \"i'd've\": \"i would have\", \"i'll\": \"i will\",  \"i'll've\": \"i will have\",\"i'm\": \"i am\", \"i've\": \"i have\", \"isn't\": \"is not\", \"it'd\": \"it would\",\n",
    "                           \"it'd've\": \"it would have\", \"it'll\": \"it will\", \"it'll've\": \"it will have\",\"it's\": \"it is\", \"let's\": \"let us\", \"ma'am\": \"madam\",\n",
    "                           \"mayn't\": \"may not\", \"might've\": \"might have\",\"mightn't\": \"might not\",\"mightn't've\": \"might not have\", \"must've\": \"must have\",\n",
    "                           \"mustn't\": \"must not\", \"mustn't've\": \"must not have\", \"needn't\": \"need not\", \"needn't've\": \"need not have\",\"o'clock\": \"of the clock\",\n",
    "                           \"oughtn't\": \"ought not\", \"oughtn't've\": \"ought not have\", \"shan't\": \"shall not\", \"sha'n't\": \"shall not\", \"shan't've\": \"shall not have\",\n",
    "                           \"she'd\": \"she would\", \"she'd've\": \"she would have\", \"she'll\": \"she will\", \"she'll've\": \"she will have\", \"she's\": \"she is\",\n",
    "                           \"should've\": \"should have\", \"shouldn't\": \"should not\", \"shouldn't've\": \"should not have\", \"so've\": \"so have\",\"so's\": \"so as\",\n",
    "                           \"this's\": \"this is\",\"that'd\": \"that would\", \"that'd've\": \"that would have\", \"that's\": \"that is\", \"there'd\": \"there would\",\n",
    "                           \"there'd've\": \"there would have\", \"there's\": \"there is\", \"here's\": \"here is\",\"they'd\": \"they would\", \"they'd've\": \"they would have\",\n",
    "                           \"they'll\": \"they will\", \"they'll've\": \"they will have\", \"they're\": \"they are\", \"they've\": \"they have\", \"to've\": \"to have\",\n",
    "                           \"wasn't\": \"was not\", \"we'd\": \"we would\", \"we'd've\": \"we would have\", \"we'll\": \"we will\", \"we'll've\": \"we will have\", \"we're\": \"we are\",\n",
    "                           \"we've\": \"we have\", \"weren't\": \"were not\", \"what'll\": \"what will\", \"what'll've\": \"what will have\", \"what're\": \"what are\",\n",
    "                           \"what's\": \"what is\", \"what've\": \"what have\", \"when's\": \"when is\", \"when've\": \"when have\", \"where'd\": \"where did\", \"where's\": \"where is\",\n",
    "                           \"where've\": \"where have\", \"who'll\": \"who will\", \"who'll've\": \"who will have\", \"who's\": \"who is\", \"who've\": \"who have\",\n",
    "                           \"why's\": \"why is\", \"why've\": \"why have\", \"will've\": \"will have\", \"won't\": \"will not\", \"won't've\": \"will not have\",\n",
    "                           \"would've\": \"would have\", \"wouldn't\": \"would not\", \"wouldn't've\": \"would not have\", \"y'all\": \"you all\",\n",
    "                           \"y'all'd\": \"you all would\",\"y'all'd've\": \"you all would have\",\"y'all're\": \"you all are\",\"y'all've\": \"you all have\",\n",
    "                           \"you'd\": \"you would\", \"you'd've\": \"you would have\", \"you'll\": \"you will\", \"you'll've\": \"you will have\",\n",
    "                           \"you're\": \"you are\", \"you've\": \"you have\"}\n",
    "\n",
    "print(\"정규화 사전의 수: \", len(contractions))"
   ]
  },
  {
   "cell_type": "markdown",
   "id": "monthly-mobile",
   "metadata": {},
   "source": [
    "stopword 처리"
   ]
  },
  {
   "cell_type": "code",
   "execution_count": 11,
   "id": "diagnostic-workplace",
   "metadata": {},
   "outputs": [
    {
     "name": "stdout",
     "output_type": "stream",
     "text": [
      "불용어 개수 : 179\n",
      "['i', 'me', 'my', 'myself', 'we', 'our', 'ours', 'ourselves', 'you', \"you're\", \"you've\", \"you'll\", \"you'd\", 'your', 'yours', 'yourself', 'yourselves', 'he', 'him', 'his', 'himself', 'she', \"she's\", 'her', 'hers', 'herself', 'it', \"it's\", 'its', 'itself', 'they', 'them', 'their', 'theirs', 'themselves', 'what', 'which', 'who', 'whom', 'this', 'that', \"that'll\", 'these', 'those', 'am', 'is', 'are', 'was', 'were', 'be', 'been', 'being', 'have', 'has', 'had', 'having', 'do', 'does', 'did', 'doing', 'a', 'an', 'the', 'and', 'but', 'if', 'or', 'because', 'as', 'until', 'while', 'of', 'at', 'by', 'for', 'with', 'about', 'against', 'between', 'into', 'through', 'during', 'before', 'after', 'above', 'below', 'to', 'from', 'up', 'down', 'in', 'out', 'on', 'off', 'over', 'under', 'again', 'further', 'then', 'once', 'here', 'there', 'when', 'where', 'why', 'how', 'all', 'any', 'both', 'each', 'few', 'more', 'most', 'other', 'some', 'such', 'no', 'nor', 'not', 'only', 'own', 'same', 'so', 'than', 'too', 'very', 's', 't', 'can', 'will', 'just', 'don', \"don't\", 'should', \"should've\", 'now', 'd', 'll', 'm', 'o', 're', 've', 'y', 'ain', 'aren', \"aren't\", 'couldn', \"couldn't\", 'didn', \"didn't\", 'doesn', \"doesn't\", 'hadn', \"hadn't\", 'hasn', \"hasn't\", 'haven', \"haven't\", 'isn', \"isn't\", 'ma', 'mightn', \"mightn't\", 'mustn', \"mustn't\", 'needn', \"needn't\", 'shan', \"shan't\", 'shouldn', \"shouldn't\", 'wasn', \"wasn't\", 'weren', \"weren't\", 'won', \"won't\", 'wouldn', \"wouldn't\"]\n"
     ]
    }
   ],
   "source": [
    "print('불용어 개수 :', len(stopwords.words('english') ))\n",
    "print(stopwords.words('english'))"
   ]
  },
  {
   "cell_type": "code",
   "execution_count": 12,
   "id": "modified-norman",
   "metadata": {},
   "outputs": [],
   "source": [
    "# 데이터 전처리 함수\n",
    "def preprocess_sentence(sentence, remove_stopwords=True):\n",
    "    sentence = sentence.lower() # 텍스트 소문자화\n",
    "    sentence = BeautifulSoup(sentence, \"lxml\").text # <br />, <a href = ...> 등의 html 태그 제거\n",
    "    sentence = re.sub(r'\\([^)]*\\)', '', sentence) # 괄호로 닫힌 문자열 (...) 제거 Ex) my husband (and myself!) for => my husband for\n",
    "    sentence = re.sub('\"','', sentence) # 쌍따옴표 \" 제거\n",
    "    sentence = ' '.join([contractions[t] if t in contractions else t for t in sentence.split(\" \")]) # 약어 정규화\n",
    "    sentence = re.sub(r\"'s\\b\",\"\", sentence) # 소유격 제거. Ex) roland's -> roland\n",
    "    sentence = re.sub(\"[^a-zA-Z]\", \" \", sentence) # 영어 외 문자(숫자, 특수문자 등) 공백으로 변환\n",
    "    sentence = re.sub('[m]{2,}', 'mm', sentence) # m이 3개 이상이면 2개로 변경. Ex) ummmmmmm yeah -> umm yeah\n",
    "    \n",
    "    # 불용어 제거 (Text)\n",
    "    if remove_stopwords:\n",
    "        tokens = ' '.join(word for word in sentence.split() if not word in stopwords.words('english') if len(word) > 1)\n",
    "    # 불용어 미제거 (Summary)\n",
    "    else:\n",
    "        tokens = ' '.join(word for word in sentence.split() if len(word) > 1)\n",
    "    return tokens"
   ]
  },
  {
   "cell_type": "code",
   "execution_count": 1,
   "id": "graphic-chamber",
   "metadata": {},
   "outputs": [
    {
     "ename": "NameError",
     "evalue": "name 'preprocess_sentence' is not defined",
     "output_type": "error",
     "traceback": [
      "\u001b[0;31m---------------------------------------------------------------------------\u001b[0m",
      "\u001b[0;31mNameError\u001b[0m                                 Traceback (most recent call last)",
      "\u001b[0;32m<ipython-input-1-4391c9f99dc4>\u001b[0m in \u001b[0;36m<module>\u001b[0;34m\u001b[0m\n\u001b[1;32m      2\u001b[0m \u001b[0mtemp_summary\u001b[0m \u001b[0;34m=\u001b[0m \u001b[0;34m'Great way to start (or finish) the day!!!'\u001b[0m\u001b[0;34m\u001b[0m\u001b[0;34m\u001b[0m\u001b[0m\n\u001b[1;32m      3\u001b[0m \u001b[0;34m\u001b[0m\u001b[0m\n\u001b[0;32m----> 4\u001b[0;31m \u001b[0mprint\u001b[0m\u001b[0;34m(\u001b[0m\u001b[0mpreprocess_sentence\u001b[0m\u001b[0;34m(\u001b[0m\u001b[0mtemp_text\u001b[0m\u001b[0;34m)\u001b[0m\u001b[0;34m)\u001b[0m\u001b[0;34m\u001b[0m\u001b[0;34m\u001b[0m\u001b[0m\n\u001b[0m\u001b[1;32m      5\u001b[0m \u001b[0mprint\u001b[0m\u001b[0;34m(\u001b[0m\u001b[0mpreprocess_sentence\u001b[0m\u001b[0;34m(\u001b[0m\u001b[0mtemp_summary\u001b[0m\u001b[0;34m,\u001b[0m \u001b[0;32mFalse\u001b[0m\u001b[0;34m)\u001b[0m\u001b[0;34m)\u001b[0m  \u001b[0;31m# 불용어를 제거하지 않습니다.\u001b[0m\u001b[0;34m\u001b[0m\u001b[0;34m\u001b[0m\u001b[0m\n",
      "\u001b[0;31mNameError\u001b[0m: name 'preprocess_sentence' is not defined"
     ]
    }
   ],
   "source": [
    "temp_text = 'Everything I bought was great, infact I ordered twice and the third ordered was<br />for my mother and father.'\n",
    "temp_summary = 'Great way to start (or finish) the day!!!'\n",
    "\n",
    "print(preprocess_sentence(temp_text))\n",
    "print(preprocess_sentence(temp_summary, False))  # 불용어를 제거하지 않습니다."
   ]
  },
  {
   "cell_type": "markdown",
   "id": "civilian-investigation",
   "metadata": {},
   "source": [
    "복잡한 작업엔 multiprocessing 사용하자!"
   ]
  },
  {
   "cell_type": "code",
   "execution_count": 14,
   "id": "editorial-clinic",
   "metadata": {},
   "outputs": [
    {
     "data": {
      "text/plain": [
       "\"\\nclean_text = []\\n# 전체 Text 데이터에 대한 전처리 : 10분 이상 시간이 걸릴 수 있습니다. \\nfor s in data['Text']:\\n    clean_text.append(preprocess_sentence(s))\\n\\n# 전처리 후 출력\\nprint(clean_text[:5])\\n\\n\\nclean_summary = []\\n# 전체 Summary 데이터에 대한 전처리 : 5분 이상 시간이 걸릴 수 있습니다. \\nfor s in data['Summary']:\\n    clean_summary.append(preprocess_sentence(s, False))\\n\\nprint(clean_summary[:5])\\n\""
      ]
     },
     "execution_count": 14,
     "metadata": {},
     "output_type": "execute_result"
    }
   ],
   "source": [
    "'''\n",
    "clean_text = []\n",
    "# 전체 Text 데이터에 대한 전처리 : 10분 이상 시간이 걸릴 수 있습니다. \n",
    "for s in data['Text']:\n",
    "    clean_text.append(preprocess_sentence(s))\n",
    "\n",
    "# 전처리 후 출력\n",
    "print(clean_text[:5])\n",
    "\n",
    "\n",
    "clean_summary = []\n",
    "# 전체 Summary 데이터에 대한 전처리 : 5분 이상 시간이 걸릴 수 있습니다. \n",
    "for s in data['Summary']:\n",
    "    clean_summary.append(preprocess_sentence(s, False))\n",
    "\n",
    "print(clean_summary[:5])\n",
    "'''"
   ]
  },
  {
   "cell_type": "code",
   "execution_count": 15,
   "id": "saving-antique",
   "metadata": {},
   "outputs": [
    {
     "name": "stdout",
     "output_type": "stream",
     "text": [
      "226.72794604301453  seconds\n",
      "['bought several vitality canned dog food products found good quality product looks like stew processed meat smells better labrador finicky appreciates product better'\n",
      " 'product arrived labeled jumbo salted peanuts peanuts actually small sized unsalted sure error vendor intended represent product jumbo'\n",
      " 'confection around centuries light pillowy citrus gelatin nuts case filberts cut tiny squares liberally coated powdered sugar tiny mouthful heaven chewy flavorful highly recommend yummy treat familiar story lewis lion witch wardrobe treat seduces edmund selling brother sisters witch'\n",
      " ...\n",
      " 'favorite brand korean ramen spicy used eating spicy food make sure use spice pack add egg soup makes great snack'\n",
      " 'like noodles although say spicy somewhat understatement one else family tolerates spicy well seeing looking forward extra little something palate disappointed completely honest usually drain liquid almost much'\n",
      " 'love noodle twice week amazing thing feel well cold hot bowl noodle cure upset stomach headache running nose may work definitely try']\n"
     ]
    },
    {
     "name": "stderr",
     "output_type": "stream",
     "text": [
      "/opt/conda/lib/python3.7/site-packages/bs4/__init__.py:282: UserWarning: \"http://www.amazon.com/gp/product/b007i7yygy/ref=cm_cr_rev_prod_title\" looks like a URL. Beautiful Soup is not an HTTP client. You should probably use an HTTP client like requests to get the document behind the URL, and feed that document to Beautiful Soup.\n",
      "  ' that document to Beautiful Soup.' % decoded_markup\n"
     ]
    },
    {
     "name": "stdout",
     "output_type": "stream",
     "text": [
      "5.488565921783447  seconds\n",
      "['good quality dog food' 'not as advertised' 'delight says it all' ...\n",
      " 'great ramen' 'spicy'\n",
      " 'this spicy noodle cures my cold upset stomach and headache every time']\n"
     ]
    }
   ],
   "source": [
    "import multiprocessing as mp   # 멀티 프로세싱으로 전처리 속도를 획기적으로 줄여봅시다\n",
    "from multiprocessing import Pool\n",
    "import numpy as np\n",
    "import time\n",
    "from functools import partial  # map을 할 때 함수에 여러 인자를 넣어줄 수 있도록 합니다\n",
    "\n",
    "start = time.time()\n",
    "\n",
    "# num_cores 만큼 쪼개진 데이터를 전처리하여 반환합니다\n",
    "def appendTexts(sentences, remove_stopwords):\n",
    "  texts = []\n",
    "  for s in sentences:\n",
    "    texts += preprocess_sentence(s, remove_stopwords),\n",
    "  return texts\n",
    "\n",
    "def preprocess_data(data, remove_stopwords=True):\n",
    "  start_time = time.time()\n",
    "  num_cores = mp.cpu_count()  # 컴퓨터의 코어 수를 구합니다\n",
    "\n",
    "  text_data_split = np.array_split(data, num_cores)  # 코어 수만큼 데이터를 배분하여 병렬적으로 처리할 수 있게 합니다\n",
    "  pool = Pool(num_cores)\n",
    "\n",
    "  processed_data = np.concatenate(pool.map(partial(appendTexts, remove_stopwords=remove_stopwords), text_data_split))  # 각자 작업한 데이터를 하나로 합쳐줍니다\n",
    "  pool.close()\n",
    "  pool.join()\n",
    "  print(time.time() - start_time, \" seconds\")\n",
    "  return processed_data\n",
    "\n",
    "clean_text = preprocess_data(data['Text'])  # 클라우드 기준으로 3~4분 정도 소요 됩니다\n",
    "print(clean_text)\n",
    "\n",
    "clean_summary = preprocess_data(data['Summary'], remove_stopwords=False) # 클라우드 기준 1분정도 소요됩니다.\n",
    "print(clean_summary)"
   ]
  },
  {
   "cell_type": "markdown",
   "id": "raising-municipality",
   "metadata": {},
   "source": [
    "빈 값(empty)를 Null로 대체 : isnull() 이용하기 위해서"
   ]
  },
  {
   "cell_type": "code",
   "execution_count": 16,
   "id": "surprising-peter",
   "metadata": {},
   "outputs": [],
   "source": [
    "data['Text'] = clean_text\n",
    "data['Summary'] = clean_summary\n",
    "\n",
    "# 빈 값을 Null 값으로 변환\n",
    "data.replace('', np.nan, inplace=True)"
   ]
  },
  {
   "cell_type": "code",
   "execution_count": 17,
   "id": "acting-backing",
   "metadata": {},
   "outputs": [
    {
     "data": {
      "text/plain": [
       "Text        0\n",
       "Summary    70\n",
       "dtype: int64"
      ]
     },
     "execution_count": 17,
     "metadata": {},
     "output_type": "execute_result"
    }
   ],
   "source": [
    "data.isnull().sum()"
   ]
  },
  {
   "cell_type": "code",
   "execution_count": 18,
   "id": "phantom-alignment",
   "metadata": {},
   "outputs": [
    {
     "name": "stdout",
     "output_type": "stream",
     "text": [
      "전체 샘플수 : 88355\n"
     ]
    }
   ],
   "source": [
    "data.dropna(axis=0, inplace=True)\n",
    "print('전체 샘플수 :', (len(data)))"
   ]
  },
  {
   "cell_type": "markdown",
   "id": "rough-design",
   "metadata": {},
   "source": [
    "#### 샘플의 최대 길이 정하기"
   ]
  },
  {
   "cell_type": "code",
   "execution_count": 19,
   "id": "divided-electric",
   "metadata": {
    "scrolled": true
   },
   "outputs": [
    {
     "name": "stdout",
     "output_type": "stream",
     "text": [
      "텍스트의 최소 길이 : 2\n",
      "텍스트의 최대 길이 : 1235\n",
      "텍스트의 평균 길이 : 38.792428272310566\n",
      "요약의 최소 길이 : 1\n",
      "요약의 최대 길이 : 28\n",
      "요약의 평균 길이 : 4.010729443721352\n"
     ]
    },
    {
     "data": {
      "image/png": "[encoded data removed]",
      "text/plain": [
       "<Figure size 432x288 with 2 Axes>"
      ]
     },
     "metadata": {
      "needs_background": "light"
     },
     "output_type": "display_data"
    },
    {
     "data": {
      "image/png": "[encoded data removed]",
      "text/plain": [
       "<Figure size 432x288 with 1 Axes>"
      ]
     },
     "metadata": {
      "needs_background": "light"
     },
     "output_type": "display_data"
    },
    {
     "data": {
      "image/png": "[encoded data removed]",
      "text/plain": [
       "<Figure size 432x288 with 1 Axes>"
      ]
     },
     "metadata": {
      "needs_background": "light"
     },
     "output_type": "display_data"
    }
   ],
   "source": [
    "# 길이 분포 출력\n",
    "import matplotlib.pyplot as plt\n",
    "\n",
    "text_len = [len(s.split()) for s in data['Text']]\n",
    "summary_len = [len(s.split()) for s in data['Summary']]\n",
    "\n",
    "print('텍스트의 최소 길이 : {}'.format(np.min(text_len)))\n",
    "print('텍스트의 최대 길이 : {}'.format(np.max(text_len)))\n",
    "print('텍스트의 평균 길이 : {}'.format(np.mean(text_len)))\n",
    "print('요약의 최소 길이 : {}'.format(np.min(summary_len)))\n",
    "print('요약의 최대 길이 : {}'.format(np.max(summary_len)))\n",
    "print('요약의 평균 길이 : {}'.format(np.mean(summary_len)))\n",
    "\n",
    "plt.subplot(1,2,1)\n",
    "plt.boxplot(summary_len)\n",
    "plt.title('Summary')\n",
    "plt.subplot(1,2,2)\n",
    "plt.boxplot(text_len)\n",
    "plt.title('Text')\n",
    "plt.tight_layout()\n",
    "plt.show()\n",
    "\n",
    "plt.title('Summary')\n",
    "plt.hist(summary_len, bins = 40)\n",
    "plt.xlabel('length of samples')\n",
    "plt.ylabel('number of samples')\n",
    "plt.show()\n",
    "\n",
    "plt.title('Text')\n",
    "plt.hist(text_len, bins = 40)\n",
    "plt.xlabel('length of samples')\n",
    "plt.ylabel('number of samples')\n",
    "plt.show()"
   ]
  },
  {
   "cell_type": "markdown",
   "id": "protecting-plasma",
   "metadata": {},
   "source": [
    "임의의 최대 문장 길이 설정"
   ]
  },
  {
   "cell_type": "code",
   "execution_count": 20,
   "id": "specified-fellow",
   "metadata": {},
   "outputs": [],
   "source": [
    "text_max_len = 50\n",
    "summary_max_len = 8"
   ]
  },
  {
   "cell_type": "code",
   "execution_count": 21,
   "id": "substantial-degree",
   "metadata": {},
   "outputs": [],
   "source": [
    "def below_threshold_len(max_len, nested_list):\n",
    "  cnt = 0\n",
    "  for s in nested_list:\n",
    "    if(len(s.split()) <= max_len):\n",
    "        cnt = cnt + 1\n",
    "  print('전체 샘플 중 길이가 %s 이하인 샘플의 비율: %s'%(max_len, (cnt / len(nested_list))))"
   ]
  },
  {
   "cell_type": "code",
   "execution_count": 22,
   "id": "cultural-telephone",
   "metadata": {},
   "outputs": [
    {
     "name": "stdout",
     "output_type": "stream",
     "text": [
      "전체 샘플 중 길이가 50 이하인 샘플의 비율: 0.7745119121724859\n",
      "전체 샘플 중 길이가 8 이하인 샘플의 비율: 0.9424593967517402\n"
     ]
    }
   ],
   "source": [
    "below_threshold_len(text_max_len, data['Text'])\n",
    "below_threshold_len(summary_max_len,  data['Summary'])"
   ]
  },
  {
   "cell_type": "markdown",
   "id": "written-configuration",
   "metadata": {},
   "source": [
    "len(x.split) : 단어 개수. text_max_len보다 작은 문장까지만 보관"
   ]
  },
  {
   "cell_type": "code",
   "execution_count": 23,
   "id": "norwegian-plumbing",
   "metadata": {},
   "outputs": [
    {
     "name": "stdout",
     "output_type": "stream",
     "text": [
      "전체 샘플수 : 65818\n"
     ]
    }
   ],
   "source": [
    "data = data[data['Text'].apply(lambda x: len(x.split()) <= text_max_len)]\n",
    "data = data[data['Summary'].apply(lambda x: len(x.split()) <= summary_max_len)]\n",
    "print('전체 샘플수 :', (len(data)))"
   ]
  },
  {
   "cell_type": "markdown",
   "id": "alert-toyota",
   "metadata": {},
   "source": [
    "#### 시작과 끝에 sos, eos 토큰 추가"
   ]
  },
  {
   "cell_type": "code",
   "execution_count": 24,
   "id": "vulnerable-consequence",
   "metadata": {
    "scrolled": true
   },
   "outputs": [
    {
     "data": {
      "text/html": [
       "<div>\n",
       "<style scoped>\n",
       "    .dataframe tbody tr th:only-of-type {\n",
       "        vertical-align: middle;\n",
       "    }\n",
       "\n",
       "    .dataframe tbody tr th {\n",
       "        vertical-align: top;\n",
       "    }\n",
       "\n",
       "    .dataframe thead th {\n",
       "        text-align: right;\n",
       "    }\n",
       "</style>\n",
       "<table border=\"1\" class=\"dataframe\">\n",
       "  <thead>\n",
       "    <tr style=\"text-align: right;\">\n",
       "      <th></th>\n",
       "      <th>Text</th>\n",
       "      <th>Summary</th>\n",
       "      <th>decoder_input</th>\n",
       "      <th>decoder_target</th>\n",
       "    </tr>\n",
       "  </thead>\n",
       "  <tbody>\n",
       "    <tr>\n",
       "      <th>0</th>\n",
       "      <td>bought several vitality canned dog food produc...</td>\n",
       "      <td>good quality dog food</td>\n",
       "      <td>sostoken good quality dog food</td>\n",
       "      <td>good quality dog food eostoken</td>\n",
       "    </tr>\n",
       "    <tr>\n",
       "      <th>1</th>\n",
       "      <td>product arrived labeled jumbo salted peanuts p...</td>\n",
       "      <td>not as advertised</td>\n",
       "      <td>sostoken not as advertised</td>\n",
       "      <td>not as advertised eostoken</td>\n",
       "    </tr>\n",
       "    <tr>\n",
       "      <th>2</th>\n",
       "      <td>confection around centuries light pillowy citr...</td>\n",
       "      <td>delight says it all</td>\n",
       "      <td>sostoken delight says it all</td>\n",
       "      <td>delight says it all eostoken</td>\n",
       "    </tr>\n",
       "    <tr>\n",
       "      <th>3</th>\n",
       "      <td>looking secret ingredient robitussin believe f...</td>\n",
       "      <td>cough medicine</td>\n",
       "      <td>sostoken cough medicine</td>\n",
       "      <td>cough medicine eostoken</td>\n",
       "    </tr>\n",
       "    <tr>\n",
       "      <th>4</th>\n",
       "      <td>great taffy great price wide assortment yummy ...</td>\n",
       "      <td>great taffy</td>\n",
       "      <td>sostoken great taffy</td>\n",
       "      <td>great taffy eostoken</td>\n",
       "    </tr>\n",
       "  </tbody>\n",
       "</table>\n",
       "</div>"
      ],
      "text/plain": [
       "                                                Text                Summary  \\\n",
       "0  bought several vitality canned dog food produc...  good quality dog food   \n",
       "1  product arrived labeled jumbo salted peanuts p...      not as advertised   \n",
       "2  confection around centuries light pillowy citr...    delight says it all   \n",
       "3  looking secret ingredient robitussin believe f...         cough medicine   \n",
       "4  great taffy great price wide assortment yummy ...            great taffy   \n",
       "\n",
       "                    decoder_input                  decoder_target  \n",
       "0  sostoken good quality dog food  good quality dog food eostoken  \n",
       "1      sostoken not as advertised      not as advertised eostoken  \n",
       "2    sostoken delight says it all    delight says it all eostoken  \n",
       "3         sostoken cough medicine         cough medicine eostoken  \n",
       "4            sostoken great taffy            great taffy eostoken  "
      ]
     },
     "execution_count": 24,
     "metadata": {},
     "output_type": "execute_result"
    }
   ],
   "source": [
    "# 요약 데이터에는 시작 토큰과 종료 토큰을 추가한다.\n",
    "data['decoder_input'] = data['Summary'].apply(lambda x : 'sostoken '+ x)\n",
    "data['decoder_target'] = data['Summary'].apply(lambda x : x + ' eostoken')\n",
    "data.head()"
   ]
  },
  {
   "cell_type": "markdown",
   "id": "artistic-louis",
   "metadata": {},
   "source": [
    "#### Train/Test split"
   ]
  },
  {
   "cell_type": "code",
   "execution_count": 25,
   "id": "nearby-finish",
   "metadata": {},
   "outputs": [],
   "source": [
    "encoder_input = np.array(data['Text']) # 인코더의 입력\n",
    "decoder_input = np.array(data['decoder_input']) # 디코더의 입력\n",
    "decoder_target = np.array(data['decoder_target']) # 디코더의 레이블"
   ]
  },
  {
   "cell_type": "markdown",
   "id": "therapeutic-notion",
   "metadata": {},
   "source": [
    "shuffle "
   ]
  },
  {
   "cell_type": "code",
   "execution_count": 26,
   "id": "pleased-router",
   "metadata": {},
   "outputs": [
    {
     "name": "stdout",
     "output_type": "stream",
     "text": [
      "[ 6017  7769  8356 ... 62054 26774 39179]\n"
     ]
    }
   ],
   "source": [
    "np.random.seed(210210821)\n",
    "\n",
    "indices = np.arange(encoder_input.shape[0])\n",
    "np.random.shuffle(indices)\n",
    "print(indices)"
   ]
  },
  {
   "cell_type": "code",
   "execution_count": 27,
   "id": "liked-reliance",
   "metadata": {},
   "outputs": [],
   "source": [
    "encoder_input = encoder_input[indices]\n",
    "decoder_input = decoder_input[indices]\n",
    "decoder_target = decoder_target[indices]"
   ]
  },
  {
   "cell_type": "markdown",
   "id": "opening-variable",
   "metadata": {},
   "source": [
    "전체 데이터의 20%를 Test data로 사용한다."
   ]
  },
  {
   "cell_type": "code",
   "execution_count": 28,
   "id": "julian-accordance",
   "metadata": {},
   "outputs": [
    {
     "name": "stdout",
     "output_type": "stream",
     "text": [
      "테스트 데이터의 수 : 13163\n"
     ]
    }
   ],
   "source": [
    "n_of_val = int(len(encoder_input)*0.2)\n",
    "print('테스트 데이터의 수 :', n_of_val)"
   ]
  },
  {
   "cell_type": "markdown",
   "id": "committed-extent",
   "metadata": {},
   "source": [
    "split"
   ]
  },
  {
   "cell_type": "code",
   "execution_count": 29,
   "id": "peaceful-research",
   "metadata": {},
   "outputs": [
    {
     "name": "stdout",
     "output_type": "stream",
     "text": [
      "훈련 데이터의 개수 : 52655\n",
      "훈련 레이블의 개수 : 52655\n",
      "테스트 데이터의 개수 : 13163\n",
      "테스트 레이블의 개수 : 13163\n"
     ]
    }
   ],
   "source": [
    "encoder_input_train = encoder_input[:-n_of_val]\n",
    "decoder_input_train = decoder_input[:-n_of_val]\n",
    "decoder_target_train = decoder_target[:-n_of_val]\n",
    "\n",
    "encoder_input_test = encoder_input[-n_of_val:]\n",
    "decoder_input_test = decoder_input[-n_of_val:]\n",
    "decoder_target_test = decoder_target[-n_of_val:]\n",
    "\n",
    "print('훈련 데이터의 개수 :', len(encoder_input_train))\n",
    "print('훈련 레이블의 개수 :', len(decoder_input_train))\n",
    "print('테스트 데이터의 개수 :', len(encoder_input_test))\n",
    "print('테스트 레이블의 개수 :', len(decoder_input_test))"
   ]
  },
  {
   "cell_type": "markdown",
   "id": "rural-printing",
   "metadata": {},
   "source": [
    "___"
   ]
  },
  {
   "cell_type": "markdown",
   "id": "twelve-prior",
   "metadata": {},
   "source": [
    "#### vocabulary 생성하기"
   ]
  },
  {
   "cell_type": "code",
   "execution_count": 30,
   "id": "thorough-private",
   "metadata": {},
   "outputs": [],
   "source": [
    "src_tokenizer = Tokenizer() # 토크나이저 정의\n",
    "src_tokenizer.fit_on_texts(encoder_input_train) # 입력된 데이터로부터 단어 집합 생성"
   ]
  },
  {
   "cell_type": "markdown",
   "id": "found-scoop",
   "metadata": {},
   "source": [
    "등장 빈도수가 7보다 작은 단어들의 개수를 확인해보자."
   ]
  },
  {
   "cell_type": "code",
   "execution_count": 31,
   "id": "comprehensive-summit",
   "metadata": {},
   "outputs": [
    {
     "name": "stdout",
     "output_type": "stream",
     "text": [
      "단어 집합(vocabulary)의 크기 : 32026\n",
      "등장 빈도가 6번 이하인 희귀 단어의 수: 23794\n",
      "단어 집합에서 희귀 단어를 제외시킬 경우의 단어 집합의 크기 8232\n",
      "단어 집합에서 희귀 단어의 비율: 74.29588459376757\n",
      "전체 등장 빈도에서 희귀 단어 등장 빈도 비율: 3.403213340571084\n"
     ]
    }
   ],
   "source": [
    "threshold = 7\n",
    "total_cnt = len(src_tokenizer.word_index) # 단어의 수\n",
    "rare_cnt = 0 # 등장 빈도수가 threshold보다 작은 단어의 개수를 카운트\n",
    "total_freq = 0 # 훈련 데이터의 전체 단어 빈도수 총 합\n",
    "rare_freq = 0 # 등장 빈도수가 threshold보다 작은 단어의 등장 빈도수의 총 합\n",
    "\n",
    "# 단어와 빈도수의 쌍(pair)을 key와 value로 받는다.\n",
    "for key, value in src_tokenizer.word_counts.items():\n",
    "    total_freq = total_freq + value\n",
    "\n",
    "    # 단어의 등장 빈도수가 threshold보다 작으면\n",
    "    if(value < threshold):\n",
    "        rare_cnt = rare_cnt + 1\n",
    "        rare_freq = rare_freq + value\n",
    "\n",
    "print('단어 집합(vocabulary)의 크기 :', total_cnt)\n",
    "print('등장 빈도가 %s번 이하인 희귀 단어의 수: %s'%(threshold - 1, rare_cnt))\n",
    "print('단어 집합에서 희귀 단어를 제외시킬 경우의 단어 집합의 크기 %s'%(total_cnt - rare_cnt))\n",
    "print(\"단어 집합에서 희귀 단어의 비율:\", (rare_cnt / total_cnt)*100)\n",
    "print(\"전체 등장 빈도에서 희귀 단어 등장 빈도 비율:\", (rare_freq / total_freq)*100)"
   ]
  },
  {
   "cell_type": "markdown",
   "id": "framed-devil",
   "metadata": {},
   "source": [
    "등장 빈도가 6회 이하인 단어는 전체 단어의 3.38% 정도 밖에 안된다. 따라서 이 경우 훈련 데이터에서 제외해주자."
   ]
  },
  {
   "cell_type": "markdown",
   "id": "assigned-links",
   "metadata": {},
   "source": [
    "fit_on_texts : 빈도 수 기준으로 index 부여. 따라서 src_vocab을 줄이면 빈도수 많은 문장들만 모이게 된다!"
   ]
  },
  {
   "cell_type": "code",
   "execution_count": 32,
   "id": "democratic-interference",
   "metadata": {},
   "outputs": [],
   "source": [
    "src_vocab = 8000 #희귀 단어 제외시 단어 개수\n",
    "src_tokenizer = Tokenizer(num_words=src_vocab) # 단어 집합의 크기를 8,000으로 제한\n",
    "src_tokenizer.fit_on_texts(encoder_input_train) # 단어 집합 재생성."
   ]
  },
  {
   "cell_type": "code",
   "execution_count": 33,
   "id": "foster-opera",
   "metadata": {},
   "outputs": [
    {
     "name": "stdout",
     "output_type": "stream",
     "text": [
      "[[345, 9, 1469, 3255, 576, 280, 802, 7, 199], [366, 148, 1522, 16, 258, 117, 349, 158, 215, 309, 4662, 869, 18, 180, 1364, 38, 93, 117, 645], [14, 1117, 3993, 2848, 548, 3993, 2655, 135, 982, 582, 509, 21, 982, 1229, 169, 3993, 2848]]\n"
     ]
    }
   ],
   "source": [
    "# 텍스트 시퀀스를 정수 시퀀스로 변환\n",
    "encoder_input_train = src_tokenizer.texts_to_sequences(encoder_input_train) \n",
    "encoder_input_test = src_tokenizer.texts_to_sequences(encoder_input_test)\n",
    "\n",
    "# 잘 진행되었는지 샘플 출력\n",
    "print(encoder_input_train[:3])"
   ]
  },
  {
   "cell_type": "markdown",
   "id": "mental-annex",
   "metadata": {},
   "source": [
    "decoder 처리"
   ]
  },
  {
   "cell_type": "code",
   "execution_count": 34,
   "id": "institutional-wisconsin",
   "metadata": {},
   "outputs": [],
   "source": [
    "tar_tokenizer = Tokenizer()\n",
    "tar_tokenizer.fit_on_texts(decoder_input_train)"
   ]
  },
  {
   "cell_type": "code",
   "execution_count": 35,
   "id": "contained-elimination",
   "metadata": {},
   "outputs": [
    {
     "name": "stdout",
     "output_type": "stream",
     "text": [
      "단어 집합(vocabulary)의 크기 : 10467\n",
      "등장 빈도가 5번 이하인 희귀 단어의 수: 8094\n",
      "단어 집합에서 희귀 단어를 제외시킬 경우의 단어 집합의 크기 2373\n",
      "단어 집합에서 희귀 단어의 비율: 77.32874749211808\n",
      "전체 등장 빈도에서 희귀 단어 등장 빈도 비율: 5.912355888211505\n"
     ]
    }
   ],
   "source": [
    "threshold = 6\n",
    "total_cnt = len(tar_tokenizer.word_index) # 단어의 수\n",
    "rare_cnt = 0 # 등장 빈도수가 threshold보다 작은 단어의 개수를 카운트\n",
    "total_freq = 0 # 훈련 데이터의 전체 단어 빈도수 총 합\n",
    "rare_freq = 0 # 등장 빈도수가 threshold보다 작은 단어의 등장 빈도수의 총 합\n",
    "\n",
    "# 단어와 빈도수의 쌍(pair)을 key와 value로 받는다.\n",
    "for key, value in tar_tokenizer.word_counts.items():\n",
    "    total_freq = total_freq + value\n",
    "\n",
    "    # 단어의 등장 빈도수가 threshold보다 작으면\n",
    "    if(value < threshold):\n",
    "        rare_cnt = rare_cnt + 1\n",
    "        rare_freq = rare_freq + value\n",
    "\n",
    "print('단어 집합(vocabulary)의 크기 :', total_cnt)\n",
    "print('등장 빈도가 %s번 이하인 희귀 단어의 수: %s'%(threshold - 1, rare_cnt))\n",
    "print('단어 집합에서 희귀 단어를 제외시킬 경우의 단어 집합의 크기 %s'%(total_cnt - rare_cnt))\n",
    "print(\"단어 집합에서 희귀 단어의 비율:\", (rare_cnt / total_cnt)*100)\n",
    "print(\"전체 등장 빈도에서 희귀 단어 등장 빈도 비율:\", (rare_freq / total_freq)*100)"
   ]
  },
  {
   "cell_type": "code",
   "execution_count": 36,
   "id": "designed-lesson",
   "metadata": {},
   "outputs": [
    {
     "name": "stdout",
     "output_type": "stream",
     "text": [
      "input\n",
      "input  [[1, 152], [1, 159], [1, 107, 12, 1363, 1967, 8, 683], [1, 711, 78, 11], [1, 206]]\n",
      "target\n",
      "decoder  [[152, 2], [159, 2], [107, 12, 1363, 1967, 8, 683, 2], [711, 78, 11, 2], [206, 2]]\n"
     ]
    }
   ],
   "source": [
    "tar_vocab = 2000\n",
    "tar_tokenizer = Tokenizer(num_words=tar_vocab) \n",
    "tar_tokenizer.fit_on_texts(decoder_input_train)\n",
    "tar_tokenizer.fit_on_texts(decoder_target_train)\n",
    "\n",
    "# 텍스트 시퀀스를 정수 시퀀스로 변환\n",
    "decoder_input_train = tar_tokenizer.texts_to_sequences(decoder_input_train) \n",
    "decoder_target_train = tar_tokenizer.texts_to_sequences(decoder_target_train)\n",
    "decoder_input_test = tar_tokenizer.texts_to_sequences(decoder_input_test)\n",
    "decoder_target_test = tar_tokenizer.texts_to_sequences(decoder_target_test)\n",
    "\n",
    "# 잘 변환되었는지 확인\n",
    "print('input')\n",
    "print('input ',decoder_input_train[:5])\n",
    "print('target')\n",
    "print('decoder ',decoder_target_train[:5])"
   ]
  },
  {
   "cell_type": "code",
   "execution_count": 37,
   "id": "agreed-asian",
   "metadata": {},
   "outputs": [
    {
     "name": "stdout",
     "output_type": "stream",
     "text": [
      "삭제할 훈련 데이터의 개수 : 1245\n",
      "삭제할 테스트 데이터의 개수 : 356\n",
      "훈련 데이터의 개수 : 51410\n",
      "훈련 레이블의 개수 : 51410\n",
      "테스트 데이터의 개수 : 12807\n",
      "테스트 레이블의 개수 : 12807\n"
     ]
    },
    {
     "name": "stderr",
     "output_type": "stream",
     "text": [
      "/opt/conda/lib/python3.7/site-packages/numpy/core/_asarray.py:83: VisibleDeprecationWarning: Creating an ndarray from ragged nested sequences (which is a list-or-tuple of lists-or-tuples-or ndarrays with different lengths or shapes) is deprecated. If you meant to do this, you must specify 'dtype=object' when creating the ndarray\n",
      "  return array(a, dtype, copy=False, order=order)\n"
     ]
    }
   ],
   "source": [
    "drop_train = [index for index, sentence in enumerate(decoder_input_train) if len(sentence) == 1]\n",
    "drop_test = [index for index, sentence in enumerate(decoder_input_test) if len(sentence) == 1]\n",
    "\n",
    "print('삭제할 훈련 데이터의 개수 :', len(drop_train))\n",
    "print('삭제할 테스트 데이터의 개수 :', len(drop_test))\n",
    "\n",
    "encoder_input_train = np.delete(encoder_input_train, drop_train, axis=0)\n",
    "decoder_input_train = np.delete(decoder_input_train, drop_train, axis=0)\n",
    "decoder_target_train = np.delete(decoder_target_train, drop_train, axis=0)\n",
    "\n",
    "encoder_input_test = np.delete(encoder_input_test, drop_test, axis=0)\n",
    "decoder_input_test = np.delete(decoder_input_test, drop_test, axis=0)\n",
    "decoder_target_test = np.delete(decoder_target_test, drop_test, axis=0)\n",
    "\n",
    "print('훈련 데이터의 개수 :', len(encoder_input_train))\n",
    "print('훈련 레이블의 개수 :', len(decoder_input_train))\n",
    "print('테스트 데이터의 개수 :', len(encoder_input_test))\n",
    "print('테스트 레이블의 개수 :', len(decoder_input_test))"
   ]
  },
  {
   "cell_type": "markdown",
   "id": "strong-height",
   "metadata": {},
   "source": [
    "padding 진행"
   ]
  },
  {
   "cell_type": "code",
   "execution_count": 38,
   "id": "polyphonic-graphic",
   "metadata": {},
   "outputs": [],
   "source": [
    "encoder_input_train = pad_sequences(encoder_input_train, maxlen=text_max_len, padding='post')\n",
    "encoder_input_test = pad_sequences(encoder_input_test, maxlen=text_max_len, padding='post')\n",
    "decoder_input_train = pad_sequences(decoder_input_train, maxlen=summary_max_len, padding='post')\n",
    "decoder_target_train = pad_sequences(decoder_target_train, maxlen=summary_max_len, padding='post')\n",
    "decoder_input_test = pad_sequences(decoder_input_test, maxlen=summary_max_len, padding='post')\n",
    "decoder_target_test = pad_sequences(decoder_target_test, maxlen=summary_max_len, padding='post')"
   ]
  },
  {
   "cell_type": "markdown",
   "id": "fantastic-justice",
   "metadata": {},
   "source": [
    "___"
   ]
  },
  {
   "cell_type": "markdown",
   "id": "homeless-invasion",
   "metadata": {},
   "source": [
    "## 2. 모델 설계하기"
   ]
  },
  {
   "cell_type": "markdown",
   "id": "atmospheric-vegetarian",
   "metadata": {},
   "source": [
    "#### Encoder 설계"
   ]
  },
  {
   "cell_type": "code",
   "execution_count": 39,
   "id": "vertical-pattern",
   "metadata": {},
   "outputs": [
    {
     "name": "stdout",
     "output_type": "stream",
     "text": [
      "WARNING:tensorflow:Layer lstm will not use cuDNN kernel since it doesn't meet the cuDNN kernel criteria. It will use generic GPU kernel as fallback when running on GPU\n",
      "WARNING:tensorflow:Layer lstm_1 will not use cuDNN kernel since it doesn't meet the cuDNN kernel criteria. It will use generic GPU kernel as fallback when running on GPU\n",
      "WARNING:tensorflow:Layer lstm_2 will not use cuDNN kernel since it doesn't meet the cuDNN kernel criteria. It will use generic GPU kernel as fallback when running on GPU\n"
     ]
    }
   ],
   "source": [
    "from tensorflow.keras.layers import Input, LSTM, Embedding, Dense, Concatenate\n",
    "from tensorflow.keras.models import Model\n",
    "from tensorflow.keras.callbacks import EarlyStopping, ModelCheckpoint\n",
    "\n",
    "\n",
    "# 인코더 설계 시작\n",
    "embedding_dim = 128\n",
    "hidden_size = 256\n",
    "\n",
    "# 인코더\n",
    "encoder_inputs = Input(shape=(text_max_len,))\n",
    "\n",
    "# 인코더의 임베딩 층\n",
    "enc_emb = Embedding(src_vocab, embedding_dim)(encoder_inputs)\n",
    "\n",
    "# 인코더의 LSTM 1\n",
    "encoder_lstm1 = LSTM(hidden_size, return_sequences=True, return_state=True ,dropout = 0.4, recurrent_dropout = 0.4)\n",
    "encoder_output1, state_h1, state_c1 = encoder_lstm1(enc_emb)\n",
    "\n",
    "# 인코더의 LSTM 2\n",
    "encoder_lstm2 = LSTM(hidden_size, return_sequences=True, return_state=True, dropout=0.4, recurrent_dropout=0.4)\n",
    "encoder_output2, state_h2, state_c2 = encoder_lstm2(encoder_output1)\n",
    "\n",
    "# 인코더의 LSTM 3\n",
    "encoder_lstm3 = LSTM(hidden_size, return_state=True, return_sequences=True, dropout=0.4, recurrent_dropout=0.4)\n",
    "encoder_outputs, state_h, state_c= encoder_lstm3(encoder_output2)"
   ]
  },
  {
   "cell_type": "markdown",
   "id": "separated-lobby",
   "metadata": {},
   "source": [
    "#### Decoder 설계"
   ]
  },
  {
   "cell_type": "code",
   "execution_count": 40,
   "id": "approximate-programming",
   "metadata": {},
   "outputs": [
    {
     "name": "stdout",
     "output_type": "stream",
     "text": [
      "WARNING:tensorflow:Layer lstm_3 will not use cuDNN kernel since it doesn't meet the cuDNN kernel criteria. It will use generic GPU kernel as fallback when running on GPU\n"
     ]
    }
   ],
   "source": [
    "# 디코더 설계\n",
    "decoder_inputs = Input(shape=(None,))\n",
    "\n",
    "# 디코더의 임베딩 층\n",
    "dec_emb_layer = Embedding(tar_vocab, embedding_dim)\n",
    "dec_emb = dec_emb_layer(decoder_inputs)\n",
    "\n",
    "# 디코더의 LSTM\n",
    "decoder_lstm = LSTM(hidden_size, return_sequences=True, return_state=True, dropout=0.4, recurrent_dropout=0.2)\n",
    "decoder_outputs, _, _ = decoder_lstm(dec_emb, initial_state=[state_h, state_c])"
   ]
  },
  {
   "cell_type": "markdown",
   "id": "insured-bouquet",
   "metadata": {},
   "source": [
    "마지막에 softmax"
   ]
  },
  {
   "cell_type": "markdown",
   "id": "legitimate-screw",
   "metadata": {},
   "source": [
    "Summary 단어장인 tar_vocab 중 선택!"
   ]
  },
  {
   "cell_type": "code",
   "execution_count": 41,
   "id": "fantastic-africa",
   "metadata": {
    "scrolled": true
   },
   "outputs": [
    {
     "name": "stdout",
     "output_type": "stream",
     "text": [
      "Model: \"model\"\n",
      "__________________________________________________________________________________________________\n",
      "Layer (type)                    Output Shape         Param #     Connected to                     \n",
      "==================================================================================================\n",
      "input_1 (InputLayer)            [(None, 50)]         0                                            \n",
      "__________________________________________________________________________________________________\n",
      "embedding (Embedding)           (None, 50, 128)      1024000     input_1[0][0]                    \n",
      "__________________________________________________________________________________________________\n",
      "lstm (LSTM)                     [(None, 50, 256), (N 394240      embedding[0][0]                  \n",
      "__________________________________________________________________________________________________\n",
      "input_2 (InputLayer)            [(None, None)]       0                                            \n",
      "__________________________________________________________________________________________________\n",
      "lstm_1 (LSTM)                   [(None, 50, 256), (N 525312      lstm[0][0]                       \n",
      "__________________________________________________________________________________________________\n",
      "embedding_1 (Embedding)         (None, None, 128)    256000      input_2[0][0]                    \n",
      "__________________________________________________________________________________________________\n",
      "lstm_2 (LSTM)                   [(None, 50, 256), (N 525312      lstm_1[0][0]                     \n",
      "__________________________________________________________________________________________________\n",
      "lstm_3 (LSTM)                   [(None, None, 256),  394240      embedding_1[0][0]                \n",
      "                                                                 lstm_2[0][1]                     \n",
      "                                                                 lstm_2[0][2]                     \n",
      "__________________________________________________________________________________________________\n",
      "dense (Dense)                   (None, None, 2000)   514000      lstm_3[0][0]                     \n",
      "==================================================================================================\n",
      "Total params: 3,633,104\n",
      "Trainable params: 3,633,104\n",
      "Non-trainable params: 0\n",
      "__________________________________________________________________________________________________\n"
     ]
    }
   ],
   "source": [
    "# 디코더의 출력층\n",
    "decoder_softmax_layer = Dense(tar_vocab, activation='softmax')\n",
    "decoder_softmax_outputs = decoder_softmax_layer(decoder_outputs) \n",
    "\n",
    "# 모델 정의\n",
    "model = Model([encoder_inputs, decoder_inputs], decoder_softmax_outputs)\n",
    "model.summary()"
   ]
  },
  {
   "cell_type": "markdown",
   "id": "improved-syndrome",
   "metadata": {},
   "source": [
    "#### Attention"
   ]
  },
  {
   "cell_type": "code",
   "execution_count": 42,
   "id": "whole-growth",
   "metadata": {},
   "outputs": [],
   "source": [
    "urllib.request.urlretrieve(\"https://raw.githubusercontent.com/thushv89/attention_keras/master/src/layers/attention.py\", filename=\"attention.py\")\n",
    "from attention import AttentionLayer"
   ]
  },
  {
   "cell_type": "markdown",
   "id": "speaking-reviewer",
   "metadata": {},
   "source": [
    "Layer가 훨씬 더 증가했다."
   ]
  },
  {
   "cell_type": "code",
   "execution_count": 43,
   "id": "italic-sandwich",
   "metadata": {},
   "outputs": [
    {
     "name": "stdout",
     "output_type": "stream",
     "text": [
      "Model: \"model_1\"\n",
      "__________________________________________________________________________________________________\n",
      "Layer (type)                    Output Shape         Param #     Connected to                     \n",
      "==================================================================================================\n",
      "input_1 (InputLayer)            [(None, 50)]         0                                            \n",
      "__________________________________________________________________________________________________\n",
      "embedding (Embedding)           (None, 50, 128)      1024000     input_1[0][0]                    \n",
      "__________________________________________________________________________________________________\n",
      "lstm (LSTM)                     [(None, 50, 256), (N 394240      embedding[0][0]                  \n",
      "__________________________________________________________________________________________________\n",
      "input_2 (InputLayer)            [(None, None)]       0                                            \n",
      "__________________________________________________________________________________________________\n",
      "lstm_1 (LSTM)                   [(None, 50, 256), (N 525312      lstm[0][0]                       \n",
      "__________________________________________________________________________________________________\n",
      "embedding_1 (Embedding)         (None, None, 128)    256000      input_2[0][0]                    \n",
      "__________________________________________________________________________________________________\n",
      "lstm_2 (LSTM)                   [(None, 50, 256), (N 525312      lstm_1[0][0]                     \n",
      "__________________________________________________________________________________________________\n",
      "lstm_3 (LSTM)                   [(None, None, 256),  394240      embedding_1[0][0]                \n",
      "                                                                 lstm_2[0][1]                     \n",
      "                                                                 lstm_2[0][2]                     \n",
      "__________________________________________________________________________________________________\n",
      "attention_layer (AttentionLayer ((None, None, 256),  131328      lstm_2[0][0]                     \n",
      "                                                                 lstm_3[0][0]                     \n",
      "__________________________________________________________________________________________________\n",
      "concat_layer (Concatenate)      (None, None, 512)    0           lstm_3[0][0]                     \n",
      "                                                                 attention_layer[0][0]            \n",
      "__________________________________________________________________________________________________\n",
      "dense_1 (Dense)                 (None, None, 2000)   1026000     concat_layer[0][0]               \n",
      "==================================================================================================\n",
      "Total params: 4,276,432\n",
      "Trainable params: 4,276,432\n",
      "Non-trainable params: 0\n",
      "__________________________________________________________________________________________________\n"
     ]
    }
   ],
   "source": [
    "# 어텐션 층(어텐션 함수)\n",
    "attn_layer = AttentionLayer(name='attention_layer')\n",
    "# 인코더와 디코더의 모든 time step의 hidden state를 어텐션 층에 전달하고 결과를 리턴\n",
    "attn_out, attn_states = attn_layer([encoder_outputs, decoder_outputs])\n",
    "\n",
    "# 어텐션의 결과와 디코더의 hidden state들을 연결\n",
    "decoder_concat_input = Concatenate(axis=-1, name='concat_layer')([decoder_outputs, attn_out])\n",
    "\n",
    "# 디코더의 출력층\n",
    "decoder_softmax_layer = Dense(tar_vocab, activation='softmax')\n",
    "decoder_softmax_outputs = decoder_softmax_layer(decoder_concat_input)\n",
    "\n",
    "# 모델 정의\n",
    "model = Model([encoder_inputs, decoder_inputs], decoder_softmax_outputs)\n",
    "model.summary()"
   ]
  },
  {
   "cell_type": "markdown",
   "id": "controlling-overview",
   "metadata": {},
   "source": [
    "## 3. 모델 훈련하기"
   ]
  },
  {
   "cell_type": "markdown",
   "id": "bearing-upper",
   "metadata": {},
   "source": [
    "validation_loss를 기준으로 early-stopping 실행"
   ]
  },
  {
   "cell_type": "code",
   "execution_count": 44,
   "id": "fleet-guatemala",
   "metadata": {
    "scrolled": true
   },
   "outputs": [
    {
     "data": {
      "text/plain": [
       "\"\\nmodel.compile(optimizer='rmsprop', loss='sparse_categorical_crossentropy')\\nes = EarlyStopping(monitor='val_loss', patience=2, verbose=1)\\nhistory = model.fit(x=[encoder_input_train, decoder_input_train], y=decoder_target_train,           validation_data=([encoder_input_test, decoder_input_test], decoder_target_test),           batch_size=256, callbacks=[es], epochs=50)\\n\""
      ]
     },
     "execution_count": 44,
     "metadata": {},
     "output_type": "execute_result"
    }
   ],
   "source": [
    "'''\n",
    "model.compile(optimizer='rmsprop', loss='sparse_categorical_crossentropy')\n",
    "es = EarlyStopping(monitor='val_loss', patience=2, verbose=1)\n",
    "history = model.fit(x=[encoder_input_train, decoder_input_train], y=decoder_target_train, \\\n",
    "          validation_data=([encoder_input_test, decoder_input_test], decoder_target_test), \\\n",
    "          batch_size=256, callbacks=[es], epochs=50)\n",
    "'''"
   ]
  },
  {
   "cell_type": "markdown",
   "id": "objective-funeral",
   "metadata": {},
   "source": [
    "Epoch 1/50   \n",
    "201/201 [==============================] - 147s 678ms/step - loss: 3.1203 - val_loss: 2.4443   \n",
    "Epoch 2/50   \n",
    "201/201 [==============================] - 135s 670ms/step - loss: 2.4033 - val_loss: 2.3013   \n",
    "Epoch 3/50   \n",
    "201/201 [==============================] - 135s 674ms/step - loss: 2.2548 - val_loss: 2.1736   \n",
    "Epoch 4/50   \n",
    "201/201 [==============================] - 135s 674ms/step - loss: 2.1268 - val_loss: 2.0904   \n",
    "Epoch 5/50   \n",
    "201/201 [==============================] - 136s 677ms/step - loss: 2.0365 - val_loss: 2.0349   \n",
    "Epoch 6/50   \n",
    "201/201 [==============================] - 136s 675ms/step - loss: 1.9691 - val_loss: 1.9952   \n",
    "Epoch 7/50   \n",
    "201/201 [==============================] - 134s 665ms/step - loss: 1.9184 - val_loss: 1.9640   \n",
    "Epoch 8/50   \n",
    "201/201 [==============================] - 132s 657ms/step - loss: 1.8736 - val_loss: 1.9401   \n",
    "Epoch 9/50   \n",
    "201/201 [==============================] - 132s 655ms/step - loss: 1.8240 - val_loss: 1.9190   \n",
    "Epoch 10/50   \n",
    "201/201 [==============================] - 130s 648ms/step - loss: 1.7810 - val_loss: 1.9053   \n",
    "Epoch 11/50   \n",
    "201/201 [==============================] - 129s 641ms/step - loss: 1.7385 - val_loss: 1.8951   \n",
    "Epoch 12/50   \n",
    "201/201 [==============================] - 129s 641ms/step - loss: 1.7144 - val_loss: 1.8859   \n",
    "Epoch 13/50   \n",
    "201/201 [==============================] - 129s 640ms/step - loss: 1.6843 - val_loss: 1.8809   \n",
    "Epoch 14/50   \n",
    "201/201 [==============================] - 129s 640ms/step - loss: 1.6498 - val_loss: 1.8686   \n",
    "Epoch 15/50   \n",
    "201/201 [==============================] - 128s 639ms/step - loss: 1.6284 - val_loss: 1.8702   \n",
    "Epoch 16/50   \n",
    "201/201 [==============================] - 129s 640ms/step - loss: 1.5973 - val_loss: 1.8647   \n",
    "Epoch 17/50   \n",
    "201/201 [==============================] - 128s 639ms/step - loss: 1.5815 - val_loss: 1.8663   \n",
    "Epoch 18/50   \n",
    "201/201 [==============================] - 128s 638ms/step - loss: 1.5522 - val_loss: 1.8637   \n",
    "Epoch 19/50   \n",
    "201/201 [==============================] - 128s 636ms/step - loss: 1.5280 - val_loss: 1.8615   \n",
    "Epoch 20/50   \n",
    "201/201 [==============================] - 129s 640ms/step - loss: 1.5077 - val_loss: 1.8693   \n",
    "Epoch 21/50   \n",
    "201/201 [==============================] - 128s 636ms/step - loss: 1.4786 - val_loss: 1.8696   \n",
    "Epoch 00021: early stopping   "
   ]
  },
  {
   "cell_type": "code",
   "execution_count": 45,
   "id": "waiting-native",
   "metadata": {},
   "outputs": [
    {
     "data": {
      "text/plain": [
       "\"\\nplt.plot(history.history['loss'], label='train')\\nplt.plot(history.history['val_loss'], label='test')\\nplt.legend()\\nplt.show()\\n\""
      ]
     },
     "execution_count": 45,
     "metadata": {},
     "output_type": "execute_result"
    }
   ],
   "source": [
    "'''\n",
    "plt.plot(history.history['loss'], label='train')\n",
    "plt.plot(history.history['val_loss'], label='test')\n",
    "plt.legend()\n",
    "plt.show()\n",
    "'''"
   ]
  },
  {
   "cell_type": "markdown",
   "id": "fabulous-supplement",
   "metadata": {},
   "source": [
    "모델 저장하기"
   ]
  },
  {
   "cell_type": "code",
   "execution_count": 46,
   "id": "simple-rehabilitation",
   "metadata": {},
   "outputs": [
    {
     "name": "stdout",
     "output_type": "stream",
     "text": [
      "INFO:tensorflow:Assets written to: saved_model/E10/assets\n"
     ]
    }
   ],
   "source": [
    "!mkdir -p saved_model\n",
    "model.save('saved_model/E10')"
   ]
  },
  {
   "cell_type": "markdown",
   "id": "exclusive-mandate",
   "metadata": {},
   "source": [
    "#### 훈련이 오래 걸리기 때문에 저장한 모델을 불러와서 활용한다."
   ]
  },
  {
   "cell_type": "code",
   "execution_count": 47,
   "id": "nervous-tissue",
   "metadata": {},
   "outputs": [],
   "source": [
    "import tensorflow as tf"
   ]
  },
  {
   "cell_type": "code",
   "execution_count": 170,
   "id": "greatest-future",
   "metadata": {},
   "outputs": [
    {
     "name": "stdout",
     "output_type": "stream",
     "text": [
      "WARNING:tensorflow:Layer lstm_4 will not use cuDNN kernel since it doesn't meet the cuDNN kernel criteria. It will use generic GPU kernel as fallback when running on GPU\n",
      "WARNING:tensorflow:Layer lstm_5 will not use cuDNN kernel since it doesn't meet the cuDNN kernel criteria. It will use generic GPU kernel as fallback when running on GPU\n",
      "WARNING:tensorflow:Layer lstm_6 will not use cuDNN kernel since it doesn't meet the cuDNN kernel criteria. It will use generic GPU kernel as fallback when running on GPU\n",
      "WARNING:tensorflow:Layer lstm_7 will not use cuDNN kernel since it doesn't meet the cuDNN kernel criteria. It will use generic GPU kernel as fallback when running on GPU\n"
     ]
    }
   ],
   "source": [
    "'''\n",
    "embedding_dim = 128\n",
    "hidden_size = 256\n",
    "\n",
    "# 인코더\n",
    "encoder_inputs = Input(shape=(text_max_len,))\n",
    "\n",
    "# 인코더의 임베딩 층\n",
    "enc_emb = Embedding(src_vocab, embedding_dim)(encoder_inputs)\n",
    "\n",
    "# 인코더의 LSTM 1\n",
    "encoder_lstm1 = LSTM(hidden_size, return_sequences=True, return_state=True ,dropout = 0.4, recurrent_dropout = 0.4)\n",
    "encoder_output1, state_h1, state_c1 = encoder_lstm1(enc_emb)\n",
    "\n",
    "# 인코더의 LSTM 2\n",
    "encoder_lstm2 = LSTM(hidden_size, return_sequences=True, return_state=True, dropout=0.4, recurrent_dropout=0.4)\n",
    "encoder_output2, state_h2, state_c2 = encoder_lstm2(encoder_output1)\n",
    "\n",
    "# 인코더의 LSTM 3\n",
    "encoder_lstm3 = LSTM(hidden_size, return_state=True, return_sequences=True, dropout=0.4, recurrent_dropout=0.4)\n",
    "encoder_outputs, state_h, state_c= encoder_lstm3(encoder_output2)\n",
    "    \n",
    "# 디코더 설계\n",
    "decoder_inputs = Input(shape=(None,))\n",
    "\n",
    "# 디코더의 임베딩 층\n",
    "dec_emb_layer = Embedding(tar_vocab, embedding_dim)\n",
    "dec_emb = dec_emb_layer(decoder_inputs)\n",
    "\n",
    "# 디코더의 LSTM\n",
    "decoder_lstm = LSTM(hidden_size, return_sequences=True, return_state=True, dropout=0.4, recurrent_dropout=0.2)\n",
    "decoder_outputs, _, _ = decoder_lstm(dec_emb, initial_state=[state_h, state_c])\n",
    "\n",
    "# 어텐션 층(어텐션 함수)\n",
    "attn_layer = AttentionLayer(name='attention_layer')\n",
    "# 인코더와 디코더의 모든 time step의 hidden state를 어텐션 층에 전달하고 결과를 리턴\n",
    "attn_out, attn_states = attn_layer([encoder_outputs, decoder_outputs])\n",
    "\n",
    "# 어텐션의 결과와 디코더의 hidden state들을 연결\n",
    "decoder_concat_input = Concatenate(axis=-1, name='concat_layer')([decoder_outputs, attn_out])\n",
    "\n",
    "# 디코더의 출력층\n",
    "decoder_softmax_layer = Dense(tar_vocab, activation='softmax')\n",
    "decoder_softmax_outputs = decoder_softmax_layer(decoder_concat_input)\n",
    "    \n",
    "# 모델 정의\n",
    "loaded_model = Model([encoder_inputs, decoder_inputs], decoder_softmax_outputs)\n",
    "'''"
   ]
  },
  {
   "cell_type": "code",
   "execution_count": 248,
   "id": "ruled-manhattan",
   "metadata": {
    "scrolled": false
   },
   "outputs": [
    {
     "name": "stdout",
     "output_type": "stream",
     "text": [
      "WARNING:tensorflow:Layer lstm will not use cuDNN kernel since it doesn't meet the cuDNN kernel criteria. It will use generic GPU kernel as fallback when running on GPU\n",
      "WARNING:tensorflow:Layer lstm_1 will not use cuDNN kernel since it doesn't meet the cuDNN kernel criteria. It will use generic GPU kernel as fallback when running on GPU\n",
      "WARNING:tensorflow:Layer lstm_2 will not use cuDNN kernel since it doesn't meet the cuDNN kernel criteria. It will use generic GPU kernel as fallback when running on GPU\n",
      "WARNING:tensorflow:Layer lstm_3 will not use cuDNN kernel since it doesn't meet the cuDNN kernel criteria. It will use generic GPU kernel as fallback when running on GPU\n",
      "WARNING:tensorflow:No training configuration found in save file, so the model was *not* compiled. Compile it manually.\n"
     ]
    }
   ],
   "source": [
    "loaded_model = tf.keras.models.load_model('saved_model/E10')"
   ]
  },
  {
   "cell_type": "code",
   "execution_count": 250,
   "id": "robust-murray",
   "metadata": {},
   "outputs": [],
   "source": [
    "# 재사용할 layer 불러오기\n",
    "\n",
    "#encoder\n",
    "\n",
    "encoder_inputs = loaded_model.input[0] #input\n",
    "enc_emb = loaded_model.layers[1](encoder_inputs)\n",
    "# 인코더의 LSTM 1\n",
    "encoder_lstm1 = loaded_model.layers[2]\n",
    "encoder_output1, state_h1, state_c1 = encoder_lstm1(enc_emb)\n",
    "# 인코더의 LSTM 2\n",
    "encoder_lstm2 = loaded_model.layers[4]\n",
    "encoder_output2, state_h2, state_c2 = encoder_lstm2(encoder_output1)\n",
    "# 인코더의 LSTM 3\n",
    "encoder_lstm3 = loaded_model.layers[6]\n",
    "encoder_outputs, state_h, state_c= encoder_lstm3(encoder_output2)\n",
    "\n",
    "#encoder_outputs, state_h, state_c = loaded_model.layers[6].output #lstm_3(encoder-ends)\n",
    "\n",
    "\n",
    "#decoder\n",
    "decoder_inputs = loaded_model.input[1] #input\n",
    "dec_emb_layer = loaded_model.layers[5]\n",
    "dec_emb = dec_emb_layer(decoder_inputs)\n",
    "# 디코더의 LSTM\n",
    "decoder_lstm = loaded_model.layers[7]\n",
    "decoder_outputs, _, _ = decoder_lstm(dec_emb, initial_state=[state_h, state_c])\n",
    "\n",
    "#Attention\n",
    "attn_layer = loaded_model.layers[8]\n",
    "attn_out, attn_states = attn_layer([encoder_outputs, decoder_outputs])\n",
    "\n",
    "#Concatenate\n",
    "decoder_concat_input = Concatenate(axis=-1, name='concat_layer')([decoder_outputs, attn_out])\n",
    "\n",
    "# 디코더의 출력층\n",
    "decoder_softmax_layer = loaded_model.layers[10]\n",
    "decoder_softmax_outputs = decoder_softmax_layer(decoder_concat_input)"
   ]
  },
  {
   "cell_type": "code",
   "execution_count": 251,
   "id": "moderate-civilian",
   "metadata": {},
   "outputs": [
    {
     "data": {
      "text/plain": [
       "[<tensorflow.python.keras.engine.input_layer.InputLayer at 0x7f2a36354610>,\n",
       " <tensorflow.python.keras.layers.embeddings.Embedding at 0x7f2a305fbc10>,\n",
       " <tensorflow.python.keras.layers.recurrent_v2.LSTM at 0x7f2a35e6ef90>,\n",
       " <tensorflow.python.keras.engine.input_layer.InputLayer at 0x7f2a35f342d0>,\n",
       " <tensorflow.python.keras.layers.recurrent_v2.LSTM at 0x7f2a35e6fb10>,\n",
       " <tensorflow.python.keras.layers.embeddings.Embedding at 0x7f2a340183d0>,\n",
       " <tensorflow.python.keras.layers.recurrent_v2.LSTM at 0x7f2a3294ee50>,\n",
       " <tensorflow.python.keras.layers.recurrent_v2.LSTM at 0x7f2bb074a510>,\n",
       " <tensorflow.python.keras.saving.saved_model.load.AttentionLayer at 0x7f2a361e7f50>,\n",
       " <tensorflow.python.keras.layers.merge.Concatenate at 0x7f2a33eeced0>,\n",
       " <tensorflow.python.keras.layers.core.Dense at 0x7f2a32a78d90>]"
      ]
     },
     "execution_count": 251,
     "metadata": {},
     "output_type": "execute_result"
    }
   ],
   "source": [
    "loaded_model.layers"
   ]
  },
  {
   "cell_type": "code",
   "execution_count": 252,
   "id": "pleased-chain",
   "metadata": {},
   "outputs": [
    {
     "name": "stdout",
     "output_type": "stream",
     "text": [
      "Model: \"model_1\"\n",
      "__________________________________________________________________________________________________\n",
      "Layer (type)                    Output Shape         Param #     Connected to                     \n",
      "==================================================================================================\n",
      "input_1 (InputLayer)            [(None, 50)]         0                                            \n",
      "__________________________________________________________________________________________________\n",
      "embedding (Embedding)           (None, 50, 128)      1024000     input_1[0][0]                    \n",
      "__________________________________________________________________________________________________\n",
      "lstm (LSTM)                     [(None, 50, 256), (N 394240      embedding[0][0]                  \n",
      "__________________________________________________________________________________________________\n",
      "input_2 (InputLayer)            [(None, None)]       0                                            \n",
      "__________________________________________________________________________________________________\n",
      "lstm_1 (LSTM)                   [(None, 50, 256), (N 525312      lstm[0][0]                       \n",
      "__________________________________________________________________________________________________\n",
      "embedding_1 (Embedding)         (None, None, 128)    256000      input_2[0][0]                    \n",
      "__________________________________________________________________________________________________\n",
      "lstm_2 (LSTM)                   [(None, 50, 256), (N 525312      lstm_1[0][0]                     \n",
      "__________________________________________________________________________________________________\n",
      "lstm_3 (LSTM)                   [(None, None, 256),  394240      embedding_1[0][0]                \n",
      "                                                                 lstm_2[0][1]                     \n",
      "                                                                 lstm_2[0][2]                     \n",
      "__________________________________________________________________________________________________\n",
      "attention_layer (AttentionLayer ((None, None, 256),  131328      lstm_2[0][0]                     \n",
      "                                                                 lstm_3[0][0]                     \n",
      "__________________________________________________________________________________________________\n",
      "concat_layer (Concatenate)      (None, None, 512)    0           lstm_3[0][0]                     \n",
      "                                                                 attention_layer[0][0]            \n",
      "__________________________________________________________________________________________________\n",
      "dense_1 (Dense)                 (None, None, 2000)   1026000     concat_layer[0][0]               \n",
      "==================================================================================================\n",
      "Total params: 4,276,432\n",
      "Trainable params: 4,276,432\n",
      "Non-trainable params: 0\n",
      "__________________________________________________________________________________________________\n"
     ]
    }
   ],
   "source": [
    "loaded_model.summary()"
   ]
  },
  {
   "cell_type": "code",
   "execution_count": 247,
   "id": "alien-blocking",
   "metadata": {},
   "outputs": [
    {
     "ename": "AttributeError",
     "evalue": "'Functional' object has no attribute 'evalutate'",
     "output_type": "error",
     "traceback": [
      "\u001b[0;31m---------------------------------------------------------------------------\u001b[0m",
      "\u001b[0;31mAttributeError\u001b[0m                            Traceback (most recent call last)",
      "\u001b[0;32m<ipython-input-247-f16051059c77>\u001b[0m in \u001b[0;36m<module>\u001b[0;34m\u001b[0m\n\u001b[0;32m----> 1\u001b[0;31m \u001b[0mloaded_model\u001b[0m\u001b[0;34m.\u001b[0m\u001b[0mevalutate\u001b[0m\u001b[0;34m(\u001b[0m\u001b[0;34m)\u001b[0m\u001b[0;34m\u001b[0m\u001b[0;34m\u001b[0m\u001b[0m\n\u001b[0m",
      "\u001b[0;31mAttributeError\u001b[0m: 'Functional' object has no attribute 'evalutate'"
     ]
    }
   ],
   "source": [
    "loaded_model.evalutate()"
   ]
  },
  {
   "cell_type": "markdown",
   "id": "acceptable-throw",
   "metadata": {},
   "source": [
    "### 추론 모델 구현하기"
   ]
  },
  {
   "cell_type": "markdown",
   "id": "transparent-asthma",
   "metadata": {},
   "source": [
    "Inference model 구현"
   ]
  },
  {
   "cell_type": "markdown",
   "id": "infrared-memorial",
   "metadata": {},
   "source": [
    "정수 인덱스로 얻어진 텍스트 데이터를 원본으로 돌리기 위해서 정의"
   ]
  },
  {
   "cell_type": "code",
   "execution_count": 253,
   "id": "physical-rainbow",
   "metadata": {},
   "outputs": [],
   "source": [
    "src_index_to_word = src_tokenizer.index_word # 원문 단어 집합에서 정수 -> 단어를 얻음\n",
    "tar_word_to_index = tar_tokenizer.word_index # 요약 단어 집합에서 단어 -> 정수를 얻음\n",
    "tar_index_to_word = tar_tokenizer.index_word # 요약 단어 집합에서 정수 -> 단어를 얻음"
   ]
  },
  {
   "cell_type": "markdown",
   "id": "royal-palmer",
   "metadata": {},
   "source": [
    "정답 문장이 없어 만들어 낼 문장의 길이만큼 디코더가 반복 구조로 사용돼야 하므로 인코더 - 디코더를 분리한다."
   ]
  },
  {
   "cell_type": "code",
   "execution_count": 254,
   "id": "connected-engineer",
   "metadata": {},
   "outputs": [],
   "source": [
    "# 인코더 설계\n",
    "encoder_model = Model(inputs=encoder_inputs, outputs=[encoder_outputs, state_h, state_c])\n",
    "\n",
    "# 이전 시점의 상태들을 저장하는 텐서\n",
    "decoder_state_input_h = Input(shape=(hidden_size,))\n",
    "decoder_state_input_c = Input(shape=(hidden_size,))\n",
    "\n",
    "dec_emb2 = dec_emb_layer(decoder_inputs)\n",
    "\n",
    "# 문장의 다음 단어를 예측하기 위해서 초기 상태(initial_state)를 이전 시점의 상태로 사용. 이는 뒤의 함수 decode_sequence()에 구현\n",
    "# 훈련 과정에서와 달리 LSTM의 리턴하는 은닉 상태와 셀 상태인 state_h와 state_c를 버리지 않음.\n",
    "decoder_outputs2, state_h2, state_c2 = decoder_lstm(dec_emb2, initial_state=[decoder_state_input_h, decoder_state_input_c])"
   ]
  },
  {
   "cell_type": "markdown",
   "id": "static-technology",
   "metadata": {},
   "source": [
    "Attention 출력층"
   ]
  },
  {
   "cell_type": "code",
   "execution_count": 255,
   "id": "premium-glance",
   "metadata": {},
   "outputs": [],
   "source": [
    "# 어텐션 함수\n",
    "decoder_hidden_state_input = Input(shape=(text_max_len, hidden_size))\n",
    "attn_out_inf, attn_states_inf = attn_layer([decoder_hidden_state_input, decoder_outputs2])\n",
    "decoder_inf_concat = Concatenate(axis=-1, name='concat')([decoder_outputs2, attn_out_inf])\n",
    "\n",
    "# 디코더의 출력층\n",
    "decoder_outputs2 = decoder_softmax_layer(decoder_inf_concat) \n",
    "\n",
    "# 최종 디코더 모델\n",
    "decoder_model = Model(\n",
    "    [decoder_inputs] + [decoder_hidden_state_input,decoder_state_input_h, decoder_state_input_c],\n",
    "    [decoder_outputs2] + [state_h2, state_c2])"
   ]
  },
  {
   "cell_type": "markdown",
   "id": "sophisticated-clinic",
   "metadata": {},
   "source": [
    "#### inference sequence 생성 함수"
   ]
  },
  {
   "cell_type": "code",
   "execution_count": 256,
   "id": "included-colon",
   "metadata": {},
   "outputs": [],
   "source": [
    "def decode_sequence(input_seq):\n",
    "    # 입력으로부터 인코더의 상태를 얻음\n",
    "    e_out, e_h, e_c = encoder_model.predict(input_seq)\n",
    "\n",
    "     # <SOS>에 해당하는 토큰 생성\n",
    "    target_seq = np.zeros((1,1))\n",
    "    target_seq[0, 0] = tar_word_to_index['sostoken']\n",
    "\n",
    "    stop_condition = False\n",
    "    decoded_sentence = ''\n",
    "    while not stop_condition: # stop_condition이 True가 될 때까지 루프 반복\n",
    "\n",
    "        output_tokens, h, c = decoder_model.predict([target_seq] + [e_out, e_h, e_c])\n",
    "        sampled_token_index = np.argmax(output_tokens[0, -1, :])\n",
    "        sampled_token = tar_index_to_word[sampled_token_index]\n",
    "\n",
    "        if (sampled_token!='eostoken'):\n",
    "            decoded_sentence += ' '+sampled_token\n",
    "\n",
    "        #  <eos>에 도달하거나 최대 길이를 넘으면 중단.\n",
    "        if (sampled_token == 'eostoken'  or len(decoded_sentence.split()) >= (summary_max_len-1)):\n",
    "            stop_condition = True\n",
    "\n",
    "        # 길이가 1인 타겟 시퀀스를 업데이트\n",
    "        target_seq = np.zeros((1,1))\n",
    "        target_seq[0, 0] = sampled_token_index\n",
    "\n",
    "        # 상태를 업데이트 합니다.\n",
    "        e_h, e_c = h, c\n",
    "\n",
    "    return decoded_sentence"
   ]
  },
  {
   "cell_type": "markdown",
   "id": "historic-battlefield",
   "metadata": {},
   "source": [
    "___"
   ]
  },
  {
   "cell_type": "markdown",
   "id": "ordinary-maria",
   "metadata": {},
   "source": [
    "## 4. 모델 테스트"
   ]
  },
  {
   "cell_type": "markdown",
   "id": "prescribed-receipt",
   "metadata": {},
   "source": [
    "정수 sequence 입력을 텍스트 시퀀스로 추출해보자"
   ]
  },
  {
   "cell_type": "code",
   "execution_count": 257,
   "id": "professional-christianity",
   "metadata": {},
   "outputs": [],
   "source": [
    "# 원문의 정수 시퀀스를 텍스트 시퀀스로 변환\n",
    "def seq2text(input_seq):\n",
    "    temp=''\n",
    "    for i in input_seq:\n",
    "        if (i!=0):\n",
    "            temp = temp + src_index_to_word[i]+' '\n",
    "    return temp\n",
    "\n",
    "# 요약문의 정수 시퀀스를 텍스트 시퀀스로 변환\n",
    "def seq2summary(input_seq):\n",
    "    temp=''\n",
    "    for i in input_seq:\n",
    "        if ((i!=0 and i!=tar_word_to_index['sostoken']) and i!=tar_word_to_index['eostoken']):\n",
    "            temp = temp + tar_index_to_word[i] + ' '\n",
    "    return temp"
   ]
  },
  {
   "cell_type": "code",
   "execution_count": 258,
   "id": "permanent-blood",
   "metadata": {},
   "outputs": [
    {
     "name": "stdout",
     "output_type": "stream",
     "text": [
      "원문 : two small doggies love food love benefits nutrition get highly recommended diet dog \n",
      "실제 요약 : doggie lovers food \n",
      "예측 요약 :  jalapeno cheesy cheesy cheesy cheesy extract regular\n",
      "\n",
      "\n",
      "원문 : enjoy tea soda time product clean crisp taste love organic factor tea \n",
      "실제 요약 : of china white tea \n",
      "예측 요약 :  jalapeno cheesy cheesy cheesy extract brew extract\n",
      "\n",
      "\n",
      "원문 : flowers may look little strange taste great mixed champagne afterward \n",
      "실제 요약 : great gift \n",
      "예측 요약 :  jalapeno cheesy cheesy cheesy extract regular regular\n",
      "\n",
      "\n",
      "원문 : go brand flavor since cannot find ramen subscribe save one top drawer choices ramen \n",
      "실제 요약 : great alternative \n",
      "예측 요약 :  jalapeno cheesy cheesy cheesy extract regular regular\n",
      "\n",
      "\n",
      "원문 : second order hidden springs maple syrup continue great price quick mention great syrup stay regular customers \n",
      "실제 요약 : nothing like maple syrup \n",
      "예측 요약 :  jalapeno cheesy cheesy cheesy cheesy extract regular\n",
      "\n",
      "\n",
      "원문 : tried snack pack starbucks well must special cracker mad cuz yes huge box nasty crackers even took work people eat anything cant give away \n",
      "실제 요약 : crackers \n",
      "예측 요약 :  would bitterness smelly ramen ramen primal san\n",
      "\n",
      "\n",
      "원문 : never much soup person unless cold tired cook something fancy heated crumbled tortilla chips top since love mexican food satisfied evening advised progresso discontinued soup thank goodness amazon purchasing \n",
      "실제 요약 : chicken cheese soup please come back \n",
      "예측 요약 :  would bitterness smelly ramen ramen primal san\n",
      "\n",
      "\n",
      "원문 : old mother biscuits true biscuits dogs like would eat whole bag let thing like contain wheat long dog wheat allergy big deal would definitely recommend \n",
      "실제 요약 : my pups them down \n",
      "예측 요약 :  diabetics family england purpose packing without medium\n",
      "\n",
      "\n",
      "원문 : cannot say good kobe steak tastes like package received spoiled greatly dismayed handling expensive delivery try kobe fine restaurant instead home grill \n",
      "실제 요약 : disappointed \n",
      "예측 요약 :  would bitterness smelly ramen ramen primal deceptive\n",
      "\n",
      "\n",
      "원문 : love soup add extra cheese crackers fills love flavors offered especially one tomato basil buy case really like delivered door \n",
      "실제 요약 : love it \n",
      "예측 요약 :  would england bitterness smelly ramen ramen primal\n",
      "\n",
      "\n",
      "원문 : unfortunately flavor peanut butter oil remove tell put water replace end peanut butter end thin slightly peanut flavored stuff buy expect anything else \n",
      "실제 요약 : not for peanut butter \n",
      "예측 요약 :  would bitterness smelly ramen ramen primal san\n",
      "\n",
      "\n",
      "원문 : adore costa rican coffee although absolute favorite brand cheaper others costa rican coffee wonderful still wonderful tropical allow right moisture soil without acidity also generally dark roasted flavor smooth wonderful \n",
      "실제 요약 : worth try \n",
      "예측 요약 :  would lavazza terrific purpose toy tin stix\n",
      "\n",
      "\n",
      "원문 : tea advertised tea tin packaging also excellent condition tea tastes nice like normal english breakfast non string tea bags round instead lovely gift \n",
      "실제 요약 : lovely \n",
      "예측 요약 :  diabetics brilliant then chaser lollipops nature together\n",
      "\n",
      "\n",
      "원문 : good millstone columbian average product average bean quality taste like pods use cheaper lower quality beans \n",
      "실제 요약 : good flavor and average coffee bean quality \n",
      "예측 요약 :  would england bitterness smelly ramen ramen organic\n",
      "\n",
      "\n",
      "원문 : tried many whole grain cereals cannot remember honest many best forgotten kashi easily best kashi many interesting mixture textures black currants magic ingredient cool sweetness bring party makes cereal add little bit silk light vanilla soy milk breakfast bliss \n",
      "실제 요약 : incredibly tasty cereal \n",
      "예측 요약 :  bitterness gourmet kcup jug jug inexpensive condition\n",
      "\n",
      "\n",
      "원문 : son loves maple brown sugar cream wheat offered try quaker maple brown sugar oatmeal jumped chance offer something different huge hit super easy prepare put oatmeal bowl cup milk put microwave one minute ate almost quick made great price box instant oatmeal subscribe save save even cancel change shipment anytime \n",
      "실제 요약 : delicious and easy to prepare \n",
      "예측 요약 :  bitterness prices coffees smooth peggy snacks snacks\n",
      "\n",
      "\n",
      "원문 : haribo best gummi candy love pink grapefruit hard find unless candy store haribo best candy amazon best price \n",
      "실제 요약 : haribo best \n",
      "예측 요약 :  would england bitterness smelly ramen ramen primal\n",
      "\n",
      "\n",
      "원문 : knew could put buffalo wings bag pretzel pieces absolutely wonderful less fattening actual chicken wings less fat yummy yummy yummy \n",
      "실제 요약 : holy hot sauce \n",
      "예측 요약 :  diabetics china filters past taste lemonade lemonade\n",
      "\n",
      "\n",
      "원문 : went gf three months ago slowly researching different mixes find like best happened first mix picked whole foods husband loved much brownies easy mix tasty trying gf brownie mixes found one mixes actually comes mixes like bob red mill cake like definitely recommend mix \n",
      "실제 요약 : great gluten free brownies \n",
      "예측 요약 :  bitterness prices coffees smooth canidae mm addictive\n",
      "\n",
      "\n",
      "원문 : like crispbreads convenient shipped door price less local supermarket sometimes shipper around amazon shipping department puts air shipping carton way product move around box maybe two three edges carton gets edges crackers stay intact shipper box edges crackers crumble six edges would work better \n",
      "실제 요약 : crackers vs cracker crumbs \n",
      "예측 요약 :  bitterness keeps oat kashi superb online kitchen\n",
      "\n",
      "\n",
      "원문 : great tasting low fat product available supermarkets area favorite salt pepper product right always skeptical soy based snacks regarding taste salt pepper variety bbq fit bill \n",
      "실제 요약 : great low fat snack \n",
      "예측 요약 :  diabetics brilliant then cheap us us pg\n",
      "\n",
      "\n",
      "원문 : tastes amazingly great vanilla flavor definitely best chai probably best one comes top list \n",
      "실제 요약 : delicious \n",
      "예측 요약 :  jalapeno cheesy cheesy cheesy extract brew extract\n",
      "\n",
      "\n",
      "원문 : tea disappoint new favorite love light flavorful quality continue buy price cannot beat amazon free shipping fast delivery \n",
      "실제 요약 : my new favorite \n",
      "예측 요약 :  would england bitterness smelly ramen ramen primal\n",
      "\n",
      "\n",
      "원문 : sure authentic cosmic catnip lot larger bits stems coarse material cats loved stuff gotten small sample local pet store thought would great idea get larger size catnip cats barely like stuff even hurts fingers pinch release aroma would recommend oz size \n",
      "실제 요약 : not the same as store bought \n",
      "예측 요약 :  bitterness keeps then wellness together totally tender\n",
      "\n",
      "\n",
      "원문 : excellent product bought price doubled price guess skim better anyway living country immediate access grocery stores shelf stable milk life saver keep least one refrigerator times \n",
      "실제 요약 : bought instead of \n",
      "예측 요약 :  would lavazza terrific england purpose toy stix\n",
      "\n",
      "\n",
      "원문 : husband loves drink keep pitcher fridge year round nice able buy quart size mix little light scoops per quarts water \n",
      "실제 요약 : this is great size \n",
      "예측 요약 :  would useful serving useful serving this superior\n",
      "\n",
      "\n",
      "원문 : chihuahua pomeranian get excited bring teenie dental chews meal hope always stock buy frequently seems help reduce tartar teeth exceptionally high protein unlike treats \n",
      "실제 요약 : my dogs go crazy for greenies \n",
      "예측 요약 :  diabetics family england purpose packing sold cold\n",
      "\n",
      "\n",
      "원문 : greatest way make tea since tea pots great products way \n",
      "실제 요약 : great tea and fast way to have it \n",
      "예측 요약 :  jalapeno cheesy cheesy cheesy extract regular regular\n",
      "\n",
      "\n",
      "원문 : nuts fresh would give stars could known given sit warehouse till get bought definitely stay away would returned opened already \n",
      "실제 요약 : not fresh at all \n",
      "예측 요약 :  would england bitterness smelly ramen ramen organic\n",
      "\n",
      "\n",
      "원문 : tried gluten free breads crumble try make sandwich tried brand moist easy cut kept fridge week stayed good last piece worked great bread machine look forward trying variations pizza crust \n",
      "실제 요약 : this is good \n",
      "예측 요약 :  diabetics dispenser dispenser dispenser seeds thick ew\n",
      "\n",
      "\n",
      "원문 : disgusting cup ever tasted instant coffee tasted better zero chocolate flavor even worse coffee would recommend one even bother trying \n",
      "실제 요약 : worst cup of them all \n",
      "예측 요약 :  jalapeno cheesy cheesy cheesy extract regular regular\n",
      "\n",
      "\n",
      "원문 : absolutely fantastic rich smooth love much wish could get locally hopefully get stock great taste quality perfect \n",
      "실제 요약 : delicious \n",
      "예측 요약 :  jalapeno cheesy cheesy cheesy extract regular regular\n",
      "\n",
      "\n",
      "원문 : first ounce bag wonderful tea almost back beautiful red color tastes like fresh strawberries cares kiwi party mouth due strawberries one favorite harney sons tea add honey sugar like tea little tart like tart herbal tea like great drink day makes nice iced tea \n",
      "실제 요약 : sons fine teas strawberry kiwi fruit tea \n"
     ]
    },
    {
     "name": "stdout",
     "output_type": "stream",
     "text": [
      "예측 요약 :  versatile usa then versatile emerald own cookie\n",
      "\n",
      "\n",
      "원문 : little salt pepper olive oil couple tbs curry roast min degrees perfect \n",
      "실제 요약 : roasted \n",
      "예측 요약 :  jalapeno cheesy cheesy cheesy extract regular regular\n",
      "\n",
      "\n",
      "원문 : love taste good flavor crunchy different normal pork rinds yummy would definately buy great buy also \n",
      "실제 요약 : crunchy \n",
      "예측 요약 :  would england bitterness smelly ramen ramen primal\n",
      "\n",
      "\n",
      "원문 : tasty snack seen last two years nyc found online definitely order \n",
      "실제 요약 : pretzels \n",
      "예측 요약 :  jalapeno cheesy cheesy cheesy extract regular regular\n",
      "\n",
      "\n",
      "원문 : delicious granola bars ever loved healthy good taste light enough filling perfect snack breakfast go \n",
      "실제 요약 : delicious \n",
      "예측 요약 :  jalapeno cheesy cheesy cheesy extract regular regular\n",
      "\n",
      "\n",
      "원문 : spice tricky get good quality one arrived quick flavors spot use marinate fish chicken grill love \n",
      "실제 요약 : great spice at good price \n",
      "예측 요약 :  would england bitterness smelly ramen ramen organic\n",
      "\n",
      "\n",
      "원문 : tried rub steak ounces bottles using dry rub steaks party weeks ago guests impressed flavor also tried fish wow tasted great trying everything love stuff \n",
      "실제 요약 : not just seasoning salt \n",
      "예측 요약 :  would bitterness smelly ramen ramen gritty community\n",
      "\n",
      "\n",
      "원문 : give month old chihuahua puppy really loves eats food seems happy food fact one cats also enjoy trying dog seems thriving \n",
      "실제 요약 : chihuahua puppy approved \n",
      "예측 요약 :  jalapeno cheesy cheesy cheesy extract brew extract\n",
      "\n",
      "\n",
      "원문 : crackers broken crumbs felt like wasted money buying \n",
      "실제 요약 : not happy with this product \n",
      "예측 요약 :  jalapeno cheesy cheesy cheesy extract regular regular\n",
      "\n",
      "\n",
      "원문 : agree previous review much oatmeal cookie cannot really taste see much oatmeal however really good tasting chocolate chip cookie bad gave stars took long time receive concern heat oatmeal chocolate chips wants good tasting chocolate chip cookie little taste oatmeal cookie \n",
      "실제 요약 : not bad okay \n",
      "예측 요약 :  bitterness pricey healthiest staple solid drinks miss\n",
      "\n",
      "\n",
      "원문 : taste fine bit bland also noted tea leaf pieces larger teabag crumbs certainly whole leaf drink since like mellow white tea warm though appreciate organic tea offering find amazon might try cheaper version organic white tea next usual teabag crumbs since whole leaf anyways \n",
      "실제 요약 : ok but not whole leaf tea \n",
      "예측 요약 :  bitterness prices coffees offer texture texture one\n",
      "\n",
      "\n",
      "원문 : breastfeeding twins wanted little help milk production used days saw significant increase notice side effects take really high doses either able produce enough twins months without needing supplements went little production lot producing lot milk begin fenugreek helped increase enough supplement formula untill months \n",
      "실제 요약 : worked awesome for milk production \n",
      "예측 요약 :  sushi macadamia salty amazingly cheese amazingly going\n",
      "\n",
      "\n",
      "원문 : sauce right combination sweet spicy mild heat perfect using family spicy overpowered way brands grilled pineapple jerk turkey burgers love trouble finding small town stores go internet worth \n",
      "실제 요약 : love this sauce \n",
      "예측 요약 :  bitterness smelly ramen ramen gritty community waste\n",
      "\n",
      "\n",
      "원문 : cappuccino good cups box expensive still add sugar much happier iced cappuccino make hot instead cold right amount sweetener perfect unfortunately apparently available darn \n",
      "실제 요약 : pricey but good \n",
      "예측 요약 :  would england bitterness smelly ramen ramen organic\n",
      "\n",
      "\n",
      "원문 : dog absolutely loves treats turned quick knowing reward must buy \n",
      "실제 요약 : perfect for training \n",
      "예측 요약 :  jalapeno cheesy cheesy cheesy extract regular regular\n",
      "\n",
      "\n",
      "원문 : okay love orange fingers buy something healthier good tasting even going mention orange fingers oh wait taste good satisfying bit cheaper hard believe free shipping cannot go wrong sell fortune grocery store \n",
      "실제 요약 : delicious \n",
      "예측 요약 :  would lavazza terrific purpose toy together since\n",
      "\n",
      "\n",
      "원문 : truly enjoyed product right blend spice tastes well taco snacks recommend person likes little spice life \n",
      "실제 요약 : very tasty and perfect for tacos with \n",
      "예측 요약 :  would england bitterness smelly ramen ramen organic\n",
      "\n",
      "\n",
      "원문 : first purchased root beer drops local candy store since gone business pleased available amazon simple root beer drop additions wrappers pure pleasure taken course moderation john california \n",
      "실제 요약 : pleasure \n",
      "예측 요약 :  would bitterness smelly ramen ramen primal san\n",
      "\n",
      "\n"
     ]
    }
   ],
   "source": [
    "for i in range(50, 100):\n",
    "    print(\"원문 :\", seq2text(encoder_input_test[i]))\n",
    "    print(\"실제 요약 :\", seq2summary(decoder_input_test[i]))\n",
    "    print(\"예측 요약 :\", decode_sequence(encoder_input_test[i].reshape(1, text_max_len)))\n",
    "    print(\"\\n\")"
   ]
  },
  {
   "cell_type": "markdown",
   "id": "complicated-thinking",
   "metadata": {},
   "source": [
    "## 추출적 요약 해보기"
   ]
  },
  {
   "cell_type": "code",
   "execution_count": 65,
   "id": "white-interval",
   "metadata": {},
   "outputs": [],
   "source": [
    "import requests\n",
    "from summa.summarizer import summarize"
   ]
  },
  {
   "cell_type": "code",
   "execution_count": 66,
   "id": "shared-prerequisite",
   "metadata": {},
   "outputs": [],
   "source": [
    "text = requests.get('http://rare-technologies.com/the_matrix_synopsis.txt').text"
   ]
  },
  {
   "cell_type": "code",
   "execution_count": 67,
   "id": "miniature-olympus",
   "metadata": {
    "scrolled": true
   },
   "outputs": [
    {
     "name": "stdout",
     "output_type": "stream",
     "text": [
      "The screen is filled with green, cascading code which gives way to the title, The Matrix.\r\n",
      "\r\n",
      "A phone rings and text appears on the screen: \"Call trans opt: received. 2-19-98 13:24:18 REC: Log>\" As a conversation takes place between Trinity (Carrie-Anne Moss) and Cypher (Joe Pantoliano), two free humans, a table of random green numbers are being scanned and individual numbers selected, creating a series of digits not unlike an ordinary phone number, as if a code is being deciphered or a call is being traced.\r\n",
      "\r\n",
      "Trinity discusses some unknown person. Cypher taunts Trinity, suggesting she enjoys watching him. Trinity counters that \"Morpheus (Laurence Fishburne) says he may be 'the One',\" just as the sound of a number being selected alerts Trinity that someone may be tracing their call. She ends the call.\r\n",
      "\r\n",
      "Armed policemen move down a darkened, decrepit hallway in the Heart O' the City Hotel, their flashlight beam bouncing just ahead of them. They come to room 303, kick down the door and find a woman dressed in black, facing away from them. It's Trinity. She brings her hands up from the laptop she's working on at their command.\r\n",
      "\r\n",
      "Outside the hotel a car drives up and three agents appear in neatly pressed black suits. They are Agent Smith (Hugo Weaving), Agent Brown (Paul Goddard), and Agent Jones (Robert Taylor). Agent Smith and the presiding police lieutenant argue. Agent Smith admonishes the policeman that they were given specific orders to contact the agents first, for their\n"
     ]
    }
   ],
   "source": [
    "print(text[:1500])"
   ]
  },
  {
   "cell_type": "markdown",
   "id": "portuguese-dover",
   "metadata": {},
   "source": [
    "미리 토큰화하지 않아도 알아서 진행"
   ]
  },
  {
   "cell_type": "code",
   "execution_count": 68,
   "id": "split-workshop",
   "metadata": {},
   "outputs": [
    {
     "name": "stdout",
     "output_type": "stream",
     "text": [
      "Summary:\n",
      "Morpheus, Trinity, Neo, Apoc, Switch, Mouse and Cypher are jacked into the Matrix.\n",
      "Trinity brings the helicopter down to the floor that Morpheus is on and Neo opens fire on the three Agents.\n"
     ]
    }
   ],
   "source": [
    "print('Summary:')\n",
    "print(summarize(text, ratio=0.005))"
   ]
  },
  {
   "cell_type": "markdown",
   "id": "superb-furniture",
   "metadata": {},
   "source": [
    "결과 split"
   ]
  },
  {
   "cell_type": "code",
   "execution_count": 69,
   "id": "chronic-planning",
   "metadata": {},
   "outputs": [
    {
     "name": "stdout",
     "output_type": "stream",
     "text": [
      "Summary:\n",
      "['Morpheus, Trinity, Neo, Apoc, Switch, Mouse and Cypher are jacked into the Matrix.', 'Trinity brings the helicopter down to the floor that Morpheus is on and Neo opens fire on the three Agents.']\n"
     ]
    }
   ],
   "source": [
    "print('Summary:')\n",
    "print(summarize(text, ratio=0.005, split=True))"
   ]
  },
  {
   "cell_type": "markdown",
   "id": "daily-banner",
   "metadata": {},
   "source": [
    "단어 요약"
   ]
  },
  {
   "cell_type": "code",
   "execution_count": 71,
   "id": "optimum-thailand",
   "metadata": {},
   "outputs": [
    {
     "name": "stdout",
     "output_type": "stream",
     "text": [
      "Summary:\n",
      "Trinity takes Neo to Morpheus.\n",
      "Morpheus, Trinity, Neo, Apoc, Switch, Mouse and Cypher are jacked into the Matrix.\n",
      "Trinity brings the helicopter down to the floor that Morpheus is on and Neo opens fire on the three Agents.\n"
     ]
    }
   ],
   "source": [
    "print('Summary:')\n",
    "print(summarize(text, words=50))"
   ]
  },
  {
   "cell_type": "code",
   "execution_count": null,
   "id": "purple-london",
   "metadata": {},
   "outputs": [],
   "source": []
  },
  {
   "cell_type": "code",
   "execution_count": null,
   "id": "talented-component",
   "metadata": {},
   "outputs": [],
   "source": []
  },
  {
   "cell_type": "code",
   "execution_count": null,
   "id": "associate-ebony",
   "metadata": {},
   "outputs": [],
   "source": []
  }
 ],
 "metadata": {
  "kernelspec": {
   "display_name": "Python 3",
   "language": "python",
   "name": "python3"
  },
  "language_info": {
   "codemirror_mode": {
    "name": "ipython",
    "version": 3
   },
   "file_extension": ".py",
   "mimetype": "text/x-python",
   "name": "python",
   "nbconvert_exporter": "python",
   "pygments_lexer": "ipython3",
   "version": "3.7.9"
  }
 },
 "nbformat": 4,
 "nbformat_minor": 5
}
