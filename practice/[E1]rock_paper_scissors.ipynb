{
 "cells": [
  {
   "cell_type": "code",
   "execution_count": 1,
   "source": [
    "import tensorflow as tf\r\n",
    "from tensorflow import keras\r\n",
    "\r\n",
    "import numpy as np\r\n",
    "import matplotlib.pyplot as plt\r\n",
    "\r\n",
    "print(tf.__version__)   # Tensorflow의 버전을 출력\r\n",
    "\r\n",
    "mnist = keras.datasets.mnist\r\n",
    "\r\n",
    "# MNIST 데이터를 로드. 다운로드하지 않았다면 다운로드까지 자동으로 진행됩니다. \r\n",
    "(x_train, y_train), (x_test, y_test) = mnist.load_data()   \r\n",
    "\r\n",
    "print(len(x_train))  # x_train 배열의 크기를 출력\r\n",
    "print(len(x_test))"
   ],
   "outputs": [
    {
     "output_type": "stream",
     "name": "stdout",
     "text": [
      "2.4.1\n",
      "60000\n",
      "10000\n"
     ]
    }
   ],
   "metadata": {}
  },
  {
   "cell_type": "markdown",
   "source": [
    "### x, y??"
   ],
   "metadata": {}
  },
  {
   "cell_type": "code",
   "execution_count": 2,
   "source": [
    "plt.imshow(x_train[1],cmap=plt.cm.binary) # plt imshow : bgr , cmap = plt.cm.binary : gray scale . cmap = 'gray'도 동일\r\n",
    "plt.show()"
   ],
   "outputs": [
    {
     "output_type": "display_data",
     "data": {
      "image/png": "[encoded data removed]",
      "text/plain": [
       "<Figure size 432x288 with 1 Axes>"
      ]
     },
     "metadata": {
      "needs_background": "light"
     }
    }
   ],
   "metadata": {}
  },
  {
   "cell_type": "code",
   "execution_count": 3,
   "source": [
    "print(y_train[1]) #label"
   ],
   "outputs": [
    {
     "output_type": "stream",
     "name": "stdout",
     "text": [
      "0\n"
     ]
    }
   ],
   "metadata": {}
  },
  {
   "cell_type": "code",
   "execution_count": 4,
   "source": [
    "# index에 0에서 59999 사이 숫자를 지정해 보세요.\r\n",
    "index=59999     \r\n",
    "plt.imshow(x_train[index],cmap=plt.cm.binary)\r\n",
    "plt.show()\r\n",
    "print( (index+1), '번째 이미지의 숫자는 바로 ',  y_train[index], '입니다.')"
   ],
   "outputs": [
    {
     "output_type": "display_data",
     "data": {
      "image/png": "[encoded data removed]",
      "text/plain": [
       "<Figure size 432x288 with 1 Axes>"
      ]
     },
     "metadata": {
      "needs_background": "light"
     }
    },
    {
     "output_type": "stream",
     "name": "stdout",
     "text": [
      "60000 번째 이미지의 숫자는 바로  8 입니다.\n"
     ]
    }
   ],
   "metadata": {}
  },
  {
   "cell_type": "code",
   "execution_count": 5,
   "source": [
    "print(x_train.shape) #train datasets size : 28X28 , 60000"
   ],
   "outputs": [
    {
     "output_type": "stream",
     "name": "stdout",
     "text": [
      "(60000, 28, 28)\n"
     ]
    }
   ],
   "metadata": {}
  },
  {
   "cell_type": "code",
   "execution_count": 6,
   "source": [
    "print(x_test.shape) #test datasets size : 28X28 , 10000"
   ],
   "outputs": [
    {
     "output_type": "stream",
     "name": "stdout",
     "text": [
      "(10000, 28, 28)\n"
     ]
    }
   ],
   "metadata": {}
  },
  {
   "cell_type": "code",
   "execution_count": 7,
   "source": [
    "print('최소값:',np.min(x_train), ' 최대값:',np.max(x_train))"
   ],
   "outputs": [
    {
     "output_type": "stream",
     "name": "stdout",
     "text": [
      "최소값: 0  최대값: 255\n"
     ]
    }
   ],
   "metadata": {}
  },
  {
   "cell_type": "markdown",
   "source": [
    "### When you wanna train your own model, then it would be better to nomalize input datas. (only input!!!)"
   ],
   "metadata": {}
  },
  {
   "cell_type": "code",
   "execution_count": 8,
   "source": [
    "x_train_norm, x_test_norm = x_train / 255.0, x_test / 255.0\r\n",
    "print('최소값:',np.min(x_train_norm), ' 최대값:',np.max(x_train_norm))"
   ],
   "outputs": [
    {
     "output_type": "stream",
     "name": "stdout",
     "text": [
      "최소값: 0.0  최대값: 1.0\n"
     ]
    }
   ],
   "metadata": {}
  },
  {
   "cell_type": "markdown",
   "source": [
    "### LeNet using keras"
   ],
   "metadata": {}
  },
  {
   "cell_type": "code",
   "execution_count": 9,
   "source": [
    "model=keras.models.Sequential()\r\n",
    "model.add(keras.layers.Conv2D(16, (3,3), activation='relu', input_shape=(28,28,1))) #filter , kernel\r\n",
    "model.add(keras.layers.MaxPool2D(2,2))\r\n",
    "model.add(keras.layers.Conv2D(32, (3,3), activation='relu'))\r\n",
    "model.add(keras.layers.MaxPooling2D((2,2)))\r\n",
    "model.add(keras.layers.Flatten())\r\n",
    "model.add(keras.layers.Dense(32, activation='relu'))\r\n",
    "model.add(keras.layers.Dense(10, activation='softmax')) # number of class.y \r\n",
    "\r\n",
    "print('Model에 추가된 Layer 개수: ', len(model.layers))"
   ],
   "outputs": [
    {
     "output_type": "stream",
     "name": "stdout",
     "text": [
      "Model에 추가된 Layer 개수:  7\n"
     ]
    }
   ],
   "metadata": {}
  },
  {
   "cell_type": "code",
   "execution_count": 10,
   "source": [
    "model.summary()"
   ],
   "outputs": [
    {
     "output_type": "stream",
     "name": "stdout",
     "text": [
      "Model: \"sequential\"\n",
      "_________________________________________________________________\n",
      "Layer (type)                 Output Shape              Param #   \n",
      "=================================================================\n",
      "conv2d (Conv2D)              (None, 26, 26, 16)        160       \n",
      "_________________________________________________________________\n",
      "max_pooling2d (MaxPooling2D) (None, 13, 13, 16)        0         \n",
      "_________________________________________________________________\n",
      "conv2d_1 (Conv2D)            (None, 11, 11, 32)        4640      \n",
      "_________________________________________________________________\n",
      "max_pooling2d_1 (MaxPooling2 (None, 5, 5, 32)          0         \n",
      "_________________________________________________________________\n",
      "flatten (Flatten)            (None, 800)               0         \n",
      "_________________________________________________________________\n",
      "dense (Dense)                (None, 32)                25632     \n",
      "_________________________________________________________________\n",
      "dense_1 (Dense)              (None, 10)                330       \n",
      "=================================================================\n",
      "Total params: 30,762\n",
      "Trainable params: 30,762\n",
      "Non-trainable params: 0\n",
      "_________________________________________________________________\n"
     ]
    }
   ],
   "metadata": {}
  },
  {
   "cell_type": "markdown",
   "source": [
    "### Train the model"
   ],
   "metadata": {}
  },
  {
   "cell_type": "code",
   "execution_count": 11,
   "source": [
    "print(\"Before Reshape - x_train_norm shape: {}\".format(x_train_norm.shape))\r\n",
    "print(\"Before Reshape - x_test_norm shape: {}\".format(x_test_norm.shape))\r\n",
    "\r\n",
    "x_train_reshaped=x_train_norm.reshape( -1, 28, 28, 1)  # 데이터갯수에 -1을 쓰면 reshape시 자동계산됩니다.\r\n",
    "x_test_reshaped=x_test_norm.reshape( -1, 28, 28, 1)\r\n",
    "\r\n",
    "print(\"After Reshape - x_train_reshaped shape: {}\".format(x_train_reshaped.shape))\r\n",
    "print(\"After Reshape - x_test_reshaped shape: {}\".format(x_test_reshaped.shape))"
   ],
   "outputs": [
    {
     "output_type": "stream",
     "name": "stdout",
     "text": [
      "Before Reshape - x_train_norm shape: (60000, 28, 28)\n",
      "Before Reshape - x_test_norm shape: (10000, 28, 28)\n",
      "After Reshape - x_train_reshaped shape: (60000, 28, 28, 1)\n",
      "After Reshape - x_test_reshaped shape: (10000, 28, 28, 1)\n"
     ]
    }
   ],
   "metadata": {}
  },
  {
   "cell_type": "code",
   "execution_count": 12,
   "source": [
    "model.compile(optimizer='adam',\r\n",
    "             loss='sparse_categorical_crossentropy',\r\n",
    "             metrics=['accuracy'])\r\n",
    "\r\n",
    "model.fit(x_train_reshaped, y_train, epochs=10) #epoch : train times   , epoch : underfitting , overfitting"
   ],
   "outputs": [
    {
     "output_type": "stream",
     "name": "stdout",
     "text": [
      "Epoch 1/10\n",
      "1875/1875 [==============================] - 9s 3ms/step - loss: 0.4101 - accuracy: 0.8749\n",
      "Epoch 2/10\n",
      "1875/1875 [==============================] - 6s 3ms/step - loss: 0.0671 - accuracy: 0.9796\n",
      "Epoch 3/10\n",
      "1875/1875 [==============================] - 5s 3ms/step - loss: 0.0485 - accuracy: 0.9852\n",
      "Epoch 4/10\n",
      "1875/1875 [==============================] - 6s 3ms/step - loss: 0.0386 - accuracy: 0.9877\n",
      "Epoch 5/10\n",
      "1875/1875 [==============================] - 6s 3ms/step - loss: 0.0304 - accuracy: 0.9898\n",
      "Epoch 6/10\n",
      "1875/1875 [==============================] - 5s 3ms/step - loss: 0.0236 - accuracy: 0.9922\n",
      "Epoch 7/10\n",
      "1875/1875 [==============================] - 5s 3ms/step - loss: 0.0197 - accuracy: 0.9934\n",
      "Epoch 8/10\n",
      "1875/1875 [==============================] - 6s 3ms/step - loss: 0.0176 - accuracy: 0.9943\n",
      "Epoch 9/10\n",
      "1875/1875 [==============================] - 5s 3ms/step - loss: 0.0145 - accuracy: 0.9953\n",
      "Epoch 10/10\n",
      "1875/1875 [==============================] - 5s 3ms/step - loss: 0.0102 - accuracy: 0.9969\n"
     ]
    },
    {
     "output_type": "execute_result",
     "data": {
      "text/plain": [
       "<tensorflow.python.keras.callbacks.History at 0x7f372c1e7410>"
      ]
     },
     "metadata": {},
     "execution_count": 12
    }
   ],
   "metadata": {}
  },
  {
   "cell_type": "markdown",
   "source": [
    "#### accuracy is getting increased over epochs"
   ],
   "metadata": {}
  },
  {
   "cell_type": "code",
   "execution_count": 13,
   "source": [
    "test_loss, test_accuracy = model.evaluate(x_test_reshaped,y_test, verbose=1) #verbose : how detailed the output is . [0] :nothing , [1] : progress bar [2]show loss every mini batchs\n",
    "print(\"test_loss: {} \".format(test_loss))\n",
    "print(\"test_accuracy: {}\".format(test_accuracy))"
   ],
   "outputs": [
    {
     "output_type": "stream",
     "name": "stdout",
     "text": [
      "313/313 [==============================] - 2s 5ms/step - loss: 0.0381 - accuracy: 0.9888\n",
      "test_loss: 0.038080498576164246 \n",
      "test_accuracy: 0.9887999892234802\n"
     ]
    }
   ],
   "metadata": {}
  },
  {
   "cell_type": "markdown",
   "source": [
    "### Use model.predict if you wannna know about each predicted probability"
   ],
   "metadata": {}
  },
  {
   "cell_type": "code",
   "execution_count": 14,
   "source": [
    "predicted_result = model.predict(x_test_reshaped)  # model이 추론한 확률값. \r\n",
    "predicted_labels = np.argmax(predicted_result, axis=1)\r\n",
    "\r\n",
    "idx=0  #1번째 x_test를 살펴보자. \r\n",
    "print('model.predict() 결과 : ', predicted_result[idx])\r\n",
    "print('model이 추론한 가장 가능성이 높은 결과 : ', predicted_labels[idx])\r\n",
    "print('실제 데이터의 라벨 : ', y_test[idx])"
   ],
   "outputs": [
    {
     "output_type": "stream",
     "name": "stdout",
     "text": [
      "model.predict() 결과 :  [3.3474887e-08 5.6146421e-09 1.9895435e-07 2.9512057e-06 3.0941347e-10\n",
      " 2.9342002e-09 2.5108623e-19 9.9999678e-01 1.0808660e-09 2.0747430e-09]\n",
      "model이 추론한 가장 가능성이 높은 결과 :  7\n",
      "실제 데이터의 라벨 :  7\n"
     ]
    }
   ],
   "metadata": {}
  },
  {
   "cell_type": "code",
   "execution_count": 15,
   "source": [
    "plt.imshow(x_test[idx],cmap=plt.cm.binary) #7.. Good prediction\r\n",
    "plt.show()"
   ],
   "outputs": [
    {
     "output_type": "display_data",
     "data": {
      "image/png": "[encoded data removed]",
      "text/plain": [
       "<Figure size 432x288 with 1 Axes>"
      ]
     },
     "metadata": {
      "needs_background": "light"
     }
    }
   ],
   "metadata": {}
  },
  {
   "cell_type": "markdown",
   "source": [
    "### Wrong predictions"
   ],
   "metadata": {}
  },
  {
   "cell_type": "code",
   "execution_count": 16,
   "source": [
    "import random\r\n",
    "wrong_predict_list=[]\r\n",
    "for i, _ in enumerate(predicted_labels):\r\n",
    "    # i번째 test_labels과 y_test이 다른 경우만 모아 봅시다. \r\n",
    "    if predicted_labels[i] != y_test[i]:\r\n",
    "        wrong_predict_list.append(i)\r\n",
    "\r\n",
    "# wrong_predict_list 에서 랜덤하게 5개만 뽑아봅시다.\r\n",
    "samples = random.choices(population=wrong_predict_list, k=5)\r\n",
    "\r\n",
    "for n in samples:\r\n",
    "    print(\"예측확률분포: \" + str(predicted_result[n]))\r\n",
    "    print(\"라벨: \" + str(y_test[n]) + \", 예측결과: \" + str(predicted_labels[n]))\r\n",
    "    plt.imshow(x_test[n], cmap=plt.cm.binary)\r\n",
    "    plt.show()"
   ],
   "outputs": [
    {
     "output_type": "stream",
     "name": "stdout",
     "text": [
      "예측확률분포: [1.4309099e-05 5.0678063e-04 9.7272104e-01 1.2494363e-03 6.2427230e-06\n",
      " 6.9033829e-03 2.5329265e-11 1.5352961e-03 1.6932197e-02 1.3131915e-04]\n",
      "라벨: 8, 예측결과: 2\n"
     ]
    },
    {
     "output_type": "display_data",
     "data": {
      "image/png": "[encoded data removed]",
      "text/plain": [
       "<Figure size 432x288 with 1 Axes>"
      ]
     },
     "metadata": {
      "needs_background": "light"
     }
    },
    {
     "output_type": "stream",
     "name": "stdout",
     "text": [
      "예측확률분포: [5.5142156e-08 1.0974259e-03 1.6225843e-03 2.5491910e-05 5.2030128e-07\n",
      " 3.0666557e-05 1.4272401e-11 9.6152544e-02 9.0084112e-01 2.2959859e-04]\n",
      "라벨: 7, 예측결과: 8\n"
     ]
    },
    {
     "output_type": "display_data",
     "data": {
      "image/png": "[encoded data removed]",
      "text/plain": [
       "<Figure size 432x288 with 1 Axes>"
      ]
     },
     "metadata": {
      "needs_background": "light"
     }
    },
    {
     "output_type": "stream",
     "name": "stdout",
     "text": [
      "예측확률분포: [1.4953266e-06 2.1311222e-03 9.4771880e-01 2.8098567e-04 2.0999867e-02\n",
      " 4.0747836e-06 6.4857682e-07 8.2143466e-04 2.8041068e-02 5.1035710e-07]\n",
      "라벨: 8, 예측결과: 2\n"
     ]
    },
    {
     "output_type": "display_data",
     "data": {
      "image/png": "[encoded data removed]",
      "text/plain": [
       "<Figure size 432x288 with 1 Axes>"
      ]
     },
     "metadata": {
      "needs_background": "light"
     }
    },
    {
     "output_type": "stream",
     "name": "stdout",
     "text": [
      "예측확률분포: [3.2370557e-14 9.0599196e-06 4.0712873e-08 9.8169367e-06 6.9690466e-01\n",
      " 4.6892848e-05 8.0580811e-12 1.3531033e-04 3.0289355e-01 6.0997280e-07]\n",
      "라벨: 8, 예측결과: 4\n"
     ]
    },
    {
     "output_type": "display_data",
     "data": {
      "image/png": "[encoded data removed]",
      "text/plain": [
       "<Figure size 432x288 with 1 Axes>"
      ]
     },
     "metadata": {
      "needs_background": "light"
     }
    },
    {
     "output_type": "stream",
     "name": "stdout",
     "text": [
      "예측확률분포: [1.0498884e-06 5.1459777e-01 5.6206505e-03 4.2999836e-06 2.4221864e-02\n",
      " 4.8642487e-05 3.0051162e-09 5.4967776e-03 7.2230550e-04 4.4928664e-01]\n",
      "라벨: 9, 예측결과: 1\n"
     ]
    },
    {
     "output_type": "display_data",
     "data": {
      "image/png": "[encoded data removed]",
      "text/plain": [
       "<Figure size 432x288 with 1 Axes>"
      ]
     },
     "metadata": {
      "needs_background": "light"
     }
    }
   ],
   "metadata": {}
  },
  {
   "cell_type": "markdown",
   "source": [
    "### Make better network by changing hyper-parameters"
   ],
   "metadata": {}
  },
  {
   "cell_type": "markdown",
   "source": [
    "수완님 코드 : 제너레이터 활용."
   ],
   "metadata": {}
  },
  {
   "cell_type": "code",
   "execution_count": 18,
   "source": [
    "from tensorflow import keras\r\n",
    "from itertools import product\r\n",
    "\r\n",
    "mnist = keras.datasets.mnist\r\n",
    "(train_x, train_y), (test_x, test_y) = mnist.load_data()\r\n",
    "train_x, test_x = train_x / 255.0, test_x / 255.0\r\n",
    "train_x = train_x.reshape(-1, 28, 28, 1)\r\n",
    "test_x = test_x.reshape(-1, 28, 28, 1)\r\n",
    "n_train_epoch=10\r\n",
    "\r\n",
    "def get_model(n_channel_1, n_channel_2, n_dense):\r\n",
    "    for channel_1, channel_2, dense in product(n_channel_1, n_channel_2, n_dense):\r\n",
    "        model=keras.models.Sequential()\r\n",
    "        model.add(keras.layers.Conv2D(channel_1, (3,3), activation='relu', input_shape=(28,28,1)))\r\n",
    "        model.add(keras.layers.MaxPool2D(2,2))\r\n",
    "        model.add(keras.layers.Conv2D(channel_2, (3,3), activation='relu'))\r\n",
    "        model.add(keras.layers.MaxPooling2D((2,2)))\r\n",
    "        model.add(keras.layers.Flatten())\r\n",
    "        model.add(keras.layers.Dense(dense, activation='relu'))\r\n",
    "        model.add(keras.layers.Dense(10, activation='softmax'))\r\n",
    "\r\n",
    "        model.compile(optimizer='adam',\r\n",
    "                     loss='sparse_categorical_crossentropy',\r\n",
    "                     metrics=['accuracy'])\r\n",
    "        yield model, [channel_1, channel_2, dense]\r\n",
    "\r\n",
    "n_channel_1 = [16, 32, 64]\r\n",
    "n_channel_2 = [32, 64, 128]\r\n",
    "n_dense = [32, 64, 128]\r\n",
    "\r\n",
    "best_test_acc = 0\r\n",
    "best_args = []\r\n",
    "\r\n",
    "iter_time = 1\r\n",
    "\r\n",
    "for model, args in get_model(n_channel_1, n_channel_2, n_dense):\r\n",
    "    print(\"{}번째 조합\".format(iter_time))\r\n",
    "    iter_time += 1\r\n",
    "    model.fit(train_x, train_y, epochs=n_train_epoch)\r\n",
    "\r\n",
    "    test_loss, test_accuracy = model.evaluate(test_x, test_y, verbose=2)\r\n",
    "    print(f\"test_loss: {test_loss} \")\r\n",
    "    if test_accuracy > best_test_acc:\r\n",
    "        best_test_acc = test_accuracy\r\n",
    "        best_args = args\r\n",
    "        print(\"BEST!!!\")\r\n",
    "    print(f\"channel_1 : {args[0]} channel_2 : {args[1]} dense : {args[2]} test_accuracy: {test_accuracy}\")"
   ],
   "outputs": [
    {
     "output_type": "stream",
     "name": "stdout",
     "text": [
      "1번째 조합\n",
      "Epoch 1/10\n",
      "1875/1875 [==============================] - 6s 3ms/step - loss: 0.4515 - accuracy: 0.8599\n",
      "Epoch 2/10\n",
      "1875/1875 [==============================] - 5s 3ms/step - loss: 0.0676 - accuracy: 0.9795\n",
      "Epoch 3/10\n",
      "1875/1875 [==============================] - 5s 3ms/step - loss: 0.0471 - accuracy: 0.9862\n",
      "Epoch 4/10\n",
      "1875/1875 [==============================] - 5s 3ms/step - loss: 0.0346 - accuracy: 0.9890\n",
      "Epoch 5/10\n",
      "1875/1875 [==============================] - 5s 3ms/step - loss: 0.0277 - accuracy: 0.9916\n",
      "Epoch 6/10\n",
      "1875/1875 [==============================] - 5s 3ms/step - loss: 0.0254 - accuracy: 0.9919\n",
      "Epoch 7/10\n",
      "1875/1875 [==============================] - 5s 3ms/step - loss: 0.0192 - accuracy: 0.9941\n",
      "Epoch 8/10\n",
      "1875/1875 [==============================] - 6s 3ms/step - loss: 0.0165 - accuracy: 0.9950\n",
      "Epoch 9/10\n",
      "1875/1875 [==============================] - 5s 3ms/step - loss: 0.0130 - accuracy: 0.9957\n",
      "Epoch 10/10\n",
      "1875/1875 [==============================] - 5s 3ms/step - loss: 0.0110 - accuracy: 0.9965\n",
      "313/313 - 1s - loss: 0.0416 - accuracy: 0.9888\n",
      "test_loss: 0.0416337326169014 \n",
      "BEST!!!\n",
      "channel_1 : 16 channel_2 : 32 dense : 32 test_accuracy: 0.9887999892234802\n",
      "2번째 조합\n",
      "Epoch 1/10\n",
      "1875/1875 [==============================] - 6s 3ms/step - loss: 0.4049 - accuracy: 0.8760\n",
      "Epoch 2/10\n",
      "1875/1875 [==============================] - 5s 3ms/step - loss: 0.0602 - accuracy: 0.9819\n",
      "Epoch 3/10\n",
      "1875/1875 [==============================] - 5s 3ms/step - loss: 0.0413 - accuracy: 0.9874\n",
      "Epoch 4/10\n",
      "1875/1875 [==============================] - 5s 3ms/step - loss: 0.0316 - accuracy: 0.9898\n",
      "Epoch 5/10\n",
      "1875/1875 [==============================] - 5s 3ms/step - loss: 0.0232 - accuracy: 0.9925\n",
      "Epoch 6/10\n",
      "1875/1875 [==============================] - 6s 3ms/step - loss: 0.0171 - accuracy: 0.9945\n",
      "Epoch 7/10\n",
      "1875/1875 [==============================] - 5s 3ms/step - loss: 0.0139 - accuracy: 0.9956\n",
      "Epoch 8/10\n",
      "1875/1875 [==============================] - 5s 3ms/step - loss: 0.0108 - accuracy: 0.9964\n",
      "Epoch 9/10\n",
      "1875/1875 [==============================] - 6s 3ms/step - loss: 0.0099 - accuracy: 0.9969\n",
      "Epoch 10/10\n",
      "1875/1875 [==============================] - 5s 3ms/step - loss: 0.0070 - accuracy: 0.9979\n",
      "313/313 - 1s - loss: 0.0334 - accuracy: 0.9904\n",
      "test_loss: 0.033387552946805954 \n",
      "BEST!!!\n",
      "channel_1 : 16 channel_2 : 32 dense : 64 test_accuracy: 0.9904000163078308\n",
      "3번째 조합\n",
      "Epoch 1/10\n",
      "1875/1875 [==============================] - 6s 3ms/step - loss: 0.3469 - accuracy: 0.8953\n",
      "Epoch 2/10\n",
      "1875/1875 [==============================] - 6s 3ms/step - loss: 0.0583 - accuracy: 0.9816\n",
      "Epoch 3/10\n",
      "1875/1875 [==============================] - 6s 3ms/step - loss: 0.0367 - accuracy: 0.9884\n",
      "Epoch 4/10\n",
      "1875/1875 [==============================] - 6s 3ms/step - loss: 0.0264 - accuracy: 0.9916\n",
      "Epoch 5/10\n",
      "1875/1875 [==============================] - 6s 3ms/step - loss: 0.0179 - accuracy: 0.9946\n",
      "Epoch 6/10\n",
      "1875/1875 [==============================] - 6s 3ms/step - loss: 0.0143 - accuracy: 0.9958\n",
      "Epoch 7/10\n",
      "1875/1875 [==============================] - 6s 3ms/step - loss: 0.0102 - accuracy: 0.9968\n",
      "Epoch 8/10\n",
      "1875/1875 [==============================] - 6s 3ms/step - loss: 0.0096 - accuracy: 0.9969\n",
      "Epoch 9/10\n",
      "1875/1875 [==============================] - 6s 3ms/step - loss: 0.0073 - accuracy: 0.9974\n",
      "Epoch 10/10\n",
      "1875/1875 [==============================] - 6s 3ms/step - loss: 0.0055 - accuracy: 0.9982\n",
      "313/313 - 1s - loss: 0.0314 - accuracy: 0.9912\n",
      "test_loss: 0.03144543990492821 \n",
      "BEST!!!\n",
      "channel_1 : 16 channel_2 : 32 dense : 128 test_accuracy: 0.9911999702453613\n",
      "4번째 조합\n",
      "Epoch 1/10\n",
      "1875/1875 [==============================] - 6s 3ms/step - loss: 0.4059 - accuracy: 0.8750\n",
      "Epoch 2/10\n",
      "1875/1875 [==============================] - 6s 3ms/step - loss: 0.0624 - accuracy: 0.9805\n",
      "Epoch 3/10\n",
      "1875/1875 [==============================] - 6s 3ms/step - loss: 0.0455 - accuracy: 0.9852\n",
      "Epoch 4/10\n",
      "1875/1875 [==============================] - 6s 3ms/step - loss: 0.0335 - accuracy: 0.9890\n",
      "Epoch 5/10\n",
      "1875/1875 [==============================] - 6s 3ms/step - loss: 0.0262 - accuracy: 0.9921\n",
      "Epoch 6/10\n",
      "1875/1875 [==============================] - 6s 3ms/step - loss: 0.0195 - accuracy: 0.9940\n",
      "Epoch 7/10\n",
      "1875/1875 [==============================] - 6s 3ms/step - loss: 0.0158 - accuracy: 0.9952\n",
      "Epoch 8/10\n",
      "1875/1875 [==============================] - 6s 3ms/step - loss: 0.0131 - accuracy: 0.9959\n",
      "Epoch 9/10\n",
      "1875/1875 [==============================] - 6s 3ms/step - loss: 0.0130 - accuracy: 0.9956\n",
      "Epoch 10/10\n",
      "1875/1875 [==============================] - 6s 3ms/step - loss: 0.0113 - accuracy: 0.9967\n",
      "313/313 - 2s - loss: 0.0396 - accuracy: 0.9892\n",
      "test_loss: 0.03956792503595352 \n",
      "channel_1 : 16 channel_2 : 64 dense : 32 test_accuracy: 0.9891999959945679\n",
      "5번째 조합\n",
      "Epoch 1/10\n",
      "1875/1875 [==============================] - 6s 3ms/step - loss: 0.3512 - accuracy: 0.8880\n",
      "Epoch 2/10\n",
      "1875/1875 [==============================] - 6s 3ms/step - loss: 0.0568 - accuracy: 0.9831\n",
      "Epoch 3/10\n",
      "1875/1875 [==============================] - 6s 3ms/step - loss: 0.0368 - accuracy: 0.9886\n",
      "Epoch 4/10\n",
      "1875/1875 [==============================] - 6s 3ms/step - loss: 0.0277 - accuracy: 0.9909\n",
      "Epoch 5/10\n",
      "1875/1875 [==============================] - 6s 3ms/step - loss: 0.0193 - accuracy: 0.9938\n",
      "Epoch 6/10\n",
      "1875/1875 [==============================] - 6s 3ms/step - loss: 0.0160 - accuracy: 0.9949\n",
      "Epoch 7/10\n",
      "1875/1875 [==============================] - 6s 3ms/step - loss: 0.0121 - accuracy: 0.9959\n",
      "Epoch 8/10\n",
      "1875/1875 [==============================] - 5s 3ms/step - loss: 0.0099 - accuracy: 0.9968\n",
      "Epoch 9/10\n",
      "1875/1875 [==============================] - 6s 3ms/step - loss: 0.0082 - accuracy: 0.9974\n",
      "Epoch 10/10\n",
      "1875/1875 [==============================] - 6s 3ms/step - loss: 0.0073 - accuracy: 0.9975\n",
      "313/313 - 1s - loss: 0.0317 - accuracy: 0.9914\n",
      "test_loss: 0.031672243028879166 \n",
      "BEST!!!\n",
      "channel_1 : 16 channel_2 : 64 dense : 64 test_accuracy: 0.9914000034332275\n",
      "6번째 조합\n",
      "Epoch 1/10\n",
      "1875/1875 [==============================] - 6s 3ms/step - loss: 0.3192 - accuracy: 0.9032\n",
      "Epoch 2/10\n",
      "1875/1875 [==============================] - 6s 3ms/step - loss: 0.0456 - accuracy: 0.9861\n",
      "Epoch 3/10\n",
      "1875/1875 [==============================] - 6s 3ms/step - loss: 0.0300 - accuracy: 0.9908\n",
      "Epoch 4/10\n",
      "1875/1875 [==============================] - 6s 3ms/step - loss: 0.0202 - accuracy: 0.9933\n",
      "Epoch 5/10\n",
      "1875/1875 [==============================] - 6s 3ms/step - loss: 0.0162 - accuracy: 0.9946\n",
      "Epoch 6/10\n",
      "1875/1875 [==============================] - 6s 3ms/step - loss: 0.0119 - accuracy: 0.9962\n",
      "Epoch 7/10\n",
      "1875/1875 [==============================] - 6s 3ms/step - loss: 0.0099 - accuracy: 0.9967\n",
      "Epoch 8/10\n",
      "1875/1875 [==============================] - 6s 3ms/step - loss: 0.0088 - accuracy: 0.9974\n",
      "Epoch 9/10\n",
      "1875/1875 [==============================] - 6s 3ms/step - loss: 0.0065 - accuracy: 0.9979\n",
      "Epoch 10/10\n",
      "1875/1875 [==============================] - 6s 3ms/step - loss: 0.0075 - accuracy: 0.9975\n",
      "313/313 - 1s - loss: 0.0464 - accuracy: 0.9878\n",
      "test_loss: 0.04641823470592499 \n",
      "channel_1 : 16 channel_2 : 64 dense : 128 test_accuracy: 0.9878000020980835\n",
      "7번째 조합\n",
      "Epoch 1/10\n",
      "1875/1875 [==============================] - 9s 3ms/step - loss: 0.3549 - accuracy: 0.8927\n",
      "Epoch 2/10\n",
      "1875/1875 [==============================] - 6s 3ms/step - loss: 0.0561 - accuracy: 0.9828\n",
      "Epoch 3/10\n",
      "1875/1875 [==============================] - 5s 3ms/step - loss: 0.0363 - accuracy: 0.9880\n",
      "Epoch 4/10\n",
      "1875/1875 [==============================] - 5s 3ms/step - loss: 0.0251 - accuracy: 0.9920\n",
      "Epoch 5/10\n",
      "1875/1875 [==============================] - 5s 3ms/step - loss: 0.0210 - accuracy: 0.9933\n",
      "Epoch 6/10\n",
      "1875/1875 [==============================] - 5s 3ms/step - loss: 0.0155 - accuracy: 0.9952\n",
      "Epoch 7/10\n",
      "1875/1875 [==============================] - 5s 3ms/step - loss: 0.0120 - accuracy: 0.9959\n",
      "Epoch 8/10\n",
      "1875/1875 [==============================] - 5s 3ms/step - loss: 0.0107 - accuracy: 0.9965\n",
      "Epoch 9/10\n",
      "1875/1875 [==============================] - 5s 3ms/step - loss: 0.0079 - accuracy: 0.9971\n",
      "Epoch 10/10\n",
      "1875/1875 [==============================] - 5s 3ms/step - loss: 0.0075 - accuracy: 0.9977\n",
      "313/313 - 2s - loss: 0.0416 - accuracy: 0.9894\n"
     ]
    },
    {
     "output_type": "stream",
     "name": "stdout",
     "text": [
      "test_loss: 0.041626036167144775 \n",
      "channel_1 : 16 channel_2 : 128 dense : 32 test_accuracy: 0.9894000291824341\n",
      "8번째 조합\n",
      "Epoch 1/10\n",
      "1875/1875 [==============================] - 6s 3ms/step - loss: 0.3182 - accuracy: 0.9078\n",
      "Epoch 2/10\n",
      "1875/1875 [==============================] - 6s 3ms/step - loss: 0.0459 - accuracy: 0.9848\n",
      "Epoch 3/10\n",
      "1875/1875 [==============================] - 6s 3ms/step - loss: 0.0282 - accuracy: 0.9910\n",
      "Epoch 4/10\n",
      "1875/1875 [==============================] - 5s 3ms/step - loss: 0.0227 - accuracy: 0.9928\n",
      "Epoch 5/10\n",
      "1875/1875 [==============================] - 5s 3ms/step - loss: 0.0158 - accuracy: 0.9947\n",
      "Epoch 6/10\n",
      "1875/1875 [==============================] - 5s 3ms/step - loss: 0.0112 - accuracy: 0.9965\n",
      "Epoch 7/10\n",
      "1875/1875 [==============================] - 5s 3ms/step - loss: 0.0084 - accuracy: 0.9974\n",
      "Epoch 8/10\n",
      "1875/1875 [==============================] - 5s 3ms/step - loss: 0.0054 - accuracy: 0.9983\n",
      "Epoch 9/10\n",
      "1875/1875 [==============================] - 5s 3ms/step - loss: 0.0058 - accuracy: 0.9980\n",
      "Epoch 10/10\n",
      "1875/1875 [==============================] - 5s 3ms/step - loss: 0.0053 - accuracy: 0.9982\n",
      "313/313 - 1s - loss: 0.0362 - accuracy: 0.9913\n",
      "test_loss: 0.03623753786087036 \n",
      "channel_1 : 16 channel_2 : 128 dense : 64 test_accuracy: 0.9912999868392944\n",
      "9번째 조합\n",
      "Epoch 1/10\n",
      "1875/1875 [==============================] - 6s 3ms/step - loss: 0.2905 - accuracy: 0.9089\n",
      "Epoch 2/10\n",
      "1875/1875 [==============================] - 6s 3ms/step - loss: 0.0470 - accuracy: 0.9854\n",
      "Epoch 3/10\n",
      "1875/1875 [==============================] - 6s 3ms/step - loss: 0.0274 - accuracy: 0.9916\n",
      "Epoch 4/10\n",
      "1875/1875 [==============================] - 6s 3ms/step - loss: 0.0204 - accuracy: 0.9934\n",
      "Epoch 5/10\n",
      "1875/1875 [==============================] - 6s 3ms/step - loss: 0.0165 - accuracy: 0.9949\n",
      "Epoch 6/10\n",
      "1875/1875 [==============================] - 6s 3ms/step - loss: 0.0097 - accuracy: 0.9967\n",
      "Epoch 7/10\n",
      "1875/1875 [==============================] - 6s 3ms/step - loss: 0.0076 - accuracy: 0.9973\n",
      "Epoch 8/10\n",
      "1875/1875 [==============================] - 6s 3ms/step - loss: 0.0071 - accuracy: 0.9978\n",
      "Epoch 9/10\n",
      "1875/1875 [==============================] - 6s 3ms/step - loss: 0.0062 - accuracy: 0.9980\n",
      "Epoch 10/10\n",
      "1875/1875 [==============================] - 6s 3ms/step - loss: 0.0040 - accuracy: 0.9989\n",
      "313/313 - 1s - loss: 0.0391 - accuracy: 0.9911\n",
      "test_loss: 0.0391145795583725 \n",
      "channel_1 : 16 channel_2 : 128 dense : 128 test_accuracy: 0.991100013256073\n",
      "10번째 조합\n",
      "Epoch 1/10\n",
      "1875/1875 [==============================] - 12s 3ms/step - loss: 0.4044 - accuracy: 0.8756\n",
      "Epoch 2/10\n",
      "1875/1875 [==============================] - 5s 3ms/step - loss: 0.0625 - accuracy: 0.9811\n",
      "Epoch 3/10\n",
      "1875/1875 [==============================] - 5s 3ms/step - loss: 0.0426 - accuracy: 0.9862\n",
      "Epoch 4/10\n",
      "1875/1875 [==============================] - 5s 3ms/step - loss: 0.0330 - accuracy: 0.9896\n",
      "Epoch 5/10\n",
      "1875/1875 [==============================] - 5s 3ms/step - loss: 0.0274 - accuracy: 0.9917\n",
      "Epoch 6/10\n",
      "1875/1875 [==============================] - 5s 3ms/step - loss: 0.0228 - accuracy: 0.9922\n",
      "Epoch 7/10\n",
      "1875/1875 [==============================] - 5s 3ms/step - loss: 0.0180 - accuracy: 0.9940\n",
      "Epoch 8/10\n",
      "1875/1875 [==============================] - 5s 3ms/step - loss: 0.0139 - accuracy: 0.9955\n",
      "Epoch 9/10\n",
      "1875/1875 [==============================] - 5s 3ms/step - loss: 0.0114 - accuracy: 0.9959\n",
      "Epoch 10/10\n",
      "1875/1875 [==============================] - 5s 3ms/step - loss: 0.0092 - accuracy: 0.9971\n",
      "313/313 - 3s - loss: 0.0403 - accuracy: 0.9893\n",
      "test_loss: 0.040294114500284195 \n",
      "channel_1 : 32 channel_2 : 32 dense : 32 test_accuracy: 0.989300012588501\n",
      "11번째 조합\n",
      "Epoch 1/10\n",
      "1875/1875 [==============================] - 6s 3ms/step - loss: 0.3804 - accuracy: 0.8812\n",
      "Epoch 2/10\n",
      "1875/1875 [==============================] - 5s 3ms/step - loss: 0.0564 - accuracy: 0.9826\n",
      "Epoch 3/10\n",
      "1875/1875 [==============================] - 5s 3ms/step - loss: 0.0395 - accuracy: 0.9877\n",
      "Epoch 4/10\n",
      "1875/1875 [==============================] - 5s 3ms/step - loss: 0.0274 - accuracy: 0.9920\n",
      "Epoch 5/10\n",
      "1875/1875 [==============================] - 5s 3ms/step - loss: 0.0216 - accuracy: 0.9934\n",
      "Epoch 6/10\n",
      "1875/1875 [==============================] - 5s 3ms/step - loss: 0.0148 - accuracy: 0.9957\n",
      "Epoch 7/10\n",
      "1875/1875 [==============================] - 5s 3ms/step - loss: 0.0129 - accuracy: 0.9961\n",
      "Epoch 8/10\n",
      "1875/1875 [==============================] - 5s 3ms/step - loss: 0.0096 - accuracy: 0.9972\n",
      "Epoch 9/10\n",
      "1875/1875 [==============================] - 5s 3ms/step - loss: 0.0080 - accuracy: 0.9973\n",
      "Epoch 10/10\n",
      "1875/1875 [==============================] - 5s 3ms/step - loss: 0.0082 - accuracy: 0.9977\n",
      "313/313 - 1s - loss: 0.0299 - accuracy: 0.9919\n",
      "test_loss: 0.029903871938586235 \n",
      "BEST!!!\n",
      "channel_1 : 32 channel_2 : 32 dense : 64 test_accuracy: 0.9919000267982483\n",
      "12번째 조합\n",
      "Epoch 1/10\n",
      "1875/1875 [==============================] - 6s 3ms/step - loss: 0.3314 - accuracy: 0.8977\n",
      "Epoch 2/10\n",
      "1875/1875 [==============================] - 5s 3ms/step - loss: 0.0462 - accuracy: 0.9853\n",
      "Epoch 3/10\n",
      "1875/1875 [==============================] - 5s 3ms/step - loss: 0.0294 - accuracy: 0.9905\n",
      "Epoch 4/10\n",
      "1875/1875 [==============================] - 5s 3ms/step - loss: 0.0197 - accuracy: 0.9935\n",
      "Epoch 5/10\n",
      "1875/1875 [==============================] - 5s 3ms/step - loss: 0.0172 - accuracy: 0.9943\n",
      "Epoch 6/10\n",
      "1875/1875 [==============================] - 5s 3ms/step - loss: 0.0125 - accuracy: 0.9960\n",
      "Epoch 7/10\n",
      "1875/1875 [==============================] - 5s 3ms/step - loss: 0.0108 - accuracy: 0.9966\n",
      "Epoch 8/10\n",
      "1875/1875 [==============================] - 5s 3ms/step - loss: 0.0074 - accuracy: 0.9977\n",
      "Epoch 9/10\n",
      "1875/1875 [==============================] - 5s 3ms/step - loss: 0.0056 - accuracy: 0.9983\n",
      "Epoch 10/10\n",
      "1875/1875 [==============================] - 5s 3ms/step - loss: 0.0075 - accuracy: 0.9975\n",
      "313/313 - 1s - loss: 0.0464 - accuracy: 0.9890\n",
      "test_loss: 0.04637551307678223 \n",
      "channel_1 : 32 channel_2 : 32 dense : 128 test_accuracy: 0.9890000224113464\n",
      "13번째 조합\n",
      "Epoch 1/10\n",
      "1875/1875 [==============================] - 10s 3ms/step - loss: 0.4014 - accuracy: 0.8814\n",
      "Epoch 2/10\n",
      "1875/1875 [==============================] - 6s 3ms/step - loss: 0.0628 - accuracy: 0.9801\n",
      "Epoch 3/10\n",
      "1875/1875 [==============================] - 5s 3ms/step - loss: 0.0398 - accuracy: 0.9879\n",
      "Epoch 4/10\n",
      "1875/1875 [==============================] - 6s 3ms/step - loss: 0.0298 - accuracy: 0.9905\n",
      "Epoch 5/10\n",
      "1875/1875 [==============================] - 6s 3ms/step - loss: 0.0241 - accuracy: 0.9922\n",
      "Epoch 6/10\n",
      "1875/1875 [==============================] - 5s 3ms/step - loss: 0.0193 - accuracy: 0.9937\n",
      "Epoch 7/10\n",
      "1875/1875 [==============================] - 5s 3ms/step - loss: 0.0144 - accuracy: 0.9951\n",
      "Epoch 8/10\n",
      "1875/1875 [==============================] - 5s 3ms/step - loss: 0.0117 - accuracy: 0.9966\n",
      "Epoch 9/10\n",
      "1875/1875 [==============================] - 5s 3ms/step - loss: 0.0100 - accuracy: 0.9967\n",
      "Epoch 10/10\n",
      "1875/1875 [==============================] - 5s 3ms/step - loss: 0.0088 - accuracy: 0.9972\n",
      "313/313 - 2s - loss: 0.0355 - accuracy: 0.9895\n",
      "test_loss: 0.03547995910048485 \n",
      "channel_1 : 32 channel_2 : 64 dense : 32 test_accuracy: 0.9894999861717224\n",
      "14번째 조합\n",
      "Epoch 1/10\n",
      "1875/1875 [==============================] - 6s 3ms/step - loss: 0.3303 - accuracy: 0.8977\n",
      "Epoch 2/10\n",
      "1875/1875 [==============================] - 6s 3ms/step - loss: 0.0533 - accuracy: 0.9836\n",
      "Epoch 3/10\n",
      "1875/1875 [==============================] - 5s 3ms/step - loss: 0.0323 - accuracy: 0.9897\n",
      "Epoch 4/10\n",
      "1875/1875 [==============================] - 6s 3ms/step - loss: 0.0240 - accuracy: 0.9928\n",
      "Epoch 5/10\n",
      "1875/1875 [==============================] - 5s 3ms/step - loss: 0.0167 - accuracy: 0.9943\n",
      "Epoch 6/10\n",
      "1875/1875 [==============================] - 5s 3ms/step - loss: 0.0117 - accuracy: 0.9960\n",
      "Epoch 7/10\n",
      "1875/1875 [==============================] - 5s 3ms/step - loss: 0.0092 - accuracy: 0.9970\n",
      "Epoch 8/10\n",
      "1875/1875 [==============================] - 5s 3ms/step - loss: 0.0074 - accuracy: 0.9974\n",
      "Epoch 9/10\n",
      "1875/1875 [==============================] - 5s 3ms/step - loss: 0.0079 - accuracy: 0.9973\n",
      "Epoch 10/10\n"
     ]
    },
    {
     "output_type": "stream",
     "name": "stdout",
     "text": [
      "1875/1875 [==============================] - 5s 3ms/step - loss: 0.0059 - accuracy: 0.9981\n",
      "313/313 - 1s - loss: 0.0353 - accuracy: 0.9910\n",
      "test_loss: 0.035275958478450775 \n",
      "channel_1 : 32 channel_2 : 64 dense : 64 test_accuracy: 0.9909999966621399\n",
      "15번째 조합\n",
      "Epoch 1/10\n",
      "1875/1875 [==============================] - 6s 3ms/step - loss: 0.2874 - accuracy: 0.9132\n",
      "Epoch 2/10\n",
      "1875/1875 [==============================] - 6s 3ms/step - loss: 0.0418 - accuracy: 0.9873\n",
      "Epoch 3/10\n",
      "1875/1875 [==============================] - 6s 3ms/step - loss: 0.0280 - accuracy: 0.9913\n",
      "Epoch 4/10\n",
      "1875/1875 [==============================] - 6s 3ms/step - loss: 0.0190 - accuracy: 0.9935\n",
      "Epoch 5/10\n",
      "1875/1875 [==============================] - 6s 3ms/step - loss: 0.0131 - accuracy: 0.9955\n",
      "Epoch 6/10\n",
      "1875/1875 [==============================] - 6s 3ms/step - loss: 0.0091 - accuracy: 0.9969\n",
      "Epoch 7/10\n",
      "1875/1875 [==============================] - 6s 3ms/step - loss: 0.0069 - accuracy: 0.9980\n",
      "Epoch 8/10\n",
      "1875/1875 [==============================] - 6s 3ms/step - loss: 0.0071 - accuracy: 0.9972\n",
      "Epoch 9/10\n",
      "1875/1875 [==============================] - 6s 3ms/step - loss: 0.0063 - accuracy: 0.9978\n",
      "Epoch 10/10\n",
      "1875/1875 [==============================] - 6s 3ms/step - loss: 0.0042 - accuracy: 0.9986\n",
      "313/313 - 1s - loss: 0.0356 - accuracy: 0.9921\n",
      "test_loss: 0.03557439148426056 \n",
      "BEST!!!\n",
      "channel_1 : 32 channel_2 : 64 dense : 128 test_accuracy: 0.9921000003814697\n",
      "16번째 조합\n",
      "Epoch 1/10\n",
      "1875/1875 [==============================] - 11s 3ms/step - loss: 0.3227 - accuracy: 0.9013\n",
      "Epoch 2/10\n",
      "1875/1875 [==============================] - 6s 3ms/step - loss: 0.0541 - accuracy: 0.9836\n",
      "Epoch 3/10\n",
      "1875/1875 [==============================] - 6s 3ms/step - loss: 0.0364 - accuracy: 0.9887\n",
      "Epoch 4/10\n",
      "1875/1875 [==============================] - 6s 3ms/step - loss: 0.0269 - accuracy: 0.9920\n",
      "Epoch 5/10\n",
      "1875/1875 [==============================] - 6s 3ms/step - loss: 0.0176 - accuracy: 0.9947\n",
      "Epoch 6/10\n",
      "1875/1875 [==============================] - 6s 3ms/step - loss: 0.0137 - accuracy: 0.9959\n",
      "Epoch 7/10\n",
      "1875/1875 [==============================] - 6s 3ms/step - loss: 0.0111 - accuracy: 0.9964\n",
      "Epoch 8/10\n",
      "1875/1875 [==============================] - 6s 3ms/step - loss: 0.0079 - accuracy: 0.9976\n",
      "Epoch 9/10\n",
      "1875/1875 [==============================] - 6s 3ms/step - loss: 0.0079 - accuracy: 0.9976\n",
      "Epoch 10/10\n",
      "1875/1875 [==============================] - 6s 3ms/step - loss: 0.0071 - accuracy: 0.9976\n",
      "313/313 - 3s - loss: 0.0480 - accuracy: 0.9892\n",
      "test_loss: 0.04800158366560936 \n",
      "channel_1 : 32 channel_2 : 128 dense : 32 test_accuracy: 0.9891999959945679\n",
      "17번째 조합\n",
      "Epoch 1/10\n",
      "1875/1875 [==============================] - 7s 3ms/step - loss: 0.2940 - accuracy: 0.9084\n",
      "Epoch 2/10\n",
      "1875/1875 [==============================] - 6s 3ms/step - loss: 0.0449 - accuracy: 0.9861\n",
      "Epoch 3/10\n",
      "1875/1875 [==============================] - 6s 3ms/step - loss: 0.0300 - accuracy: 0.9905\n",
      "Epoch 4/10\n",
      "1875/1875 [==============================] - 6s 3ms/step - loss: 0.0198 - accuracy: 0.9940\n",
      "Epoch 5/10\n",
      "1875/1875 [==============================] - 6s 3ms/step - loss: 0.0144 - accuracy: 0.9950\n",
      "Epoch 6/10\n",
      "1875/1875 [==============================] - 6s 3ms/step - loss: 0.0110 - accuracy: 0.9963\n",
      "Epoch 7/10\n",
      "1875/1875 [==============================] - 6s 3ms/step - loss: 0.0071 - accuracy: 0.9979\n",
      "Epoch 8/10\n",
      "1875/1875 [==============================] - 6s 3ms/step - loss: 0.0072 - accuracy: 0.9976\n",
      "Epoch 9/10\n",
      "1875/1875 [==============================] - 6s 3ms/step - loss: 0.0053 - accuracy: 0.9982\n",
      "Epoch 10/10\n",
      "1875/1875 [==============================] - 6s 3ms/step - loss: 0.0062 - accuracy: 0.9980\n",
      "313/313 - 1s - loss: 0.0424 - accuracy: 0.9899\n",
      "test_loss: 0.04235371574759483 \n",
      "channel_1 : 32 channel_2 : 128 dense : 64 test_accuracy: 0.9898999929428101\n",
      "18번째 조합\n",
      "Epoch 1/10\n",
      "1875/1875 [==============================] - 7s 3ms/step - loss: 0.2719 - accuracy: 0.9126\n",
      "Epoch 2/10\n",
      "1875/1875 [==============================] - 6s 3ms/step - loss: 0.0421 - accuracy: 0.9869\n",
      "Epoch 3/10\n",
      "1875/1875 [==============================] - 6s 3ms/step - loss: 0.0258 - accuracy: 0.9916\n",
      "Epoch 4/10\n",
      "1875/1875 [==============================] - 6s 3ms/step - loss: 0.0184 - accuracy: 0.9941\n",
      "Epoch 5/10\n",
      "1875/1875 [==============================] - 6s 3ms/step - loss: 0.0136 - accuracy: 0.9959\n",
      "Epoch 6/10\n",
      "1875/1875 [==============================] - 6s 3ms/step - loss: 0.0100 - accuracy: 0.9968\n",
      "Epoch 7/10\n",
      "1875/1875 [==============================] - 6s 3ms/step - loss: 0.0093 - accuracy: 0.9966\n",
      "Epoch 8/10\n",
      "1875/1875 [==============================] - 6s 3ms/step - loss: 0.0046 - accuracy: 0.9985\n",
      "Epoch 9/10\n",
      "1875/1875 [==============================] - 6s 3ms/step - loss: 0.0061 - accuracy: 0.9982\n",
      "Epoch 10/10\n",
      "1875/1875 [==============================] - 6s 3ms/step - loss: 0.0043 - accuracy: 0.9988\n",
      "313/313 - 1s - loss: 0.0332 - accuracy: 0.9918\n",
      "test_loss: 0.033190153539180756 \n",
      "channel_1 : 32 channel_2 : 128 dense : 128 test_accuracy: 0.9918000102043152\n",
      "19번째 조합\n",
      "Epoch 1/10\n",
      "1875/1875 [==============================] - 16s 3ms/step - loss: 0.3870 - accuracy: 0.8810\n",
      "Epoch 2/10\n",
      "1875/1875 [==============================] - 6s 3ms/step - loss: 0.0579 - accuracy: 0.9834\n",
      "Epoch 3/10\n",
      "1875/1875 [==============================] - 6s 3ms/step - loss: 0.0396 - accuracy: 0.9875\n",
      "Epoch 4/10\n",
      "1875/1875 [==============================] - 6s 3ms/step - loss: 0.0298 - accuracy: 0.9911\n",
      "Epoch 5/10\n",
      "1875/1875 [==============================] - 6s 3ms/step - loss: 0.0242 - accuracy: 0.9914\n",
      "Epoch 6/10\n",
      "1875/1875 [==============================] - 6s 3ms/step - loss: 0.0193 - accuracy: 0.9940\n",
      "Epoch 7/10\n",
      "1875/1875 [==============================] - 6s 3ms/step - loss: 0.0171 - accuracy: 0.9947\n",
      "Epoch 8/10\n",
      "1875/1875 [==============================] - 6s 3ms/step - loss: 0.0125 - accuracy: 0.9962\n",
      "Epoch 9/10\n",
      "1875/1875 [==============================] - 6s 3ms/step - loss: 0.0106 - accuracy: 0.9965\n",
      "Epoch 10/10\n",
      "1875/1875 [==============================] - 6s 3ms/step - loss: 0.0090 - accuracy: 0.9969\n",
      "313/313 - 5s - loss: 0.0389 - accuracy: 0.9895\n",
      "test_loss: 0.03890039399266243 \n",
      "channel_1 : 64 channel_2 : 32 dense : 32 test_accuracy: 0.9894999861717224\n",
      "20번째 조합\n",
      "Epoch 1/10\n",
      "1875/1875 [==============================] - 7s 4ms/step - loss: 0.3491 - accuracy: 0.8930\n",
      "Epoch 2/10\n",
      "1875/1875 [==============================] - 6s 3ms/step - loss: 0.0542 - accuracy: 0.9836\n",
      "Epoch 3/10\n",
      "1875/1875 [==============================] - 6s 3ms/step - loss: 0.0370 - accuracy: 0.9878\n",
      "Epoch 4/10\n",
      "1875/1875 [==============================] - 6s 3ms/step - loss: 0.0240 - accuracy: 0.9918\n",
      "Epoch 5/10\n",
      "1875/1875 [==============================] - 6s 3ms/step - loss: 0.0201 - accuracy: 0.9941\n",
      "Epoch 6/10\n",
      "1875/1875 [==============================] - 6s 3ms/step - loss: 0.0139 - accuracy: 0.9957\n",
      "Epoch 7/10\n",
      "1875/1875 [==============================] - 6s 3ms/step - loss: 0.0123 - accuracy: 0.9964\n",
      "Epoch 8/10\n",
      "1875/1875 [==============================] - 6s 3ms/step - loss: 0.0108 - accuracy: 0.9967\n",
      "Epoch 9/10\n",
      "1875/1875 [==============================] - 6s 3ms/step - loss: 0.0074 - accuracy: 0.9976\n",
      "Epoch 10/10\n",
      "1875/1875 [==============================] - 6s 3ms/step - loss: 0.0081 - accuracy: 0.9974\n",
      "313/313 - 1s - loss: 0.0339 - accuracy: 0.9898\n",
      "test_loss: 0.03392092138528824 \n",
      "channel_1 : 64 channel_2 : 32 dense : 64 test_accuracy: 0.989799976348877\n",
      "21번째 조합\n",
      "Epoch 1/10\n",
      "1875/1875 [==============================] - 7s 3ms/step - loss: 0.3333 - accuracy: 0.8963\n",
      "Epoch 2/10\n",
      "1875/1875 [==============================] - 6s 3ms/step - loss: 0.0459 - accuracy: 0.9859\n",
      "Epoch 3/10\n",
      "1875/1875 [==============================] - 6s 3ms/step - loss: 0.0298 - accuracy: 0.9909\n",
      "Epoch 4/10\n",
      "1875/1875 [==============================] - 6s 3ms/step - loss: 0.0222 - accuracy: 0.9929\n",
      "Epoch 5/10\n",
      "1875/1875 [==============================] - 6s 3ms/step - loss: 0.0168 - accuracy: 0.9939\n",
      "Epoch 6/10\n",
      "1875/1875 [==============================] - 6s 3ms/step - loss: 0.0114 - accuracy: 0.9964\n",
      "Epoch 7/10\n",
      "1875/1875 [==============================] - 7s 4ms/step - loss: 0.0102 - accuracy: 0.9964\n",
      "Epoch 8/10\n",
      "1875/1875 [==============================] - 6s 3ms/step - loss: 0.0073 - accuracy: 0.9977\n",
      "Epoch 9/10\n"
     ]
    },
    {
     "output_type": "stream",
     "name": "stdout",
     "text": [
      "1875/1875 [==============================] - 6s 3ms/step - loss: 0.0072 - accuracy: 0.9974\n",
      "Epoch 10/10\n",
      "1875/1875 [==============================] - 6s 3ms/step - loss: 0.0062 - accuracy: 0.9981\n",
      "313/313 - 1s - loss: 0.0336 - accuracy: 0.9909\n",
      "test_loss: 0.03356315940618515 \n",
      "channel_1 : 64 channel_2 : 32 dense : 128 test_accuracy: 0.9908999800682068\n",
      "22번째 조합\n",
      "Epoch 1/10\n",
      "1875/1875 [==============================] - 13s 4ms/step - loss: 0.3294 - accuracy: 0.8971\n",
      "Epoch 2/10\n",
      "1875/1875 [==============================] - 7s 4ms/step - loss: 0.0539 - accuracy: 0.9829\n",
      "Epoch 3/10\n",
      "1875/1875 [==============================] - 7s 4ms/step - loss: 0.0344 - accuracy: 0.9896\n",
      "Epoch 4/10\n",
      "1875/1875 [==============================] - 7s 4ms/step - loss: 0.0256 - accuracy: 0.9919\n",
      "Epoch 5/10\n",
      "1875/1875 [==============================] - 7s 4ms/step - loss: 0.0186 - accuracy: 0.9938\n",
      "Epoch 6/10\n",
      "1875/1875 [==============================] - 7s 4ms/step - loss: 0.0166 - accuracy: 0.9947\n",
      "Epoch 7/10\n",
      "1875/1875 [==============================] - 7s 4ms/step - loss: 0.0107 - accuracy: 0.9964\n",
      "Epoch 8/10\n",
      "1875/1875 [==============================] - 7s 4ms/step - loss: 0.0092 - accuracy: 0.9971\n",
      "Epoch 9/10\n",
      "1875/1875 [==============================] - 7s 4ms/step - loss: 0.0079 - accuracy: 0.9978\n",
      "Epoch 10/10\n",
      "1875/1875 [==============================] - 7s 4ms/step - loss: 0.0058 - accuracy: 0.9985\n",
      "313/313 - 3s - loss: 0.0408 - accuracy: 0.9893\n",
      "test_loss: 0.040775373578071594 \n",
      "channel_1 : 64 channel_2 : 64 dense : 32 test_accuracy: 0.989300012588501\n",
      "23번째 조합\n",
      "Epoch 1/10\n",
      "1875/1875 [==============================] - 8s 4ms/step - loss: 0.3096 - accuracy: 0.9032\n",
      "Epoch 2/10\n",
      "1875/1875 [==============================] - 7s 4ms/step - loss: 0.0460 - accuracy: 0.9851\n",
      "Epoch 3/10\n",
      "1875/1875 [==============================] - 7s 4ms/step - loss: 0.0315 - accuracy: 0.9904\n",
      "Epoch 4/10\n",
      "1875/1875 [==============================] - 7s 4ms/step - loss: 0.0217 - accuracy: 0.9932\n",
      "Epoch 5/10\n",
      "1875/1875 [==============================] - 7s 4ms/step - loss: 0.0161 - accuracy: 0.9954\n",
      "Epoch 6/10\n",
      "1875/1875 [==============================] - 7s 4ms/step - loss: 0.0121 - accuracy: 0.9961\n",
      "Epoch 7/10\n",
      "1875/1875 [==============================] - 7s 4ms/step - loss: 0.0083 - accuracy: 0.9970\n",
      "Epoch 8/10\n",
      "1875/1875 [==============================] - 7s 4ms/step - loss: 0.0096 - accuracy: 0.9968\n",
      "Epoch 9/10\n",
      "1875/1875 [==============================] - 7s 4ms/step - loss: 0.0068 - accuracy: 0.9974\n",
      "Epoch 10/10\n",
      "1875/1875 [==============================] - 7s 4ms/step - loss: 0.0052 - accuracy: 0.9982\n",
      "313/313 - 1s - loss: 0.0342 - accuracy: 0.9918\n",
      "test_loss: 0.03421822190284729 \n",
      "channel_1 : 64 channel_2 : 64 dense : 64 test_accuracy: 0.9918000102043152\n",
      "24번째 조합\n",
      "Epoch 1/10\n",
      "1875/1875 [==============================] - 8s 4ms/step - loss: 0.2750 - accuracy: 0.9148\n",
      "Epoch 2/10\n",
      "1875/1875 [==============================] - 7s 4ms/step - loss: 0.0424 - accuracy: 0.9872\n",
      "Epoch 3/10\n",
      "1875/1875 [==============================] - 7s 4ms/step - loss: 0.0268 - accuracy: 0.9918\n",
      "Epoch 4/10\n",
      "1875/1875 [==============================] - 7s 4ms/step - loss: 0.0193 - accuracy: 0.9933\n",
      "Epoch 5/10\n",
      "1875/1875 [==============================] - 7s 4ms/step - loss: 0.0134 - accuracy: 0.9952\n",
      "Epoch 6/10\n",
      "1875/1875 [==============================] - 7s 4ms/step - loss: 0.0092 - accuracy: 0.9972\n",
      "Epoch 7/10\n",
      "1875/1875 [==============================] - 7s 4ms/step - loss: 0.0091 - accuracy: 0.9972\n",
      "Epoch 8/10\n",
      "1875/1875 [==============================] - 7s 4ms/step - loss: 0.0058 - accuracy: 0.9981\n",
      "Epoch 9/10\n",
      "1875/1875 [==============================] - 7s 4ms/step - loss: 0.0062 - accuracy: 0.9977\n",
      "Epoch 10/10\n",
      "1875/1875 [==============================] - 7s 4ms/step - loss: 0.0046 - accuracy: 0.9983\n",
      "313/313 - 1s - loss: 0.0313 - accuracy: 0.9911\n",
      "test_loss: 0.031313009560108185 \n",
      "channel_1 : 64 channel_2 : 64 dense : 128 test_accuracy: 0.991100013256073\n",
      "25번째 조합\n",
      "Epoch 1/10\n",
      "1875/1875 [==============================] - 19s 7ms/step - loss: 0.3347 - accuracy: 0.8930\n",
      "Epoch 2/10\n",
      "1875/1875 [==============================] - 12s 7ms/step - loss: 0.0473 - accuracy: 0.9858\n",
      "Epoch 3/10\n",
      "1875/1875 [==============================] - 12s 7ms/step - loss: 0.0326 - accuracy: 0.9894\n",
      "Epoch 4/10\n",
      "1875/1875 [==============================] - 12s 7ms/step - loss: 0.0226 - accuracy: 0.9930\n",
      "Epoch 5/10\n",
      "1875/1875 [==============================] - 12s 7ms/step - loss: 0.0148 - accuracy: 0.9952\n",
      "Epoch 6/10\n",
      "1875/1875 [==============================] - 12s 7ms/step - loss: 0.0133 - accuracy: 0.9957\n",
      "Epoch 7/10\n",
      "1875/1875 [==============================] - 12s 7ms/step - loss: 0.0098 - accuracy: 0.9970\n",
      "Epoch 8/10\n",
      "1875/1875 [==============================] - 12s 6ms/step - loss: 0.0091 - accuracy: 0.9970\n",
      "Epoch 9/10\n",
      "1875/1875 [==============================] - 12s 6ms/step - loss: 0.0071 - accuracy: 0.9976\n",
      "Epoch 10/10\n",
      "1875/1875 [==============================] - 12s 6ms/step - loss: 0.0067 - accuracy: 0.9979\n",
      "313/313 - 3s - loss: 0.0485 - accuracy: 0.9883\n",
      "test_loss: 0.04845791682600975 \n",
      "channel_1 : 64 channel_2 : 128 dense : 32 test_accuracy: 0.9883000254631042\n",
      "26번째 조합\n",
      "Epoch 1/10\n",
      "1875/1875 [==============================] - 13s 7ms/step - loss: 0.2680 - accuracy: 0.9149\n",
      "Epoch 2/10\n",
      "1875/1875 [==============================] - 12s 7ms/step - loss: 0.0416 - accuracy: 0.9875\n",
      "Epoch 3/10\n",
      "1875/1875 [==============================] - 12s 7ms/step - loss: 0.0300 - accuracy: 0.9909\n",
      "Epoch 4/10\n",
      "1875/1875 [==============================] - 12s 7ms/step - loss: 0.0179 - accuracy: 0.9944\n",
      "Epoch 5/10\n",
      "1875/1875 [==============================] - 12s 7ms/step - loss: 0.0136 - accuracy: 0.9956\n",
      "Epoch 6/10\n",
      "1875/1875 [==============================] - 12s 7ms/step - loss: 0.0111 - accuracy: 0.9965\n",
      "Epoch 7/10\n",
      "1875/1875 [==============================] - 12s 6ms/step - loss: 0.0085 - accuracy: 0.9973\n",
      "Epoch 8/10\n",
      "1875/1875 [==============================] - 12s 7ms/step - loss: 0.0054 - accuracy: 0.9982\n",
      "Epoch 9/10\n",
      "1875/1875 [==============================] - 12s 6ms/step - loss: 0.0058 - accuracy: 0.9981\n",
      "Epoch 10/10\n",
      "1875/1875 [==============================] - 12s 7ms/step - loss: 0.0053 - accuracy: 0.9980\n",
      "313/313 - 1s - loss: 0.0404 - accuracy: 0.9898\n",
      "test_loss: 0.0403965525329113 \n",
      "channel_1 : 64 channel_2 : 128 dense : 64 test_accuracy: 0.989799976348877\n",
      "27번째 조합\n",
      "Epoch 1/10\n",
      "1875/1875 [==============================] - 12s 6ms/step - loss: 0.2455 - accuracy: 0.9237\n",
      "Epoch 2/10\n",
      "1875/1875 [==============================] - 11s 6ms/step - loss: 0.0357 - accuracy: 0.9886\n",
      "Epoch 3/10\n",
      "1875/1875 [==============================] - 11s 6ms/step - loss: 0.0243 - accuracy: 0.9924\n",
      "Epoch 4/10\n",
      "1875/1875 [==============================] - 11s 6ms/step - loss: 0.0168 - accuracy: 0.9945\n",
      "Epoch 5/10\n",
      "1875/1875 [==============================] - 12s 6ms/step - loss: 0.0122 - accuracy: 0.9962\n",
      "Epoch 6/10\n",
      "1875/1875 [==============================] - 11s 6ms/step - loss: 0.0096 - accuracy: 0.9967\n",
      "Epoch 7/10\n",
      "1875/1875 [==============================] - 11s 6ms/step - loss: 0.0069 - accuracy: 0.9980\n",
      "Epoch 8/10\n",
      "1875/1875 [==============================] - 11s 6ms/step - loss: 0.0065 - accuracy: 0.9977\n",
      "Epoch 9/10\n",
      "1875/1875 [==============================] - 11s 6ms/step - loss: 0.0058 - accuracy: 0.9980\n",
      "Epoch 10/10\n",
      "1875/1875 [==============================] - 11s 6ms/step - loss: 0.0050 - accuracy: 0.9984\n",
      "313/313 - 1s - loss: 0.0367 - accuracy: 0.9911\n",
      "test_loss: 0.036657728254795074 \n",
      "channel_1 : 64 channel_2 : 128 dense : 128 test_accuracy: 0.991100013256073\n"
     ]
    }
   ],
   "metadata": {}
  },
  {
   "cell_type": "markdown",
   "source": [
    "---"
   ],
   "metadata": {}
  },
  {
   "cell_type": "markdown",
   "source": [
    "### R , P , S classifier "
   ],
   "metadata": {}
  },
  {
   "cell_type": "code",
   "execution_count": 19,
   "source": [
    "from PIL import Image\r\n",
    "import os, glob\r\n",
    "\r\n",
    "print(\"PIL 라이브러리 import 완료!\")"
   ],
   "outputs": [
    {
     "output_type": "stream",
     "name": "stdout",
     "text": [
      "PIL 라이브러리 import 완료!\n"
     ]
    }
   ],
   "metadata": {}
  },
  {
   "cell_type": "markdown",
   "source": [
    "### Image resizing"
   ],
   "metadata": {}
  },
  {
   "cell_type": "code",
   "execution_count": 21,
   "source": [
    "import os\r\n",
    "\r\n",
    "def resize_images(img_path):\r\n",
    "\timages=glob.glob(img_path + \"/*.jpg\")   #path내의 jpg 형식 파일명을 모두 images에 저장\r\n",
    "    \r\n",
    "\tprint(len(images), \" images to be resized.\")\r\n",
    "\r\n",
    "    # 파일마다 모두 28x28 사이즈로 바꾸어 저장합니다.\r\n",
    "\ttarget_size=(28,28)\r\n",
    "\tfor img in images:\r\n",
    "\t\told_img=Image.open(img)\r\n",
    "\t\tnew_img=old_img.resize(target_size,Image.ANTIALIAS) #anti aliasing\r\n",
    "\t\tnew_img.save(img, \"JPEG\")\r\n",
    "    \r\n",
    "\tprint(len(images), \" images resized.\")\r\n",
    "\t\r\n",
    "# 가위 이미지가 저장된 디렉토리 아래의 모든 jpg 파일을 읽어들여서\r\n",
    "image_dir_path = os.getenv(\"HOME\") + \"/aiffel/rock_scissor_paper/scissor\"\r\n",
    "resize_images(image_dir_path)\r\n",
    "\r\n",
    "print(\"가위 이미지 resize 완료!\")"
   ],
   "outputs": [
    {
     "output_type": "stream",
     "name": "stdout",
     "text": [
      "100  images to be resized.\n",
      "100  images resized.\n",
      "가위 이미지 resize 완료!\n"
     ]
    }
   ],
   "metadata": {}
  },
  {
   "cell_type": "code",
   "execution_count": 22,
   "source": [
    "import os\r\n",
    "\r\n",
    "def resize_images(img_path):\r\n",
    "\timages=glob.glob(img_path + \"/*.jpg\")  \r\n",
    "    \r\n",
    "\tprint(len(images), \" images to be resized.\")\r\n",
    "\r\n",
    "    # 파일마다 모두 28x28 사이즈로 바꾸어 저장합니다.\r\n",
    "\ttarget_size=(28,28)\r\n",
    "\tfor img in images:\r\n",
    "\t\told_img=Image.open(img)\r\n",
    "\t\tnew_img=old_img.resize(target_size,Image.ANTIALIAS)\r\n",
    "\t\tnew_img.save(img, \"JPEG\")\r\n",
    "    \r\n",
    "\tprint(len(images), \" images resized.\")\r\n",
    "\t\r\n",
    "# 가위 이미지가 저장된 디렉토리 아래의 모든 jpg 파일을 읽어들여서\r\n",
    "image_dir_path = os.getenv(\"HOME\") + \"/aiffel/rock_scissor_paper/rock\"\r\n",
    "resize_images(image_dir_path)\r\n",
    "\r\n",
    "print(\"바위 이미지 resize 완료!\")"
   ],
   "outputs": [
    {
     "output_type": "stream",
     "name": "stdout",
     "text": [
      "100  images to be resized.\n",
      "100  images resized.\n",
      "바위 이미지 resize 완료!\n"
     ]
    }
   ],
   "metadata": {}
  },
  {
   "cell_type": "code",
   "execution_count": 23,
   "source": [
    "import os\r\n",
    "\r\n",
    "def resize_images(img_path):\r\n",
    "\timages=glob.glob(img_path + \"/*.jpg\")   #path내의 jpg 형식 파일명을 모두 images에 저장\r\n",
    "    \r\n",
    "\tprint(len(images), \" images to be resized.\")\r\n",
    "\r\n",
    "    # 파일마다 모두 28x28 사이즈로 바꾸어 저장합니다.\r\n",
    "\ttarget_size=(28,28)\r\n",
    "\tfor img in images:\r\n",
    "\t\told_img=Image.open(img)\r\n",
    "\t\tnew_img=old_img.resize(target_size,Image.ANTIALIAS) #anti aliasing\r\n",
    "\t\tnew_img.save(img, \"JPEG\")\r\n",
    "    \r\n",
    "\tprint(len(images), \" images resized.\")\r\n",
    "\t\r\n",
    "# 가위 이미지가 저장된 디렉토리 아래의 모든 jpg 파일을 읽어들여서\r\n",
    "image_dir_path = os.getenv(\"HOME\") + \"/aiffel/rock_scissor_paper/paper\"\r\n",
    "resize_images(image_dir_path)\r\n",
    "\r\n",
    "print(\"보 이미지 resize 완료!\")"
   ],
   "outputs": [
    {
     "output_type": "stream",
     "name": "stdout",
     "text": [
      "100  images to be resized.\n",
      "100  images resized.\n",
      "보 이미지 resize 완료!\n"
     ]
    }
   ],
   "metadata": {}
  },
  {
   "cell_type": "markdown",
   "source": [
    "### Data load, labeling"
   ],
   "metadata": {}
  },
  {
   "cell_type": "code",
   "execution_count": 39,
   "source": [
    "import numpy as np\r\n",
    "\r\n",
    "def load_data(img_path, number_of_data=300):  # 가위바위보 이미지 개수 총합에 주의하세요.\r\n",
    "    # 가위 : 0, 바위 : 1, 보 : 2\r\n",
    "    img_size=28\r\n",
    "    color=3\r\n",
    "    #이미지 데이터와 라벨(가위 : 0, 바위 : 1, 보 : 2) 데이터를 담을 행렬(matrix) 영역을 생성합니다.\r\n",
    "    imgs=np.zeros(number_of_data*img_size*img_size*color,dtype=np.int32).reshape(number_of_data,img_size,img_size,color) #300X28X28X3\r\n",
    "    labels=np.zeros(number_of_data,dtype=np.int32) #300X1\r\n",
    "\r\n",
    "    idx=0\r\n",
    "    \r\n",
    "    '''\r\n",
    "    folder_list = os.listdir(img_path) #os.listdir로 폴더 명 추출 ==> 그 다음에?? 폴더 명이 순서대로 반환되지 않으므로 폴더명 정렬 또는 확인 필요\r\n",
    "    #1. 정규 표현식(re) 활용해서 정렬하기\r\n",
    "    #2. '/' 기준 스플릿 후 [-1]에 접근한 다음에 if문으로 처리\r\n",
    "    \r\n",
    "    for folder in folder_list :\r\n",
    "        img_current_path = os.path.join(img_path,folder)\r\n",
    "        print(img_cur_path)\r\n",
    "        \r\n",
    "        for file in glob.iglob(img_cur_path+\"/*.jpg\"):\r\n",
    "            pass\r\n",
    "    '''   \r\n",
    "               \r\n",
    "        \r\n",
    "    for file in glob.iglob(img_path+'/scissor/*.jpg'):\r\n",
    "        img = np.array(Image.open(file),dtype=np.int32)\r\n",
    "        imgs[idx,:,:,:]=img    # 데이터 영역에 이미지 행렬을 복사\r\n",
    "        labels[idx]=0   # 가위 : 0\r\n",
    "        idx=idx+1\r\n",
    "\r\n",
    "    for file in glob.iglob(img_path+'/rock/*.jpg'):\r\n",
    "        img = np.array(Image.open(file),dtype=np.int32)\r\n",
    "        imgs[idx,:,:,:]=img    # 데이터 영역에 이미지 행렬을 복사\r\n",
    "        labels[idx]=1   # 바위 : 1\r\n",
    "        idx=idx+1  \r\n",
    "    \r\n",
    "    for file in glob.iglob(img_path+'/paper/*.jpg'):\r\n",
    "        img = np.array(Image.open(file),dtype=np.int32)\r\n",
    "        imgs[idx,:,:,:]=img    # 데이터 영역에 이미지 행렬을 복사\r\n",
    "        labels[idx]=2   # 보 : 2\r\n",
    "        idx=idx+1\r\n",
    "        \r\n",
    "    print(\"학습데이터(x_train)의 이미지 개수는\", idx,\"입니다.\")\r\n",
    "    return imgs, labels\r\n",
    "\r\n",
    "image_dir_path = os.getenv(\"HOME\") + \"/aiffel/rock_scissor_paper\"\r\n",
    "(x_train, y_train)=load_data(image_dir_path)\r\n",
    "x_train_norm = x_train/255.0   # 입력은 0~1 사이의 값으로 정규화\r\n",
    "\r\n",
    "print(\"x_train shape: {}\".format(x_train.shape))\r\n",
    "print(\"y_train shape: {}\".format(y_train.shape))"
   ],
   "outputs": [
    {
     "output_type": "stream",
     "name": "stdout",
     "text": [
      "학습데이터(x_train)의 이미지 개수는 300 입니다.\n",
      "x_train shape: (300, 28, 28, 3)\n",
      "y_train shape: (300,)\n"
     ]
    }
   ],
   "metadata": {}
  },
  {
   "cell_type": "code",
   "execution_count": 40,
   "source": [
    "import matplotlib.pyplot as plt\r\n",
    "plt.imshow(x_train[0])\r\n",
    "print('라벨: ', y_train[0]) ##28x28 img "
   ],
   "outputs": [
    {
     "output_type": "stream",
     "name": "stdout",
     "text": [
      "라벨:  0\n"
     ]
    },
    {
     "output_type": "display_data",
     "data": {
      "image/png": "[encoded data removed]",
      "text/plain": [
       "<Figure size 432x288 with 1 Axes>"
      ]
     },
     "metadata": {
      "needs_background": "light"
     }
    }
   ],
   "metadata": {}
  },
  {
   "cell_type": "markdown",
   "source": [
    "## My model"
   ],
   "metadata": {}
  },
  {
   "cell_type": "code",
   "execution_count": 42,
   "source": [
    "import tensorflow as tf\r\n",
    "from tensorflow import keras\r\n",
    "import numpy as np\r\n",
    "\r\n",
    "# model을 직접 만들어 보세요.\r\n",
    "# Hint! model의 입력/출력부에 특히 유의해 주세요. 가위바위보 데이터셋은 MNIST 데이터셋과 어떤 점이 달라졌나요? \r\n",
    "\r\n",
    "#rgb datasets : 3 channel\r\n",
    "\r\n",
    "model=keras.models.Sequential()\r\n",
    "model.add(keras.layers.Conv2D(16, (3,3), activation='relu', input_shape=(28,28,3))) #filter , kernel\r\n",
    "model.add(keras.layers.MaxPool2D(2,2))\r\n",
    "model.add(keras.layers.Conv2D(32, (3,3), activation='relu'))\r\n",
    "model.add(keras.layers.MaxPooling2D((2,2)))\r\n",
    "model.add(keras.layers.Flatten())\r\n",
    "model.add(keras.layers.Dense(32, activation='relu'))\r\n",
    "model.add(keras.layers.Dense(3, activation='softmax')) # number of class.y \r\n",
    "\r\n",
    "print('Model에 추가된 Layer 개수: ', len(model.layers))\r\n",
    "\r\n",
    "model.summary()"
   ],
   "outputs": [
    {
     "output_type": "stream",
     "name": "stdout",
     "text": [
      "Model에 추가된 Layer 개수:  7\n",
      "Model: \"sequential_33\"\n",
      "_________________________________________________________________\n",
      "Layer (type)                 Output Shape              Param #   \n",
      "=================================================================\n",
      "conv2d_66 (Conv2D)           (None, 26, 26, 16)        448       \n",
      "_________________________________________________________________\n",
      "max_pooling2d_66 (MaxPooling (None, 13, 13, 16)        0         \n",
      "_________________________________________________________________\n",
      "conv2d_67 (Conv2D)           (None, 11, 11, 32)        4640      \n",
      "_________________________________________________________________\n",
      "max_pooling2d_67 (MaxPooling (None, 5, 5, 32)          0         \n",
      "_________________________________________________________________\n",
      "flatten_33 (Flatten)         (None, 800)               0         \n",
      "_________________________________________________________________\n",
      "dense_66 (Dense)             (None, 32)                25632     \n",
      "_________________________________________________________________\n",
      "dense_67 (Dense)             (None, 3)                 99        \n",
      "=================================================================\n",
      "Total params: 30,819\n",
      "Trainable params: 30,819\n",
      "Non-trainable params: 0\n",
      "_________________________________________________________________\n"
     ]
    }
   ],
   "metadata": {}
  },
  {
   "cell_type": "code",
   "execution_count": 43,
   "source": [
    "print(x_train.shape) #train datasets size : 28X28 , 300"
   ],
   "outputs": [
    {
     "output_type": "stream",
     "name": "stdout",
     "text": [
      "(300, 28, 28, 3)\n"
     ]
    }
   ],
   "metadata": {}
  },
  {
   "cell_type": "code",
   "execution_count": 48,
   "source": [
    "print('최소값: {0},  최대값: {1}'.format(np.min(x_train), np.max(x_train)))"
   ],
   "outputs": [
    {
     "output_type": "stream",
     "name": "stdout",
     "text": [
      "최소값: 0,  최대값: 242\n"
     ]
    }
   ],
   "metadata": {}
  },
  {
   "cell_type": "markdown",
   "source": [
    "#### input data normalizaion"
   ],
   "metadata": {}
  },
  {
   "cell_type": "code",
   "execution_count": 49,
   "source": [
    "x_train_norm = (x_train - np.min(x_train)) / (np.max(x_train) - np.min(x_train)) #min-max normalization"
   ],
   "outputs": [],
   "metadata": {}
  },
  {
   "cell_type": "code",
   "execution_count": 50,
   "source": [
    "print('최소값: {0},  최대값: {1}'.format(np.min(x_train_norm), np.max(x_train_norm)))"
   ],
   "outputs": [
    {
     "output_type": "stream",
     "name": "stdout",
     "text": [
      "최소값: 0.0,  최대값: 1.0\n"
     ]
    }
   ],
   "metadata": {}
  }
 ],
 "metadata": {
  "kernelspec": {
   "display_name": "Python 3",
   "language": "python",
   "name": "python3"
  },
  "language_info": {
   "codemirror_mode": {
    "name": "ipython",
    "version": 3
   },
   "file_extension": ".py",
   "mimetype": "text/x-python",
   "name": "python",
   "nbconvert_exporter": "python",
   "pygments_lexer": "ipython3",
   "version": "3.7.9"
  }
 },
 "nbformat": 4,
 "nbformat_minor": 5
}